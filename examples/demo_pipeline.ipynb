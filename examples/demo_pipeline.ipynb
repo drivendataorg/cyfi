{
 "cells": [
  {
   "cell_type": "code",
   "execution_count": 1,
   "id": "cac71b28-d455-463d-819d-7444aeabbaef",
   "metadata": {},
   "outputs": [],
   "source": [
    "%load_ext autoreload\n",
    "%autoreload 2"
   ]
  },
  {
   "cell_type": "markdown",
   "id": "1ce0dc5e-0003-47a3-94d3-6cc9fb59ac86",
   "metadata": {},
   "source": [
    "# example"
   ]
  },
  {
   "cell_type": "code",
   "execution_count": 2,
   "id": "e27f27cd-4044-4a8c-8707-10f55f33acb9",
   "metadata": {},
   "outputs": [],
   "source": [
    "from cyano.pipeline import CyanoModelPipeline\n",
    "from cyano.config import FeaturesConfig, ModelTrainingConfig"
   ]
  },
  {
   "cell_type": "markdown",
   "id": "57818fa3-fc72-4a0d-a07f-25698aeff66e",
   "metadata": {},
   "source": [
    "### training"
   ]
  },
  {
   "cell_type": "code",
   "execution_count": 3,
   "id": "b04ccab2-fe8c-446c-bac7-68d5a7cddce9",
   "metadata": {},
   "outputs": [
    {
     "name": "stderr",
     "output_type": "stream",
     "text": [
      "\u001b[32m2023-08-02 16:46:49.641\u001b[0m | \u001b[1mINFO    \u001b[0m | \u001b[36mcyano.pipeline\u001b[0m:\u001b[36mprep_train_data\u001b[0m:\u001b[36m58\u001b[0m - \u001b[1mLoaded 5 samples for training\u001b[0m\n",
      "\u001b[32m2023-08-02 16:46:49.643\u001b[0m | \u001b[1mINFO    \u001b[0m | \u001b[36mcyano.data.satellite_data\u001b[0m:\u001b[36midentify_satellite_data\u001b[0m:\u001b[36m174\u001b[0m - \u001b[1mSearching ['sentinel-2-l2a'] within 30 days and 1000 meters\u001b[0m\n",
      "100%|█████████████████████████████████████████████████████████████████████████████████████████████████████████████████████████████████████████████████████████████████████████████| 5/5 [00:01<00:00,  2.62it/s]\n",
      "\u001b[32m2023-08-02 16:46:51.560\u001b[0m | \u001b[1mINFO    \u001b[0m | \u001b[36mcyano.data.satellite_data\u001b[0m:\u001b[36midentify_satellite_data\u001b[0m:\u001b[36m205\u001b[0m - \u001b[1m3 samples did not return any satellite imagery results\u001b[0m\n",
      "\u001b[32m2023-08-02 16:46:51.568\u001b[0m | \u001b[1mINFO    \u001b[0m | \u001b[36mcyano.pipeline\u001b[0m:\u001b[36mprepare_features\u001b[0m:\u001b[36m88\u001b[0m - \u001b[1m15 rows of satellite metadata saved to /tmp/tmpsurxv52y/satellite_metadata_train.csv\u001b[0m\n",
      "\u001b[32m2023-08-02 16:46:51.570\u001b[0m | \u001b[1mINFO    \u001b[0m | \u001b[36mcyano.data.satellite_data\u001b[0m:\u001b[36mdownload_satellite_data\u001b[0m:\u001b[36m228\u001b[0m - \u001b[1mDownloading bands ['B02', 'B03', 'B04']\u001b[0m\n",
      "100%|█████████████████████████████████████████████████████████████████████████████████████████████████████████████████████████████████████████████████████████████████████████████| 2/2 [00:06<00:00,  3.37s/it]\n",
      "\u001b[32m2023-08-02 16:46:58.313\u001b[0m | \u001b[32m\u001b[1mSUCCESS \u001b[0m | \u001b[36mcyano.pipeline\u001b[0m:\u001b[36mprepare_features\u001b[0m:\u001b[36m100\u001b[0m - \u001b[32m\u001b[1mRaw source data saved to /tmp/tmpsurxv52y\u001b[0m\n",
      "\u001b[32m2023-08-02 16:46:58.314\u001b[0m | \u001b[1mINFO    \u001b[0m | \u001b[36mcyano.data.features\u001b[0m:\u001b[36mgenerate_satellite_features\u001b[0m:\u001b[36m49\u001b[0m - \u001b[1mGenerating features for 5 samples\u001b[0m\n",
      "100%|███████████████████████████████████████████████████████████████████████████████████████████████████████████████████████████████████████████████████████████████████████████| 5/5 [00:00<00:00, 1637.38it/s]\n",
      "\u001b[32m2023-08-02 16:46:58.328\u001b[0m | \u001b[1mINFO    \u001b[0m | \u001b[36mcyano.data.features\u001b[0m:\u001b[36mgenerate_satellite_features\u001b[0m:\u001b[36m84\u001b[0m - \u001b[1mFilling missing satellite values for 3 samples\u001b[0m\n",
      "\u001b[32m2023-08-02 16:46:58.334\u001b[0m | \u001b[1mINFO    \u001b[0m | \u001b[36mcyano.data.features\u001b[0m:\u001b[36mgenerate_features\u001b[0m:\u001b[36m173\u001b[0m - \u001b[1mGenerated 7 satellite features\u001b[0m\n",
      "\u001b[32m2023-08-02 16:46:58.338\u001b[0m | \u001b[32m\u001b[1mSUCCESS \u001b[0m | \u001b[36mcyano.pipeline\u001b[0m:\u001b[36mprepare_features\u001b[0m:\u001b[36m106\u001b[0m - \u001b[32m\u001b[1m7 features for 5 samples saved to /tmp/tmpsurxv52y/features_train.csv\u001b[0m\n",
      "\u001b[32m2023-08-02 16:46:58.375\u001b[0m | \u001b[1mINFO    \u001b[0m | \u001b[36mcyano.pipeline\u001b[0m:\u001b[36mto_disk\u001b[0m:\u001b[36m130\u001b[0m - \u001b[1mSaving model to model.zip\u001b[0m\n"
     ]
    }
   ],
   "source": [
    "pipeline = CyanoModelPipeline(features_config=FeaturesConfig(), model_training_config=ModelTrainingConfig())\n",
    "pipeline.run_training(\"../tests/assets/train_data.csv\")"
   ]
  },
  {
   "cell_type": "markdown",
   "id": "80beb433-1f66-4832-b7c2-5b4e8529aa51",
   "metadata": {},
   "source": [
    "### predicting"
   ]
  },
  {
   "cell_type": "code",
   "execution_count": 4,
   "id": "ee97f1d6-22ca-4811-a51f-8d582991bcc2",
   "metadata": {},
   "outputs": [],
   "source": [
    "p = CyanoModelPipeline.from_disk(\"model.zip\")"
   ]
  },
  {
   "cell_type": "code",
   "execution_count": 5,
   "id": "25979924-fdb8-42a0-90f1-58d57c6a3849",
   "metadata": {},
   "outputs": [
    {
     "data": {
      "text/plain": [
       "FeaturesConfig(pc_collections=['sentinel-2-l2a'], pc_days_search_window=30, pc_meters_search_window=1000, use_sentinel_bands=['B02', 'B03', 'B04'], image_feature_meter_window=500, satellite_features=['B02_mean', 'B02_min', 'B02_max', 'B03_mean', 'B03_min', 'B03_max', 'B04_mean'], climate_features=[], elevation_features=[], metadata_features=[])"
      ]
     },
     "execution_count": 5,
     "metadata": {},
     "output_type": "execute_result"
    }
   ],
   "source": [
    "p.features_config"
   ]
  },
  {
   "cell_type": "code",
   "execution_count": 6,
   "id": "39987f4c-f8d3-4bee-ae67-8da8f76c9808",
   "metadata": {},
   "outputs": [
    {
     "name": "stderr",
     "output_type": "stream",
     "text": [
      "\u001b[32m2023-08-02 16:46:58.498\u001b[0m | \u001b[1mINFO    \u001b[0m | \u001b[36mcyano.pipeline\u001b[0m:\u001b[36mprep_predict_data\u001b[0m:\u001b[36m74\u001b[0m - \u001b[1mLoaded 5 samples for prediction\u001b[0m\n",
      "\u001b[32m2023-08-02 16:46:58.500\u001b[0m | \u001b[1mINFO    \u001b[0m | \u001b[36mcyano.data.satellite_data\u001b[0m:\u001b[36midentify_satellite_data\u001b[0m:\u001b[36m174\u001b[0m - \u001b[1mSearching ['sentinel-2-l2a'] within 30 days and 1000 meters\u001b[0m\n",
      "100%|█████████████████████████████████████████████████████████████████████████████████████████████████████████████████████████████████████████████████████████████████████████████| 5/5 [00:01<00:00,  4.90it/s]\n",
      "\u001b[32m2023-08-02 16:46:59.525\u001b[0m | \u001b[1mINFO    \u001b[0m | \u001b[36mcyano.data.satellite_data\u001b[0m:\u001b[36midentify_satellite_data\u001b[0m:\u001b[36m205\u001b[0m - \u001b[1m3 samples did not return any satellite imagery results\u001b[0m\n",
      "\u001b[32m2023-08-02 16:46:59.532\u001b[0m | \u001b[1mINFO    \u001b[0m | \u001b[36mcyano.pipeline\u001b[0m:\u001b[36mprepare_features\u001b[0m:\u001b[36m88\u001b[0m - \u001b[1m15 rows of satellite metadata saved to /tmp/tmpox1h7uag/satellite_metadata_train.csv\u001b[0m\n",
      "\u001b[32m2023-08-02 16:46:59.534\u001b[0m | \u001b[1mINFO    \u001b[0m | \u001b[36mcyano.data.satellite_data\u001b[0m:\u001b[36mdownload_satellite_data\u001b[0m:\u001b[36m228\u001b[0m - \u001b[1mDownloading bands ['B02', 'B03', 'B04']\u001b[0m\n",
      "100%|█████████████████████████████████████████████████████████████████████████████████████████████████████████████████████████████████████████████████████████████████████████████| 2/2 [00:00<00:00, 10.29it/s]\n",
      "\u001b[32m2023-08-02 16:46:59.733\u001b[0m | \u001b[32m\u001b[1mSUCCESS \u001b[0m | \u001b[36mcyano.pipeline\u001b[0m:\u001b[36mprepare_features\u001b[0m:\u001b[36m100\u001b[0m - \u001b[32m\u001b[1mRaw source data saved to /tmp/tmpox1h7uag\u001b[0m\n",
      "\u001b[32m2023-08-02 16:46:59.735\u001b[0m | \u001b[1mINFO    \u001b[0m | \u001b[36mcyano.data.features\u001b[0m:\u001b[36mgenerate_satellite_features\u001b[0m:\u001b[36m49\u001b[0m - \u001b[1mGenerating features for 5 samples\u001b[0m\n",
      "100%|███████████████████████████████████████████████████████████████████████████████████████████████████████████████████████████████████████████████████████████████████████████| 5/5 [00:00<00:00, 2732.45it/s]\n",
      "\u001b[32m2023-08-02 16:46:59.746\u001b[0m | \u001b[1mINFO    \u001b[0m | \u001b[36mcyano.data.features\u001b[0m:\u001b[36mgenerate_satellite_features\u001b[0m:\u001b[36m84\u001b[0m - \u001b[1mFilling missing satellite values for 3 samples\u001b[0m\n",
      "\u001b[32m2023-08-02 16:46:59.753\u001b[0m | \u001b[1mINFO    \u001b[0m | \u001b[36mcyano.data.features\u001b[0m:\u001b[36mgenerate_features\u001b[0m:\u001b[36m173\u001b[0m - \u001b[1mGenerated 7 satellite features\u001b[0m\n",
      "\u001b[32m2023-08-02 16:46:59.757\u001b[0m | \u001b[32m\u001b[1mSUCCESS \u001b[0m | \u001b[36mcyano.pipeline\u001b[0m:\u001b[36mprepare_features\u001b[0m:\u001b[36m106\u001b[0m - \u001b[32m\u001b[1m7 features for 5 samples saved to /tmp/tmpox1h7uag/features_train.csv\u001b[0m\n",
      "\u001b[32m2023-08-02 16:46:59.764\u001b[0m | \u001b[32m\u001b[1mSUCCESS \u001b[0m | \u001b[36mcyano.pipeline\u001b[0m:\u001b[36mwrite_predictions\u001b[0m:\u001b[36m162\u001b[0m - \u001b[32m\u001b[1mPredictions saved to preds.csv\u001b[0m\n"
     ]
    }
   ],
   "source": [
    "p.run_prediction(\"../tests/assets/predict_data.csv\")"
   ]
  },
  {
   "cell_type": "code",
   "execution_count": 7,
   "id": "b66dfd34-6d8c-4ae8-81c3-50f5d7aa377e",
   "metadata": {},
   "outputs": [
    {
     "name": "stdout",
     "output_type": "stream",
     "text": [
      "uid,date,latitude,longitude,predicted_severity\n",
      "mxyv,2015-06-29,41.424144,-73.206937,2.2\n",
      "hinb,2013-07-25,36.045,-79.0919415955354,2.2\n",
      "wryk,2017-08-21,35.8845244661109,-78.9539970867146,2.2\n",
      "amnr,2019-08-28,41.39249,-75.3607,2.2\n",
      "hwbw,2013-07-11,38.3056,-122.026,2.2\n"
     ]
    }
   ],
   "source": [
    "!cat preds.csv"
   ]
  },
  {
   "cell_type": "code",
   "execution_count": 8,
   "id": "ef358683-339c-4660-bfde-3688bf9ff8c7",
   "metadata": {},
   "outputs": [
    {
     "data": {
      "text/html": [
       "<div>\n",
       "<style scoped>\n",
       "    .dataframe tbody tr th:only-of-type {\n",
       "        vertical-align: middle;\n",
       "    }\n",
       "\n",
       "    .dataframe tbody tr th {\n",
       "        vertical-align: top;\n",
       "    }\n",
       "\n",
       "    .dataframe thead th {\n",
       "        text-align: right;\n",
       "    }\n",
       "</style>\n",
       "<table border=\"1\" class=\"dataframe\">\n",
       "  <thead>\n",
       "    <tr style=\"text-align: right;\">\n",
       "      <th></th>\n",
       "      <th>date</th>\n",
       "      <th>latitude</th>\n",
       "      <th>longitude</th>\n",
       "    </tr>\n",
       "    <tr>\n",
       "      <th>uid</th>\n",
       "      <th></th>\n",
       "      <th></th>\n",
       "      <th></th>\n",
       "    </tr>\n",
       "  </thead>\n",
       "  <tbody>\n",
       "    <tr>\n",
       "      <th>mxyv</th>\n",
       "      <td>2015-06-29</td>\n",
       "      <td>41.424144</td>\n",
       "      <td>-73.206937</td>\n",
       "    </tr>\n",
       "    <tr>\n",
       "      <th>hinb</th>\n",
       "      <td>2013-07-25</td>\n",
       "      <td>36.045000</td>\n",
       "      <td>-79.091942</td>\n",
       "    </tr>\n",
       "    <tr>\n",
       "      <th>wryk</th>\n",
       "      <td>2017-08-21</td>\n",
       "      <td>35.884524</td>\n",
       "      <td>-78.953997</td>\n",
       "    </tr>\n",
       "    <tr>\n",
       "      <th>amnr</th>\n",
       "      <td>2019-08-28</td>\n",
       "      <td>41.392490</td>\n",
       "      <td>-75.360700</td>\n",
       "    </tr>\n",
       "    <tr>\n",
       "      <th>hwbw</th>\n",
       "      <td>2013-07-11</td>\n",
       "      <td>38.305600</td>\n",
       "      <td>-122.026000</td>\n",
       "    </tr>\n",
       "  </tbody>\n",
       "</table>\n",
       "</div>"
      ],
      "text/plain": [
       "            date   latitude   longitude\n",
       "uid                                    \n",
       "mxyv  2015-06-29  41.424144  -73.206937\n",
       "hinb  2013-07-25  36.045000  -79.091942\n",
       "wryk  2017-08-21  35.884524  -78.953997\n",
       "amnr  2019-08-28  41.392490  -75.360700\n",
       "hwbw  2013-07-11  38.305600 -122.026000"
      ]
     },
     "execution_count": 8,
     "metadata": {},
     "output_type": "execute_result"
    }
   ],
   "source": [
    "p.samples"
   ]
  },
  {
   "cell_type": "code",
   "execution_count": 9,
   "id": "428a751c-1ecf-4865-86cc-5b6a0405fde1",
   "metadata": {},
   "outputs": [
    {
     "data": {
      "text/html": [
       "<div>\n",
       "<style scoped>\n",
       "    .dataframe tbody tr th:only-of-type {\n",
       "        vertical-align: middle;\n",
       "    }\n",
       "\n",
       "    .dataframe tbody tr th {\n",
       "        vertical-align: top;\n",
       "    }\n",
       "\n",
       "    .dataframe thead th {\n",
       "        text-align: right;\n",
       "    }\n",
       "</style>\n",
       "<table border=\"1\" class=\"dataframe\">\n",
       "  <thead>\n",
       "    <tr style=\"text-align: right;\">\n",
       "      <th></th>\n",
       "      <th>B02_mean</th>\n",
       "      <th>B02_min</th>\n",
       "      <th>B02_max</th>\n",
       "      <th>B03_mean</th>\n",
       "      <th>B03_min</th>\n",
       "      <th>B03_max</th>\n",
       "      <th>B04_mean</th>\n",
       "    </tr>\n",
       "    <tr>\n",
       "      <th>uid</th>\n",
       "      <th></th>\n",
       "      <th></th>\n",
       "      <th></th>\n",
       "      <th></th>\n",
       "      <th></th>\n",
       "      <th></th>\n",
       "      <th></th>\n",
       "    </tr>\n",
       "  </thead>\n",
       "  <tbody>\n",
       "    <tr>\n",
       "      <th>mxyv</th>\n",
       "      <td>290.260418</td>\n",
       "      <td>112.5</td>\n",
       "      <td>1934.0</td>\n",
       "      <td>458.530614</td>\n",
       "      <td>168.0</td>\n",
       "      <td>2158.0</td>\n",
       "      <td>347.846475</td>\n",
       "    </tr>\n",
       "    <tr>\n",
       "      <th>hinb</th>\n",
       "      <td>290.260418</td>\n",
       "      <td>112.5</td>\n",
       "      <td>1934.0</td>\n",
       "      <td>458.530614</td>\n",
       "      <td>168.0</td>\n",
       "      <td>2158.0</td>\n",
       "      <td>347.846475</td>\n",
       "    </tr>\n",
       "    <tr>\n",
       "      <th>wryk</th>\n",
       "      <td>418.988123</td>\n",
       "      <td>175.0</td>\n",
       "      <td>2686.0</td>\n",
       "      <td>604.710812</td>\n",
       "      <td>267.0</td>\n",
       "      <td>2934.0</td>\n",
       "      <td>509.557734</td>\n",
       "    </tr>\n",
       "    <tr>\n",
       "      <th>amnr</th>\n",
       "      <td>161.532712</td>\n",
       "      <td>50.0</td>\n",
       "      <td>1182.0</td>\n",
       "      <td>312.350417</td>\n",
       "      <td>69.0</td>\n",
       "      <td>1382.0</td>\n",
       "      <td>186.135216</td>\n",
       "    </tr>\n",
       "    <tr>\n",
       "      <th>hwbw</th>\n",
       "      <td>290.260418</td>\n",
       "      <td>112.5</td>\n",
       "      <td>1934.0</td>\n",
       "      <td>458.530614</td>\n",
       "      <td>168.0</td>\n",
       "      <td>2158.0</td>\n",
       "      <td>347.846475</td>\n",
       "    </tr>\n",
       "  </tbody>\n",
       "</table>\n",
       "</div>"
      ],
      "text/plain": [
       "        B02_mean  B02_min  B02_max    B03_mean  B03_min  B03_max    B04_mean\n",
       "uid                                                                         \n",
       "mxyv  290.260418    112.5   1934.0  458.530614    168.0   2158.0  347.846475\n",
       "hinb  290.260418    112.5   1934.0  458.530614    168.0   2158.0  347.846475\n",
       "wryk  418.988123    175.0   2686.0  604.710812    267.0   2934.0  509.557734\n",
       "amnr  161.532712     50.0   1182.0  312.350417     69.0   1382.0  186.135216\n",
       "hwbw  290.260418    112.5   1934.0  458.530614    168.0   2158.0  347.846475"
      ]
     },
     "execution_count": 9,
     "metadata": {},
     "output_type": "execute_result"
    }
   ],
   "source": [
    "p.features"
   ]
  },
  {
   "cell_type": "code",
   "execution_count": 10,
   "id": "03583e05-0229-4c95-bfdb-e27121901e29",
   "metadata": {},
   "outputs": [
    {
     "data": {
      "text/plain": [
       "uid\n",
       "mxyv    2.2\n",
       "hinb    2.2\n",
       "wryk    2.2\n",
       "amnr    2.2\n",
       "hwbw    2.2\n",
       "Name: predicted_severity, dtype: float64"
      ]
     },
     "execution_count": 10,
     "metadata": {},
     "output_type": "execute_result"
    }
   ],
   "source": [
    "p.preds"
   ]
  },
  {
   "cell_type": "code",
   "execution_count": 11,
   "id": "a76e7bea-6054-443c-9632-4ea7596b21fe",
   "metadata": {},
   "outputs": [
    {
     "data": {
      "text/html": [
       "<div>\n",
       "<style scoped>\n",
       "    .dataframe tbody tr th:only-of-type {\n",
       "        vertical-align: middle;\n",
       "    }\n",
       "\n",
       "    .dataframe tbody tr th {\n",
       "        vertical-align: top;\n",
       "    }\n",
       "\n",
       "    .dataframe thead th {\n",
       "        text-align: right;\n",
       "    }\n",
       "</style>\n",
       "<table border=\"1\" class=\"dataframe\">\n",
       "  <thead>\n",
       "    <tr style=\"text-align: right;\">\n",
       "      <th></th>\n",
       "      <th>date</th>\n",
       "      <th>latitude</th>\n",
       "      <th>longitude</th>\n",
       "      <th>predicted_severity</th>\n",
       "    </tr>\n",
       "    <tr>\n",
       "      <th>uid</th>\n",
       "      <th></th>\n",
       "      <th></th>\n",
       "      <th></th>\n",
       "      <th></th>\n",
       "    </tr>\n",
       "  </thead>\n",
       "  <tbody>\n",
       "    <tr>\n",
       "      <th>mxyv</th>\n",
       "      <td>2015-06-29</td>\n",
       "      <td>41.424144</td>\n",
       "      <td>-73.206937</td>\n",
       "      <td>2.2</td>\n",
       "    </tr>\n",
       "    <tr>\n",
       "      <th>hinb</th>\n",
       "      <td>2013-07-25</td>\n",
       "      <td>36.045000</td>\n",
       "      <td>-79.091942</td>\n",
       "      <td>2.2</td>\n",
       "    </tr>\n",
       "    <tr>\n",
       "      <th>wryk</th>\n",
       "      <td>2017-08-21</td>\n",
       "      <td>35.884524</td>\n",
       "      <td>-78.953997</td>\n",
       "      <td>2.2</td>\n",
       "    </tr>\n",
       "    <tr>\n",
       "      <th>amnr</th>\n",
       "      <td>2019-08-28</td>\n",
       "      <td>41.392490</td>\n",
       "      <td>-75.360700</td>\n",
       "      <td>2.2</td>\n",
       "    </tr>\n",
       "    <tr>\n",
       "      <th>hwbw</th>\n",
       "      <td>2013-07-11</td>\n",
       "      <td>38.305600</td>\n",
       "      <td>-122.026000</td>\n",
       "      <td>2.2</td>\n",
       "    </tr>\n",
       "  </tbody>\n",
       "</table>\n",
       "</div>"
      ],
      "text/plain": [
       "            date   latitude   longitude  predicted_severity\n",
       "uid                                                        \n",
       "mxyv  2015-06-29  41.424144  -73.206937                 2.2\n",
       "hinb  2013-07-25  36.045000  -79.091942                 2.2\n",
       "wryk  2017-08-21  35.884524  -78.953997                 2.2\n",
       "amnr  2019-08-28  41.392490  -75.360700                 2.2\n",
       "hwbw  2013-07-11  38.305600 -122.026000                 2.2"
      ]
     },
     "execution_count": 11,
     "metadata": {},
     "output_type": "execute_result"
    }
   ],
   "source": [
    "p.output_df"
   ]
  },
  {
   "cell_type": "markdown",
   "id": "252284fe-e6fd-4b3d-9ed5-51cb6af21d01",
   "metadata": {},
   "source": [
    "### experiment"
   ]
  },
  {
   "cell_type": "code",
   "execution_count": null,
   "id": "7ffb4d20-8d80-4571-9fbd-4ee83851948b",
   "metadata": {},
   "outputs": [],
   "source": []
  }
 ],
 "metadata": {
  "kernelspec": {
   "display_name": "Python 3 (ipykernel)",
   "language": "python",
   "name": "python3"
  },
  "language_info": {
   "codemirror_mode": {
    "name": "ipython",
    "version": 3
   },
   "file_extension": ".py",
   "mimetype": "text/x-python",
   "name": "python",
   "nbconvert_exporter": "python",
   "pygments_lexer": "ipython3",
   "version": "3.10.12"
  }
 },
 "nbformat": 4,
 "nbformat_minor": 5
}
