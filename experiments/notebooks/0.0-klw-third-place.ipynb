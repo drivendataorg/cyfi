{
 "cells": [
  {
   "cell_type": "markdown",
   "id": "5518e0f6-9da9-468b-8189-fb6f8472c9ca",
   "metadata": {},
   "source": [
    "Recreate a model based on the third place solution of the [Tick Tick Bloom: Harmful Algal Bloom Detection Challenge](https://github.com/drivendataorg/tick-tick-bloom/tree/main)"
   ]
  },
  {
   "cell_type": "code",
   "execution_count": 1,
   "id": "63362578-51df-4e5a-a744-29d60cdb0006",
   "metadata": {},
   "outputs": [],
   "source": [
    "%load_ext lab_black\n",
    "%load_ext autoreload\n",
    "%autoreload 2"
   ]
  },
  {
   "cell_type": "code",
   "execution_count": 2,
   "id": "384337cd-aad4-44ef-a00f-160f45f10299",
   "metadata": {},
   "outputs": [
    {
     "name": "stderr",
     "output_type": "stream",
     "text": [
      "/opt/anaconda3/envs/cyanobacteria-prediction/lib/python3.10/site-packages/pydantic/_internal/_fields.py:126: UserWarning: Field \"model_training_config\" has conflict with protected namespace \"model_\".\n",
      "\n",
      "You may be able to resolve this warning by setting `model_config['protected_namespaces'] = ()`.\n",
      "  warnings.warn(\n"
     ]
    }
   ],
   "source": [
    "import yaml\n",
    "\n",
    "from cloudpathlib import AnyPath\n",
    "\n",
    "from cyano.config import FeaturesConfig, ModelTrainingConfig\n",
    "from cyano.experiment import ExperimentConfig\n",
    "from cyano.settings import REPO_ROOT"
   ]
  },
  {
   "cell_type": "code",
   "execution_count": 3,
   "id": "8adec776-cd51-4758-9388-86892e7b18e9",
   "metadata": {},
   "outputs": [],
   "source": [
    "DATA_DIR = REPO_ROOT.parent / \"data/experiments\"\n",
    "S3_DATA_DIR = AnyPath(\"s3://drivendata-competition-nasa-cyanobacteria\") / \"experiments\"\n",
    "\n",
    "SPLITS_DIR = S3_DATA_DIR / \"splits\"\n",
    "LOCAL_CACHE_DIR = DATA_DIR / \"cache\"\n",
    "EXPERIMENT_SAVE_DIR = DATA_DIR / \"rerun_third\"\n",
    "EXPERIMENT_SAVE_DIR.mkdir(exist_ok=True, parents=True)"
   ]
  },
  {
   "cell_type": "markdown",
   "id": "6f6582e1-16cd-40a7-abd6-a47edd071eba",
   "metadata": {
    "tags": []
   },
   "source": [
    "## Settings\n",
    "\n",
    "Write config to match third place code"
   ]
  },
  {
   "cell_type": "code",
   "execution_count": 4,
   "id": "358c43af-ef26-4b4c-bead-4d912bc52a6e",
   "metadata": {},
   "outputs": [
    {
     "data": {
      "text/plain": [
       "['AOT_mean', 'AOT_min', 'AOT_max', 'AOT_range', 'B01_mean', 'B01_min']"
      ]
     },
     "execution_count": 4,
     "metadata": {},
     "output_type": "execute_result"
    }
   ],
   "source": [
    "use_sentinel_bands = [\n",
    "    \"AOT\",\n",
    "    \"B01\",\n",
    "    \"B02\",\n",
    "    \"B03\",\n",
    "    \"B04\",\n",
    "    \"B05\",\n",
    "    \"B06\",\n",
    "    \"B07\",\n",
    "    \"B08\",\n",
    "    \"B09\",\n",
    "    \"B11\",\n",
    "    \"B12\",\n",
    "    \"B8A\",\n",
    "    \"SCL\",\n",
    "    \"WVP\",\n",
    "]\n",
    "sat_image_fts = [\n",
    "    f\"{band}_{stat}\"\n",
    "    for band in use_sentinel_bands\n",
    "    for stat in [\"mean\", \"min\", \"max\", \"range\"]\n",
    "]\n",
    "sat_image_fts += [\"NDVI_B04\", \"NDVI_B05\", \"NDVI_B06\", \"NDVI_B07\"]\n",
    "sat_image_fts[:6]"
   ]
  },
  {
   "cell_type": "code",
   "execution_count": 5,
   "id": "7a80d191-137c-4a7f-8ccd-8e8d4bc08ce8",
   "metadata": {},
   "outputs": [
    {
     "data": {
      "text/plain": [
       "64"
      ]
     },
     "execution_count": 5,
     "metadata": {},
     "output_type": "execute_result"
    }
   ],
   "source": [
    "len(sat_image_fts)"
   ]
  },
  {
   "cell_type": "code",
   "execution_count": 6,
   "id": "d3be3f2e-fb0b-4c7c-a04a-017e6a07018c",
   "metadata": {},
   "outputs": [],
   "source": [
    "features_config = FeaturesConfig(\n",
    "    image_feature_meter_window=200,\n",
    "    n_sentinel_items=15,\n",
    "    pc_meters_search_window=5000,\n",
    "    pc_days_search_window=15,\n",
    "    use_sentinel_bands=use_sentinel_bands,\n",
    "    satellite_image_features=sat_image_fts,\n",
    "    satellite_meta_features=[\"month\", \"days_before_sample\"],\n",
    "    metadata_features=[\"rounded_longitude\"],\n",
    "    num_threads=8,\n",
    ")"
   ]
  },
  {
   "cell_type": "code",
   "execution_count": 7,
   "id": "a3131dc9-403c-4bc4-b5e3-c774e46bb585",
   "metadata": {},
   "outputs": [],
   "source": [
    "model_config = ModelTrainingConfig(\n",
    "    num_boost_round=100000,\n",
    "    params={\n",
    "        \"application\": \"regression\",\n",
    "        \"metric\": \"rmse\",\n",
    "        \"max_depth\": -1,\n",
    "        \"num_leaves\": 31,\n",
    "        \"learning_rate\": 0.1,\n",
    "    },\n",
    ")"
   ]
  },
  {
   "cell_type": "code",
   "execution_count": 8,
   "id": "15a66318-155d-404c-8f83-3efcd768c5ca",
   "metadata": {},
   "outputs": [],
   "source": [
    "experiment_config = ExperimentConfig(\n",
    "    features_config=features_config,\n",
    "    train_csv=str(SPLITS_DIR / \"competition/train.csv\"),\n",
    "    predict_csv=str(SPLITS_DIR / \"competition/test.csv\"),\n",
    "    cache_dir=LOCAL_CACHE_DIR,\n",
    "    save_dir=EXPERIMENT_SAVE_DIR,\n",
    ")\n",
    "\n",
    "with (EXPERIMENT_SAVE_DIR / \"experiment_config.yaml\").open(\"w\") as fp:\n",
    "    yaml.dump(experiment_config.model_dump(), fp)"
   ]
  },
  {
   "cell_type": "markdown",
   "id": "0fb317a1-431e-43e6-b274-f9e442bda2b2",
   "metadata": {
    "tags": []
   },
   "source": [
    "## Run experiment"
   ]
  },
  {
   "cell_type": "code",
   "execution_count": null,
   "id": "48652fb8-151d-4f21-a303-276b5d633f21",
   "metadata": {
    "tags": []
   },
   "outputs": [
    {
     "name": "stderr",
     "output_type": "stream",
     "text": [
      "\u001b[32m2023-08-11 22:38:28.014\u001b[0m | \u001b[1mINFO    \u001b[0m | \u001b[36mcyano.pipeline\u001b[0m:\u001b[36m_prep_train_data\u001b[0m:\u001b[36m50\u001b[0m - \u001b[1mLoaded 17,060 samples for training\u001b[0m\n",
      "\u001b[32m2023-08-11 22:38:28.017\u001b[0m | \u001b[1mINFO    \u001b[0m | \u001b[36mcyano.data.satellite_data\u001b[0m:\u001b[36mgenerate_candidate_metadata\u001b[0m:\u001b[36m194\u001b[0m - \u001b[1mGenerating metadata for all satellite item candidates\u001b[0m\n",
      "\u001b[32m2023-08-11 22:39:27.262\u001b[0m | \u001b[1mINFO    \u001b[0m | \u001b[36mcyano.data.satellite_data\u001b[0m:\u001b[36mgenerate_candidate_metadata\u001b[0m:\u001b[36m204\u001b[0m - \u001b[1mLoaded 56,173 rows of Sentinel candidate metadata from s3://drivendata-competition-nasa-cyanobacteria/data/interim/full_pc_search\u001b[0m\n",
      "\u001b[32m2023-08-11 22:39:44.624\u001b[0m | \u001b[1mINFO    \u001b[0m | \u001b[36mcyano.data.satellite_data\u001b[0m:\u001b[36midentify_satellite_data\u001b[0m:\u001b[36m299\u001b[0m - \u001b[1mSelecting which items to use for feature generation\u001b[0m\n",
      "100%|████████████████████████████████████████████████████████████| 17060/17060 [01:36<00:00, 177.54it/s]\n",
      "\u001b[32m2023-08-11 22:41:23.154\u001b[0m | \u001b[1mINFO    \u001b[0m | \u001b[36mcyano.data.satellite_data\u001b[0m:\u001b[36midentify_satellite_data\u001b[0m:\u001b[36m318\u001b[0m - \u001b[1mIdentified satellite imagery for 11,544 samples\u001b[0m\n",
      "\u001b[32m2023-08-11 22:41:28.686\u001b[0m | \u001b[1mINFO    \u001b[0m | \u001b[36mcyano.pipeline\u001b[0m:\u001b[36m_prepare_features\u001b[0m:\u001b[36m60\u001b[0m - \u001b[1m45,210 rows of satellite metadata saved to /Users/katewetstone/Repos/cyanobacteria-prediction/data/experiments/cache/satellite_metadata_train.csv\u001b[0m\n",
      "\u001b[32m2023-08-11 22:41:28.687\u001b[0m | \u001b[1mINFO    \u001b[0m | \u001b[36mcyano.data.satellite_data\u001b[0m:\u001b[36mdownload_satellite_data\u001b[0m:\u001b[36m413\u001b[0m - \u001b[1mDownloading bands ['AOT', 'B01', 'B02', 'B03', 'B04', 'B05', 'B06', 'B07', 'B08', 'B09', 'B11', 'B12', 'B8A', 'SCL', 'WVP'] with 8 threads\u001b[0m\n"
     ]
    },
    {
     "data": {
      "application/vnd.jupyter.widget-view+json": {
       "model_id": "147ef07303864519969ee43ea73c752d",
       "version_major": 2,
       "version_minor": 0
      },
      "text/plain": [
       "  0%|          | 0/45210 [00:00<?, ?it/s]"
      ]
     },
     "metadata": {},
     "output_type": "display_data"
    },
    {
     "name": "stderr",
     "output_type": "stream",
     "text": [
      "2023-08-11 22:41:42.088 | WARNING  | cyano.data.satellite_data:download_row:392 - Other error encountered\n",
      "2023-08-11 22:41:42.102 | WARNING  | cyano.data.satellite_data:download_row:392 - Other error encountered\n",
      "2023-08-11 22:41:42.109 | WARNING  | cyano.data.satellite_data:download_row:392 - Other error encountered\n",
      "2023-08-11 22:46:58.016 | WARNING  | cyano.data.satellite_data:download_row:392 - Other error encountered\n",
      "2023-08-11 22:46:59.199 | WARNING  | cyano.data.satellite_data:download_row:392 - Other error encountered\n",
      "2023-08-11 22:47:00.146 | WARNING  | cyano.data.satellite_data:download_row:392 - Other error encountered\n",
      "2023-08-11 22:57:42.784 | WARNING  | cyano.data.satellite_data:download_row:392 - Other error encountered\n",
      "2023-08-11 22:57:45.626 | WARNING  | cyano.data.satellite_data:download_row:392 - Other error encountered\n",
      "2023-08-11 22:57:47.887 | WARNING  | cyano.data.satellite_data:download_row:392 - Other error encountered\n",
      "2023-08-11 23:35:46.904 | WARNING  | cyano.data.satellite_data:download_row:392 - Other error encountered\n",
      "2023-08-11 23:35:49.261 | WARNING  | cyano.data.satellite_data:download_row:392 - Other error encountered\n",
      "2023-08-11 23:35:52.513 | WARNING  | cyano.data.satellite_data:download_row:392 - Other error encountered\n",
      "2023-08-12 00:42:07.604 | WARNING  | cyano.data.satellite_data:download_row:392 - Other error encountered\n",
      "2023-08-12 00:42:09.273 | WARNING  | cyano.data.satellite_data:download_row:392 - Other error encountered\n",
      "2023-08-12 00:42:10.536 | WARNING  | cyano.data.satellite_data:download_row:392 - Other error encountered\n",
      "2023-08-12 00:42:12.219 | WARNING  | cyano.data.satellite_data:download_row:392 - Other error encountered\n",
      "2023-08-12 01:09:33.242 | WARNING  | cyano.data.satellite_data:download_row:392 - Other error encountered\n",
      "2023-08-12 01:09:33.754 | WARNING  | cyano.data.satellite_data:download_row:392 - Other error encountered\n",
      "2023-08-12 01:09:34.684 | WARNING  | cyano.data.satellite_data:download_row:392 - Other error encountered\n",
      "2023-08-12 01:18:27.535 | WARNING  | cyano.data.satellite_data:download_row:392 - Other error encountered\n",
      "2023-08-12 01:18:32.276 | WARNING  | cyano.data.satellite_data:download_row:392 - Other error encountered\n",
      "2023-08-12 01:18:33.470 | WARNING  | cyano.data.satellite_data:download_row:392 - Other error encountered\n",
      "2023-08-12 01:28:38.878 | WARNING  | cyano.data.satellite_data:download_row:392 - Other error encountered\n",
      "2023-08-12 02:12:24.544 | WARNING  | cyano.data.satellite_data:download_row:392 - Other error encountered\n",
      "2023-08-12 02:12:25.986 | WARNING  | cyano.data.satellite_data:download_row:392 - Other error encountered\n",
      "2023-08-12 02:12:27.032 | WARNING  | cyano.data.satellite_data:download_row:392 - Other error encountered\n",
      "2023-08-12 03:13:28.663 | WARNING  | cyano.data.satellite_data:download_row:392 - Other error encountered\n",
      "2023-08-12 03:13:30.219 | WARNING  | cyano.data.satellite_data:download_row:392 - Other error encountered\n",
      "2023-08-12 03:13:31.336 | WARNING  | cyano.data.satellite_data:download_row:392 - Other error encountered\n",
      "2023-08-12 03:18:04.031 | WARNING  | cyano.data.satellite_data:download_row:392 - Other error encountered\n",
      "2023-08-12 03:18:05.702 | WARNING  | cyano.data.satellite_data:download_row:392 - Other error encountered\n",
      "2023-08-12 03:18:06.301 | WARNING  | cyano.data.satellite_data:download_row:392 - Other error encountered\n",
      "2023-08-12 04:07:54.154 | WARNING  | cyano.data.satellite_data:download_row:392 - Other error encountered\n",
      "2023-08-12 04:07:55.819 | WARNING  | cyano.data.satellite_data:download_row:392 - Other error encountered\n",
      "2023-08-12 04:07:56.493 | WARNING  | cyano.data.satellite_data:download_row:392 - Other error encountered\n",
      "2023-08-12 04:26:07.686 | WARNING  | cyano.data.satellite_data:download_row:392 - Other error encountered\n",
      "2023-08-12 04:26:08.866 | WARNING  | cyano.data.satellite_data:download_row:392 - Other error encountered\n",
      "2023-08-12 04:26:09.994 | WARNING  | cyano.data.satellite_data:download_row:392 - Other error encountered\n",
      "2023-08-12 04:47:02.380 | WARNING  | cyano.data.satellite_data:download_row:392 - Other error encountered\n",
      "2023-08-12 04:47:03.744 | WARNING  | cyano.data.satellite_data:download_row:392 - Other error encountered\n",
      "2023-08-12 04:47:05.679 | WARNING  | cyano.data.satellite_data:download_row:392 - Other error encountered\n",
      "2023-08-12 04:49:21.269 | WARNING  | cyano.data.satellite_data:download_row:392 - Other error encountered\n",
      "2023-08-12 04:49:22.359 | WARNING  | cyano.data.satellite_data:download_row:392 - Other error encountered\n",
      "2023-08-12 04:49:24.184 | WARNING  | cyano.data.satellite_data:download_row:392 - Other error encountered\n",
      "2023-08-12 04:49:25.299 | WARNING  | cyano.data.satellite_data:download_row:392 - Other error encountered\n",
      "2023-08-12 05:04:23.654 | WARNING  | cyano.data.satellite_data:download_row:392 - Other error encountered\n",
      "2023-08-12 05:04:25.136 | WARNING  | cyano.data.satellite_data:download_row:392 - Other error encountered\n",
      "2023-08-12 05:04:26.325 | WARNING  | cyano.data.satellite_data:download_row:392 - Other error encountered\n",
      "2023-08-12 05:04:30.784 | WARNING  | cyano.data.satellite_data:download_row:392 - Other error encountered\n",
      "2023-08-12 05:05:31.686 | WARNING  | cyano.data.satellite_data:download_row:392 - Other error encountered\n",
      "2023-08-12 05:05:32.728 | WARNING  | cyano.data.satellite_data:download_row:392 - Other error encountered\n",
      "2023-08-12 05:05:33.811 | WARNING  | cyano.data.satellite_data:download_row:392 - Other error encountered\n",
      "2023-08-12 05:08:55.058 | WARNING  | cyano.data.satellite_data:download_row:392 - Other error encountered\n",
      "2023-08-12 05:08:56.074 | WARNING  | cyano.data.satellite_data:download_row:392 - Other error encountered\n",
      "2023-08-12 05:08:57.093 | WARNING  | cyano.data.satellite_data:download_row:392 - Other error encountered\n",
      "2023-08-12 05:08:59.476 | WARNING  | cyano.data.satellite_data:download_row:392 - Other error encountered\n",
      "2023-08-12 05:13:21.630 | WARNING  | cyano.data.satellite_data:download_row:392 - Other error encountered\n",
      "2023-08-12 05:13:22.750 | WARNING  | cyano.data.satellite_data:download_row:392 - Other error encountered\n",
      "2023-08-12 05:13:24.281 | WARNING  | cyano.data.satellite_data:download_row:392 - Other error encountered\n",
      "2023-08-12 05:35:20.119 | WARNING  | cyano.data.satellite_data:download_row:392 - Other error encountered\n",
      "2023-08-12 05:35:22.320 | WARNING  | cyano.data.satellite_data:download_row:392 - Other error encountered\n",
      "2023-08-12 05:35:23.592 | WARNING  | cyano.data.satellite_data:download_row:392 - Other error encountered\n",
      "2023-08-12 05:52:59.867 | WARNING  | cyano.data.satellite_data:download_row:392 - Other error encountered\n",
      "2023-08-12 05:53:01.002 | WARNING  | cyano.data.satellite_data:download_row:392 - Other error encountered\n",
      "2023-08-12 05:53:05.727 | WARNING  | cyano.data.satellite_data:download_row:392 - Other error encountered\n",
      "2023-08-12 05:56:43.180 | WARNING  | cyano.data.satellite_data:download_row:392 - Other error encountered\n",
      "2023-08-12 05:56:44.425 | WARNING  | cyano.data.satellite_data:download_row:392 - Other error encountered\n",
      "2023-08-12 05:56:48.933 | WARNING  | cyano.data.satellite_data:download_row:392 - Other error encountered\n",
      "2023-08-12 06:10:40.570 | WARNING  | cyano.data.satellite_data:download_row:392 - Other error encountered\n",
      "2023-08-12 06:16:06.041 | WARNING  | cyano.data.satellite_data:download_row:392 - Other error encountered\n",
      "2023-08-12 06:16:07.710 | WARNING  | cyano.data.satellite_data:download_row:392 - Other error encountered\n",
      "2023-08-12 06:16:09.939 | WARNING  | cyano.data.satellite_data:download_row:392 - Other error encountered\n",
      "2023-08-12 06:16:15.170 | WARNING  | cyano.data.satellite_data:download_row:392 - Other error encountered\n",
      "2023-08-12 06:39:56.268 | WARNING  | cyano.data.satellite_data:download_row:392 - Other error encountered\n",
      "2023-08-12 06:39:57.959 | WARNING  | cyano.data.satellite_data:download_row:392 - Other error encountered\n",
      "2023-08-12 06:39:59.418 | WARNING  | cyano.data.satellite_data:download_row:392 - Other error encountered\n",
      "2023-08-12 07:05:48.157 | WARNING  | cyano.data.satellite_data:download_row:392 - Other error encountered\n",
      "2023-08-12 07:05:49.632 | WARNING  | cyano.data.satellite_data:download_row:392 - Other error encountered\n",
      "2023-08-12 07:05:50.820 | WARNING  | cyano.data.satellite_data:download_row:392 - Other error encountered\n",
      "2023-08-12 07:26:07.782 | WARNING  | cyano.data.satellite_data:download_row:392 - Other error encountered\n",
      "2023-08-12 07:26:08.865 | WARNING  | cyano.data.satellite_data:download_row:392 - Other error encountered\n",
      "2023-08-12 07:26:09.989 | WARNING  | cyano.data.satellite_data:download_row:392 - Other error encountered\n",
      "2023-08-12 07:30:55.645 | WARNING  | cyano.data.satellite_data:download_row:392 - Other error encountered\n",
      "2023-08-12 07:31:00.480 | WARNING  | cyano.data.satellite_data:download_row:392 - Other error encountered\n",
      "2023-08-12 07:31:02.723 | WARNING  | cyano.data.satellite_data:download_row:392 - Other error encountered\n",
      "2023-08-12 07:46:49.725 | WARNING  | cyano.data.satellite_data:download_row:392 - Other error encountered\n",
      "2023-08-12 07:46:50.788 | WARNING  | cyano.data.satellite_data:download_row:392 - Other error encountered\n",
      "2023-08-12 07:46:50.880 | WARNING  | cyano.data.satellite_data:download_row:392 - Other error encountered\n",
      "2023-08-12 07:49:26.281 | WARNING  | cyano.data.satellite_data:download_row:392 - Other error encountered\n",
      "2023-08-12 07:49:27.391 | WARNING  | cyano.data.satellite_data:download_row:392 - Other error encountered\n",
      "2023-08-12 07:49:28.614 | WARNING  | cyano.data.satellite_data:download_row:392 - Other error encountered\n",
      "2023-08-12 07:49:31.050 | WARNING  | cyano.data.satellite_data:download_row:392 - Other error encountered\n",
      "2023-08-12 08:11:40.233 | WARNING  | cyano.data.satellite_data:download_row:392 - Other error encountered\n",
      "2023-08-12 08:11:41.110 | WARNING  | cyano.data.satellite_data:download_row:392 - Other error encountered\n",
      "2023-08-12 08:11:41.883 | WARNING  | cyano.data.satellite_data:download_row:392 - Other error encountered\n",
      "2023-08-12 08:11:42.866 | WARNING  | cyano.data.satellite_data:download_row:392 - Other error encountered\n",
      "2023-08-12 09:04:10.164 | WARNING  | cyano.data.satellite_data:download_row:392 - Other error encountered\n",
      "2023-08-12 09:04:11.879 | WARNING  | cyano.data.satellite_data:download_row:392 - Other error encountered\n",
      "2023-08-12 09:04:13.002 | WARNING  | cyano.data.satellite_data:download_row:392 - Other error encountered\n",
      "2023-08-12 09:30:27.394 | WARNING  | cyano.data.satellite_data:download_row:392 - Other error encountered\n",
      "2023-08-12 09:30:27.859 | WARNING  | cyano.data.satellite_data:download_row:392 - Other error encountered\n",
      "2023-08-12 09:30:29.079 | WARNING  | cyano.data.satellite_data:download_row:392 - Other error encountered\n",
      "2023-08-12 09:30:30.137 | WARNING  | cyano.data.satellite_data:download_row:392 - Other error encountered\n",
      "2023-08-12 10:13:24.027 | WARNING  | cyano.data.satellite_data:download_row:392 - Other error encountered\n",
      "2023-08-12 10:13:27.578 | WARNING  | cyano.data.satellite_data:download_row:392 - Other error encountered\n",
      "2023-08-12 10:13:29.330 | WARNING  | cyano.data.satellite_data:download_row:392 - Other error encountered\n",
      "2023-08-12 10:23:01.720 | WARNING  | cyano.data.satellite_data:download_row:392 - Other error encountered\n",
      "2023-08-12 10:23:02.944 | WARNING  | cyano.data.satellite_data:download_row:392 - Other error encountered\n",
      "2023-08-12 10:23:03.952 | WARNING  | cyano.data.satellite_data:download_row:392 - Other error encountered\n",
      "2023-08-12 10:29:28.403 | WARNING  | cyano.data.satellite_data:download_row:392 - Other error encountered\n",
      "2023-08-12 10:29:29.436 | WARNING  | cyano.data.satellite_data:download_row:392 - Other error encountered\n",
      "2023-08-12 10:29:32.127 | WARNING  | cyano.data.satellite_data:download_row:392 - Other error encountered\n",
      "2023-08-12 10:29:33.865 | WARNING  | cyano.data.satellite_data:download_row:392 - Other error encountered\n",
      "2023-08-12 10:34:07.823 | WARNING  | cyano.data.satellite_data:download_row:392 - Other error encountered\n",
      "2023-08-12 10:34:11.600 | WARNING  | cyano.data.satellite_data:download_row:392 - Other error encountered\n",
      "2023-08-12 10:34:12.760 | WARNING  | cyano.data.satellite_data:download_row:392 - Other error encountered\n",
      "2023-08-12 10:34:14.859 | WARNING  | cyano.data.satellite_data:download_row:392 - Other error encountered\n"
     ]
    }
   ],
   "source": [
    "experiment_config.run_experiment()"
   ]
  },
  {
   "cell_type": "code",
   "execution_count": null,
   "id": "699fcc59-d451-43cd-828c-673a32d5c8f5",
   "metadata": {},
   "outputs": [],
   "source": []
  },
  {
   "cell_type": "code",
   "execution_count": null,
   "id": "f29db6bc-6392-4b37-867b-8859f1748ff4",
   "metadata": {},
   "outputs": [],
   "source": []
  },
  {
   "cell_type": "code",
   "execution_count": null,
   "id": "1ca70220-2a91-47eb-9297-77273a1f3a8d",
   "metadata": {},
   "outputs": [],
   "source": []
  },
  {
   "cell_type": "code",
   "execution_count": null,
   "id": "a9bc3fe1-7a14-4a20-a3ff-2386adb5c277",
   "metadata": {},
   "outputs": [],
   "source": []
  },
  {
   "cell_type": "code",
   "execution_count": null,
   "id": "bf45ff59-f6ea-4b3f-a652-0f75cd80b389",
   "metadata": {},
   "outputs": [],
   "source": []
  }
 ],
 "metadata": {
  "kernelspec": {
   "display_name": "Python 3 (ipykernel)",
   "language": "python",
   "name": "python3"
  },
  "language_info": {
   "codemirror_mode": {
    "name": "ipython",
    "version": 3
   },
   "file_extension": ".py",
   "mimetype": "text/x-python",
   "name": "python",
   "nbconvert_exporter": "python",
   "pygments_lexer": "ipython3",
   "version": "3.10.12"
  }
 },
 "nbformat": 4,
 "nbformat_minor": 5
}
