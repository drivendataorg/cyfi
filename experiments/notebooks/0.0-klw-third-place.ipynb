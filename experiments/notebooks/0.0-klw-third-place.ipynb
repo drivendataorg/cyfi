{
 "cells": [
  {
   "cell_type": "markdown",
   "id": "5518e0f6-9da9-468b-8189-fb6f8472c9ca",
   "metadata": {},
   "source": [
    "Recreate a model based on the third place solution of the [Tick Tick Bloom: Harmful Algal Bloom Detection Challenge](https://github.com/drivendataorg/tick-tick-bloom/tree/main)"
   ]
  },
  {
   "cell_type": "code",
   "execution_count": 1,
   "id": "63362578-51df-4e5a-a744-29d60cdb0006",
   "metadata": {},
   "outputs": [],
   "source": [
    "%load_ext lab_black\n",
    "%load_ext autoreload\n",
    "%autoreload 2"
   ]
  },
  {
   "cell_type": "code",
   "execution_count": 2,
   "id": "384337cd-aad4-44ef-a00f-160f45f10299",
   "metadata": {},
   "outputs": [
    {
     "name": "stderr",
     "output_type": "stream",
     "text": [
      "/opt/anaconda3/envs/cyanobacteria-prediction/lib/python3.10/site-packages/pydantic/_internal/_fields.py:126: UserWarning: Field \"model_training_config\" has conflict with protected namespace \"model_\".\n",
      "\n",
      "You may be able to resolve this warning by setting `model_config['protected_namespaces'] = ()`.\n",
      "  warnings.warn(\n"
     ]
    }
   ],
   "source": [
    "import yaml\n",
    "\n",
    "from cloudpathlib import AnyPath\n",
    "\n",
    "from cyano.config import FeaturesConfig, ModelTrainingConfig\n",
    "from cyano.experiment import ExperimentConfig\n",
    "from cyano.settings import REPO_ROOT"
   ]
  },
  {
   "cell_type": "code",
   "execution_count": 3,
   "id": "8adec776-cd51-4758-9388-86892e7b18e9",
   "metadata": {},
   "outputs": [],
   "source": [
    "DATA_DIR = REPO_ROOT.parent / \"data/experiments\"\n",
    "S3_DATA_DIR = AnyPath(\"s3://drivendata-competition-nasa-cyanobacteria\") / \"experiments\"\n",
    "\n",
    "SPLITS_DIR = S3_DATA_DIR / \"splits\"\n",
    "LOCAL_CACHE_DIR = DATA_DIR / \"cache\"\n",
    "EXPERIMENT_SAVE_DIR = DATA_DIR / \"rerun_third\"\n",
    "EXPERIMENT_SAVE_DIR.mkdir(exist_ok=True, parents=True)"
   ]
  },
  {
   "cell_type": "markdown",
   "id": "6f6582e1-16cd-40a7-abd6-a47edd071eba",
   "metadata": {
    "tags": []
   },
   "source": [
    "## Settings\n",
    "\n",
    "Write config to match third place code"
   ]
  },
  {
   "cell_type": "code",
   "execution_count": 4,
   "id": "358c43af-ef26-4b4c-bead-4d912bc52a6e",
   "metadata": {},
   "outputs": [
    {
     "data": {
      "text/plain": [
       "['AOT_mean', 'AOT_min', 'AOT_max', 'AOT_range', 'B01_mean', 'B01_min']"
      ]
     },
     "execution_count": 4,
     "metadata": {},
     "output_type": "execute_result"
    }
   ],
   "source": [
    "use_sentinel_bands = [\n",
    "    \"AOT\",\n",
    "    \"B01\",\n",
    "    \"B02\",\n",
    "    \"B03\",\n",
    "    \"B04\",\n",
    "    \"B05\",\n",
    "    \"B06\",\n",
    "    \"B07\",\n",
    "    \"B08\",\n",
    "    \"B09\",\n",
    "    \"B11\",\n",
    "    \"B12\",\n",
    "    \"B8A\",\n",
    "    \"SCL\",\n",
    "    \"WVP\",\n",
    "]\n",
    "sat_image_fts = [\n",
    "    f\"{band}_{stat}\"\n",
    "    for band in use_sentinel_bands\n",
    "    for stat in [\"mean\", \"min\", \"max\", \"range\"]\n",
    "]\n",
    "sat_image_fts += [\"NDVI_B04\", \"NDVI_B05\", \"NDVI_B06\", \"NDVI_B07\"]\n",
    "sat_image_fts[:6]"
   ]
  },
  {
   "cell_type": "code",
   "execution_count": 5,
   "id": "7a80d191-137c-4a7f-8ccd-8e8d4bc08ce8",
   "metadata": {},
   "outputs": [
    {
     "data": {
      "text/plain": [
       "64"
      ]
     },
     "execution_count": 5,
     "metadata": {},
     "output_type": "execute_result"
    }
   ],
   "source": [
    "len(sat_image_fts)"
   ]
  },
  {
   "cell_type": "code",
   "execution_count": 6,
   "id": "d3be3f2e-fb0b-4c7c-a04a-017e6a07018c",
   "metadata": {},
   "outputs": [],
   "source": [
    "features_config = FeaturesConfig(\n",
    "    image_feature_meter_window=200,\n",
    "    n_sentinel_items=15,\n",
    "    pc_meters_search_window=5000,\n",
    "    pc_days_search_window=15,\n",
    "    use_sentinel_bands=use_sentinel_bands,\n",
    "    satellite_image_features=sat_image_fts,\n",
    "    satellite_meta_features=[\"month\", \"days_before_sample\"],\n",
    "    metadata_features=[\"rounded_longitude\"],\n",
    ")"
   ]
  },
  {
   "cell_type": "code",
   "execution_count": 7,
   "id": "a3131dc9-403c-4bc4-b5e3-c774e46bb585",
   "metadata": {},
   "outputs": [],
   "source": [
    "model_config = ModelTrainingConfig(\n",
    "    num_boost_round=100000,\n",
    "    params={\n",
    "        \"application\": \"regression\",\n",
    "        \"metric\": \"rmse\",\n",
    "        \"max_depth\": -1,\n",
    "        \"num_leaves\": 31,\n",
    "        \"learning_rate\": 0.1,\n",
    "    },\n",
    ")"
   ]
  },
  {
   "cell_type": "code",
   "execution_count": 8,
   "id": "15a66318-155d-404c-8f83-3efcd768c5ca",
   "metadata": {},
   "outputs": [],
   "source": [
    "experiment_config = ExperimentConfig(\n",
    "    features_config=features_config,\n",
    "    train_csv=SPLITS_DIR / \"competition/train.csv\",\n",
    "    predict_csv=SPLITS_DIR / \"competition/test.csv\",\n",
    "    cache_dir=LOCAL_CACHE_DIR,\n",
    "    save_dir=EXPERIMENT_SAVE_DIR,\n",
    ")\n",
    "\n",
    "with (EXPERIMENT_SAVE_DIR / \"experiment_config.yaml\").open(\"w\") as fp:\n",
    "    yaml.dump(experiment_config.model_dump(), fp)"
   ]
  },
  {
   "cell_type": "markdown",
   "id": "0fb317a1-431e-43e6-b274-f9e442bda2b2",
   "metadata": {
    "tags": []
   },
   "source": [
    "## Run experiment"
   ]
  },
  {
   "cell_type": "code",
   "execution_count": null,
   "id": "48652fb8-151d-4f21-a303-276b5d633f21",
   "metadata": {
    "tags": []
   },
   "outputs": [
    {
     "name": "stderr",
     "output_type": "stream",
     "text": [
      "\u001b[32m2023-08-11 17:02:42.862\u001b[0m | \u001b[1mINFO    \u001b[0m | \u001b[36mcyano.pipeline\u001b[0m:\u001b[36m_prep_train_data\u001b[0m:\u001b[36m51\u001b[0m - \u001b[1mLoaded 17,060 samples for training\u001b[0m\n",
      "\u001b[32m2023-08-11 17:02:42.863\u001b[0m | \u001b[1mINFO    \u001b[0m | \u001b[36mcyano.data.satellite_data\u001b[0m:\u001b[36mgenerate_candidate_metadata\u001b[0m:\u001b[36m195\u001b[0m - \u001b[1mGenerating metadata for all satellite item candidates\u001b[0m\n",
      "\u001b[32m2023-08-11 17:02:47.575\u001b[0m | \u001b[1mINFO    \u001b[0m | \u001b[36mcyano.data.satellite_data\u001b[0m:\u001b[36mgenerate_candidate_metadata\u001b[0m:\u001b[36m208\u001b[0m - \u001b[1mLoaded 56,173 rows of Sentinel candidate metadata from /Users/katewetstone/Repos/competition-nasa-cyanobacteria/data/interim/full_pc_search\u001b[0m\n",
      "\u001b[32m2023-08-11 17:02:47.935\u001b[0m | \u001b[1mINFO    \u001b[0m | \u001b[36mcyano.data.satellite_data\u001b[0m:\u001b[36midentify_satellite_data\u001b[0m:\u001b[36m303\u001b[0m - \u001b[1mSelecting which items to use for feature generation\u001b[0m\n",
      "100%|████████████████████████████████████████████████████████████| 17060/17060 [01:51<00:00, 152.84it/s]\n",
      "\u001b[32m2023-08-11 17:04:42.606\u001b[0m | \u001b[1mINFO    \u001b[0m | \u001b[36mcyano.data.satellite_data\u001b[0m:\u001b[36midentify_satellite_data\u001b[0m:\u001b[36m322\u001b[0m - \u001b[1mIdentified satellite imagery for 11,544 samples\u001b[0m\n",
      "\u001b[32m2023-08-11 17:04:49.340\u001b[0m | \u001b[1mINFO    \u001b[0m | \u001b[36mcyano.pipeline\u001b[0m:\u001b[36m_prepare_features\u001b[0m:\u001b[36m61\u001b[0m - \u001b[1m45,210 rows of satellite metadata saved to /Users/katewetstone/Repos/cyanobacteria-prediction/data/experiments/cache/satellite_metadata_train.csv\u001b[0m\n",
      "\u001b[32m2023-08-11 17:04:49.341\u001b[0m | \u001b[1mINFO    \u001b[0m | \u001b[36mcyano.data.satellite_data\u001b[0m:\u001b[36mdownload_satellite_data\u001b[0m:\u001b[36m414\u001b[0m - \u001b[1mDownloading bands ['AOT', 'B01', 'B02', 'B03', 'B04', 'B05', 'B06', 'B07', 'B08', 'B09', 'B11', 'B12', 'B8A', 'SCL', 'WVP'] with 4 threads\u001b[0m\n"
     ]
    },
    {
     "data": {
      "application/vnd.jupyter.widget-view+json": {
       "model_id": "382ec009327646bca2a0acd585e68de4",
       "version_major": 2,
       "version_minor": 0
      },
      "text/plain": [
       "  0%|          | 0/45210 [00:00<?, ?it/s]"
      ]
     },
     "metadata": {},
     "output_type": "display_data"
    }
   ],
   "source": [
    "experiment_config.run_experiment()"
   ]
  },
  {
   "cell_type": "code",
   "execution_count": null,
   "id": "766a65e4-0e87-4ad1-b658-3a0d6250b4bd",
   "metadata": {},
   "outputs": [],
   "source": []
  },
  {
   "cell_type": "code",
   "execution_count": null,
   "id": "be833843-c130-4ecf-97c3-13811acbedae",
   "metadata": {},
   "outputs": [],
   "source": []
  },
  {
   "cell_type": "code",
   "execution_count": null,
   "id": "eebaa891-4e65-4f4b-a297-24affbf78860",
   "metadata": {},
   "outputs": [],
   "source": []
  },
  {
   "cell_type": "code",
   "execution_count": null,
   "id": "699fcc59-d451-43cd-828c-673a32d5c8f5",
   "metadata": {},
   "outputs": [],
   "source": []
  }
 ],
 "metadata": {
  "kernelspec": {
   "display_name": "Python 3 (ipykernel)",
   "language": "python",
   "name": "python3"
  },
  "language_info": {
   "codemirror_mode": {
    "name": "ipython",
    "version": 3
   },
   "file_extension": ".py",
   "mimetype": "text/x-python",
   "name": "python",
   "nbconvert_exporter": "python",
   "pygments_lexer": "ipython3",
   "version": "3.10.12"
  }
 },
 "nbformat": 4,
 "nbformat_minor": 5
}
