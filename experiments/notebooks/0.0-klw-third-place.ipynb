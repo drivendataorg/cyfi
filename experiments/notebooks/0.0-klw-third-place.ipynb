{
 "cells": [
  {
   "cell_type": "markdown",
   "id": "5518e0f6-9da9-468b-8189-fb6f8472c9ca",
   "metadata": {},
   "source": [
    "Recreate a model based on the third place solution of the [Tick Tick Bloom: Harmful Algal Bloom Detection Challenge](https://github.com/drivendataorg/tick-tick-bloom/tree/main)"
   ]
  },
  {
   "cell_type": "code",
   "execution_count": 1,
   "id": "63362578-51df-4e5a-a744-29d60cdb0006",
   "metadata": {},
   "outputs": [],
   "source": [
    "%load_ext lab_black\n",
    "%load_ext autoreload\n",
    "%autoreload 2"
   ]
  },
  {
   "cell_type": "code",
   "execution_count": 2,
   "id": "384337cd-aad4-44ef-a00f-160f45f10299",
   "metadata": {},
   "outputs": [
    {
     "name": "stderr",
     "output_type": "stream",
     "text": [
      "/opt/anaconda3/envs/cyanobacteria-prediction/lib/python3.10/site-packages/pydantic/_internal/_fields.py:126: UserWarning: Field \"model_training_config\" has conflict with protected namespace \"model_\".\n",
      "\n",
      "You may be able to resolve this warning by setting `model_config['protected_namespaces'] = ()`.\n",
      "  warnings.warn(\n"
     ]
    }
   ],
   "source": [
    "import yaml\n",
    "\n",
    "from cyano.config import FeaturesConfig, ModelTrainingConfig\n",
    "from cyano.experiment import ExperimentConfig\n",
    "from cyano.settings import REPO_ROOT"
   ]
  },
  {
   "cell_type": "code",
   "execution_count": 3,
   "id": "8adec776-cd51-4758-9388-86892e7b18e9",
   "metadata": {},
   "outputs": [],
   "source": [
    "DATA_DIR = REPO_ROOT.parent / \"data/experiments\"\n",
    "\n",
    "SPLITS_DIR = DATA_DIR / \"splits\"\n",
    "LOCAL_CACHE_DIR = DATA_DIR / \"cache\"\n",
    "EXPERIMENT_SAVE_DIR = DATA_DIR / \"rerun_third\"\n",
    "EXPERIMENT_SAVE_DIR.mkdir(exist_ok=True, parents=True)"
   ]
  },
  {
   "cell_type": "markdown",
   "id": "6f6582e1-16cd-40a7-abd6-a47edd071eba",
   "metadata": {
    "tags": []
   },
   "source": [
    "## Settings\n",
    "\n",
    "Write config to match third place code"
   ]
  },
  {
   "cell_type": "code",
   "execution_count": 4,
   "id": "358c43af-ef26-4b4c-bead-4d912bc52a6e",
   "metadata": {},
   "outputs": [
    {
     "data": {
      "text/plain": [
       "['AOT_mean', 'AOT_min', 'AOT_max', 'AOT_range', 'B01_mean', 'B01_min']"
      ]
     },
     "execution_count": 4,
     "metadata": {},
     "output_type": "execute_result"
    }
   ],
   "source": [
    "use_sentinel_bands = [\n",
    "    \"AOT\",\n",
    "    \"B01\",\n",
    "    \"B02\",\n",
    "    \"B03\",\n",
    "    \"B04\",\n",
    "    \"B05\",\n",
    "    \"B06\",\n",
    "    \"B07\",\n",
    "    \"B08\",\n",
    "    \"B09\",\n",
    "    \"B11\",\n",
    "    \"B12\",\n",
    "    \"B8A\",\n",
    "    \"SCL\",\n",
    "    \"WVP\",\n",
    "]\n",
    "sat_image_fts = [\n",
    "    f\"{band}_{stat}\"\n",
    "    for band in use_sentinel_bands\n",
    "    for stat in [\"mean\", \"min\", \"max\", \"range\"]\n",
    "]\n",
    "sat_image_fts += [\"NDVI_B04\", \"NDVI_B05\", \"NDVI_B06\", \"NDVI_B07\"]\n",
    "sat_image_fts[:6]"
   ]
  },
  {
   "cell_type": "code",
   "execution_count": 5,
   "id": "7a80d191-137c-4a7f-8ccd-8e8d4bc08ce8",
   "metadata": {},
   "outputs": [
    {
     "data": {
      "text/plain": [
       "64"
      ]
     },
     "execution_count": 5,
     "metadata": {},
     "output_type": "execute_result"
    }
   ],
   "source": [
    "len(sat_image_fts)"
   ]
  },
  {
   "cell_type": "code",
   "execution_count": 6,
   "id": "d3be3f2e-fb0b-4c7c-a04a-017e6a07018c",
   "metadata": {},
   "outputs": [],
   "source": [
    "features_config = FeaturesConfig(\n",
    "    image_feature_meter_window=200,\n",
    "    n_sentinel_items=15,\n",
    "    pc_meters_search_window=5000,\n",
    "    pc_days_search_window=15,\n",
    "    use_sentinel_bands=use_sentinel_bands,\n",
    "    satellite_image_features=sat_image_fts,\n",
    "    satellite_meta_features=[\"month\", \"days_before_sample\"],\n",
    "    metadata_features=[\"rounded_longitude\"],\n",
    ")"
   ]
  },
  {
   "cell_type": "code",
   "execution_count": 7,
   "id": "a3131dc9-403c-4bc4-b5e3-c774e46bb585",
   "metadata": {},
   "outputs": [],
   "source": [
    "model_config = ModelTrainingConfig(\n",
    "    num_boost_round=100000,\n",
    "    params={\n",
    "        \"application\": \"regression\",\n",
    "        \"metric\": \"rmse\",\n",
    "        \"max_depth\": -1,\n",
    "        \"num_leaves\": 31,\n",
    "        \"learning_rate\": 0.1,\n",
    "    },\n",
    ")"
   ]
  },
  {
   "cell_type": "code",
   "execution_count": 9,
   "id": "15a66318-155d-404c-8f83-3efcd768c5ca",
   "metadata": {},
   "outputs": [],
   "source": [
    "experiment_config = ExperimentConfig(\n",
    "    features_config=features_config,\n",
    "    train_csv=SPLITS_DIR / \"competition/train.csv\",\n",
    "    predict_csv=SPLITS_DIR / \"competition/test.csv\",\n",
    "    cache_dir=LOCAL_CACHE_DIR,\n",
    "    save_dir=EXPERIMENT_SAVE_DIR,\n",
    ")\n",
    "\n",
    "with (EXPERIMENT_SAVE_DIR / \"experiment_config.yaml\").open(\"w\") as fp:\n",
    "    yaml.dump(experiment_config.model_dump(), fp)"
   ]
  },
  {
   "cell_type": "markdown",
   "id": "0fb317a1-431e-43e6-b274-f9e442bda2b2",
   "metadata": {
    "tags": []
   },
   "source": [
    "## Run experiment"
   ]
  },
  {
   "cell_type": "code",
   "execution_count": null,
   "id": "48652fb8-151d-4f21-a303-276b5d633f21",
   "metadata": {
    "tags": []
   },
   "outputs": [
    {
     "name": "stderr",
     "output_type": "stream",
     "text": [
      "\u001b[32m2023-08-11 15:56:53.911\u001b[0m | \u001b[1mINFO    \u001b[0m | \u001b[36mcyano.pipeline\u001b[0m:\u001b[36m_prep_train_data\u001b[0m:\u001b[36m49\u001b[0m - \u001b[1mLoaded 17,060 samples for training\u001b[0m\n",
      "\u001b[32m2023-08-11 15:56:53.912\u001b[0m | \u001b[1mINFO    \u001b[0m | \u001b[36mcyano.data.satellite_data\u001b[0m:\u001b[36mgenerate_candidate_metadata\u001b[0m:\u001b[36m194\u001b[0m - \u001b[1mGenerating metadata for all satellite item candidates\u001b[0m\n"
     ]
    }
   ],
   "source": [
    "experiment_config.run_experiment()"
   ]
  },
  {
   "cell_type": "markdown",
   "id": "4de9e1bb-a319-45a5-8314-f9e6e4b4ee9e",
   "metadata": {},
   "source": [
    "#### Experiment with larger subset of comp data"
   ]
  },
  {
   "cell_type": "code",
   "execution_count": 9,
   "id": "ebac859f-f01d-40ce-9db5-472dc493cc5c",
   "metadata": {},
   "outputs": [
    {
     "data": {
      "text/html": [
       "<div>\n",
       "<style scoped>\n",
       "    .dataframe tbody tr th:only-of-type {\n",
       "        vertical-align: middle;\n",
       "    }\n",
       "\n",
       "    .dataframe tbody tr th {\n",
       "        vertical-align: top;\n",
       "    }\n",
       "\n",
       "    .dataframe thead th {\n",
       "        text-align: right;\n",
       "    }\n",
       "</style>\n",
       "<table border=\"1\" class=\"dataframe\">\n",
       "  <thead>\n",
       "    <tr style=\"text-align: right;\">\n",
       "      <th></th>\n",
       "      <th>uid</th>\n",
       "      <th>data_provider</th>\n",
       "      <th>region</th>\n",
       "      <th>latitude</th>\n",
       "      <th>longitude</th>\n",
       "      <th>date</th>\n",
       "      <th>density_cells_per_ml</th>\n",
       "      <th>severity</th>\n",
       "      <th>distance_to_water_m</th>\n",
       "    </tr>\n",
       "  </thead>\n",
       "  <tbody>\n",
       "    <tr>\n",
       "      <th>1174</th>\n",
       "      <td>buvf</td>\n",
       "      <td>N.C. Division of Water Resources N.C. Departme...</td>\n",
       "      <td>south</td>\n",
       "      <td>35.790</td>\n",
       "      <td>-79.034845</td>\n",
       "      <td>2020-12-10</td>\n",
       "      <td>87137.0</td>\n",
       "      <td>2</td>\n",
       "      <td>524.0</td>\n",
       "    </tr>\n",
       "    <tr>\n",
       "      <th>3732</th>\n",
       "      <td>frko</td>\n",
       "      <td>N.C. Division of Water Resources N.C. Departme...</td>\n",
       "      <td>south</td>\n",
       "      <td>35.976</td>\n",
       "      <td>-78.757882</td>\n",
       "      <td>2016-05-10</td>\n",
       "      <td>279709.0</td>\n",
       "      <td>3</td>\n",
       "      <td>656.0</td>\n",
       "    </tr>\n",
       "  </tbody>\n",
       "</table>\n",
       "</div>"
      ],
      "text/plain": [
       "       uid                                      data_provider region  \\\n",
       "1174  buvf  N.C. Division of Water Resources N.C. Departme...  south   \n",
       "3732  frko  N.C. Division of Water Resources N.C. Departme...  south   \n",
       "\n",
       "      latitude  longitude        date  density_cells_per_ml  severity  \\\n",
       "1174    35.790 -79.034845  2020-12-10               87137.0         2   \n",
       "3732    35.976 -78.757882  2016-05-10              279709.0         3   \n",
       "\n",
       "      distance_to_water_m  \n",
       "1174                524.0  \n",
       "3732                656.0  "
      ]
     },
     "execution_count": 9,
     "metadata": {},
     "output_type": "execute_result"
    }
   ],
   "source": [
    "train = pd.read_csv(SPLITS_DIR / \"competition/train.csv\")\n",
    "\n",
    "train_sub_path = \"train_sub.csv\"\n",
    "train_sub = train.sample(n=50, random_state=4)\n",
    "train_sub.to_csv(train_sub_path, index=False)\n",
    "train_sub.head(2)"
   ]
  },
  {
   "cell_type": "code",
   "execution_count": 10,
   "id": "fe66781f-f2aa-45e1-8e56-0241d9782003",
   "metadata": {},
   "outputs": [
    {
     "data": {
      "text/html": [
       "<div>\n",
       "<style scoped>\n",
       "    .dataframe tbody tr th:only-of-type {\n",
       "        vertical-align: middle;\n",
       "    }\n",
       "\n",
       "    .dataframe tbody tr th {\n",
       "        vertical-align: top;\n",
       "    }\n",
       "\n",
       "    .dataframe thead th {\n",
       "        text-align: right;\n",
       "    }\n",
       "</style>\n",
       "<table border=\"1\" class=\"dataframe\">\n",
       "  <thead>\n",
       "    <tr style=\"text-align: right;\">\n",
       "      <th></th>\n",
       "      <th>uid</th>\n",
       "      <th>data_provider</th>\n",
       "      <th>region</th>\n",
       "      <th>latitude</th>\n",
       "      <th>longitude</th>\n",
       "      <th>date</th>\n",
       "      <th>density_cells_per_ml</th>\n",
       "      <th>severity</th>\n",
       "      <th>distance_to_water_m</th>\n",
       "    </tr>\n",
       "  </thead>\n",
       "  <tbody>\n",
       "    <tr>\n",
       "      <th>6054</th>\n",
       "      <td>ygor</td>\n",
       "      <td>Indiana State Department of Health</td>\n",
       "      <td>midwest</td>\n",
       "      <td>39.586383</td>\n",
       "      <td>-84.994867</td>\n",
       "      <td>2019-07-22</td>\n",
       "      <td>101041.0</td>\n",
       "      <td>3</td>\n",
       "      <td>0.0</td>\n",
       "    </tr>\n",
       "    <tr>\n",
       "      <th>675</th>\n",
       "      <td>csov</td>\n",
       "      <td>California Environmental Data Exchange Network</td>\n",
       "      <td>west</td>\n",
       "      <td>39.624200</td>\n",
       "      <td>-122.197000</td>\n",
       "      <td>2017-10-25</td>\n",
       "      <td>5667500.0</td>\n",
       "      <td>4</td>\n",
       "      <td>1059.0</td>\n",
       "    </tr>\n",
       "  </tbody>\n",
       "</table>\n",
       "</div>"
      ],
      "text/plain": [
       "       uid                                   data_provider   region  \\\n",
       "6054  ygor              Indiana State Department of Health  midwest   \n",
       "675   csov  California Environmental Data Exchange Network     west   \n",
       "\n",
       "       latitude   longitude        date  density_cells_per_ml  severity  \\\n",
       "6054  39.586383  -84.994867  2019-07-22              101041.0         3   \n",
       "675   39.624200 -122.197000  2017-10-25             5667500.0         4   \n",
       "\n",
       "      distance_to_water_m  \n",
       "6054                  0.0  \n",
       "675                1059.0  "
      ]
     },
     "execution_count": 10,
     "metadata": {},
     "output_type": "execute_result"
    }
   ],
   "source": [
    "test = pd.read_csv(SPLITS_DIR / \"competition/test.csv\")\n",
    "\n",
    "test_sub_path = \"test_sub.csv\"\n",
    "test_sub = test.sample(n=50, random_state=4)\n",
    "test_sub.to_csv(test_sub_path, index=False)\n",
    "test_sub.head(2)"
   ]
  },
  {
   "cell_type": "code",
   "execution_count": 178,
   "id": "3327a9a0-f999-4505-9ba4-6a62e0a1ca51",
   "metadata": {
    "tags": []
   },
   "outputs": [
    {
     "name": "stderr",
     "output_type": "stream",
     "text": [
      "\u001b[32m2023-08-11 11:45:35.248\u001b[0m | \u001b[1mINFO    \u001b[0m | \u001b[36mcyano.pipeline\u001b[0m:\u001b[36m_prep_train_data\u001b[0m:\u001b[36m52\u001b[0m - \u001b[1mLoaded 50 samples for training\u001b[0m\n",
      "\u001b[32m2023-08-11 11:45:35.249\u001b[0m | \u001b[1mINFO    \u001b[0m | \u001b[36mcyano.data.satellite_data\u001b[0m:\u001b[36mgenerate_candidate_metadata\u001b[0m:\u001b[36m192\u001b[0m - \u001b[1mGenerating metadata for all satellite item candidates\u001b[0m\n",
      "\u001b[32m2023-08-11 11:45:41.114\u001b[0m | \u001b[1mINFO    \u001b[0m | \u001b[36mcyano.data.satellite_data\u001b[0m:\u001b[36mgenerate_candidate_metadata\u001b[0m:\u001b[36m202\u001b[0m - \u001b[1mLoaded 56,173 rows of Sentinel candidate metadata from s3://drivendata-competition-nasa-cyanobacteria/data/interim/full_pc_search\u001b[0m\n",
      "\u001b[32m2023-08-11 11:45:41.969\u001b[0m | \u001b[1mINFO    \u001b[0m | \u001b[36mcyano.data.satellite_data\u001b[0m:\u001b[36midentify_satellite_data\u001b[0m:\u001b[36m297\u001b[0m - \u001b[1mSelecting which items to use for feature generation\u001b[0m\n",
      "100%|██████████████████████████████████████████████████████████████████████████████████████| 50/50 [00:00<00:00, 133.33it/s]\n",
      "\u001b[32m2023-08-11 11:45:42.361\u001b[0m | \u001b[1mINFO    \u001b[0m | \u001b[36mcyano.data.satellite_data\u001b[0m:\u001b[36midentify_satellite_data\u001b[0m:\u001b[36m316\u001b[0m - \u001b[1mIdentified satellite imagery for 34 samples\u001b[0m\n",
      "\u001b[32m2023-08-11 11:45:42.632\u001b[0m | \u001b[1mINFO    \u001b[0m | \u001b[36mcyano.pipeline\u001b[0m:\u001b[36m_prepare_features\u001b[0m:\u001b[36m62\u001b[0m - \u001b[1m117 rows of satellite metadata saved to /Users/katewetstone/Repos/cyanobacteria-prediction/data/experiments/cache/satellite_metadata_train.csv\u001b[0m\n",
      "\u001b[32m2023-08-11 11:45:42.633\u001b[0m | \u001b[1mINFO    \u001b[0m | \u001b[36mcyano.data.satellite_data\u001b[0m:\u001b[36mdownload_satellite_data\u001b[0m:\u001b[36m341\u001b[0m - \u001b[1mDownloading bands ['AOT', 'B01', 'B02', 'B03', 'B04', 'B05', 'B06', 'B07', 'B08', 'B09', 'B11', 'B12', 'B8A', 'SCL', 'WVP']\u001b[0m\n",
      "100%|█████████████████████████████████████████████████████████████████████████████████████| 117/117 [20:48<00:00, 10.68s/it]\n",
      "\u001b[32m2023-08-11 12:06:31.619\u001b[0m | \u001b[33m\u001b[1mWARNING \u001b[0m | \u001b[36mcyano.data.satellite_data\u001b[0m:\u001b[36mdownload_satellite_data\u001b[0m:\u001b[36m380\u001b[0m - \u001b[33m\u001b[1mCould not download 4 image/sample combinations with no data in bounds\u001b[0m\n",
      "\u001b[32m2023-08-11 12:06:31.620\u001b[0m | \u001b[32m\u001b[1mSUCCESS \u001b[0m | \u001b[36mcyano.pipeline\u001b[0m:\u001b[36m_prepare_features\u001b[0m:\u001b[36m74\u001b[0m - \u001b[32m\u001b[1mRaw source data saved to /Users/katewetstone/Repos/cyanobacteria-prediction/data/experiments/cache\u001b[0m\n",
      "\u001b[32m2023-08-11 12:06:31.622\u001b[0m | \u001b[1mINFO    \u001b[0m | \u001b[36mcyano.data.features\u001b[0m:\u001b[36mgenerate_satellite_features\u001b[0m:\u001b[36m109\u001b[0m - \u001b[1mGenerating satellite features for 117 sample/item combos, 34 samples\u001b[0m\n",
      "100%|████████████████████████████████████████████████████████████████████████████████████| 117/117 [00:00<00:00, 141.00it/s]\n",
      "\u001b[32m2023-08-11 12:06:32.481\u001b[0m | \u001b[1mINFO    \u001b[0m | \u001b[36mcyano.data.features\u001b[0m:\u001b[36mgenerate_features\u001b[0m:\u001b[36m262\u001b[0m - \u001b[1mGenerated 66 satellite features. 34 samples, 113 item / sample combinations.\u001b[0m\n",
      "\u001b[32m2023-08-11 12:06:32.484\u001b[0m | \u001b[1mINFO    \u001b[0m | \u001b[36mcyano.data.features\u001b[0m:\u001b[36mgenerate_features\u001b[0m:\u001b[36m285\u001b[0m - \u001b[1mGenerated 113 metadata features\u001b[0m\n",
      "\u001b[32m2023-08-11 12:06:32.496\u001b[0m | \u001b[32m\u001b[1mSUCCESS \u001b[0m | \u001b[36mcyano.pipeline\u001b[0m:\u001b[36m_prepare_features\u001b[0m:\u001b[36m80\u001b[0m - \u001b[32m\u001b[1m67 features for 34 samples (of 50) saved to /Users/katewetstone/Repos/cyanobacteria-prediction/data/experiments/cache/features_train.csv\u001b[0m\n",
      "\u001b[32m2023-08-11 12:06:32.612\u001b[0m | \u001b[1mINFO    \u001b[0m | \u001b[36mcyano.pipeline\u001b[0m:\u001b[36m_to_disk\u001b[0m:\u001b[36m133\u001b[0m - \u001b[1mSaving model to competition_split_subset/model.zip\u001b[0m\n",
      "\u001b[32m2023-08-11 12:06:32.631\u001b[0m | \u001b[32m\u001b[1mSUCCESS \u001b[0m | \u001b[36mcyano.experiment.experiment\u001b[0m:\u001b[36mrun_experiment\u001b[0m:\u001b[36m37\u001b[0m - \u001b[32m\u001b[1mWrote out artifact config to competition_split_subset\u001b[0m\n",
      "\u001b[32m2023-08-11 12:06:32.639\u001b[0m | \u001b[1mINFO    \u001b[0m | \u001b[36mcyano.pipeline\u001b[0m:\u001b[36m_prep_predict_data\u001b[0m:\u001b[36m161\u001b[0m - \u001b[1mLoaded 50 samples for prediction\u001b[0m\n",
      "\u001b[32m2023-08-11 12:06:32.640\u001b[0m | \u001b[1mINFO    \u001b[0m | \u001b[36mcyano.data.satellite_data\u001b[0m:\u001b[36mgenerate_candidate_metadata\u001b[0m:\u001b[36m192\u001b[0m - \u001b[1mGenerating metadata for all satellite item candidates\u001b[0m\n",
      "\u001b[32m2023-08-11 12:06:38.804\u001b[0m | \u001b[1mINFO    \u001b[0m | \u001b[36mcyano.data.satellite_data\u001b[0m:\u001b[36mgenerate_candidate_metadata\u001b[0m:\u001b[36m202\u001b[0m - \u001b[1mLoaded 56,173 rows of Sentinel candidate metadata from s3://drivendata-competition-nasa-cyanobacteria/data/interim/full_pc_search\u001b[0m\n",
      "\u001b[32m2023-08-11 12:06:39.767\u001b[0m | \u001b[1mINFO    \u001b[0m | \u001b[36mcyano.data.satellite_data\u001b[0m:\u001b[36midentify_satellite_data\u001b[0m:\u001b[36m297\u001b[0m - \u001b[1mSelecting which items to use for feature generation\u001b[0m\n",
      "100%|██████████████████████████████████████████████████████████████████████████████████████| 50/50 [00:00<00:00, 121.53it/s]\n",
      "\u001b[32m2023-08-11 12:06:40.192\u001b[0m | \u001b[1mINFO    \u001b[0m | \u001b[36mcyano.data.satellite_data\u001b[0m:\u001b[36midentify_satellite_data\u001b[0m:\u001b[36m316\u001b[0m - \u001b[1mIdentified satellite imagery for 38 samples\u001b[0m\n",
      "\u001b[32m2023-08-11 12:06:40.493\u001b[0m | \u001b[1mINFO    \u001b[0m | \u001b[36mcyano.pipeline\u001b[0m:\u001b[36m_prepare_features\u001b[0m:\u001b[36m62\u001b[0m - \u001b[1m196 rows of satellite metadata saved to /Users/katewetstone/Repos/cyanobacteria-prediction/data/experiments/cache/satellite_metadata_train.csv\u001b[0m\n",
      "\u001b[32m2023-08-11 12:06:40.494\u001b[0m | \u001b[1mINFO    \u001b[0m | \u001b[36mcyano.data.satellite_data\u001b[0m:\u001b[36mdownload_satellite_data\u001b[0m:\u001b[36m341\u001b[0m - \u001b[1mDownloading bands ['AOT', 'B01', 'B02', 'B03', 'B04', 'B05', 'B06', 'B07', 'B08', 'B09', 'B11', 'B12', 'B8A', 'SCL', 'WVP']\u001b[0m\n",
      "100%|█████████████████████████████████████████████████████████████████████████████████████| 196/196 [37:08<00:00, 11.37s/it]\n",
      "\u001b[32m2023-08-11 12:43:48.520\u001b[0m | \u001b[33m\u001b[1mWARNING \u001b[0m | \u001b[36mcyano.data.satellite_data\u001b[0m:\u001b[36mdownload_satellite_data\u001b[0m:\u001b[36m380\u001b[0m - \u001b[33m\u001b[1mCould not download 4 image/sample combinations with no data in bounds\u001b[0m\n",
      "\u001b[32m2023-08-11 12:43:48.523\u001b[0m | \u001b[32m\u001b[1mSUCCESS \u001b[0m | \u001b[36mcyano.pipeline\u001b[0m:\u001b[36m_prepare_features\u001b[0m:\u001b[36m74\u001b[0m - \u001b[32m\u001b[1mRaw source data saved to /Users/katewetstone/Repos/cyanobacteria-prediction/data/experiments/cache\u001b[0m\n",
      "\u001b[32m2023-08-11 12:43:48.525\u001b[0m | \u001b[1mINFO    \u001b[0m | \u001b[36mcyano.data.features\u001b[0m:\u001b[36mgenerate_satellite_features\u001b[0m:\u001b[36m109\u001b[0m - \u001b[1mGenerating satellite features for 196 sample/item combos, 38 samples\u001b[0m\n",
      "100%|█████████████████████████████████████████████████████████████████████████████████████| 196/196 [00:02<00:00, 94.35it/s]\n",
      "\u001b[32m2023-08-11 12:43:50.662\u001b[0m | \u001b[1mINFO    \u001b[0m | \u001b[36mcyano.data.features\u001b[0m:\u001b[36mgenerate_features\u001b[0m:\u001b[36m262\u001b[0m - \u001b[1mGenerated 66 satellite features. 38 samples, 192 item / sample combinations.\u001b[0m\n",
      "\u001b[32m2023-08-11 12:43:50.666\u001b[0m | \u001b[1mINFO    \u001b[0m | \u001b[36mcyano.data.features\u001b[0m:\u001b[36mgenerate_features\u001b[0m:\u001b[36m285\u001b[0m - \u001b[1mGenerated 192 metadata features\u001b[0m\n",
      "\u001b[32m2023-08-11 12:43:50.684\u001b[0m | \u001b[32m\u001b[1mSUCCESS \u001b[0m | \u001b[36mcyano.pipeline\u001b[0m:\u001b[36m_prepare_features\u001b[0m:\u001b[36m80\u001b[0m - \u001b[32m\u001b[1m67 features for 38 samples (of 50) saved to /Users/katewetstone/Repos/cyanobacteria-prediction/data/experiments/cache/features_train.csv\u001b[0m\n",
      "\u001b[32m2023-08-11 12:43:50.707\u001b[0m | \u001b[1mINFO    \u001b[0m | \u001b[36mcyano.pipeline\u001b[0m:\u001b[36m_predict_model\u001b[0m:\u001b[36m176\u001b[0m - \u001b[1mGrouping 192 predictions by 38 unique sample IDs\u001b[0m\n",
      "\u001b[32m2023-08-11 12:43:50.710\u001b[0m | \u001b[1mINFO    \u001b[0m | \u001b[36mcyano.pipeline\u001b[0m:\u001b[36m_predict_model\u001b[0m:\u001b[36m184\u001b[0m - \u001b[1mPredicting the mean for 12 samples with no imagery\u001b[0m\n",
      "\u001b[32m2023-08-11 12:43:50.715\u001b[0m | \u001b[32m\u001b[1mSUCCESS \u001b[0m | \u001b[36mcyano.pipeline\u001b[0m:\u001b[36m_write_predictions\u001b[0m:\u001b[36m194\u001b[0m - \u001b[32m\u001b[1mPredictions saved to competition_split_subset/preds.csv\u001b[0m\n",
      "\u001b[32m2023-08-11 12:43:50.949\u001b[0m | \u001b[32m\u001b[1mSUCCESS \u001b[0m | \u001b[36mcyano.experiment.experiment\u001b[0m:\u001b[36mrun_experiment\u001b[0m:\u001b[36m52\u001b[0m - \u001b[32m\u001b[1mWrote out metrics to competition_split_subset/metrics\u001b[0m\n"
     ]
    },
    {
     "data": {
      "image/png": "[encoded data removed]",
      "text/plain": [
       "<Figure size 640x480 with 1 Axes>"
      ]
     },
     "metadata": {},
     "output_type": "display_data"
    }
   ],
   "source": [
    "experiment_save_dir = \"competition_split_subset\"\n",
    "experiment_config = ExperimentConfig(\n",
    "    features_config=features_config,\n",
    "    train_csv=train_sub_path,\n",
    "    predict_csv=test_sub_path,\n",
    "    cache_dir=LOCAL_CACHE_DIR,\n",
    "    save_dir=experiment_save_dir,\n",
    "    debug=False,\n",
    ")\n",
    "\n",
    "experiment_config.run_experiment()"
   ]
  },
  {
   "cell_type": "code",
   "execution_count": 23,
   "id": "51d053b6-0f4e-4fc6-a529-0edf476027d1",
   "metadata": {},
   "outputs": [
    {
     "name": "stderr",
     "output_type": "stream",
     "text": [
      "/opt/anaconda3/envs/cyanobacteria-prediction/lib/python3.10/site-packages/pydantic/_internal/_fields.py:126: UserWarning: Field \"model_training_config\" has conflict with protected namespace \"model_\".\n",
      "\n",
      "You may be able to resolve this warning by setting `model_config['protected_namespaces'] = ()`.\n",
      "  warnings.warn(\n",
      "\u001b[32m2023-08-11 14:09:42.898\u001b[0m | \u001b[1mINFO    \u001b[0m | \u001b[36mcyano.pipeline\u001b[0m:\u001b[36m_prep_train_data\u001b[0m:\u001b[36m49\u001b[0m - \u001b[1mLoaded 50 samples for training\u001b[0m\n",
      "\u001b[32m2023-08-11 14:09:42.899\u001b[0m | \u001b[1mINFO    \u001b[0m | \u001b[36mcyano.data.satellite_data\u001b[0m:\u001b[36mgenerate_candidate_metadata\u001b[0m:\u001b[36m192\u001b[0m - \u001b[1mGenerating metadata for all satellite item candidates\u001b[0m\n",
      "\u001b[32m2023-08-11 14:09:48.286\u001b[0m | \u001b[1mINFO    \u001b[0m | \u001b[36mcyano.data.satellite_data\u001b[0m:\u001b[36mgenerate_candidate_metadata\u001b[0m:\u001b[36m202\u001b[0m - \u001b[1mLoaded 56,173 rows of Sentinel candidate metadata from s3://drivendata-competition-nasa-cyanobacteria/data/interim/full_pc_search\u001b[0m\n",
      "\u001b[32m2023-08-11 14:09:49.309\u001b[0m | \u001b[1mINFO    \u001b[0m | \u001b[36mcyano.data.satellite_data\u001b[0m:\u001b[36midentify_satellite_data\u001b[0m:\u001b[36m297\u001b[0m - \u001b[1mSelecting which items to use for feature generation\u001b[0m\n",
      "100%|██████████████████████████████████████████████████████████████████████████████████████| 50/50 [00:00<00:00, 165.16it/s]\n",
      "\u001b[32m2023-08-11 14:09:49.623\u001b[0m | \u001b[1mINFO    \u001b[0m | \u001b[36mcyano.data.satellite_data\u001b[0m:\u001b[36midentify_satellite_data\u001b[0m:\u001b[36m316\u001b[0m - \u001b[1mIdentified satellite imagery for 34 samples\u001b[0m\n",
      "\u001b[32m2023-08-11 14:09:49.862\u001b[0m | \u001b[1mINFO    \u001b[0m | \u001b[36mcyano.pipeline\u001b[0m:\u001b[36m_prepare_features\u001b[0m:\u001b[36m59\u001b[0m - \u001b[1m117 rows of satellite metadata saved to /Users/katewetstone/Repos/cyanobacteria-prediction/data/experiments/cache/satellite_metadata_train.csv\u001b[0m\n",
      "\u001b[32m2023-08-11 14:09:49.863\u001b[0m | \u001b[1mINFO    \u001b[0m | \u001b[36mcyano.data.satellite_data\u001b[0m:\u001b[36mdownload_satellite_data\u001b[0m:\u001b[36m341\u001b[0m - \u001b[1mDownloading bands ['AOT', 'B01', 'B02', 'B03', 'B04', 'B05', 'B06', 'B07', 'B08', 'B09', 'B11', 'B12', 'B8A', 'SCL', 'WVP']\u001b[0m\n",
      "100%|████████████████████████████████████████████████████████████████████████████████████| 117/117 [00:00<00:00, 620.61it/s]\n",
      "\u001b[32m2023-08-11 14:09:50.055\u001b[0m | \u001b[33m\u001b[1mWARNING \u001b[0m | \u001b[36mcyano.data.satellite_data\u001b[0m:\u001b[36mdownload_satellite_data\u001b[0m:\u001b[36m380\u001b[0m - \u001b[33m\u001b[1mCould not download 4 image/sample combinations with no data in bounds\u001b[0m\n",
      "\u001b[32m2023-08-11 14:09:50.056\u001b[0m | \u001b[32m\u001b[1mSUCCESS \u001b[0m | \u001b[36mcyano.pipeline\u001b[0m:\u001b[36m_prepare_features\u001b[0m:\u001b[36m71\u001b[0m - \u001b[32m\u001b[1mRaw source data saved to /Users/katewetstone/Repos/cyanobacteria-prediction/data/experiments/cache\u001b[0m\n",
      "\u001b[32m2023-08-11 14:09:50.058\u001b[0m | \u001b[1mINFO    \u001b[0m | \u001b[36mcyano.data.features\u001b[0m:\u001b[36mgenerate_satellite_features\u001b[0m:\u001b[36m109\u001b[0m - \u001b[1mGenerating satellite features for 117 sample/item combos, 34 samples\u001b[0m\n",
      "100%|████████████████████████████████████████████████████████████████████████████████████| 117/117 [00:01<00:00, 108.47it/s]\n",
      "\u001b[32m2023-08-11 14:09:51.162\u001b[0m | \u001b[1mINFO    \u001b[0m | \u001b[36mcyano.data.features\u001b[0m:\u001b[36mgenerate_features\u001b[0m:\u001b[36m262\u001b[0m - \u001b[1mGenerated 66 satellite features. 34 samples, 113 item / sample combinations.\u001b[0m\n",
      "\u001b[32m2023-08-11 14:09:51.165\u001b[0m | \u001b[1mINFO    \u001b[0m | \u001b[36mcyano.data.features\u001b[0m:\u001b[36mgenerate_features\u001b[0m:\u001b[36m285\u001b[0m - \u001b[1mGenerated 113 metadata features\u001b[0m\n",
      "\u001b[32m2023-08-11 14:09:51.177\u001b[0m | \u001b[32m\u001b[1mSUCCESS \u001b[0m | \u001b[36mcyano.pipeline\u001b[0m:\u001b[36m_prepare_features\u001b[0m:\u001b[36m77\u001b[0m - \u001b[32m\u001b[1m67 features for 34 samples (of 50) saved to /Users/katewetstone/Repos/cyanobacteria-prediction/data/experiments/cache/features_train.csv\u001b[0m\n",
      "\u001b[32m2023-08-11 14:10:04.000\u001b[0m | \u001b[1mINFO    \u001b[0m | \u001b[36mcyano.pipeline\u001b[0m:\u001b[36m_to_disk\u001b[0m:\u001b[36m102\u001b[0m - \u001b[1mSaving model to competition_split_subset/model.zip\u001b[0m\n",
      "\u001b[32m2023-08-11 14:10:05.544\u001b[0m | \u001b[32m\u001b[1mSUCCESS \u001b[0m | \u001b[36mcyano.experiment.experiment\u001b[0m:\u001b[36mrun_experiment\u001b[0m:\u001b[36m37\u001b[0m - \u001b[32m\u001b[1mWrote out artifact config to competition_split_subset\u001b[0m\n",
      "\u001b[32m2023-08-11 14:10:05.555\u001b[0m | \u001b[1mINFO    \u001b[0m | \u001b[36mcyano.pipeline\u001b[0m:\u001b[36m_prep_predict_data\u001b[0m:\u001b[36m130\u001b[0m - \u001b[1mLoaded 50 samples for prediction\u001b[0m\n",
      "\u001b[32m2023-08-11 14:10:05.557\u001b[0m | \u001b[1mINFO    \u001b[0m | \u001b[36mcyano.data.satellite_data\u001b[0m:\u001b[36mgenerate_candidate_metadata\u001b[0m:\u001b[36m192\u001b[0m - \u001b[1mGenerating metadata for all satellite item candidates\u001b[0m\n",
      "\u001b[32m2023-08-11 14:10:11.006\u001b[0m | \u001b[1mINFO    \u001b[0m | \u001b[36mcyano.data.satellite_data\u001b[0m:\u001b[36mgenerate_candidate_metadata\u001b[0m:\u001b[36m202\u001b[0m - \u001b[1mLoaded 56,173 rows of Sentinel candidate metadata from s3://drivendata-competition-nasa-cyanobacteria/data/interim/full_pc_search\u001b[0m\n",
      "\u001b[32m2023-08-11 14:10:11.972\u001b[0m | \u001b[1mINFO    \u001b[0m | \u001b[36mcyano.data.satellite_data\u001b[0m:\u001b[36midentify_satellite_data\u001b[0m:\u001b[36m297\u001b[0m - \u001b[1mSelecting which items to use for feature generation\u001b[0m\n",
      "100%|██████████████████████████████████████████████████████████████████████████████████████| 50/50 [00:00<00:00, 146.55it/s]\n",
      "\u001b[32m2023-08-11 14:10:12.331\u001b[0m | \u001b[1mINFO    \u001b[0m | \u001b[36mcyano.data.satellite_data\u001b[0m:\u001b[36midentify_satellite_data\u001b[0m:\u001b[36m316\u001b[0m - \u001b[1mIdentified satellite imagery for 38 samples\u001b[0m\n",
      "\u001b[32m2023-08-11 14:10:12.561\u001b[0m | \u001b[1mINFO    \u001b[0m | \u001b[36mcyano.pipeline\u001b[0m:\u001b[36m_prepare_features\u001b[0m:\u001b[36m59\u001b[0m - \u001b[1m196 rows of satellite metadata saved to /Users/katewetstone/Repos/cyanobacteria-prediction/data/experiments/cache/satellite_metadata_train.csv\u001b[0m\n",
      "\u001b[32m2023-08-11 14:10:12.562\u001b[0m | \u001b[1mINFO    \u001b[0m | \u001b[36mcyano.data.satellite_data\u001b[0m:\u001b[36mdownload_satellite_data\u001b[0m:\u001b[36m341\u001b[0m - \u001b[1mDownloading bands ['AOT', 'B01', 'B02', 'B03', 'B04', 'B05', 'B06', 'B07', 'B08', 'B09', 'B11', 'B12', 'B8A', 'SCL', 'WVP']\u001b[0m\n",
      "100%|████████████████████████████████████████████████████████████████████████████████████| 196/196 [00:00<00:00, 836.58it/s]\n",
      "\u001b[32m2023-08-11 14:10:12.799\u001b[0m | \u001b[33m\u001b[1mWARNING \u001b[0m | \u001b[36mcyano.data.satellite_data\u001b[0m:\u001b[36mdownload_satellite_data\u001b[0m:\u001b[36m380\u001b[0m - \u001b[33m\u001b[1mCould not download 4 image/sample combinations with no data in bounds\u001b[0m\n",
      "\u001b[32m2023-08-11 14:10:12.800\u001b[0m | \u001b[32m\u001b[1mSUCCESS \u001b[0m | \u001b[36mcyano.pipeline\u001b[0m:\u001b[36m_prepare_features\u001b[0m:\u001b[36m71\u001b[0m - \u001b[32m\u001b[1mRaw source data saved to /Users/katewetstone/Repos/cyanobacteria-prediction/data/experiments/cache\u001b[0m\n",
      "\u001b[32m2023-08-11 14:10:12.801\u001b[0m | \u001b[1mINFO    \u001b[0m | \u001b[36mcyano.data.features\u001b[0m:\u001b[36mgenerate_satellite_features\u001b[0m:\u001b[36m109\u001b[0m - \u001b[1mGenerating satellite features for 196 sample/item combos, 38 samples\u001b[0m\n",
      "100%|████████████████████████████████████████████████████████████████████████████████████| 196/196 [00:01<00:00, 107.68it/s]\n",
      "\u001b[32m2023-08-11 14:10:14.654\u001b[0m | \u001b[1mINFO    \u001b[0m | \u001b[36mcyano.data.features\u001b[0m:\u001b[36mgenerate_features\u001b[0m:\u001b[36m262\u001b[0m - \u001b[1mGenerated 66 satellite features. 38 samples, 192 item / sample combinations.\u001b[0m\n",
      "\u001b[32m2023-08-11 14:10:14.658\u001b[0m | \u001b[1mINFO    \u001b[0m | \u001b[36mcyano.data.features\u001b[0m:\u001b[36mgenerate_features\u001b[0m:\u001b[36m285\u001b[0m - \u001b[1mGenerated 192 metadata features\u001b[0m\n",
      "\u001b[32m2023-08-11 14:10:14.673\u001b[0m | \u001b[32m\u001b[1mSUCCESS \u001b[0m | \u001b[36mcyano.pipeline\u001b[0m:\u001b[36m_prepare_features\u001b[0m:\u001b[36m77\u001b[0m - \u001b[32m\u001b[1m67 features for 38 samples (of 50) saved to /Users/katewetstone/Repos/cyanobacteria-prediction/data/experiments/cache/features_train.csv\u001b[0m\n",
      "\u001b[32m2023-08-11 14:10:14.912\u001b[0m | \u001b[1mINFO    \u001b[0m | \u001b[36mcyano.pipeline\u001b[0m:\u001b[36m_predict_model\u001b[0m:\u001b[36m146\u001b[0m - \u001b[1mGrouping 192 predictions by 38 unique sample IDs\u001b[0m\n",
      "\u001b[32m2023-08-11 14:10:14.916\u001b[0m | \u001b[1mINFO    \u001b[0m | \u001b[36mcyano.pipeline\u001b[0m:\u001b[36m_predict_model\u001b[0m:\u001b[36m154\u001b[0m - \u001b[1mPredicting the mean for 12 samples with no imagery\u001b[0m\n",
      "\u001b[32m2023-08-11 14:10:14.920\u001b[0m | \u001b[32m\u001b[1mSUCCESS \u001b[0m | \u001b[36mcyano.pipeline\u001b[0m:\u001b[36m_write_predictions\u001b[0m:\u001b[36m164\u001b[0m - \u001b[32m\u001b[1mPredictions saved to competition_split_subset/preds.csv\u001b[0m\n",
      "\u001b[32m2023-08-11 14:10:15.088\u001b[0m | \u001b[32m\u001b[1mSUCCESS \u001b[0m | \u001b[36mcyano.experiment.experiment\u001b[0m:\u001b[36mrun_experiment\u001b[0m:\u001b[36m53\u001b[0m - \u001b[32m\u001b[1mWrote out metrics to competition_split_subset/metrics\u001b[0m\n"
     ]
    },
    {
     "name": "stdout",
     "output_type": "stream",
     "text": [
      "CPU times: user 1min 45s, sys: 4.27 s, total: 1min 49s\n",
      "Wall time: 32.4 s\n"
     ]
    },
    {
     "data": {
      "image/png": "[encoded data removed]",
      "text/plain": [
       "<Figure size 640x480 with 1 Axes>"
      ]
     },
     "metadata": {},
     "output_type": "display_data"
    }
   ],
   "source": [
    "%%time\n",
    "experiment_save_dir = \"competition_split_subset\"\n",
    "experiment_config = ExperimentConfig(\n",
    "    features_config=features_config,\n",
    "    model_training_config=model_config,\n",
    "    train_csv=train_sub_path,\n",
    "    predict_csv=test_sub_path,\n",
    "    cache_dir=LOCAL_CACHE_DIR,\n",
    "    save_dir=experiment_save_dir,\n",
    "    debug=False,\n",
    ")\n",
    "\n",
    "experiment_config.run_experiment()"
   ]
  },
  {
   "cell_type": "code",
   "execution_count": 14,
   "id": "810d93a5-0268-4f28-8849-fe8d3b89348c",
   "metadata": {},
   "outputs": [],
   "source": [
    "trained_pipeline = CyanoModelPipeline.from_disk(\n",
    "    \"competition_split_subset/model.zip\", cache_dir=LOCAL_CACHE_DIR\n",
    ")"
   ]
  },
  {
   "cell_type": "code",
   "execution_count": 24,
   "id": "d01a23e2-c387-4932-a108-7bd0d79772a9",
   "metadata": {},
   "outputs": [
    {
     "data": {
      "text/plain": [
       "True"
      ]
     },
     "execution_count": 24,
     "metadata": {},
     "output_type": "execute_result"
    }
   ],
   "source": [
    "model = trained_pipeline.model\n",
    "type(model) == lgb.Booster"
   ]
  },
  {
   "cell_type": "code",
   "execution_count": 20,
   "id": "30e65365-b52b-4d1b-835b-cb9ccba28564",
   "metadata": {},
   "outputs": [
    {
     "data": {
      "text/html": [
       "<div>\n",
       "<style scoped>\n",
       "    .dataframe tbody tr th:only-of-type {\n",
       "        vertical-align: middle;\n",
       "    }\n",
       "\n",
       "    .dataframe tbody tr th {\n",
       "        vertical-align: top;\n",
       "    }\n",
       "\n",
       "    .dataframe thead th {\n",
       "        text-align: right;\n",
       "    }\n",
       "</style>\n",
       "<table border=\"1\" class=\"dataframe\">\n",
       "  <thead>\n",
       "    <tr style=\"text-align: right;\">\n",
       "      <th></th>\n",
       "      <th>feature</th>\n",
       "      <th>importance_gain</th>\n",
       "      <th>importance_split</th>\n",
       "    </tr>\n",
       "  </thead>\n",
       "  <tbody>\n",
       "    <tr>\n",
       "      <th>0</th>\n",
       "      <td>AOT_mean</td>\n",
       "      <td>1.234578</td>\n",
       "      <td>8133</td>\n",
       "    </tr>\n",
       "    <tr>\n",
       "      <th>1</th>\n",
       "      <td>AOT_min</td>\n",
       "      <td>1.414103</td>\n",
       "      <td>983</td>\n",
       "    </tr>\n",
       "    <tr>\n",
       "      <th>2</th>\n",
       "      <td>AOT_max</td>\n",
       "      <td>0.000000</td>\n",
       "      <td>0</td>\n",
       "    </tr>\n",
       "    <tr>\n",
       "      <th>3</th>\n",
       "      <td>AOT_range</td>\n",
       "      <td>0.181301</td>\n",
       "      <td>790</td>\n",
       "    </tr>\n",
       "    <tr>\n",
       "      <th>4</th>\n",
       "      <td>B01_mean</td>\n",
       "      <td>0.203065</td>\n",
       "      <td>2094</td>\n",
       "    </tr>\n",
       "  </tbody>\n",
       "</table>\n",
       "</div>"
      ],
      "text/plain": [
       "     feature  importance_gain  importance_split\n",
       "0   AOT_mean         1.234578              8133\n",
       "1    AOT_min         1.414103               983\n",
       "2    AOT_max         0.000000                 0\n",
       "3  AOT_range         0.181301               790\n",
       "4   B01_mean         0.203065              2094"
      ]
     },
     "execution_count": 20,
     "metadata": {},
     "output_type": "execute_result"
    }
   ],
   "source": [
    "ft_importance = pd.DataFrame(\n",
    "    {\n",
    "        \"feature\": model.feature_name(),\n",
    "        \"importance_gain\": model.feature_importance(importance_type=\"gain\"),\n",
    "        \"importance_split\": model.feature_importance(importance_type=\"split\"),\n",
    "    }\n",
    ")\n",
    "ft_importance.head()"
   ]
  },
  {
   "cell_type": "code",
   "execution_count": 22,
   "id": "3a14edc2-ab76-409e-a25c-53a425d3e236",
   "metadata": {},
   "outputs": [
    {
     "data": {
      "text/html": [
       "<div>\n",
       "<style scoped>\n",
       "    .dataframe tbody tr th:only-of-type {\n",
       "        vertical-align: middle;\n",
       "    }\n",
       "\n",
       "    .dataframe tbody tr th {\n",
       "        vertical-align: top;\n",
       "    }\n",
       "\n",
       "    .dataframe thead th {\n",
       "        text-align: right;\n",
       "    }\n",
       "</style>\n",
       "<table border=\"1\" class=\"dataframe\">\n",
       "  <thead>\n",
       "    <tr style=\"text-align: right;\">\n",
       "      <th></th>\n",
       "      <th>feature</th>\n",
       "      <th>importance_gain</th>\n",
       "      <th>importance_split</th>\n",
       "    </tr>\n",
       "  </thead>\n",
       "  <tbody>\n",
       "    <tr>\n",
       "      <th>66</th>\n",
       "      <td>rounded_longitude</td>\n",
       "      <td>642.707034</td>\n",
       "      <td>6406</td>\n",
       "    </tr>\n",
       "    <tr>\n",
       "      <th>39</th>\n",
       "      <td>B09_range</td>\n",
       "      <td>34.853093</td>\n",
       "      <td>3248</td>\n",
       "    </tr>\n",
       "    <tr>\n",
       "      <th>9</th>\n",
       "      <td>B02_min</td>\n",
       "      <td>19.558242</td>\n",
       "      <td>3034</td>\n",
       "    </tr>\n",
       "    <tr>\n",
       "      <th>45</th>\n",
       "      <td>B12_min</td>\n",
       "      <td>18.501496</td>\n",
       "      <td>5684</td>\n",
       "    </tr>\n",
       "    <tr>\n",
       "      <th>15</th>\n",
       "      <td>B03_range</td>\n",
       "      <td>15.679932</td>\n",
       "      <td>1322</td>\n",
       "    </tr>\n",
       "    <tr>\n",
       "      <th>65</th>\n",
       "      <td>days_before_sample</td>\n",
       "      <td>15.201443</td>\n",
       "      <td>40259</td>\n",
       "    </tr>\n",
       "    <tr>\n",
       "      <th>63</th>\n",
       "      <td>NDVI_B07</td>\n",
       "      <td>14.334613</td>\n",
       "      <td>6564</td>\n",
       "    </tr>\n",
       "    <tr>\n",
       "      <th>62</th>\n",
       "      <td>NDVI_B06</td>\n",
       "      <td>12.153718</td>\n",
       "      <td>2849</td>\n",
       "    </tr>\n",
       "    <tr>\n",
       "      <th>60</th>\n",
       "      <td>NDVI_B04</td>\n",
       "      <td>12.086767</td>\n",
       "      <td>56722</td>\n",
       "    </tr>\n",
       "    <tr>\n",
       "      <th>55</th>\n",
       "      <td>SCL_range</td>\n",
       "      <td>11.282717</td>\n",
       "      <td>739</td>\n",
       "    </tr>\n",
       "  </tbody>\n",
       "</table>\n",
       "</div>"
      ],
      "text/plain": [
       "               feature  importance_gain  importance_split\n",
       "66   rounded_longitude       642.707034              6406\n",
       "39           B09_range        34.853093              3248\n",
       "9              B02_min        19.558242              3034\n",
       "45             B12_min        18.501496              5684\n",
       "15           B03_range        15.679932              1322\n",
       "65  days_before_sample        15.201443             40259\n",
       "63            NDVI_B07        14.334613              6564\n",
       "62            NDVI_B06        12.153718              2849\n",
       "60            NDVI_B04        12.086767             56722\n",
       "55           SCL_range        11.282717               739"
      ]
     },
     "execution_count": 22,
     "metadata": {},
     "output_type": "execute_result"
    }
   ],
   "source": [
    "ft_importance.sort_values(by=\"importance_gain\", ascending=False).head(10)"
   ]
  },
  {
   "cell_type": "code",
   "execution_count": null,
   "id": "cc3a0d44-c7b4-4707-9a90-ccd7166d2148",
   "metadata": {},
   "outputs": [],
   "source": [
    "# load model from disk\n"
   ]
  },
  {
   "cell_type": "code",
   "execution_count": null,
   "id": "585b96b6-7bfd-4b9e-a501-740166525b2d",
   "metadata": {},
   "outputs": [],
   "source": [
    "trained_pipeline = CyanoModelPipeline(features_config=features_config,\n",
    "                                      model_training_config=model_config,\n",
    "                                      cache_dir=LOCAL_CACHE_DIR,\n",
    "                                      model=\n",
    "                                      "
   ]
  },
  {
   "cell_type": "markdown",
   "id": "129f3ccd-b350-4afd-8e0a-4bbd2da84fa7",
   "metadata": {
    "jp-MarkdownHeadingCollapsed": true,
    "tags": []
   },
   "source": [
    "## Training"
   ]
  },
  {
   "cell_type": "code",
   "execution_count": 159,
   "id": "51fe1d06-e0f3-45a3-99d2-cbc48cc399e8",
   "metadata": {},
   "outputs": [],
   "source": [
    "TEST_ASSETS_DIR = REPO_ROOT.parent / \"tests/assets\""
   ]
  },
  {
   "cell_type": "code",
   "execution_count": 160,
   "id": "11923bf9-2963-4b60-b7a4-0426c37081d8",
   "metadata": {},
   "outputs": [
    {
     "name": "stderr",
     "output_type": "stream",
     "text": [
      "\u001b[32m2023-08-11 10:53:41.975\u001b[0m | \u001b[1mINFO    \u001b[0m | \u001b[36mcyano.pipeline\u001b[0m:\u001b[36m_prep_train_data\u001b[0m:\u001b[36m52\u001b[0m - \u001b[1mLoaded 5 samples for training\u001b[0m\n",
      "\u001b[32m2023-08-11 10:53:41.976\u001b[0m | \u001b[1mINFO    \u001b[0m | \u001b[36mcyano.data.satellite_data\u001b[0m:\u001b[36mgenerate_candidate_metadata\u001b[0m:\u001b[36m192\u001b[0m - \u001b[1mGenerating metadata for all satellite item candidates\u001b[0m\n",
      "\u001b[32m2023-08-11 10:53:41.978\u001b[0m | \u001b[1mINFO    \u001b[0m | \u001b[36mcyano.data.satellite_data\u001b[0m:\u001b[36mgenerate_candidate_metadata\u001b[0m:\u001b[36m211\u001b[0m - \u001b[1mSearching ['sentinel-2-l2a'] within 15 days and 5000 meters\u001b[0m\n",
      "100%|█████████████████████████████████████████████████████████████████████████████████████████| 5/5 [00:14<00:00,  2.96s/it]\n",
      "\u001b[32m2023-08-11 10:53:56.790\u001b[0m | \u001b[1mINFO    \u001b[0m | \u001b[36mcyano.data.satellite_data\u001b[0m:\u001b[36mgenerate_candidate_metadata\u001b[0m:\u001b[36m241\u001b[0m - \u001b[1mGenerated metadata for 4 Sentinel item candidates\u001b[0m\n",
      "\u001b[32m2023-08-11 10:53:56.792\u001b[0m | \u001b[1mINFO    \u001b[0m | \u001b[36mcyano.data.satellite_data\u001b[0m:\u001b[36midentify_satellite_data\u001b[0m:\u001b[36m297\u001b[0m - \u001b[1mSelecting which items to use for feature generation\u001b[0m\n",
      "100%|████████████████████████████████████████████████████████████████████████████████████████| 5/5 [00:00<00:00, 363.92it/s]\n",
      "\u001b[32m2023-08-11 10:53:56.814\u001b[0m | \u001b[1mINFO    \u001b[0m | \u001b[36mcyano.data.satellite_data\u001b[0m:\u001b[36midentify_satellite_data\u001b[0m:\u001b[36m316\u001b[0m - \u001b[1mIdentified satellite imagery for 2 samples\u001b[0m\n",
      "\u001b[32m2023-08-11 10:53:56.817\u001b[0m | \u001b[1mINFO    \u001b[0m | \u001b[36mcyano.pipeline\u001b[0m:\u001b[36m_prepare_features\u001b[0m:\u001b[36m62\u001b[0m - \u001b[1m4 rows of satellite metadata saved to /Users/katewetstone/Repos/cyanobacteria-prediction/data/experiments/cache/satellite_metadata_train.csv\u001b[0m\n",
      "\u001b[32m2023-08-11 10:53:56.818\u001b[0m | \u001b[1mINFO    \u001b[0m | \u001b[36mcyano.data.satellite_data\u001b[0m:\u001b[36mdownload_satellite_data\u001b[0m:\u001b[36m341\u001b[0m - \u001b[1mDownloading bands ['AOT', 'B01', 'B02', 'B03', 'B04', 'B05', 'B06', 'B07', 'B08', 'B09', 'B11', 'B12', 'B8A', 'SCL', 'WVP']\u001b[0m\n",
      "100%|████████████████████████████████████████████████████████████████████████████████████████| 4/4 [00:00<00:00, 448.03it/s]\n",
      "\u001b[32m2023-08-11 10:53:56.829\u001b[0m | \u001b[32m\u001b[1mSUCCESS \u001b[0m | \u001b[36mcyano.pipeline\u001b[0m:\u001b[36m_prepare_features\u001b[0m:\u001b[36m74\u001b[0m - \u001b[32m\u001b[1mRaw source data saved to /Users/katewetstone/Repos/cyanobacteria-prediction/data/experiments/cache\u001b[0m\n",
      "\u001b[32m2023-08-11 10:53:56.831\u001b[0m | \u001b[1mINFO    \u001b[0m | \u001b[36mcyano.data.features\u001b[0m:\u001b[36mgenerate_satellite_features\u001b[0m:\u001b[36m109\u001b[0m - \u001b[1mGenerating satellite features for 4 sample/item combos, 2 samples\u001b[0m\n",
      "100%|█████████████████████████████████████████████████████████████████████████████████████████| 4/4 [00:00<00:00, 48.32it/s]\n",
      "\u001b[32m2023-08-11 10:53:56.928\u001b[0m | \u001b[1mINFO    \u001b[0m | \u001b[36mcyano.data.features\u001b[0m:\u001b[36mgenerate_features\u001b[0m:\u001b[36m262\u001b[0m - \u001b[1mGenerated 66 satellite features. 2 samples, 4 item / sample combinations.\u001b[0m\n",
      "\u001b[32m2023-08-11 10:53:56.931\u001b[0m | \u001b[1mINFO    \u001b[0m | \u001b[36mcyano.data.features\u001b[0m:\u001b[36mgenerate_features\u001b[0m:\u001b[36m285\u001b[0m - \u001b[1mGenerated 4 metadata features\u001b[0m\n",
      "\u001b[32m2023-08-11 10:53:56.936\u001b[0m | \u001b[32m\u001b[1mSUCCESS \u001b[0m | \u001b[36mcyano.pipeline\u001b[0m:\u001b[36m_prepare_features\u001b[0m:\u001b[36m80\u001b[0m - \u001b[32m\u001b[1m67 features for 2 samples (of 5) saved to /Users/katewetstone/Repos/cyanobacteria-prediction/data/experiments/cache/features_train.csv\u001b[0m\n",
      "\u001b[32m2023-08-11 10:53:57.911\u001b[0m | \u001b[1mINFO    \u001b[0m | \u001b[36mcyano.pipeline\u001b[0m:\u001b[36m_to_disk\u001b[0m:\u001b[36m142\u001b[0m - \u001b[1mSaving model to /tmp/model.zip\u001b[0m\n"
     ]
    }
   ],
   "source": [
    "pipeline = CyanoModelPipeline(\n",
    "    features_config=features_config,\n",
    "    model_training_config=model_config,\n",
    "    cache_dir=LOCAL_CACHE_DIR,\n",
    ")\n",
    "pipeline.run_training(TEST_ASSETS_DIR / \"train_data.csv\", save_path=\"/tmp/model.zip\")"
   ]
  },
  {
   "cell_type": "code",
   "execution_count": 140,
   "id": "e17e3471-a10e-4045-86bf-4fa9a8087444",
   "metadata": {},
   "outputs": [
    {
     "data": {
      "text/html": [
       "<div>\n",
       "<style scoped>\n",
       "    .dataframe tbody tr th:only-of-type {\n",
       "        vertical-align: middle;\n",
       "    }\n",
       "\n",
       "    .dataframe tbody tr th {\n",
       "        vertical-align: top;\n",
       "    }\n",
       "\n",
       "    .dataframe thead th {\n",
       "        text-align: right;\n",
       "    }\n",
       "</style>\n",
       "<table border=\"1\" class=\"dataframe\">\n",
       "  <thead>\n",
       "    <tr style=\"text-align: right;\">\n",
       "      <th></th>\n",
       "      <th>date</th>\n",
       "      <th>latitude</th>\n",
       "      <th>longitude</th>\n",
       "      <th>severity</th>\n",
       "      <th>region</th>\n",
       "    </tr>\n",
       "    <tr>\n",
       "      <th>uid</th>\n",
       "      <th></th>\n",
       "      <th></th>\n",
       "      <th></th>\n",
       "      <th></th>\n",
       "      <th></th>\n",
       "    </tr>\n",
       "  </thead>\n",
       "  <tbody>\n",
       "    <tr>\n",
       "      <th>e3ebefd90a00c3cc9f5aeaf32cd4c184</th>\n",
       "      <td>2015-06-29</td>\n",
       "      <td>41.424144</td>\n",
       "      <td>-73.206937</td>\n",
       "      <td>1</td>\n",
       "      <td>south</td>\n",
       "    </tr>\n",
       "    <tr>\n",
       "      <th>671520fa92f555ab335e0cfa888c57e7</th>\n",
       "      <td>2013-07-25</td>\n",
       "      <td>36.045000</td>\n",
       "      <td>-79.091942</td>\n",
       "      <td>1</td>\n",
       "      <td>south</td>\n",
       "    </tr>\n",
       "    <tr>\n",
       "      <th>9c601f226c2af07d570134127a7fda27</th>\n",
       "      <td>2017-08-21</td>\n",
       "      <td>35.884524</td>\n",
       "      <td>-78.953997</td>\n",
       "      <td>3</td>\n",
       "      <td>south</td>\n",
       "    </tr>\n",
       "    <tr>\n",
       "      <th>3a2c48812b551d720f8d56772efa6df1</th>\n",
       "      <td>2019-08-28</td>\n",
       "      <td>41.392490</td>\n",
       "      <td>-75.360700</td>\n",
       "      <td>2</td>\n",
       "      <td>south</td>\n",
       "    </tr>\n",
       "    <tr>\n",
       "      <th>2543db364f727f17fe4ce7881aa180da</th>\n",
       "      <td>2013-07-11</td>\n",
       "      <td>38.305600</td>\n",
       "      <td>-122.026000</td>\n",
       "      <td>4</td>\n",
       "      <td>south</td>\n",
       "    </tr>\n",
       "  </tbody>\n",
       "</table>\n",
       "</div>"
      ],
      "text/plain": [
       "                                        date   latitude   longitude  severity  \\\n",
       "uid                                                                             \n",
       "e3ebefd90a00c3cc9f5aeaf32cd4c184  2015-06-29  41.424144  -73.206937         1   \n",
       "671520fa92f555ab335e0cfa888c57e7  2013-07-25  36.045000  -79.091942         1   \n",
       "9c601f226c2af07d570134127a7fda27  2017-08-21  35.884524  -78.953997         3   \n",
       "3a2c48812b551d720f8d56772efa6df1  2019-08-28  41.392490  -75.360700         2   \n",
       "2543db364f727f17fe4ce7881aa180da  2013-07-11  38.305600 -122.026000         4   \n",
       "\n",
       "                                 region  \n",
       "uid                                      \n",
       "e3ebefd90a00c3cc9f5aeaf32cd4c184  south  \n",
       "671520fa92f555ab335e0cfa888c57e7  south  \n",
       "9c601f226c2af07d570134127a7fda27  south  \n",
       "3a2c48812b551d720f8d56772efa6df1  south  \n",
       "2543db364f727f17fe4ce7881aa180da  south  "
      ]
     },
     "execution_count": 140,
     "metadata": {},
     "output_type": "execute_result"
    }
   ],
   "source": [
    "pipeline.train_samples[\"region\"] = [\"south\", \"south\", \"south\", \"south\", \"south\"]\n",
    "pipeline.train_samples"
   ]
  },
  {
   "cell_type": "code",
   "execution_count": 141,
   "id": "2b6cc0d4-d638-4290-a6a2-e0be038734f3",
   "metadata": {},
   "outputs": [
    {
     "data": {
      "text/html": [
       "<div>\n",
       "<style scoped>\n",
       "    .dataframe tbody tr th:only-of-type {\n",
       "        vertical-align: middle;\n",
       "    }\n",
       "\n",
       "    .dataframe tbody tr th {\n",
       "        vertical-align: top;\n",
       "    }\n",
       "\n",
       "    .dataframe thead th {\n",
       "        text-align: right;\n",
       "    }\n",
       "</style>\n",
       "<table border=\"1\" class=\"dataframe\">\n",
       "  <thead>\n",
       "    <tr style=\"text-align: right;\">\n",
       "      <th></th>\n",
       "      <th>AOT_mean</th>\n",
       "      <th>AOT_min</th>\n",
       "      <th>AOT_max</th>\n",
       "      <th>AOT_range</th>\n",
       "      <th>B01_mean</th>\n",
       "      <th>B01_min</th>\n",
       "      <th>B01_max</th>\n",
       "      <th>B01_range</th>\n",
       "      <th>B02_mean</th>\n",
       "      <th>B02_min</th>\n",
       "      <th>...</th>\n",
       "      <th>WVP_max</th>\n",
       "      <th>WVP_range</th>\n",
       "      <th>NDVI_B04</th>\n",
       "      <th>NDVI_B05</th>\n",
       "      <th>NDVI_B06</th>\n",
       "      <th>NDVI_B07</th>\n",
       "      <th>month</th>\n",
       "      <th>days_before_sample</th>\n",
       "      <th>rounded_longitude</th>\n",
       "      <th>fold</th>\n",
       "    </tr>\n",
       "    <tr>\n",
       "      <th>sample_id</th>\n",
       "      <th></th>\n",
       "      <th></th>\n",
       "      <th></th>\n",
       "      <th></th>\n",
       "      <th></th>\n",
       "      <th></th>\n",
       "      <th></th>\n",
       "      <th></th>\n",
       "      <th></th>\n",
       "      <th></th>\n",
       "      <th></th>\n",
       "      <th></th>\n",
       "      <th></th>\n",
       "      <th></th>\n",
       "      <th></th>\n",
       "      <th></th>\n",
       "      <th></th>\n",
       "      <th></th>\n",
       "      <th></th>\n",
       "      <th></th>\n",
       "      <th></th>\n",
       "    </tr>\n",
       "  </thead>\n",
       "  <tbody>\n",
       "    <tr>\n",
       "      <th>9c601f226c2af07d570134127a7fda27</th>\n",
       "      <td>0.000000</td>\n",
       "      <td>0.0</td>\n",
       "      <td>0.0</td>\n",
       "      <td>0.0</td>\n",
       "      <td>0.000000</td>\n",
       "      <td>0.0</td>\n",
       "      <td>0.0</td>\n",
       "      <td>0.0</td>\n",
       "      <td>0.000000</td>\n",
       "      <td>0.0</td>\n",
       "      <td>...</td>\n",
       "      <td>0.0</td>\n",
       "      <td>0.0</td>\n",
       "      <td>0.000000</td>\n",
       "      <td>0.000000</td>\n",
       "      <td>0.000000</td>\n",
       "      <td>0.000000</td>\n",
       "      <td>8.0</td>\n",
       "      <td>4.0</td>\n",
       "      <td>-8.0</td>\n",
       "      <td>-1</td>\n",
       "    </tr>\n",
       "    <tr>\n",
       "      <th>9c601f226c2af07d570134127a7fda27</th>\n",
       "      <td>95.586168</td>\n",
       "      <td>95.0</td>\n",
       "      <td>96.0</td>\n",
       "      <td>1.0</td>\n",
       "      <td>4452.640625</td>\n",
       "      <td>3186.0</td>\n",
       "      <td>7687.0</td>\n",
       "      <td>4501.0</td>\n",
       "      <td>4323.993197</td>\n",
       "      <td>2168.0</td>\n",
       "      <td>...</td>\n",
       "      <td>4300.0</td>\n",
       "      <td>3162.0</td>\n",
       "      <td>0.121759</td>\n",
       "      <td>0.054942</td>\n",
       "      <td>0.017671</td>\n",
       "      <td>-0.007689</td>\n",
       "      <td>8.0</td>\n",
       "      <td>9.0</td>\n",
       "      <td>-8.0</td>\n",
       "      <td>-1</td>\n",
       "    </tr>\n",
       "    <tr>\n",
       "      <th>3a2c48812b551d720f8d56772efa6df1</th>\n",
       "      <td>129.913742</td>\n",
       "      <td>129.0</td>\n",
       "      <td>130.0</td>\n",
       "      <td>1.0</td>\n",
       "      <td>12258.953125</td>\n",
       "      <td>11413.0</td>\n",
       "      <td>13228.0</td>\n",
       "      <td>1815.0</td>\n",
       "      <td>11568.770970</td>\n",
       "      <td>10448.0</td>\n",
       "      <td>...</td>\n",
       "      <td>2934.0</td>\n",
       "      <td>0.0</td>\n",
       "      <td>-0.025785</td>\n",
       "      <td>-0.044395</td>\n",
       "      <td>-0.024266</td>\n",
       "      <td>-0.018886</td>\n",
       "      <td>8.0</td>\n",
       "      <td>14.0</td>\n",
       "      <td>-8.0</td>\n",
       "      <td>-1</td>\n",
       "    </tr>\n",
       "    <tr>\n",
       "      <th>3a2c48812b551d720f8d56772efa6df1</th>\n",
       "      <td>96.000000</td>\n",
       "      <td>96.0</td>\n",
       "      <td>96.0</td>\n",
       "      <td>0.0</td>\n",
       "      <td>289.156250</td>\n",
       "      <td>245.0</td>\n",
       "      <td>402.0</td>\n",
       "      <td>157.0</td>\n",
       "      <td>271.728138</td>\n",
       "      <td>189.0</td>\n",
       "      <td>...</td>\n",
       "      <td>1659.0</td>\n",
       "      <td>762.0</td>\n",
       "      <td>0.736759</td>\n",
       "      <td>0.519615</td>\n",
       "      <td>0.102936</td>\n",
       "      <td>0.021354</td>\n",
       "      <td>8.0</td>\n",
       "      <td>4.0</td>\n",
       "      <td>-8.0</td>\n",
       "      <td>-1</td>\n",
       "    </tr>\n",
       "    <tr>\n",
       "      <th>3a2c48812b551d720f8d56772efa6df1</th>\n",
       "      <td>151.995241</td>\n",
       "      <td>151.0</td>\n",
       "      <td>152.0</td>\n",
       "      <td>1.0</td>\n",
       "      <td>678.109375</td>\n",
       "      <td>241.0</td>\n",
       "      <td>1528.0</td>\n",
       "      <td>1287.0</td>\n",
       "      <td>728.650208</td>\n",
       "      <td>275.0</td>\n",
       "      <td>...</td>\n",
       "      <td>3353.0</td>\n",
       "      <td>1682.0</td>\n",
       "      <td>0.543555</td>\n",
       "      <td>0.382714</td>\n",
       "      <td>0.096019</td>\n",
       "      <td>0.013761</td>\n",
       "      <td>8.0</td>\n",
       "      <td>9.0</td>\n",
       "      <td>-8.0</td>\n",
       "      <td>-1</td>\n",
       "    </tr>\n",
       "  </tbody>\n",
       "</table>\n",
       "<p>5 rows × 68 columns</p>\n",
       "</div>"
      ],
      "text/plain": [
       "                                    AOT_mean  AOT_min  AOT_max  AOT_range  \\\n",
       "sample_id                                                                   \n",
       "9c601f226c2af07d570134127a7fda27    0.000000      0.0      0.0        0.0   \n",
       "9c601f226c2af07d570134127a7fda27   95.586168     95.0     96.0        1.0   \n",
       "3a2c48812b551d720f8d56772efa6df1  129.913742    129.0    130.0        1.0   \n",
       "3a2c48812b551d720f8d56772efa6df1   96.000000     96.0     96.0        0.0   \n",
       "3a2c48812b551d720f8d56772efa6df1  151.995241    151.0    152.0        1.0   \n",
       "\n",
       "                                      B01_mean  B01_min  B01_max  B01_range  \\\n",
       "sample_id                                                                     \n",
       "9c601f226c2af07d570134127a7fda27      0.000000      0.0      0.0        0.0   \n",
       "9c601f226c2af07d570134127a7fda27   4452.640625   3186.0   7687.0     4501.0   \n",
       "3a2c48812b551d720f8d56772efa6df1  12258.953125  11413.0  13228.0     1815.0   \n",
       "3a2c48812b551d720f8d56772efa6df1    289.156250    245.0    402.0      157.0   \n",
       "3a2c48812b551d720f8d56772efa6df1    678.109375    241.0   1528.0     1287.0   \n",
       "\n",
       "                                      B02_mean  B02_min  ...  WVP_max  \\\n",
       "sample_id                                                ...            \n",
       "9c601f226c2af07d570134127a7fda27      0.000000      0.0  ...      0.0   \n",
       "9c601f226c2af07d570134127a7fda27   4323.993197   2168.0  ...   4300.0   \n",
       "3a2c48812b551d720f8d56772efa6df1  11568.770970  10448.0  ...   2934.0   \n",
       "3a2c48812b551d720f8d56772efa6df1    271.728138    189.0  ...   1659.0   \n",
       "3a2c48812b551d720f8d56772efa6df1    728.650208    275.0  ...   3353.0   \n",
       "\n",
       "                                  WVP_range  NDVI_B04  NDVI_B05  NDVI_B06  \\\n",
       "sample_id                                                                   \n",
       "9c601f226c2af07d570134127a7fda27        0.0  0.000000  0.000000  0.000000   \n",
       "9c601f226c2af07d570134127a7fda27     3162.0  0.121759  0.054942  0.017671   \n",
       "3a2c48812b551d720f8d56772efa6df1        0.0 -0.025785 -0.044395 -0.024266   \n",
       "3a2c48812b551d720f8d56772efa6df1      762.0  0.736759  0.519615  0.102936   \n",
       "3a2c48812b551d720f8d56772efa6df1     1682.0  0.543555  0.382714  0.096019   \n",
       "\n",
       "                                  NDVI_B07  month  days_before_sample  \\\n",
       "sample_id                                                               \n",
       "9c601f226c2af07d570134127a7fda27  0.000000    8.0                 4.0   \n",
       "9c601f226c2af07d570134127a7fda27 -0.007689    8.0                 9.0   \n",
       "3a2c48812b551d720f8d56772efa6df1 -0.018886    8.0                14.0   \n",
       "3a2c48812b551d720f8d56772efa6df1  0.021354    8.0                 4.0   \n",
       "3a2c48812b551d720f8d56772efa6df1  0.013761    8.0                 9.0   \n",
       "\n",
       "                                  rounded_longitude  fold  \n",
       "sample_id                                                  \n",
       "9c601f226c2af07d570134127a7fda27               -8.0    -1  \n",
       "9c601f226c2af07d570134127a7fda27               -8.0    -1  \n",
       "3a2c48812b551d720f8d56772efa6df1               -8.0    -1  \n",
       "3a2c48812b551d720f8d56772efa6df1               -8.0    -1  \n",
       "3a2c48812b551d720f8d56772efa6df1               -8.0    -1  \n",
       "\n",
       "[5 rows x 68 columns]"
      ]
     },
     "execution_count": 141,
     "metadata": {},
     "output_type": "execute_result"
    }
   ],
   "source": [
    "pipeline.train_features"
   ]
  },
  {
   "cell_type": "code",
   "execution_count": 142,
   "id": "5a03f7b1-be8c-4017-bada-78edac4e4700",
   "metadata": {},
   "outputs": [
    {
     "data": {
      "text/plain": [
       "uid\n",
       "e3ebefd90a00c3cc9f5aeaf32cd4c184    1\n",
       "671520fa92f555ab335e0cfa888c57e7    1\n",
       "9c601f226c2af07d570134127a7fda27    3\n",
       "3a2c48812b551d720f8d56772efa6df1    2\n",
       "2543db364f727f17fe4ce7881aa180da    4\n",
       "Name: severity, dtype: int64"
      ]
     },
     "execution_count": 142,
     "metadata": {},
     "output_type": "execute_result"
    }
   ],
   "source": [
    "pipeline.train_labels"
   ]
  },
  {
   "cell_type": "code",
   "execution_count": 60,
   "id": "f2366321-b07b-4208-8fac-0e1b3a0717e1",
   "metadata": {},
   "outputs": [],
   "source": [
    "lgb_data = lgb.Dataset(\n",
    "    pipeline.train_features,\n",
    "    label=pipeline.train_labels.loc[pipeline.train_features.index],\n",
    ")"
   ]
  },
  {
   "cell_type": "code",
   "execution_count": null,
   "id": "f0d5728f-dc6c-4794-bb23-6f6885dc367c",
   "metadata": {},
   "outputs": [],
   "source": [
    "model = lgb.train(\n",
    "    pipeline.model_training_config.params.model_dump(),\n",
    "    lgb_data,\n",
    "    num_boost_round=pipeline.model_training_config.num_boost_round,\n",
    ")"
   ]
  },
  {
   "cell_type": "markdown",
   "id": "9fa73b1f-1631-4740-8f33-4d9f36509409",
   "metadata": {},
   "source": [
    "## Parallelize downloads"
   ]
  },
  {
   "cell_type": "code",
   "execution_count": 8,
   "id": "5ce26cc1-9a3f-4716-9217-28536588dbc9",
   "metadata": {},
   "outputs": [],
   "source": [
    "pipeline = CyanoModelPipeline(\n",
    "    features_config=features_config,\n",
    "    model_training_config=model_config,\n",
    "    cache_dir=LOCAL_CACHE_DIR,\n",
    ")"
   ]
  },
  {
   "cell_type": "code",
   "execution_count": 9,
   "id": "32a524eb-fb02-4f21-a6ea-06b44df7d08b",
   "metadata": {},
   "outputs": [
    {
     "name": "stderr",
     "output_type": "stream",
     "text": [
      "\u001b[32m2023-08-11 15:15:25.281\u001b[0m | \u001b[1mINFO    \u001b[0m | \u001b[36mcyano.pipeline\u001b[0m:\u001b[36m_prep_train_data\u001b[0m:\u001b[36m49\u001b[0m - \u001b[1mLoaded 5 samples for training\u001b[0m\n"
     ]
    }
   ],
   "source": [
    "pipeline._prep_train_data(TEST_ASSETS_DIR / \"train_data.csv\")"
   ]
  },
  {
   "cell_type": "markdown",
   "id": "b178c169-254e-4ed4-8f63-9faee5daea80",
   "metadata": {},
   "source": [
    "***"
   ]
  },
  {
   "cell_type": "code",
   "execution_count": 10,
   "id": "b9fbbd0f-52aa-482c-87f1-1098a179557d",
   "metadata": {},
   "outputs": [
    {
     "name": "stderr",
     "output_type": "stream",
     "text": [
      "\u001b[32m2023-08-11 15:15:48.319\u001b[0m | \u001b[1mINFO    \u001b[0m | \u001b[36mcyano.data.satellite_data\u001b[0m:\u001b[36mgenerate_candidate_metadata\u001b[0m:\u001b[36m194\u001b[0m - \u001b[1mGenerating metadata for all satellite item candidates\u001b[0m\n",
      "\u001b[32m2023-08-11 15:15:48.320\u001b[0m | \u001b[1mINFO    \u001b[0m | \u001b[36mcyano.data.satellite_data\u001b[0m:\u001b[36mgenerate_candidate_metadata\u001b[0m:\u001b[36m213\u001b[0m - \u001b[1mSearching ['sentinel-2-l2a'] within 15 days and 5000 meters\u001b[0m\n",
      "100%|█████████████████████████████████████████████████████████████████████| 5/5 [00:03<00:00,  1.42it/s]\n",
      "\u001b[32m2023-08-11 15:15:51.886\u001b[0m | \u001b[1mINFO    \u001b[0m | \u001b[36mcyano.data.satellite_data\u001b[0m:\u001b[36mgenerate_candidate_metadata\u001b[0m:\u001b[36m243\u001b[0m - \u001b[1mGenerated metadata for 4 Sentinel item candidates\u001b[0m\n",
      "\u001b[32m2023-08-11 15:15:51.888\u001b[0m | \u001b[1mINFO    \u001b[0m | \u001b[36mcyano.data.satellite_data\u001b[0m:\u001b[36midentify_satellite_data\u001b[0m:\u001b[36m299\u001b[0m - \u001b[1mSelecting which items to use for feature generation\u001b[0m\n",
      "100%|████████████████████████████████████████████████████████████████████| 5/5 [00:00<00:00, 320.39it/s]\n",
      "\u001b[32m2023-08-11 15:15:51.911\u001b[0m | \u001b[1mINFO    \u001b[0m | \u001b[36mcyano.data.satellite_data\u001b[0m:\u001b[36midentify_satellite_data\u001b[0m:\u001b[36m318\u001b[0m - \u001b[1mIdentified satellite imagery for 2 samples\u001b[0m\n"
     ]
    },
    {
     "data": {
      "text/plain": [
       "(4, 25)"
      ]
     },
     "execution_count": 10,
     "metadata": {},
     "output_type": "execute_result"
    }
   ],
   "source": [
    "sat_meta = identify_satellite_data(pipeline.train_samples, pipeline.features_config)\n",
    "sat_meta.shape"
   ]
  },
  {
   "cell_type": "code",
   "execution_count": 11,
   "id": "bc3f635d-0934-4b43-a403-54496a4c9f9f",
   "metadata": {},
   "outputs": [
    {
     "data": {
      "text/html": [
       "<div>\n",
       "<style scoped>\n",
       "    .dataframe tbody tr th:only-of-type {\n",
       "        vertical-align: middle;\n",
       "    }\n",
       "\n",
       "    .dataframe tbody tr th {\n",
       "        vertical-align: top;\n",
       "    }\n",
       "\n",
       "    .dataframe thead th {\n",
       "        text-align: right;\n",
       "    }\n",
       "</style>\n",
       "<table border=\"1\" class=\"dataframe\">\n",
       "  <thead>\n",
       "    <tr style=\"text-align: right;\">\n",
       "      <th></th>\n",
       "      <th>item_id</th>\n",
       "      <th>datetime</th>\n",
       "      <th>platform</th>\n",
       "      <th>min_long</th>\n",
       "      <th>max_long</th>\n",
       "      <th>min_lat</th>\n",
       "      <th>max_lat</th>\n",
       "      <th>eo:cloud_cover</th>\n",
       "      <th>AOT_href</th>\n",
       "      <th>B01_href</th>\n",
       "      <th>...</th>\n",
       "      <th>B07_href</th>\n",
       "      <th>B08_href</th>\n",
       "      <th>B09_href</th>\n",
       "      <th>B11_href</th>\n",
       "      <th>B12_href</th>\n",
       "      <th>B8A_href</th>\n",
       "      <th>SCL_href</th>\n",
       "      <th>WVP_href</th>\n",
       "      <th>days_before_sample</th>\n",
       "      <th>sample_id</th>\n",
       "    </tr>\n",
       "  </thead>\n",
       "  <tbody>\n",
       "    <tr>\n",
       "      <th>0</th>\n",
       "      <td>S2B_MSIL2A_20170812T155859_R097_T17SPV_2021013...</td>\n",
       "      <td>2017-08-12</td>\n",
       "      <td>Sentinel-2B</td>\n",
       "      <td>-79.902146</td>\n",
       "      <td>-78.668785</td>\n",
       "      <td>35.133006</td>\n",
       "      <td>36.139741</td>\n",
       "      <td>55.916640</td>\n",
       "      <td>https://sentinel2l2a01.blob.core.windows.net/s...</td>\n",
       "      <td>https://sentinel2l2a01.blob.core.windows.net/s...</td>\n",
       "      <td>...</td>\n",
       "      <td>https://sentinel2l2a01.blob.core.windows.net/s...</td>\n",
       "      <td>https://sentinel2l2a01.blob.core.windows.net/s...</td>\n",
       "      <td>https://sentinel2l2a01.blob.core.windows.net/s...</td>\n",
       "      <td>https://sentinel2l2a01.blob.core.windows.net/s...</td>\n",
       "      <td>https://sentinel2l2a01.blob.core.windows.net/s...</td>\n",
       "      <td>https://sentinel2l2a01.blob.core.windows.net/s...</td>\n",
       "      <td>https://sentinel2l2a01.blob.core.windows.net/s...</td>\n",
       "      <td>https://sentinel2l2a01.blob.core.windows.net/s...</td>\n",
       "      <td>9</td>\n",
       "      <td>9c601f226c2af07d570134127a7fda27</td>\n",
       "    </tr>\n",
       "    <tr>\n",
       "      <th>1</th>\n",
       "      <td>S2A_MSIL2A_20190814T154911_R054_T18TVL_2020100...</td>\n",
       "      <td>2019-08-14</td>\n",
       "      <td>Sentinel-2A</td>\n",
       "      <td>-76.199460</td>\n",
       "      <td>-74.882965</td>\n",
       "      <td>40.556707</td>\n",
       "      <td>41.551785</td>\n",
       "      <td>82.642989</td>\n",
       "      <td>https://sentinel2l2a01.blob.core.windows.net/s...</td>\n",
       "      <td>https://sentinel2l2a01.blob.core.windows.net/s...</td>\n",
       "      <td>...</td>\n",
       "      <td>https://sentinel2l2a01.blob.core.windows.net/s...</td>\n",
       "      <td>https://sentinel2l2a01.blob.core.windows.net/s...</td>\n",
       "      <td>https://sentinel2l2a01.blob.core.windows.net/s...</td>\n",
       "      <td>https://sentinel2l2a01.blob.core.windows.net/s...</td>\n",
       "      <td>https://sentinel2l2a01.blob.core.windows.net/s...</td>\n",
       "      <td>https://sentinel2l2a01.blob.core.windows.net/s...</td>\n",
       "      <td>https://sentinel2l2a01.blob.core.windows.net/s...</td>\n",
       "      <td>https://sentinel2l2a01.blob.core.windows.net/s...</td>\n",
       "      <td>14</td>\n",
       "      <td>3a2c48812b551d720f8d56772efa6df1</td>\n",
       "    </tr>\n",
       "  </tbody>\n",
       "</table>\n",
       "<p>2 rows × 25 columns</p>\n",
       "</div>"
      ],
      "text/plain": [
       "                                             item_id    datetime     platform  \\\n",
       "0  S2B_MSIL2A_20170812T155859_R097_T17SPV_2021013...  2017-08-12  Sentinel-2B   \n",
       "1  S2A_MSIL2A_20190814T154911_R054_T18TVL_2020100...  2019-08-14  Sentinel-2A   \n",
       "\n",
       "    min_long   max_long    min_lat    max_lat  eo:cloud_cover  \\\n",
       "0 -79.902146 -78.668785  35.133006  36.139741       55.916640   \n",
       "1 -76.199460 -74.882965  40.556707  41.551785       82.642989   \n",
       "\n",
       "                                            AOT_href  \\\n",
       "0  https://sentinel2l2a01.blob.core.windows.net/s...   \n",
       "1  https://sentinel2l2a01.blob.core.windows.net/s...   \n",
       "\n",
       "                                            B01_href  ...  \\\n",
       "0  https://sentinel2l2a01.blob.core.windows.net/s...  ...   \n",
       "1  https://sentinel2l2a01.blob.core.windows.net/s...  ...   \n",
       "\n",
       "                                            B07_href  \\\n",
       "0  https://sentinel2l2a01.blob.core.windows.net/s...   \n",
       "1  https://sentinel2l2a01.blob.core.windows.net/s...   \n",
       "\n",
       "                                            B08_href  \\\n",
       "0  https://sentinel2l2a01.blob.core.windows.net/s...   \n",
       "1  https://sentinel2l2a01.blob.core.windows.net/s...   \n",
       "\n",
       "                                            B09_href  \\\n",
       "0  https://sentinel2l2a01.blob.core.windows.net/s...   \n",
       "1  https://sentinel2l2a01.blob.core.windows.net/s...   \n",
       "\n",
       "                                            B11_href  \\\n",
       "0  https://sentinel2l2a01.blob.core.windows.net/s...   \n",
       "1  https://sentinel2l2a01.blob.core.windows.net/s...   \n",
       "\n",
       "                                            B12_href  \\\n",
       "0  https://sentinel2l2a01.blob.core.windows.net/s...   \n",
       "1  https://sentinel2l2a01.blob.core.windows.net/s...   \n",
       "\n",
       "                                            B8A_href  \\\n",
       "0  https://sentinel2l2a01.blob.core.windows.net/s...   \n",
       "1  https://sentinel2l2a01.blob.core.windows.net/s...   \n",
       "\n",
       "                                            SCL_href  \\\n",
       "0  https://sentinel2l2a01.blob.core.windows.net/s...   \n",
       "1  https://sentinel2l2a01.blob.core.windows.net/s...   \n",
       "\n",
       "                                            WVP_href days_before_sample  \\\n",
       "0  https://sentinel2l2a01.blob.core.windows.net/s...                  9   \n",
       "1  https://sentinel2l2a01.blob.core.windows.net/s...                 14   \n",
       "\n",
       "                          sample_id  \n",
       "0  9c601f226c2af07d570134127a7fda27  \n",
       "1  3a2c48812b551d720f8d56772efa6df1  \n",
       "\n",
       "[2 rows x 25 columns]"
      ]
     },
     "execution_count": 11,
     "metadata": {},
     "output_type": "execute_result"
    }
   ],
   "source": [
    "sat_meta.head(2)"
   ]
  },
  {
   "cell_type": "code",
   "execution_count": 13,
   "id": "936e5cd3-9e2b-4b10-a76d-46547b4dadaf",
   "metadata": {},
   "outputs": [],
   "source": [
    "from cyano.data.satellite_data import download_satellite_data_new"
   ]
  },
  {
   "cell_type": "code",
   "execution_count": 15,
   "id": "0b639bb8-2258-406f-8389-8696c0e5ae1a",
   "metadata": {},
   "outputs": [],
   "source": [
    "cache_dir = \"image_cache\""
   ]
  },
  {
   "cell_type": "code",
   "execution_count": 16,
   "id": "0b7b948c-2fda-49a4-a2c3-5020da76308e",
   "metadata": {},
   "outputs": [
    {
     "name": "stderr",
     "output_type": "stream",
     "text": [
      "\u001b[32m2023-08-11 15:16:59.374\u001b[0m | \u001b[1mINFO    \u001b[0m | \u001b[36mcyano.data.satellite_data\u001b[0m:\u001b[36mdownload_satellite_data_new\u001b[0m:\u001b[36m449\u001b[0m - \u001b[1mDownloading bands ['AOT', 'B01', 'B02', 'B03', 'B04', 'B05', 'B06', 'B07', 'B08', 'B09', 'B11', 'B12', 'B8A', 'SCL', 'WVP']\u001b[0m\n"
     ]
    },
    {
     "data": {
      "application/vnd.jupyter.widget-view+json": {
       "model_id": "7f6acb26580d41f19e6901fa6856c10f",
       "version_major": 2,
       "version_minor": 0
      },
      "text/plain": [
       "  0%|          | 0/4 [00:00<?, ?it/s]"
      ]
     },
     "metadata": {},
     "output_type": "display_data"
    }
   ],
   "source": [
    "download_satellite_data_new(\n",
    "    sat_meta, pipeline.train_samples, pipeline.features_config, cache_dir\n",
    ")"
   ]
  },
  {
   "cell_type": "code",
   "execution_count": 12,
   "id": "62390bb1-b5d4-4406-98b9-5acb745b01a7",
   "metadata": {},
   "outputs": [],
   "source": [
    "from cyano.data.satellite_data import get_bounding_box, download_row\n",
    "import functools\n",
    "\n",
    "from cloudpathlib import AnyPath\n",
    "import geopy.distance as distance\n",
    "from loguru import logger\n",
    "import numpy as np\n",
    "import pandas as pd\n",
    "from pathlib import Path\n",
    "import planetary_computer as pc\n",
    "from pystac_client import Client, ItemSearch\n",
    "import rioxarray\n",
    "from tqdm import tqdm"
   ]
  },
  {
   "cell_type": "code",
   "execution_count": 13,
   "id": "6c6ee66f-de52-49a9-8ec7-9f185a3e9172",
   "metadata": {},
   "outputs": [],
   "source": [
    "NUM_THREADS = 4"
   ]
  },
  {
   "cell_type": "code",
   "execution_count": 14,
   "id": "03d58e5c-53a3-4f97-bb11-5f73feea7db1",
   "metadata": {},
   "outputs": [],
   "source": [
    "cache_dir = \"image_cache\"\n",
    "Path(cache_dir).mkdir(exist_ok=True)"
   ]
  },
  {
   "cell_type": "code",
   "execution_count": 15,
   "id": "d9ce1621-7c07-4497-afca-f6c1fdf7003d",
   "metadata": {},
   "outputs": [],
   "source": [
    "imagery_dir = Path(cache_dir) / f\"sentinel_{features_config.image_feature_meter_window}\""
   ]
  },
  {
   "cell_type": "code",
   "execution_count": 20,
   "id": "9830a62f-f524-4f8c-8c15-dd9479fbda97",
   "metadata": {},
   "outputs": [
    {
     "data": {
      "application/vnd.jupyter.widget-view+json": {
       "model_id": "8a44d9cad26e40249324c1e4ec7efe9f",
       "version_major": 2,
       "version_minor": 0
      },
      "text/plain": [
       "  0%|          | 0/5 [00:00<?, ?it/s]"
      ]
     },
     "metadata": {},
     "output_type": "display_data"
    },
    {
     "ename": "PicklingError",
     "evalue": "Can't pickle <function download_row at 0x12e74f490>: it's not the same object as cyano.data.satellite_data.download_row",
     "output_type": "error",
     "traceback": [
      "\u001b[0;31m---------------------------------------------------------------------------\u001b[0m",
      "\u001b[0;31m_RemoteTraceback\u001b[0m                          Traceback (most recent call last)",
      "\u001b[0;31m_RemoteTraceback\u001b[0m: \n\"\"\"\nTraceback (most recent call last):\n  File \"/opt/anaconda3/envs/cyanobacteria-prediction/lib/python3.10/multiprocessing/queues.py\", line 244, in _feed\n    obj = _ForkingPickler.dumps(obj)\n  File \"/opt/anaconda3/envs/cyanobacteria-prediction/lib/python3.10/multiprocessing/reduction.py\", line 51, in dumps\n    cls(buf, protocol).dump(obj)\n_pickle.PicklingError: Can't pickle <function download_row at 0x12e74f490>: it's not the same object as cyano.data.satellite_data.download_row\n\"\"\"",
      "\nThe above exception was the direct cause of the following exception:\n",
      "\u001b[0;31mPicklingError\u001b[0m                             Traceback (most recent call last)",
      "Cell \u001b[0;32mIn[20], line 1\u001b[0m\n\u001b[0;32m----> 1\u001b[0m process_result \u001b[38;5;241m=\u001b[39m \u001b[43mprocess_map\u001b[49m\u001b[43m(\u001b[49m\n\u001b[1;32m      2\u001b[0m \u001b[43m    \u001b[49m\u001b[43mfunctools\u001b[49m\u001b[38;5;241;43m.\u001b[39;49m\u001b[43mpartial\u001b[49m\u001b[43m(\u001b[49m\n\u001b[1;32m      3\u001b[0m \u001b[43m        \u001b[49m\u001b[43mdownload_row\u001b[49m\u001b[43m,\u001b[49m\n\u001b[1;32m      4\u001b[0m \u001b[43m        \u001b[49m\u001b[43msamples\u001b[49m\u001b[38;5;241;43m=\u001b[39;49m\u001b[43mpipeline\u001b[49m\u001b[38;5;241;43m.\u001b[39;49m\u001b[43mtrain_samples\u001b[49m\u001b[43m,\u001b[49m\n\u001b[1;32m      5\u001b[0m \u001b[43m        \u001b[49m\u001b[43mimagery_dir\u001b[49m\u001b[38;5;241;43m=\u001b[39;49m\u001b[43mimagery_dir\u001b[49m\u001b[43m,\u001b[49m\n\u001b[1;32m      6\u001b[0m \u001b[43m        \u001b[49m\u001b[43mconfig\u001b[49m\u001b[38;5;241;43m=\u001b[39;49m\u001b[43mfeatures_config\u001b[49m\u001b[43m,\u001b[49m\n\u001b[1;32m      7\u001b[0m \u001b[43m    \u001b[49m\u001b[43m)\u001b[49m\u001b[43m,\u001b[49m\n\u001b[1;32m      8\u001b[0m \u001b[43m    \u001b[49m\u001b[43msat_meta\u001b[49m\u001b[38;5;241;43m.\u001b[39;49m\u001b[43miterrows\u001b[49m\u001b[43m(\u001b[49m\u001b[43m)\u001b[49m\u001b[43m,\u001b[49m\n\u001b[1;32m      9\u001b[0m \u001b[43m    \u001b[49m\u001b[43mmax_workers\u001b[49m\u001b[38;5;241;43m=\u001b[39;49m\u001b[43mNUM_THREADS\u001b[49m\u001b[43m,\u001b[49m\n\u001b[1;32m     10\u001b[0m \u001b[43m    \u001b[49m\u001b[43mchunksize\u001b[49m\u001b[38;5;241;43m=\u001b[39;49m\u001b[38;5;241;43m1\u001b[39;49m\u001b[43m,\u001b[49m\n\u001b[1;32m     11\u001b[0m \u001b[43m    \u001b[49m\u001b[43mtotal\u001b[49m\u001b[38;5;241;43m=\u001b[39;49m\u001b[38;5;28;43mlen\u001b[39;49m\u001b[43m(\u001b[49m\u001b[43msat_meta\u001b[49m\u001b[43m)\u001b[49m\u001b[43m,\u001b[49m\n\u001b[1;32m     12\u001b[0m \u001b[43m)\u001b[49m\n",
      "File \u001b[0;32m/opt/anaconda3/envs/cyanobacteria-prediction/lib/python3.10/site-packages/tqdm/contrib/concurrent.py:105\u001b[0m, in \u001b[0;36mprocess_map\u001b[0;34m(fn, *iterables, **tqdm_kwargs)\u001b[0m\n\u001b[1;32m    103\u001b[0m     tqdm_kwargs \u001b[38;5;241m=\u001b[39m tqdm_kwargs\u001b[38;5;241m.\u001b[39mcopy()\n\u001b[1;32m    104\u001b[0m     tqdm_kwargs[\u001b[38;5;124m\"\u001b[39m\u001b[38;5;124mlock_name\u001b[39m\u001b[38;5;124m\"\u001b[39m] \u001b[38;5;241m=\u001b[39m \u001b[38;5;124m\"\u001b[39m\u001b[38;5;124mmp_lock\u001b[39m\u001b[38;5;124m\"\u001b[39m\n\u001b[0;32m--> 105\u001b[0m \u001b[38;5;28;01mreturn\u001b[39;00m \u001b[43m_executor_map\u001b[49m\u001b[43m(\u001b[49m\u001b[43mProcessPoolExecutor\u001b[49m\u001b[43m,\u001b[49m\u001b[43m \u001b[49m\u001b[43mfn\u001b[49m\u001b[43m,\u001b[49m\u001b[43m \u001b[49m\u001b[38;5;241;43m*\u001b[39;49m\u001b[43miterables\u001b[49m\u001b[43m,\u001b[49m\u001b[43m \u001b[49m\u001b[38;5;241;43m*\u001b[39;49m\u001b[38;5;241;43m*\u001b[39;49m\u001b[43mtqdm_kwargs\u001b[49m\u001b[43m)\u001b[49m\n",
      "File \u001b[0;32m/opt/anaconda3/envs/cyanobacteria-prediction/lib/python3.10/site-packages/tqdm/contrib/concurrent.py:51\u001b[0m, in \u001b[0;36m_executor_map\u001b[0;34m(PoolExecutor, fn, *iterables, **tqdm_kwargs)\u001b[0m\n\u001b[1;32m     47\u001b[0m \u001b[38;5;28;01mwith\u001b[39;00m ensure_lock(tqdm_class, lock_name\u001b[38;5;241m=\u001b[39mlock_name) \u001b[38;5;28;01mas\u001b[39;00m lk:\n\u001b[1;32m     48\u001b[0m     \u001b[38;5;66;03m# share lock in case workers are already using `tqdm`\u001b[39;00m\n\u001b[1;32m     49\u001b[0m     \u001b[38;5;28;01mwith\u001b[39;00m PoolExecutor(max_workers\u001b[38;5;241m=\u001b[39mmax_workers, initializer\u001b[38;5;241m=\u001b[39mtqdm_class\u001b[38;5;241m.\u001b[39mset_lock,\n\u001b[1;32m     50\u001b[0m                       initargs\u001b[38;5;241m=\u001b[39m(lk,)) \u001b[38;5;28;01mas\u001b[39;00m ex:\n\u001b[0;32m---> 51\u001b[0m         \u001b[38;5;28;01mreturn\u001b[39;00m \u001b[38;5;28;43mlist\u001b[39;49m\u001b[43m(\u001b[49m\u001b[43mtqdm_class\u001b[49m\u001b[43m(\u001b[49m\u001b[43mex\u001b[49m\u001b[38;5;241;43m.\u001b[39;49m\u001b[43mmap\u001b[49m\u001b[43m(\u001b[49m\u001b[43mfn\u001b[49m\u001b[43m,\u001b[49m\u001b[43m \u001b[49m\u001b[38;5;241;43m*\u001b[39;49m\u001b[43miterables\u001b[49m\u001b[43m,\u001b[49m\u001b[43m \u001b[49m\u001b[43mchunksize\u001b[49m\u001b[38;5;241;43m=\u001b[39;49m\u001b[43mchunksize\u001b[49m\u001b[43m)\u001b[49m\u001b[43m,\u001b[49m\u001b[43m \u001b[49m\u001b[38;5;241;43m*\u001b[39;49m\u001b[38;5;241;43m*\u001b[39;49m\u001b[43mkwargs\u001b[49m\u001b[43m)\u001b[49m\u001b[43m)\u001b[49m\n",
      "File \u001b[0;32m/opt/anaconda3/envs/cyanobacteria-prediction/lib/python3.10/site-packages/tqdm/notebook.py:254\u001b[0m, in \u001b[0;36mtqdm_notebook.__iter__\u001b[0;34m(self)\u001b[0m\n\u001b[1;32m    252\u001b[0m \u001b[38;5;28;01mtry\u001b[39;00m:\n\u001b[1;32m    253\u001b[0m     it \u001b[38;5;241m=\u001b[39m \u001b[38;5;28msuper\u001b[39m(tqdm_notebook, \u001b[38;5;28mself\u001b[39m)\u001b[38;5;241m.\u001b[39m\u001b[38;5;21m__iter__\u001b[39m()\n\u001b[0;32m--> 254\u001b[0m     \u001b[38;5;28;01mfor\u001b[39;00m obj \u001b[38;5;129;01min\u001b[39;00m it:\n\u001b[1;32m    255\u001b[0m         \u001b[38;5;66;03m# return super(tqdm...) will not catch exception\u001b[39;00m\n\u001b[1;32m    256\u001b[0m         \u001b[38;5;28;01myield\u001b[39;00m obj\n\u001b[1;32m    257\u001b[0m \u001b[38;5;66;03m# NB: except ... [ as ...] breaks IPython async KeyboardInterrupt\u001b[39;00m\n",
      "File \u001b[0;32m/opt/anaconda3/envs/cyanobacteria-prediction/lib/python3.10/site-packages/tqdm/std.py:1178\u001b[0m, in \u001b[0;36mtqdm.__iter__\u001b[0;34m(self)\u001b[0m\n\u001b[1;32m   1175\u001b[0m time \u001b[38;5;241m=\u001b[39m \u001b[38;5;28mself\u001b[39m\u001b[38;5;241m.\u001b[39m_time\n\u001b[1;32m   1177\u001b[0m \u001b[38;5;28;01mtry\u001b[39;00m:\n\u001b[0;32m-> 1178\u001b[0m     \u001b[38;5;28;01mfor\u001b[39;00m obj \u001b[38;5;129;01min\u001b[39;00m iterable:\n\u001b[1;32m   1179\u001b[0m         \u001b[38;5;28;01myield\u001b[39;00m obj\n\u001b[1;32m   1180\u001b[0m         \u001b[38;5;66;03m# Update and possibly print the progressbar.\u001b[39;00m\n\u001b[1;32m   1181\u001b[0m         \u001b[38;5;66;03m# Note: does not call self.update(1) for speed optimisation.\u001b[39;00m\n",
      "File \u001b[0;32m/opt/anaconda3/envs/cyanobacteria-prediction/lib/python3.10/concurrent/futures/process.py:575\u001b[0m, in \u001b[0;36m_chain_from_iterable_of_lists\u001b[0;34m(iterable)\u001b[0m\n\u001b[1;32m    569\u001b[0m \u001b[38;5;28;01mdef\u001b[39;00m \u001b[38;5;21m_chain_from_iterable_of_lists\u001b[39m(iterable):\n\u001b[1;32m    570\u001b[0m \u001b[38;5;250m    \u001b[39m\u001b[38;5;124;03m\"\"\"\u001b[39;00m\n\u001b[1;32m    571\u001b[0m \u001b[38;5;124;03m    Specialized implementation of itertools.chain.from_iterable.\u001b[39;00m\n\u001b[1;32m    572\u001b[0m \u001b[38;5;124;03m    Each item in *iterable* should be a list.  This function is\u001b[39;00m\n\u001b[1;32m    573\u001b[0m \u001b[38;5;124;03m    careful not to keep references to yielded objects.\u001b[39;00m\n\u001b[1;32m    574\u001b[0m \u001b[38;5;124;03m    \"\"\"\u001b[39;00m\n\u001b[0;32m--> 575\u001b[0m     \u001b[38;5;28;01mfor\u001b[39;00m element \u001b[38;5;129;01min\u001b[39;00m iterable:\n\u001b[1;32m    576\u001b[0m         element\u001b[38;5;241m.\u001b[39mreverse()\n\u001b[1;32m    577\u001b[0m         \u001b[38;5;28;01mwhile\u001b[39;00m element:\n",
      "File \u001b[0;32m/opt/anaconda3/envs/cyanobacteria-prediction/lib/python3.10/concurrent/futures/_base.py:621\u001b[0m, in \u001b[0;36mExecutor.map.<locals>.result_iterator\u001b[0;34m()\u001b[0m\n\u001b[1;32m    618\u001b[0m \u001b[38;5;28;01mwhile\u001b[39;00m fs:\n\u001b[1;32m    619\u001b[0m     \u001b[38;5;66;03m# Careful not to keep a reference to the popped future\u001b[39;00m\n\u001b[1;32m    620\u001b[0m     \u001b[38;5;28;01mif\u001b[39;00m timeout \u001b[38;5;129;01mis\u001b[39;00m \u001b[38;5;28;01mNone\u001b[39;00m:\n\u001b[0;32m--> 621\u001b[0m         \u001b[38;5;28;01myield\u001b[39;00m \u001b[43m_result_or_cancel\u001b[49m\u001b[43m(\u001b[49m\u001b[43mfs\u001b[49m\u001b[38;5;241;43m.\u001b[39;49m\u001b[43mpop\u001b[49m\u001b[43m(\u001b[49m\u001b[43m)\u001b[49m\u001b[43m)\u001b[49m\n\u001b[1;32m    622\u001b[0m     \u001b[38;5;28;01melse\u001b[39;00m:\n\u001b[1;32m    623\u001b[0m         \u001b[38;5;28;01myield\u001b[39;00m _result_or_cancel(fs\u001b[38;5;241m.\u001b[39mpop(), end_time \u001b[38;5;241m-\u001b[39m time\u001b[38;5;241m.\u001b[39mmonotonic())\n",
      "File \u001b[0;32m/opt/anaconda3/envs/cyanobacteria-prediction/lib/python3.10/concurrent/futures/_base.py:319\u001b[0m, in \u001b[0;36m_result_or_cancel\u001b[0;34m(***failed resolving arguments***)\u001b[0m\n\u001b[1;32m    317\u001b[0m \u001b[38;5;28;01mtry\u001b[39;00m:\n\u001b[1;32m    318\u001b[0m     \u001b[38;5;28;01mtry\u001b[39;00m:\n\u001b[0;32m--> 319\u001b[0m         \u001b[38;5;28;01mreturn\u001b[39;00m \u001b[43mfut\u001b[49m\u001b[38;5;241;43m.\u001b[39;49m\u001b[43mresult\u001b[49m\u001b[43m(\u001b[49m\u001b[43mtimeout\u001b[49m\u001b[43m)\u001b[49m\n\u001b[1;32m    320\u001b[0m     \u001b[38;5;28;01mfinally\u001b[39;00m:\n\u001b[1;32m    321\u001b[0m         fut\u001b[38;5;241m.\u001b[39mcancel()\n",
      "File \u001b[0;32m/opt/anaconda3/envs/cyanobacteria-prediction/lib/python3.10/concurrent/futures/_base.py:451\u001b[0m, in \u001b[0;36mFuture.result\u001b[0;34m(self, timeout)\u001b[0m\n\u001b[1;32m    449\u001b[0m     \u001b[38;5;28;01mraise\u001b[39;00m CancelledError()\n\u001b[1;32m    450\u001b[0m \u001b[38;5;28;01melif\u001b[39;00m \u001b[38;5;28mself\u001b[39m\u001b[38;5;241m.\u001b[39m_state \u001b[38;5;241m==\u001b[39m FINISHED:\n\u001b[0;32m--> 451\u001b[0m     \u001b[38;5;28;01mreturn\u001b[39;00m \u001b[38;5;28;43mself\u001b[39;49m\u001b[38;5;241;43m.\u001b[39;49m\u001b[43m__get_result\u001b[49m\u001b[43m(\u001b[49m\u001b[43m)\u001b[49m\n\u001b[1;32m    453\u001b[0m \u001b[38;5;28mself\u001b[39m\u001b[38;5;241m.\u001b[39m_condition\u001b[38;5;241m.\u001b[39mwait(timeout)\n\u001b[1;32m    455\u001b[0m \u001b[38;5;28;01mif\u001b[39;00m \u001b[38;5;28mself\u001b[39m\u001b[38;5;241m.\u001b[39m_state \u001b[38;5;129;01min\u001b[39;00m [CANCELLED, CANCELLED_AND_NOTIFIED]:\n",
      "File \u001b[0;32m/opt/anaconda3/envs/cyanobacteria-prediction/lib/python3.10/concurrent/futures/_base.py:403\u001b[0m, in \u001b[0;36mFuture.__get_result\u001b[0;34m(self)\u001b[0m\n\u001b[1;32m    401\u001b[0m \u001b[38;5;28;01mif\u001b[39;00m \u001b[38;5;28mself\u001b[39m\u001b[38;5;241m.\u001b[39m_exception:\n\u001b[1;32m    402\u001b[0m     \u001b[38;5;28;01mtry\u001b[39;00m:\n\u001b[0;32m--> 403\u001b[0m         \u001b[38;5;28;01mraise\u001b[39;00m \u001b[38;5;28mself\u001b[39m\u001b[38;5;241m.\u001b[39m_exception\n\u001b[1;32m    404\u001b[0m     \u001b[38;5;28;01mfinally\u001b[39;00m:\n\u001b[1;32m    405\u001b[0m         \u001b[38;5;66;03m# Break a reference cycle with the exception in self._exception\u001b[39;00m\n\u001b[1;32m    406\u001b[0m         \u001b[38;5;28mself\u001b[39m \u001b[38;5;241m=\u001b[39m \u001b[38;5;28;01mNone\u001b[39;00m\n",
      "File \u001b[0;32m/opt/anaconda3/envs/cyanobacteria-prediction/lib/python3.10/multiprocessing/queues.py:244\u001b[0m, in \u001b[0;36mQueue._feed\u001b[0;34m(buffer, notempty, send_bytes, writelock, reader_close, writer_close, ignore_epipe, onerror, queue_sem)\u001b[0m\n\u001b[1;32m    241\u001b[0m     \u001b[38;5;28;01mreturn\u001b[39;00m\n\u001b[1;32m    243\u001b[0m \u001b[38;5;66;03m# serialize the data before acquiring the lock\u001b[39;00m\n\u001b[0;32m--> 244\u001b[0m obj \u001b[38;5;241m=\u001b[39m \u001b[43m_ForkingPickler\u001b[49m\u001b[38;5;241;43m.\u001b[39;49m\u001b[43mdumps\u001b[49m\u001b[43m(\u001b[49m\u001b[43mobj\u001b[49m\u001b[43m)\u001b[49m\n\u001b[1;32m    245\u001b[0m \u001b[38;5;28;01mif\u001b[39;00m wacquire \u001b[38;5;129;01mis\u001b[39;00m \u001b[38;5;28;01mNone\u001b[39;00m:\n\u001b[1;32m    246\u001b[0m     send_bytes(obj)\n",
      "File \u001b[0;32m/opt/anaconda3/envs/cyanobacteria-prediction/lib/python3.10/multiprocessing/reduction.py:51\u001b[0m, in \u001b[0;36mForkingPickler.dumps\u001b[0;34m(cls, obj, protocol)\u001b[0m\n\u001b[1;32m     48\u001b[0m \u001b[38;5;129m@classmethod\u001b[39m\n\u001b[1;32m     49\u001b[0m \u001b[38;5;28;01mdef\u001b[39;00m \u001b[38;5;21mdumps\u001b[39m(\u001b[38;5;28mcls\u001b[39m, obj, protocol\u001b[38;5;241m=\u001b[39m\u001b[38;5;28;01mNone\u001b[39;00m):\n\u001b[1;32m     50\u001b[0m     buf \u001b[38;5;241m=\u001b[39m io\u001b[38;5;241m.\u001b[39mBytesIO()\n\u001b[0;32m---> 51\u001b[0m     \u001b[38;5;28;43mcls\u001b[39;49m\u001b[43m(\u001b[49m\u001b[43mbuf\u001b[49m\u001b[43m,\u001b[49m\u001b[43m \u001b[49m\u001b[43mprotocol\u001b[49m\u001b[43m)\u001b[49m\u001b[38;5;241;43m.\u001b[39;49m\u001b[43mdump\u001b[49m\u001b[43m(\u001b[49m\u001b[43mobj\u001b[49m\u001b[43m)\u001b[49m\n\u001b[1;32m     52\u001b[0m     \u001b[38;5;28;01mreturn\u001b[39;00m buf\u001b[38;5;241m.\u001b[39mgetbuffer()\n",
      "\u001b[0;31mPicklingError\u001b[0m: Can't pickle <function download_row at 0x12e74f490>: it's not the same object as cyano.data.satellite_data.download_row"
     ]
    }
   ],
   "source": [
    "process_result = process_map(\n",
    "    functools.partial(\n",
    "        download_row,\n",
    "        samples=pipeline.train_samples,\n",
    "        imagery_dir=imagery_dir,\n",
    "        config=features_config,\n",
    "    ),\n",
    "    sat_meta.iterrows(),\n",
    "    max_workers=NUM_THREADS,\n",
    "    chunksize=1,\n",
    "    total=len(sat_meta),\n",
    ")"
   ]
  },
  {
   "cell_type": "code",
   "execution_count": 19,
   "id": "9095fb45-c7f4-49dd-bfa6-f1a786e1a734",
   "metadata": {},
   "outputs": [
    {
     "data": {
      "text/plain": [
       "0"
      ]
     },
     "execution_count": 19,
     "metadata": {},
     "output_type": "execute_result"
    }
   ],
   "source": [
    "sum(process_result)"
   ]
  },
  {
   "cell_type": "code",
   "execution_count": 51,
   "id": "99fef1a7-914c-4e06-98d8-717dac375ff0",
   "metadata": {},
   "outputs": [
    {
     "name": "stderr",
     "output_type": "stream",
     "text": [
      "100%|█████████████████████████████████████████████████████████████████████| 5/5 [01:05<00:00, 13.10s/it]\n"
     ]
    }
   ],
   "source": [
    "for idx, row in tqdm(sat_meta.iterrows(), total=len(sat_meta)):\n",
    "    download_row(row)"
   ]
  },
  {
   "cell_type": "code",
   "execution_count": 41,
   "id": "0c66bfe0-2022-489c-b009-bb8e05df98ba",
   "metadata": {},
   "outputs": [
    {
     "data": {
      "text/plain": [
       "date         2019-08-28\n",
       "latitude       41.39249\n",
       "longitude      -75.3607\n",
       "severity              2\n",
       "Name: 3a2c48812b551d720f8d56772efa6df1, dtype: object"
      ]
     },
     "execution_count": 41,
     "metadata": {},
     "output_type": "execute_result"
    }
   ],
   "source": [
    "sample_row = pipeline.train_samples.loc[row.sample_id]\n",
    "sample_row"
   ]
  },
  {
   "cell_type": "code",
   "execution_count": 42,
   "id": "f6b549c7-cfb1-49ef-95e0-2bf36ef8d601",
   "metadata": {},
   "outputs": [],
   "source": [
    "(minx, miny, maxx, maxy) = get_bounding_box(\n",
    "    sample_row.latitude,\n",
    "    sample_row.longitude,\n",
    "    features_config.image_feature_meter_window,\n",
    ")"
   ]
  },
  {
   "cell_type": "code",
   "execution_count": 43,
   "id": "b5931102-5357-420c-ac9e-6734d69f80bc",
   "metadata": {},
   "outputs": [
    {
     "data": {
      "text/plain": [
       "'AOT'"
      ]
     },
     "execution_count": 43,
     "metadata": {},
     "output_type": "execute_result"
    }
   ],
   "source": [
    "band = features_config.use_sentinel_bands[0]\n",
    "band"
   ]
  },
  {
   "cell_type": "code",
   "execution_count": null,
   "id": "e19ff39d-a9aa-48a2-9487-222f314e50ce",
   "metadata": {},
   "outputs": [],
   "source": [
    "unsigned_href = "
   ]
  },
  {
   "cell_type": "code",
   "execution_count": null,
   "id": "49918911-ceba-4700-bd4e-cbf39319b599",
   "metadata": {},
   "outputs": [],
   "source": []
  },
  {
   "cell_type": "code",
   "execution_count": null,
   "id": "766a65e4-0e87-4ad1-b658-3a0d6250b4bd",
   "metadata": {},
   "outputs": [],
   "source": []
  },
  {
   "cell_type": "code",
   "execution_count": null,
   "id": "be833843-c130-4ecf-97c3-13811acbedae",
   "metadata": {},
   "outputs": [],
   "source": []
  },
  {
   "cell_type": "code",
   "execution_count": null,
   "id": "eebaa891-4e65-4f4b-a297-24affbf78860",
   "metadata": {},
   "outputs": [],
   "source": []
  },
  {
   "cell_type": "code",
   "execution_count": null,
   "id": "699fcc59-d451-43cd-828c-673a32d5c8f5",
   "metadata": {},
   "outputs": [],
   "source": []
  }
 ],
 "metadata": {
  "kernelspec": {
   "display_name": "Python 3 (ipykernel)",
   "language": "python",
   "name": "python3"
  },
  "language_info": {
   "codemirror_mode": {
    "name": "ipython",
    "version": 3
   },
   "file_extension": ".py",
   "mimetype": "text/x-python",
   "name": "python",
   "nbconvert_exporter": "python",
   "pygments_lexer": "ipython3",
   "version": "3.10.12"
  }
 },
 "nbformat": 4,
 "nbformat_minor": 5
}
