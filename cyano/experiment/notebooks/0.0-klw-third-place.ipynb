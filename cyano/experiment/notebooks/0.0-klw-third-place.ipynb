{
 "cells": [
  {
   "cell_type": "markdown",
   "id": "5518e0f6-9da9-468b-8189-fb6f8472c9ca",
   "metadata": {},
   "source": [
    "Recreate a model based on the third place solution of the [Tick Tick Bloom: Harmful Algal Bloom Detection Challenge](https://github.com/drivendataorg/tick-tick-bloom/tree/main)"
   ]
  },
  {
   "cell_type": "code",
   "execution_count": 3,
   "id": "63362578-51df-4e5a-a744-29d60cdb0006",
   "metadata": {},
   "outputs": [],
   "source": [
    "%load_ext lab_black\n",
    "%load_ext autoreload\n",
    "%autoreload 2"
   ]
  },
  {
   "cell_type": "code",
   "execution_count": 8,
   "id": "384337cd-aad4-44ef-a00f-160f45f10299",
   "metadata": {},
   "outputs": [],
   "source": [
    "from cyano.pipeline import CyanoModelPipeline\n",
    "from cyano.config import FeaturesConfig, ModelTrainingConfig\n",
    "from cyano.settings import REPO_ROOT"
   ]
  },
  {
   "cell_type": "code",
   "execution_count": 9,
   "id": "8adec776-cd51-4758-9388-86892e7b18e9",
   "metadata": {},
   "outputs": [
    {
     "data": {
      "text/plain": [
       "PosixPath('/Users/katewetstone/Repos/cyanobacteria-prediction/data/experiment/cache')"
      ]
     },
     "execution_count": 9,
     "metadata": {},
     "output_type": "execute_result"
    }
   ],
   "source": [
    "LOCAL_CACHE_DIR = REPO_ROOT.parent / \"data/experiment/cache\"\n",
    "LOCAL_CACHE_DIR"
   ]
  },
  {
   "cell_type": "markdown",
   "id": "86611ab9-dcc5-412c-9bb3-e999158f52a0",
   "metadata": {},
   "source": [
    "### Pipeline settings"
   ]
  },
  {
   "cell_type": "code",
   "execution_count": 10,
   "id": "358c43af-ef26-4b4c-bead-4d912bc52a6e",
   "metadata": {},
   "outputs": [
    {
     "data": {
      "text/plain": [
       "['AOT_mean', 'AOT_min', 'AOT_max', 'AOT_range', 'B01_mean', 'B01_min']"
      ]
     },
     "execution_count": 10,
     "metadata": {},
     "output_type": "execute_result"
    }
   ],
   "source": [
    "use_sentinel_bands = [\n",
    "    \"AOT\",\n",
    "    \"B01\",\n",
    "    \"B02\",\n",
    "    \"B03\",\n",
    "    \"B04\",\n",
    "    \"B05\",\n",
    "    \"B06\",\n",
    "    \"B07\",\n",
    "    \"B08\",\n",
    "    \"B09\",\n",
    "    \"B11\",\n",
    "    \"B12\",\n",
    "    \"B8A\",\n",
    "    \"SCL\",\n",
    "    \"WVP\",\n",
    "]\n",
    "sat_image_fts = [\n",
    "    f\"{band}_{stat}\"\n",
    "    for band in use_sentinel_bands\n",
    "    for stat in [\"mean\", \"min\", \"max\", \"range\"]\n",
    "]\n",
    "sat_image_fts += [\"NDVI_B04\", \"NDVI_B05\", \"NDVI_B06\", \"NDVI_B07\"]\n",
    "sat_image_fts[:6]"
   ]
  },
  {
   "cell_type": "code",
   "execution_count": 11,
   "id": "7a80d191-137c-4a7f-8ccd-8e8d4bc08ce8",
   "metadata": {},
   "outputs": [
    {
     "data": {
      "text/plain": [
       "64"
      ]
     },
     "execution_count": 11,
     "metadata": {},
     "output_type": "execute_result"
    }
   ],
   "source": [
    "len(sat_image_fts)"
   ]
  },
  {
   "cell_type": "code",
   "execution_count": 12,
   "id": "d3be3f2e-fb0b-4c7c-a04a-017e6a07018c",
   "metadata": {},
   "outputs": [],
   "source": [
    "feature_config = FeaturesConfig(\n",
    "    image_feature_meter_window=200,\n",
    "    n_sentinel_items=15,\n",
    "    pc_meters_search_window=5000,\n",
    "    pc_days_search_window=15,\n",
    "    use_sentinel_bands=use_sentinel_bands,\n",
    "    satellite_image_features=sat_image_fts,\n",
    "    satellite_meta_features=[\"month\", \"days_before_sample\"],\n",
    "    metadata_features=[\"rounded_longitude\"],\n",
    ")"
   ]
  },
  {
   "cell_type": "code",
   "execution_count": 13,
   "id": "e2798d9e-7e90-4ef3-8b56-465cf3b2d65f",
   "metadata": {},
   "outputs": [],
   "source": [
    "train_path = \"../tests/assets/train_data.csv\""
   ]
  },
  {
   "cell_type": "markdown",
   "id": "129f3ccd-b350-4afd-8e0a-4bbd2da84fa7",
   "metadata": {},
   "source": [
    "## Training"
   ]
  },
  {
   "cell_type": "code",
   "execution_count": 74,
   "id": "11923bf9-2963-4b60-b7a4-0426c37081d8",
   "metadata": {},
   "outputs": [
    {
     "name": "stderr",
     "output_type": "stream",
     "text": [
      "\u001b[32m2023-08-10 17:11:22.853\u001b[0m | \u001b[1mINFO    \u001b[0m | \u001b[36mcyano.pipeline\u001b[0m:\u001b[36m_prep_train_data\u001b[0m:\u001b[36m49\u001b[0m - \u001b[1mLoaded 5 samples for training\u001b[0m\n",
      "\u001b[32m2023-08-10 17:11:22.856\u001b[0m | \u001b[1mINFO    \u001b[0m | \u001b[36mcyano.data.satellite_data\u001b[0m:\u001b[36mgenerate_candidate_metadata\u001b[0m:\u001b[36m192\u001b[0m - \u001b[1mGenerating metadata for all satellite item candidates\u001b[0m\n",
      "\u001b[32m2023-08-10 17:11:22.857\u001b[0m | \u001b[1mINFO    \u001b[0m | \u001b[36mcyano.data.satellite_data\u001b[0m:\u001b[36mgenerate_candidate_metadata\u001b[0m:\u001b[36m211\u001b[0m - \u001b[1mSearching ['sentinel-2-l2a'] within 15 days and 5000 meters\u001b[0m\n",
      "100%|██████████████████████████████████████████████████████████████████████| 5/5 [00:00<00:00,  5.08it/s]\n",
      "\u001b[32m2023-08-10 17:11:23.857\u001b[0m | \u001b[1mINFO    \u001b[0m | \u001b[36mcyano.data.satellite_data\u001b[0m:\u001b[36mgenerate_candidate_metadata\u001b[0m:\u001b[36m241\u001b[0m - \u001b[1mGenerated metadata for 4 Sentinel item candidates\u001b[0m\n",
      "\u001b[32m2023-08-10 17:11:23.859\u001b[0m | \u001b[1mINFO    \u001b[0m | \u001b[36mcyano.data.satellite_data\u001b[0m:\u001b[36midentify_satellite_data\u001b[0m:\u001b[36m297\u001b[0m - \u001b[1mSelecting which items to use for feature generation\u001b[0m\n",
      "100%|█████████████████████████████████████████████████████████████████████| 5/5 [00:00<00:00, 202.68it/s]\n",
      "\u001b[32m2023-08-10 17:11:23.902\u001b[0m | \u001b[1mINFO    \u001b[0m | \u001b[36mcyano.data.satellite_data\u001b[0m:\u001b[36midentify_satellite_data\u001b[0m:\u001b[36m316\u001b[0m - \u001b[1mIdentified satellite imagery for 2 samples\u001b[0m\n",
      "\u001b[32m2023-08-10 17:11:23.906\u001b[0m | \u001b[1mINFO    \u001b[0m | \u001b[36mcyano.pipeline\u001b[0m:\u001b[36m_prepare_features\u001b[0m:\u001b[36m59\u001b[0m - \u001b[1m4 rows of satellite metadata saved to /Users/katewetstone/Repos/cyanobacteria-prediction/data/experiment/cache/satellite_metadata_train.csv\u001b[0m\n",
      "\u001b[32m2023-08-10 17:11:23.908\u001b[0m | \u001b[1mINFO    \u001b[0m | \u001b[36mcyano.data.satellite_data\u001b[0m:\u001b[36mdownload_satellite_data\u001b[0m:\u001b[36m341\u001b[0m - \u001b[1mDownloading bands ['AOT', 'B01', 'B02', 'B03', 'B04', 'B05', 'B06', 'B07', 'B08', 'B09', 'B11', 'B12', 'B8A', 'SCL', 'WVP']\u001b[0m\n",
      "100%|█████████████████████████████████████████████████████████████████████| 4/4 [00:00<00:00, 172.39it/s]\n",
      "\u001b[32m2023-08-10 17:11:23.940\u001b[0m | \u001b[32m\u001b[1mSUCCESS \u001b[0m | \u001b[36mcyano.pipeline\u001b[0m:\u001b[36m_prepare_features\u001b[0m:\u001b[36m71\u001b[0m - \u001b[32m\u001b[1mRaw source data saved to /Users/katewetstone/Repos/cyanobacteria-prediction/data/experiment/cache\u001b[0m\n",
      "\u001b[32m2023-08-10 17:11:23.943\u001b[0m | \u001b[1mINFO    \u001b[0m | \u001b[36mcyano.data.features\u001b[0m:\u001b[36mgenerate_satellite_features\u001b[0m:\u001b[36m109\u001b[0m - \u001b[1mGenerating satellite features for 4 sample/item combos, 2 samples\u001b[0m\n",
      "100%|█████████████████████████████████████████████████████████████████████| 4/4 [00:00<00:00, 120.71it/s]\n",
      "\u001b[32m2023-08-10 17:11:24.014\u001b[0m | \u001b[1mINFO    \u001b[0m | \u001b[36mcyano.data.features\u001b[0m:\u001b[36mgenerate_features\u001b[0m:\u001b[36m262\u001b[0m - \u001b[1mGenerated 66 satellite features. 2 samples, 4 item / sample combinations.\u001b[0m\n",
      "\u001b[32m2023-08-10 17:11:24.021\u001b[0m | \u001b[1mINFO    \u001b[0m | \u001b[36mcyano.data.features\u001b[0m:\u001b[36mgenerate_features\u001b[0m:\u001b[36m285\u001b[0m - \u001b[1mGenerated 4 metadata features\u001b[0m\n",
      "\u001b[32m2023-08-10 17:11:24.031\u001b[0m | \u001b[32m\u001b[1mSUCCESS \u001b[0m | \u001b[36mcyano.pipeline\u001b[0m:\u001b[36m_prepare_features\u001b[0m:\u001b[36m77\u001b[0m - \u001b[32m\u001b[1m67 features for 2 samples (of 5) saved to /Users/katewetstone/Repos/cyanobacteria-prediction/data/experiment/cache/features_train.csv\u001b[0m\n",
      "\u001b[32m2023-08-10 17:11:24.071\u001b[0m | \u001b[1mINFO    \u001b[0m | \u001b[36mcyano.pipeline\u001b[0m:\u001b[36m_to_disk\u001b[0m:\u001b[36m102\u001b[0m - \u001b[1mSaving model to /tmp/model.zip\u001b[0m\n"
     ]
    }
   ],
   "source": [
    "pipeline = CyanoModelPipeline(\n",
    "    features_config=feature_config,\n",
    "    model_training_config=ModelTrainingConfig(),\n",
    "    cache_dir=LOCAL_CACHE_DIR,\n",
    ")\n",
    "pipeline.run_training(\"../tests/assets/train_data.csv\", save_path=\"/tmp/model.zip\")"
   ]
  },
  {
   "cell_type": "code",
   "execution_count": 75,
   "id": "e17e3471-a10e-4045-86bf-4fa9a8087444",
   "metadata": {},
   "outputs": [
    {
     "data": {
      "text/html": [
       "<div>\n",
       "<style scoped>\n",
       "    .dataframe tbody tr th:only-of-type {\n",
       "        vertical-align: middle;\n",
       "    }\n",
       "\n",
       "    .dataframe tbody tr th {\n",
       "        vertical-align: top;\n",
       "    }\n",
       "\n",
       "    .dataframe thead th {\n",
       "        text-align: right;\n",
       "    }\n",
       "</style>\n",
       "<table border=\"1\" class=\"dataframe\">\n",
       "  <thead>\n",
       "    <tr style=\"text-align: right;\">\n",
       "      <th></th>\n",
       "      <th>date</th>\n",
       "      <th>latitude</th>\n",
       "      <th>longitude</th>\n",
       "    </tr>\n",
       "    <tr>\n",
       "      <th>uid</th>\n",
       "      <th></th>\n",
       "      <th></th>\n",
       "      <th></th>\n",
       "    </tr>\n",
       "  </thead>\n",
       "  <tbody>\n",
       "    <tr>\n",
       "      <th>e3ebefd90a00c3cc9f5aeaf32cd4c184</th>\n",
       "      <td>2015-06-29</td>\n",
       "      <td>41.424144</td>\n",
       "      <td>-73.206937</td>\n",
       "    </tr>\n",
       "    <tr>\n",
       "      <th>671520fa92f555ab335e0cfa888c57e7</th>\n",
       "      <td>2013-07-25</td>\n",
       "      <td>36.045000</td>\n",
       "      <td>-79.091942</td>\n",
       "    </tr>\n",
       "    <tr>\n",
       "      <th>9c601f226c2af07d570134127a7fda27</th>\n",
       "      <td>2017-08-21</td>\n",
       "      <td>35.884524</td>\n",
       "      <td>-78.953997</td>\n",
       "    </tr>\n",
       "    <tr>\n",
       "      <th>3a2c48812b551d720f8d56772efa6df1</th>\n",
       "      <td>2019-08-28</td>\n",
       "      <td>41.392490</td>\n",
       "      <td>-75.360700</td>\n",
       "    </tr>\n",
       "    <tr>\n",
       "      <th>2543db364f727f17fe4ce7881aa180da</th>\n",
       "      <td>2013-07-11</td>\n",
       "      <td>38.305600</td>\n",
       "      <td>-122.026000</td>\n",
       "    </tr>\n",
       "  </tbody>\n",
       "</table>\n",
       "</div>"
      ],
      "text/plain": [
       "                                        date   latitude   longitude\n",
       "uid                                                                \n",
       "e3ebefd90a00c3cc9f5aeaf32cd4c184  2015-06-29  41.424144  -73.206937\n",
       "671520fa92f555ab335e0cfa888c57e7  2013-07-25  36.045000  -79.091942\n",
       "9c601f226c2af07d570134127a7fda27  2017-08-21  35.884524  -78.953997\n",
       "3a2c48812b551d720f8d56772efa6df1  2019-08-28  41.392490  -75.360700\n",
       "2543db364f727f17fe4ce7881aa180da  2013-07-11  38.305600 -122.026000"
      ]
     },
     "execution_count": 75,
     "metadata": {},
     "output_type": "execute_result"
    }
   ],
   "source": [
    "pipeline.train_samples"
   ]
  },
  {
   "cell_type": "code",
   "execution_count": 76,
   "id": "2b6cc0d4-d638-4290-a6a2-e0be038734f3",
   "metadata": {},
   "outputs": [
    {
     "data": {
      "text/html": [
       "<div>\n",
       "<style scoped>\n",
       "    .dataframe tbody tr th:only-of-type {\n",
       "        vertical-align: middle;\n",
       "    }\n",
       "\n",
       "    .dataframe tbody tr th {\n",
       "        vertical-align: top;\n",
       "    }\n",
       "\n",
       "    .dataframe thead th {\n",
       "        text-align: right;\n",
       "    }\n",
       "</style>\n",
       "<table border=\"1\" class=\"dataframe\">\n",
       "  <thead>\n",
       "    <tr style=\"text-align: right;\">\n",
       "      <th></th>\n",
       "      <th>AOT_mean</th>\n",
       "      <th>AOT_min</th>\n",
       "      <th>AOT_max</th>\n",
       "      <th>AOT_range</th>\n",
       "      <th>B01_mean</th>\n",
       "      <th>B01_min</th>\n",
       "      <th>B01_max</th>\n",
       "      <th>B01_range</th>\n",
       "      <th>B02_mean</th>\n",
       "      <th>B02_min</th>\n",
       "      <th>...</th>\n",
       "      <th>WVP_min</th>\n",
       "      <th>WVP_max</th>\n",
       "      <th>WVP_range</th>\n",
       "      <th>NDVI_B04</th>\n",
       "      <th>NDVI_B05</th>\n",
       "      <th>NDVI_B06</th>\n",
       "      <th>NDVI_B07</th>\n",
       "      <th>month</th>\n",
       "      <th>days_before_sample</th>\n",
       "      <th>rounded_longitude</th>\n",
       "    </tr>\n",
       "    <tr>\n",
       "      <th>sample_id</th>\n",
       "      <th></th>\n",
       "      <th></th>\n",
       "      <th></th>\n",
       "      <th></th>\n",
       "      <th></th>\n",
       "      <th></th>\n",
       "      <th></th>\n",
       "      <th></th>\n",
       "      <th></th>\n",
       "      <th></th>\n",
       "      <th></th>\n",
       "      <th></th>\n",
       "      <th></th>\n",
       "      <th></th>\n",
       "      <th></th>\n",
       "      <th></th>\n",
       "      <th></th>\n",
       "      <th></th>\n",
       "      <th></th>\n",
       "      <th></th>\n",
       "      <th></th>\n",
       "    </tr>\n",
       "  </thead>\n",
       "  <tbody>\n",
       "    <tr>\n",
       "      <th>9c601f226c2af07d570134127a7fda27</th>\n",
       "      <td>95.586168</td>\n",
       "      <td>95.0</td>\n",
       "      <td>96.0</td>\n",
       "      <td>1.0</td>\n",
       "      <td>4452.640625</td>\n",
       "      <td>3186.0</td>\n",
       "      <td>7687.0</td>\n",
       "      <td>4501.0</td>\n",
       "      <td>4323.993197</td>\n",
       "      <td>2168.0</td>\n",
       "      <td>...</td>\n",
       "      <td>1138.0</td>\n",
       "      <td>4300.0</td>\n",
       "      <td>3162.0</td>\n",
       "      <td>0.121759</td>\n",
       "      <td>0.054942</td>\n",
       "      <td>0.017671</td>\n",
       "      <td>-0.007689</td>\n",
       "      <td>8.0</td>\n",
       "      <td>9.0</td>\n",
       "      <td>-8.0</td>\n",
       "    </tr>\n",
       "    <tr>\n",
       "      <th>3a2c48812b551d720f8d56772efa6df1</th>\n",
       "      <td>129.913742</td>\n",
       "      <td>129.0</td>\n",
       "      <td>130.0</td>\n",
       "      <td>1.0</td>\n",
       "      <td>12258.953125</td>\n",
       "      <td>11413.0</td>\n",
       "      <td>13228.0</td>\n",
       "      <td>1815.0</td>\n",
       "      <td>11568.770970</td>\n",
       "      <td>10448.0</td>\n",
       "      <td>...</td>\n",
       "      <td>2934.0</td>\n",
       "      <td>2934.0</td>\n",
       "      <td>0.0</td>\n",
       "      <td>-0.025785</td>\n",
       "      <td>-0.044395</td>\n",
       "      <td>-0.024266</td>\n",
       "      <td>-0.018886</td>\n",
       "      <td>8.0</td>\n",
       "      <td>14.0</td>\n",
       "      <td>-8.0</td>\n",
       "    </tr>\n",
       "    <tr>\n",
       "      <th>3a2c48812b551d720f8d56772efa6df1</th>\n",
       "      <td>96.000000</td>\n",
       "      <td>96.0</td>\n",
       "      <td>96.0</td>\n",
       "      <td>0.0</td>\n",
       "      <td>289.156250</td>\n",
       "      <td>245.0</td>\n",
       "      <td>402.0</td>\n",
       "      <td>157.0</td>\n",
       "      <td>271.728138</td>\n",
       "      <td>189.0</td>\n",
       "      <td>...</td>\n",
       "      <td>897.0</td>\n",
       "      <td>1659.0</td>\n",
       "      <td>762.0</td>\n",
       "      <td>0.736759</td>\n",
       "      <td>0.519615</td>\n",
       "      <td>0.102936</td>\n",
       "      <td>0.021354</td>\n",
       "      <td>8.0</td>\n",
       "      <td>4.0</td>\n",
       "      <td>-8.0</td>\n",
       "    </tr>\n",
       "    <tr>\n",
       "      <th>3a2c48812b551d720f8d56772efa6df1</th>\n",
       "      <td>151.995241</td>\n",
       "      <td>151.0</td>\n",
       "      <td>152.0</td>\n",
       "      <td>1.0</td>\n",
       "      <td>678.109375</td>\n",
       "      <td>241.0</td>\n",
       "      <td>1528.0</td>\n",
       "      <td>1287.0</td>\n",
       "      <td>728.650208</td>\n",
       "      <td>275.0</td>\n",
       "      <td>...</td>\n",
       "      <td>1671.0</td>\n",
       "      <td>3353.0</td>\n",
       "      <td>1682.0</td>\n",
       "      <td>0.543555</td>\n",
       "      <td>0.382714</td>\n",
       "      <td>0.096019</td>\n",
       "      <td>0.013761</td>\n",
       "      <td>8.0</td>\n",
       "      <td>9.0</td>\n",
       "      <td>-8.0</td>\n",
       "    </tr>\n",
       "  </tbody>\n",
       "</table>\n",
       "<p>4 rows × 67 columns</p>\n",
       "</div>"
      ],
      "text/plain": [
       "                                    AOT_mean  AOT_min  AOT_max  AOT_range  \\\n",
       "sample_id                                                                   \n",
       "9c601f226c2af07d570134127a7fda27   95.586168     95.0     96.0        1.0   \n",
       "3a2c48812b551d720f8d56772efa6df1  129.913742    129.0    130.0        1.0   \n",
       "3a2c48812b551d720f8d56772efa6df1   96.000000     96.0     96.0        0.0   \n",
       "3a2c48812b551d720f8d56772efa6df1  151.995241    151.0    152.0        1.0   \n",
       "\n",
       "                                      B01_mean  B01_min  B01_max  B01_range  \\\n",
       "sample_id                                                                     \n",
       "9c601f226c2af07d570134127a7fda27   4452.640625   3186.0   7687.0     4501.0   \n",
       "3a2c48812b551d720f8d56772efa6df1  12258.953125  11413.0  13228.0     1815.0   \n",
       "3a2c48812b551d720f8d56772efa6df1    289.156250    245.0    402.0      157.0   \n",
       "3a2c48812b551d720f8d56772efa6df1    678.109375    241.0   1528.0     1287.0   \n",
       "\n",
       "                                      B02_mean  B02_min  ...  WVP_min  \\\n",
       "sample_id                                                ...            \n",
       "9c601f226c2af07d570134127a7fda27   4323.993197   2168.0  ...   1138.0   \n",
       "3a2c48812b551d720f8d56772efa6df1  11568.770970  10448.0  ...   2934.0   \n",
       "3a2c48812b551d720f8d56772efa6df1    271.728138    189.0  ...    897.0   \n",
       "3a2c48812b551d720f8d56772efa6df1    728.650208    275.0  ...   1671.0   \n",
       "\n",
       "                                  WVP_max  WVP_range  NDVI_B04  NDVI_B05  \\\n",
       "sample_id                                                                  \n",
       "9c601f226c2af07d570134127a7fda27   4300.0     3162.0  0.121759  0.054942   \n",
       "3a2c48812b551d720f8d56772efa6df1   2934.0        0.0 -0.025785 -0.044395   \n",
       "3a2c48812b551d720f8d56772efa6df1   1659.0      762.0  0.736759  0.519615   \n",
       "3a2c48812b551d720f8d56772efa6df1   3353.0     1682.0  0.543555  0.382714   \n",
       "\n",
       "                                  NDVI_B06  NDVI_B07  month  \\\n",
       "sample_id                                                     \n",
       "9c601f226c2af07d570134127a7fda27  0.017671 -0.007689    8.0   \n",
       "3a2c48812b551d720f8d56772efa6df1 -0.024266 -0.018886    8.0   \n",
       "3a2c48812b551d720f8d56772efa6df1  0.102936  0.021354    8.0   \n",
       "3a2c48812b551d720f8d56772efa6df1  0.096019  0.013761    8.0   \n",
       "\n",
       "                                  days_before_sample  rounded_longitude  \n",
       "sample_id                                                                \n",
       "9c601f226c2af07d570134127a7fda27                 9.0               -8.0  \n",
       "3a2c48812b551d720f8d56772efa6df1                14.0               -8.0  \n",
       "3a2c48812b551d720f8d56772efa6df1                 4.0               -8.0  \n",
       "3a2c48812b551d720f8d56772efa6df1                 9.0               -8.0  \n",
       "\n",
       "[4 rows x 67 columns]"
      ]
     },
     "execution_count": 76,
     "metadata": {},
     "output_type": "execute_result"
    }
   ],
   "source": [
    "pipeline.train_features"
   ]
  },
  {
   "cell_type": "code",
   "execution_count": 77,
   "id": "5a03f7b1-be8c-4017-bada-78edac4e4700",
   "metadata": {},
   "outputs": [
    {
     "data": {
      "text/plain": [
       "uid\n",
       "e3ebefd90a00c3cc9f5aeaf32cd4c184    1\n",
       "671520fa92f555ab335e0cfa888c57e7    1\n",
       "9c601f226c2af07d570134127a7fda27    3\n",
       "3a2c48812b551d720f8d56772efa6df1    2\n",
       "2543db364f727f17fe4ce7881aa180da    4\n",
       "Name: severity, dtype: int64"
      ]
     },
     "execution_count": 77,
     "metadata": {},
     "output_type": "execute_result"
    }
   ],
   "source": [
    "pipeline.train_labels"
   ]
  },
  {
   "cell_type": "code",
   "execution_count": null,
   "id": "f2366321-b07b-4208-8fac-0e1b3a0717e1",
   "metadata": {},
   "outputs": [],
   "source": []
  },
  {
   "cell_type": "code",
   "execution_count": null,
   "id": "f0d5728f-dc6c-4794-bb23-6f6885dc367c",
   "metadata": {},
   "outputs": [],
   "source": []
  },
  {
   "cell_type": "code",
   "execution_count": null,
   "id": "9ac186b9-953e-4fd6-8f37-3b5664a7b4af",
   "metadata": {},
   "outputs": [],
   "source": []
  }
 ],
 "metadata": {
  "kernelspec": {
   "display_name": "Python 3 (ipykernel)",
   "language": "python",
   "name": "python3"
  },
  "language_info": {
   "codemirror_mode": {
    "name": "ipython",
    "version": 3
   },
   "file_extension": ".py",
   "mimetype": "text/x-python",
   "name": "python",
   "nbconvert_exporter": "python",
   "pygments_lexer": "ipython3",
   "version": "3.10.12"
  }
 },
 "nbformat": 4,
 "nbformat_minor": 5
}
