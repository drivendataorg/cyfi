{
 "cells": [
  {
   "cell_type": "markdown",
   "id": "5518e0f6-9da9-468b-8189-fb6f8472c9ca",
   "metadata": {},
   "source": [
    "Recreate a model based on the third place solution of the [Tick Tick Bloom: Harmful Algal Bloom Detection Challenge](https://github.com/drivendataorg/tick-tick-bloom/tree/main)"
   ]
  },
  {
   "cell_type": "code",
   "execution_count": 1,
   "id": "63362578-51df-4e5a-a744-29d60cdb0006",
   "metadata": {},
   "outputs": [],
   "source": [
    "%load_ext lab_black\n",
    "%load_ext autoreload\n",
    "%autoreload 2"
   ]
  },
  {
   "cell_type": "code",
   "execution_count": 2,
   "id": "384337cd-aad4-44ef-a00f-160f45f10299",
   "metadata": {},
   "outputs": [
    {
     "name": "stderr",
     "output_type": "stream",
     "text": [
      "/opt/anaconda3/envs/cyanobacteria-prediction/lib/python3.10/site-packages/pydantic/_internal/_fields.py:126: UserWarning: Field \"model_training_config\" has conflict with protected namespace \"model_\".\n",
      "\n",
      "You may be able to resolve this warning by setting `model_config['protected_namespaces'] = ()`.\n",
      "  warnings.warn(\n"
     ]
    }
   ],
   "source": [
    "import yaml\n",
    "\n",
    "from cloudpathlib import AnyPath\n",
    "import lightgbm as lgb\n",
    "import pandas as pd\n",
    "\n",
    "from cyano.pipeline import CyanoModelPipeline\n",
    "from cyano.config import FeaturesConfig, ModelTrainingConfig\n",
    "from cyano.settings import REPO_ROOT\n",
    "from cyano.experiment.experiment import ExperimentConfig"
   ]
  },
  {
   "cell_type": "code",
   "execution_count": 3,
   "id": "8adec776-cd51-4758-9388-86892e7b18e9",
   "metadata": {},
   "outputs": [
    {
     "data": {
      "text/plain": [
       "PosixPath('/Users/katewetstone/Repos/cyanobacteria-prediction/data/experiments/cache')"
      ]
     },
     "execution_count": 3,
     "metadata": {},
     "output_type": "execute_result"
    }
   ],
   "source": [
    "SPLITS_DIR = REPO_ROOT.parent / \"data/experiments/splits\"\n",
    "TEST_ASSETS_DIR = REPO_ROOT.parent / \"tests/assets\"\n",
    "LOCAL_CACHE_DIR = REPO_ROOT.parent / \"data/experiments/cache\"\n",
    "LOCAL_CACHE_DIR"
   ]
  },
  {
   "cell_type": "markdown",
   "id": "86611ab9-dcc5-412c-9bb3-e999158f52a0",
   "metadata": {},
   "source": [
    "### Pipeline settings"
   ]
  },
  {
   "cell_type": "code",
   "execution_count": 4,
   "id": "358c43af-ef26-4b4c-bead-4d912bc52a6e",
   "metadata": {},
   "outputs": [
    {
     "data": {
      "text/plain": [
       "['AOT_mean', 'AOT_min', 'AOT_max', 'AOT_range', 'B01_mean', 'B01_min']"
      ]
     },
     "execution_count": 4,
     "metadata": {},
     "output_type": "execute_result"
    }
   ],
   "source": [
    "use_sentinel_bands = [\n",
    "    \"AOT\",\n",
    "    \"B01\",\n",
    "    \"B02\",\n",
    "    \"B03\",\n",
    "    \"B04\",\n",
    "    \"B05\",\n",
    "    \"B06\",\n",
    "    \"B07\",\n",
    "    \"B08\",\n",
    "    \"B09\",\n",
    "    \"B11\",\n",
    "    \"B12\",\n",
    "    \"B8A\",\n",
    "    \"SCL\",\n",
    "    \"WVP\",\n",
    "]\n",
    "sat_image_fts = [\n",
    "    f\"{band}_{stat}\"\n",
    "    for band in use_sentinel_bands\n",
    "    for stat in [\"mean\", \"min\", \"max\", \"range\"]\n",
    "]\n",
    "sat_image_fts += [\"NDVI_B04\", \"NDVI_B05\", \"NDVI_B06\", \"NDVI_B07\"]\n",
    "sat_image_fts[:6]"
   ]
  },
  {
   "cell_type": "code",
   "execution_count": 5,
   "id": "7a80d191-137c-4a7f-8ccd-8e8d4bc08ce8",
   "metadata": {},
   "outputs": [
    {
     "data": {
      "text/plain": [
       "64"
      ]
     },
     "execution_count": 5,
     "metadata": {},
     "output_type": "execute_result"
    }
   ],
   "source": [
    "len(sat_image_fts)"
   ]
  },
  {
   "cell_type": "code",
   "execution_count": 6,
   "id": "d3be3f2e-fb0b-4c7c-a04a-017e6a07018c",
   "metadata": {},
   "outputs": [],
   "source": [
    "features_config = FeaturesConfig(\n",
    "    image_feature_meter_window=200,\n",
    "    n_sentinel_items=15,\n",
    "    pc_meters_search_window=5000,\n",
    "    pc_days_search_window=15,\n",
    "    use_sentinel_bands=use_sentinel_bands,\n",
    "    satellite_image_features=sat_image_fts,\n",
    "    satellite_meta_features=[\"month\", \"days_before_sample\"],\n",
    "    metadata_features=[\"rounded_longitude\"],\n",
    ")"
   ]
  },
  {
   "cell_type": "code",
   "execution_count": 7,
   "id": "a3131dc9-403c-4bc4-b5e3-c774e46bb585",
   "metadata": {},
   "outputs": [],
   "source": [
    "model_config = ModelTrainingConfig(\n",
    "    num_boost_round=100000,\n",
    "    params={\n",
    "        \"application\": \"regression\",\n",
    "        \"metric\": \"rmse\",\n",
    "        \"max_depth\": -1,\n",
    "        \"num_leaves\": 31,\n",
    "        \"learning_rate\": 0.1,\n",
    "    },\n",
    ")"
   ]
  },
  {
   "cell_type": "code",
   "execution_count": 8,
   "id": "05dedde0-4d85-4a26-9639-32f3eccc3665",
   "metadata": {},
   "outputs": [],
   "source": [
    "experiment_save_dir = \"tmp_third\""
   ]
  },
  {
   "cell_type": "markdown",
   "id": "0fb317a1-431e-43e6-b274-f9e442bda2b2",
   "metadata": {},
   "source": [
    "## Experiment"
   ]
  },
  {
   "cell_type": "code",
   "execution_count": 161,
   "id": "48652fb8-151d-4f21-a303-276b5d633f21",
   "metadata": {
    "collapsed": true,
    "jupyter": {
     "outputs_hidden": true
    },
    "tags": []
   },
   "outputs": [
    {
     "name": "stderr",
     "output_type": "stream",
     "text": [
      "\u001b[32m2023-08-11 10:54:30.558\u001b[0m | \u001b[1mINFO    \u001b[0m | \u001b[36mcyano.pipeline\u001b[0m:\u001b[36m_prep_train_data\u001b[0m:\u001b[36m52\u001b[0m - \u001b[1mLoaded 10 samples for training\u001b[0m\n",
      "\u001b[32m2023-08-11 10:54:30.559\u001b[0m | \u001b[1mINFO    \u001b[0m | \u001b[36mcyano.data.satellite_data\u001b[0m:\u001b[36mgenerate_candidate_metadata\u001b[0m:\u001b[36m192\u001b[0m - \u001b[1mGenerating metadata for all satellite item candidates\u001b[0m\n",
      "\u001b[32m2023-08-11 10:54:30.560\u001b[0m | \u001b[1mINFO    \u001b[0m | \u001b[36mcyano.data.satellite_data\u001b[0m:\u001b[36mgenerate_candidate_metadata\u001b[0m:\u001b[36m211\u001b[0m - \u001b[1mSearching ['sentinel-2-l2a'] within 15 days and 5000 meters\u001b[0m\n",
      "100%|███████████████████████████████████████████████████████████████████████████████████████| 10/10 [00:17<00:00,  1.79s/it]\n",
      "\u001b[32m2023-08-11 10:54:48.480\u001b[0m | \u001b[1mINFO    \u001b[0m | \u001b[36mcyano.data.satellite_data\u001b[0m:\u001b[36mgenerate_candidate_metadata\u001b[0m:\u001b[36m241\u001b[0m - \u001b[1mGenerated metadata for 44 Sentinel item candidates\u001b[0m\n",
      "\u001b[32m2023-08-11 10:54:48.481\u001b[0m | \u001b[1mINFO    \u001b[0m | \u001b[36mcyano.data.satellite_data\u001b[0m:\u001b[36midentify_satellite_data\u001b[0m:\u001b[36m297\u001b[0m - \u001b[1mSelecting which items to use for feature generation\u001b[0m\n",
      "100%|██████████████████████████████████████████████████████████████████████████████████████| 10/10 [00:00<00:00, 232.57it/s]\n",
      "\u001b[32m2023-08-11 10:54:48.531\u001b[0m | \u001b[1mINFO    \u001b[0m | \u001b[36mcyano.data.satellite_data\u001b[0m:\u001b[36midentify_satellite_data\u001b[0m:\u001b[36m316\u001b[0m - \u001b[1mIdentified satellite imagery for 8 samples\u001b[0m\n",
      "\u001b[32m2023-08-11 10:54:48.542\u001b[0m | \u001b[1mINFO    \u001b[0m | \u001b[36mcyano.pipeline\u001b[0m:\u001b[36m_prepare_features\u001b[0m:\u001b[36m62\u001b[0m - \u001b[1m44 rows of satellite metadata saved to /Users/katewetstone/Repos/cyanobacteria-prediction/data/experiments/cache/satellite_metadata_train.csv\u001b[0m\n",
      "\u001b[32m2023-08-11 10:54:48.543\u001b[0m | \u001b[1mINFO    \u001b[0m | \u001b[36mcyano.data.satellite_data\u001b[0m:\u001b[36mdownload_satellite_data\u001b[0m:\u001b[36m341\u001b[0m - \u001b[1mDownloading bands ['AOT', 'B01', 'B02', 'B03', 'B04', 'B05', 'B06', 'B07', 'B08', 'B09', 'B11', 'B12', 'B8A', 'SCL', 'WVP']\u001b[0m\n",
      "100%|███████████████████████████████████████████████████████████████████████████████████████| 44/44 [09:37<00:00, 13.13s/it]\n",
      "\u001b[32m2023-08-11 11:04:26.216\u001b[0m | \u001b[33m\u001b[1mWARNING \u001b[0m | \u001b[36mcyano.data.satellite_data\u001b[0m:\u001b[36mdownload_satellite_data\u001b[0m:\u001b[36m380\u001b[0m - \u001b[33m\u001b[1mCould not download 6 image/sample combinations with no data in bounds\u001b[0m\n",
      "\u001b[32m2023-08-11 11:04:26.218\u001b[0m | \u001b[32m\u001b[1mSUCCESS \u001b[0m | \u001b[36mcyano.pipeline\u001b[0m:\u001b[36m_prepare_features\u001b[0m:\u001b[36m74\u001b[0m - \u001b[32m\u001b[1mRaw source data saved to /Users/katewetstone/Repos/cyanobacteria-prediction/data/experiments/cache\u001b[0m\n",
      "\u001b[32m2023-08-11 11:04:26.220\u001b[0m | \u001b[1mINFO    \u001b[0m | \u001b[36mcyano.data.features\u001b[0m:\u001b[36mgenerate_satellite_features\u001b[0m:\u001b[36m109\u001b[0m - \u001b[1mGenerating satellite features for 44 sample/item combos, 8 samples\u001b[0m\n",
      "100%|██████████████████████████████████████████████████████████████████████████████████████| 44/44 [00:00<00:00, 145.07it/s]\n",
      "\u001b[32m2023-08-11 11:04:26.552\u001b[0m | \u001b[1mINFO    \u001b[0m | \u001b[36mcyano.data.features\u001b[0m:\u001b[36mgenerate_features\u001b[0m:\u001b[36m262\u001b[0m - \u001b[1mGenerated 66 satellite features. 8 samples, 38 item / sample combinations.\u001b[0m\n",
      "\u001b[32m2023-08-11 11:04:26.555\u001b[0m | \u001b[1mINFO    \u001b[0m | \u001b[36mcyano.data.features\u001b[0m:\u001b[36mgenerate_features\u001b[0m:\u001b[36m285\u001b[0m - \u001b[1mGenerated 38 metadata features\u001b[0m\n",
      "\u001b[32m2023-08-11 11:04:26.563\u001b[0m | \u001b[32m\u001b[1mSUCCESS \u001b[0m | \u001b[36mcyano.pipeline\u001b[0m:\u001b[36m_prepare_features\u001b[0m:\u001b[36m80\u001b[0m - \u001b[32m\u001b[1m67 features for 8 samples (of 10) saved to /Users/katewetstone/Repos/cyanobacteria-prediction/data/experiments/cache/features_train.csv\u001b[0m\n",
      "\u001b[32m2023-08-11 11:04:26.584\u001b[0m | \u001b[1mINFO    \u001b[0m | \u001b[36mcyano.pipeline\u001b[0m:\u001b[36m_to_disk\u001b[0m:\u001b[36m142\u001b[0m - \u001b[1mSaving model to tmp_third/model.zip\u001b[0m\n",
      "\u001b[32m2023-08-11 11:04:26.596\u001b[0m | \u001b[32m\u001b[1mSUCCESS \u001b[0m | \u001b[36mcyano.experiment.experiment\u001b[0m:\u001b[36mrun_experiment\u001b[0m:\u001b[36m37\u001b[0m - \u001b[32m\u001b[1mWrote out artifact config to tmp_third\u001b[0m\n",
      "\u001b[32m2023-08-11 11:04:26.657\u001b[0m | \u001b[1mINFO    \u001b[0m | \u001b[36mcyano.pipeline\u001b[0m:\u001b[36m_prep_predict_data\u001b[0m:\u001b[36m170\u001b[0m - \u001b[1mLoaded 10 samples for prediction\u001b[0m\n",
      "\u001b[32m2023-08-11 11:04:26.658\u001b[0m | \u001b[1mINFO    \u001b[0m | \u001b[36mcyano.data.satellite_data\u001b[0m:\u001b[36mgenerate_candidate_metadata\u001b[0m:\u001b[36m192\u001b[0m - \u001b[1mGenerating metadata for all satellite item candidates\u001b[0m\n",
      "\u001b[32m2023-08-11 11:04:26.659\u001b[0m | \u001b[1mINFO    \u001b[0m | \u001b[36mcyano.data.satellite_data\u001b[0m:\u001b[36mgenerate_candidate_metadata\u001b[0m:\u001b[36m211\u001b[0m - \u001b[1mSearching ['sentinel-2-l2a'] within 15 days and 5000 meters\u001b[0m\n",
      "100%|███████████████████████████████████████████████████████████████████████████████████████| 10/10 [00:11<00:00,  1.18s/it]\n",
      "\u001b[32m2023-08-11 11:04:38.440\u001b[0m | \u001b[1mINFO    \u001b[0m | \u001b[36mcyano.data.satellite_data\u001b[0m:\u001b[36mgenerate_candidate_metadata\u001b[0m:\u001b[36m241\u001b[0m - \u001b[1mGenerated metadata for 32 Sentinel item candidates\u001b[0m\n",
      "\u001b[32m2023-08-11 11:04:38.443\u001b[0m | \u001b[1mINFO    \u001b[0m | \u001b[36mcyano.data.satellite_data\u001b[0m:\u001b[36midentify_satellite_data\u001b[0m:\u001b[36m297\u001b[0m - \u001b[1mSelecting which items to use for feature generation\u001b[0m\n",
      "100%|██████████████████████████████████████████████████████████████████████████████████████| 10/10 [00:00<00:00, 174.14it/s]\n",
      "\u001b[32m2023-08-11 11:04:38.549\u001b[0m | \u001b[1mINFO    \u001b[0m | \u001b[36mcyano.data.satellite_data\u001b[0m:\u001b[36midentify_satellite_data\u001b[0m:\u001b[36m316\u001b[0m - \u001b[1mIdentified satellite imagery for 7 samples\u001b[0m\n",
      "\u001b[32m2023-08-11 11:04:38.559\u001b[0m | \u001b[1mINFO    \u001b[0m | \u001b[36mcyano.pipeline\u001b[0m:\u001b[36m_prepare_features\u001b[0m:\u001b[36m62\u001b[0m - \u001b[1m32 rows of satellite metadata saved to /Users/katewetstone/Repos/cyanobacteria-prediction/data/experiments/cache/satellite_metadata_train.csv\u001b[0m\n",
      "\u001b[32m2023-08-11 11:04:38.560\u001b[0m | \u001b[1mINFO    \u001b[0m | \u001b[36mcyano.data.satellite_data\u001b[0m:\u001b[36mdownload_satellite_data\u001b[0m:\u001b[36m341\u001b[0m - \u001b[1mDownloading bands ['AOT', 'B01', 'B02', 'B03', 'B04', 'B05', 'B06', 'B07', 'B08', 'B09', 'B11', 'B12', 'B8A', 'SCL', 'WVP']\u001b[0m\n",
      "100%|███████████████████████████████████████████████████████████████████████████████████████| 32/32 [05:47<00:00, 10.85s/it]\n",
      "\u001b[32m2023-08-11 11:10:25.684\u001b[0m | \u001b[32m\u001b[1mSUCCESS \u001b[0m | \u001b[36mcyano.pipeline\u001b[0m:\u001b[36m_prepare_features\u001b[0m:\u001b[36m74\u001b[0m - \u001b[32m\u001b[1mRaw source data saved to /Users/katewetstone/Repos/cyanobacteria-prediction/data/experiments/cache\u001b[0m\n",
      "\u001b[32m2023-08-11 11:10:25.685\u001b[0m | \u001b[1mINFO    \u001b[0m | \u001b[36mcyano.data.features\u001b[0m:\u001b[36mgenerate_satellite_features\u001b[0m:\u001b[36m109\u001b[0m - \u001b[1mGenerating satellite features for 32 sample/item combos, 7 samples\u001b[0m\n",
      "100%|██████████████████████████████████████████████████████████████████████████████████████| 32/32 [00:00<00:00, 108.09it/s]\n",
      "\u001b[32m2023-08-11 11:10:26.007\u001b[0m | \u001b[1mINFO    \u001b[0m | \u001b[36mcyano.data.features\u001b[0m:\u001b[36mgenerate_features\u001b[0m:\u001b[36m262\u001b[0m - \u001b[1mGenerated 66 satellite features. 7 samples, 32 item / sample combinations.\u001b[0m\n",
      "\u001b[32m2023-08-11 11:10:26.012\u001b[0m | \u001b[1mINFO    \u001b[0m | \u001b[36mcyano.data.features\u001b[0m:\u001b[36mgenerate_features\u001b[0m:\u001b[36m285\u001b[0m - \u001b[1mGenerated 32 metadata features\u001b[0m\n",
      "\u001b[32m2023-08-11 11:10:26.067\u001b[0m | \u001b[32m\u001b[1mSUCCESS \u001b[0m | \u001b[36mcyano.pipeline\u001b[0m:\u001b[36m_prepare_features\u001b[0m:\u001b[36m80\u001b[0m - \u001b[32m\u001b[1m67 features for 7 samples (of 10) saved to /Users/katewetstone/Repos/cyanobacteria-prediction/data/experiments/cache/features_train.csv\u001b[0m\n",
      "\u001b[32m2023-08-11 11:10:26.070\u001b[0m | \u001b[1mINFO    \u001b[0m | \u001b[36mcyano.pipeline\u001b[0m:\u001b[36m_predict_model\u001b[0m:\u001b[36m185\u001b[0m - \u001b[1mGrouping 32 predictions by 7 unique sample IDs\u001b[0m\n",
      "\u001b[32m2023-08-11 11:10:26.079\u001b[0m | \u001b[1mINFO    \u001b[0m | \u001b[36mcyano.pipeline\u001b[0m:\u001b[36m_predict_model\u001b[0m:\u001b[36m193\u001b[0m - \u001b[1mPredicting the mean for 3 samples with no imagery\u001b[0m\n",
      "\u001b[32m2023-08-11 11:10:26.109\u001b[0m | \u001b[32m\u001b[1mSUCCESS \u001b[0m | \u001b[36mcyano.pipeline\u001b[0m:\u001b[36m_write_predictions\u001b[0m:\u001b[36m203\u001b[0m - \u001b[32m\u001b[1mPredictions saved to tmp_third/preds.csv\u001b[0m\n",
      "\u001b[32m2023-08-11 11:10:26.110\u001b[0m | \u001b[1mINFO    \u001b[0m | \u001b[36mcyano.experiment.experiment\u001b[0m:\u001b[36mrun_experiment\u001b[0m:\u001b[36m44\u001b[0m - \u001b[1mEvaluation is not run in debug mode\u001b[0m\n"
     ]
    }
   ],
   "source": [
    "experiment_config = ExperimentConfig(\n",
    "    features_config=features_config,\n",
    "    train_csv=SPLITS_DIR / \"competition/train.csv\",\n",
    "    predict_csv=SPLITS_DIR / \"competition/test.csv\",\n",
    "    cache_dir=LOCAL_CACHE_DIR,\n",
    "    save_dir=experiment_save_dir,\n",
    "    debug=True,\n",
    ")\n",
    "\n",
    "config_path = REPO_ROOT / \"experiment/configs/third_place.yaml\"\n",
    "with config_path.open(\"w\") as fp:\n",
    "    yaml.dump(experiment_config.model_dump(), fp)\n",
    "    \n",
    "experiment_config.run_experiment()"
   ]
  },
  {
   "cell_type": "code",
   "execution_count": 170,
   "id": "a7fb7c39-4f69-4889-9822-afb8f7268f6d",
   "metadata": {
    "collapsed": true,
    "jupyter": {
     "outputs_hidden": true
    },
    "tags": []
   },
   "outputs": [
    {
     "name": "stderr",
     "output_type": "stream",
     "text": [
      "\u001b[32m2023-08-11 11:40:05.479\u001b[0m | \u001b[1mINFO    \u001b[0m | \u001b[36mcyano.pipeline\u001b[0m:\u001b[36m_prep_train_data\u001b[0m:\u001b[36m52\u001b[0m - \u001b[1mLoaded 5 samples for training\u001b[0m\n",
      "\u001b[32m2023-08-11 11:40:05.480\u001b[0m | \u001b[1mINFO    \u001b[0m | \u001b[36mcyano.data.satellite_data\u001b[0m:\u001b[36mgenerate_candidate_metadata\u001b[0m:\u001b[36m192\u001b[0m - \u001b[1mGenerating metadata for all satellite item candidates\u001b[0m\n",
      "\u001b[32m2023-08-11 11:40:11.827\u001b[0m | \u001b[1mINFO    \u001b[0m | \u001b[36mcyano.data.satellite_data\u001b[0m:\u001b[36mgenerate_candidate_metadata\u001b[0m:\u001b[36m202\u001b[0m - \u001b[1mLoaded 56,173 rows of Sentinel candidate metadata from s3://drivendata-competition-nasa-cyanobacteria/data/interim/full_pc_search\u001b[0m\n",
      "\u001b[32m2023-08-11 11:40:13.674\u001b[0m | \u001b[1mINFO    \u001b[0m | \u001b[36mcyano.data.satellite_data\u001b[0m:\u001b[36midentify_satellite_data\u001b[0m:\u001b[36m297\u001b[0m - \u001b[1mSelecting which items to use for feature generation\u001b[0m\n",
      "100%|████████████████████████████████████████████████████████████████████████████████████████| 5/5 [00:00<00:00, 159.19it/s]\n",
      "\u001b[32m2023-08-11 11:40:13.713\u001b[0m | \u001b[1mINFO    \u001b[0m | \u001b[36mcyano.data.satellite_data\u001b[0m:\u001b[36midentify_satellite_data\u001b[0m:\u001b[36m316\u001b[0m - \u001b[1mIdentified satellite imagery for 2 samples\u001b[0m\n",
      "\u001b[32m2023-08-11 11:40:14.015\u001b[0m | \u001b[1mINFO    \u001b[0m | \u001b[36mcyano.pipeline\u001b[0m:\u001b[36m_prepare_features\u001b[0m:\u001b[36m62\u001b[0m - \u001b[1m5 rows of satellite metadata saved to /Users/katewetstone/Repos/cyanobacteria-prediction/data/experiments/cache/satellite_metadata_train.csv\u001b[0m\n",
      "\u001b[32m2023-08-11 11:40:14.017\u001b[0m | \u001b[1mINFO    \u001b[0m | \u001b[36mcyano.data.satellite_data\u001b[0m:\u001b[36mdownload_satellite_data\u001b[0m:\u001b[36m341\u001b[0m - \u001b[1mDownloading bands ['AOT', 'B01', 'B02', 'B03', 'B04', 'B05', 'B06', 'B07', 'B08', 'B09', 'B11', 'B12', 'B8A', 'SCL', 'WVP']\u001b[0m\n",
      "100%|████████████████████████████████████████████████████████████████████████████████████████| 5/5 [00:00<00:00, 473.48it/s]\n",
      "\u001b[32m2023-08-11 11:40:14.034\u001b[0m | \u001b[32m\u001b[1mSUCCESS \u001b[0m | \u001b[36mcyano.pipeline\u001b[0m:\u001b[36m_prepare_features\u001b[0m:\u001b[36m74\u001b[0m - \u001b[32m\u001b[1mRaw source data saved to /Users/katewetstone/Repos/cyanobacteria-prediction/data/experiments/cache\u001b[0m\n",
      "\u001b[32m2023-08-11 11:40:14.035\u001b[0m | \u001b[1mINFO    \u001b[0m | \u001b[36mcyano.data.features\u001b[0m:\u001b[36mgenerate_satellite_features\u001b[0m:\u001b[36m109\u001b[0m - \u001b[1mGenerating satellite features for 5 sample/item combos, 2 samples\u001b[0m\n",
      "100%|█████████████████████████████████████████████████████████████████████████████████████████| 5/5 [00:00<00:00, 98.74it/s]\n",
      "\u001b[32m2023-08-11 11:40:14.110\u001b[0m | \u001b[1mINFO    \u001b[0m | \u001b[36mcyano.data.features\u001b[0m:\u001b[36mgenerate_features\u001b[0m:\u001b[36m262\u001b[0m - \u001b[1mGenerated 66 satellite features. 2 samples, 5 item / sample combinations.\u001b[0m\n",
      "\u001b[32m2023-08-11 11:40:14.113\u001b[0m | \u001b[1mINFO    \u001b[0m | \u001b[36mcyano.data.features\u001b[0m:\u001b[36mgenerate_features\u001b[0m:\u001b[36m285\u001b[0m - \u001b[1mGenerated 5 metadata features\u001b[0m\n",
      "\u001b[32m2023-08-11 11:40:14.121\u001b[0m | \u001b[32m\u001b[1mSUCCESS \u001b[0m | \u001b[36mcyano.pipeline\u001b[0m:\u001b[36m_prepare_features\u001b[0m:\u001b[36m80\u001b[0m - \u001b[32m\u001b[1m67 features for 2 samples (of 5) saved to /Users/katewetstone/Repos/cyanobacteria-prediction/data/experiments/cache/features_train.csv\u001b[0m\n",
      "\u001b[32m2023-08-11 11:40:14.298\u001b[0m | \u001b[1mINFO    \u001b[0m | \u001b[36mcyano.pipeline\u001b[0m:\u001b[36m_to_disk\u001b[0m:\u001b[36m133\u001b[0m - \u001b[1mSaving model to tmp_third/model.zip\u001b[0m\n",
      "\u001b[32m2023-08-11 11:40:14.316\u001b[0m | \u001b[32m\u001b[1mSUCCESS \u001b[0m | \u001b[36mcyano.experiment.experiment\u001b[0m:\u001b[36mrun_experiment\u001b[0m:\u001b[36m37\u001b[0m - \u001b[32m\u001b[1mWrote out artifact config to tmp_third\u001b[0m\n",
      "\u001b[32m2023-08-11 11:40:14.355\u001b[0m | \u001b[1mINFO    \u001b[0m | \u001b[36mcyano.pipeline\u001b[0m:\u001b[36m_prep_predict_data\u001b[0m:\u001b[36m161\u001b[0m - \u001b[1mLoaded 5 samples for prediction\u001b[0m\n",
      "\u001b[32m2023-08-11 11:40:14.356\u001b[0m | \u001b[1mINFO    \u001b[0m | \u001b[36mcyano.data.satellite_data\u001b[0m:\u001b[36mgenerate_candidate_metadata\u001b[0m:\u001b[36m192\u001b[0m - \u001b[1mGenerating metadata for all satellite item candidates\u001b[0m\n",
      "\u001b[32m2023-08-11 11:40:20.495\u001b[0m | \u001b[1mINFO    \u001b[0m | \u001b[36mcyano.data.satellite_data\u001b[0m:\u001b[36mgenerate_candidate_metadata\u001b[0m:\u001b[36m202\u001b[0m - \u001b[1mLoaded 56,173 rows of Sentinel candidate metadata from s3://drivendata-competition-nasa-cyanobacteria/data/interim/full_pc_search\u001b[0m\n",
      "\u001b[32m2023-08-11 11:40:21.633\u001b[0m | \u001b[1mINFO    \u001b[0m | \u001b[36mcyano.data.satellite_data\u001b[0m:\u001b[36midentify_satellite_data\u001b[0m:\u001b[36m297\u001b[0m - \u001b[1mSelecting which items to use for feature generation\u001b[0m\n",
      "100%|████████████████████████████████████████████████████████████████████████████████████████| 5/5 [00:00<00:00, 167.14it/s]\n",
      "\u001b[32m2023-08-11 11:40:21.671\u001b[0m | \u001b[1mINFO    \u001b[0m | \u001b[36mcyano.data.satellite_data\u001b[0m:\u001b[36midentify_satellite_data\u001b[0m:\u001b[36m316\u001b[0m - \u001b[1mIdentified satellite imagery for 2 samples\u001b[0m\n",
      "\u001b[32m2023-08-11 11:40:21.950\u001b[0m | \u001b[1mINFO    \u001b[0m | \u001b[36mcyano.pipeline\u001b[0m:\u001b[36m_prepare_features\u001b[0m:\u001b[36m62\u001b[0m - \u001b[1m10 rows of satellite metadata saved to /Users/katewetstone/Repos/cyanobacteria-prediction/data/experiments/cache/satellite_metadata_train.csv\u001b[0m\n",
      "\u001b[32m2023-08-11 11:40:21.951\u001b[0m | \u001b[1mINFO    \u001b[0m | \u001b[36mcyano.data.satellite_data\u001b[0m:\u001b[36mdownload_satellite_data\u001b[0m:\u001b[36m341\u001b[0m - \u001b[1mDownloading bands ['AOT', 'B01', 'B02', 'B03', 'B04', 'B05', 'B06', 'B07', 'B08', 'B09', 'B11', 'B12', 'B8A', 'SCL', 'WVP']\u001b[0m\n",
      "100%|███████████████████████████████████████████████████████████████████████████████████████| 10/10 [01:38<00:00,  9.82s/it]\n",
      "\u001b[32m2023-08-11 11:42:00.126\u001b[0m | \u001b[32m\u001b[1mSUCCESS \u001b[0m | \u001b[36mcyano.pipeline\u001b[0m:\u001b[36m_prepare_features\u001b[0m:\u001b[36m74\u001b[0m - \u001b[32m\u001b[1mRaw source data saved to /Users/katewetstone/Repos/cyanobacteria-prediction/data/experiments/cache\u001b[0m\n",
      "\u001b[32m2023-08-11 11:42:00.128\u001b[0m | \u001b[1mINFO    \u001b[0m | \u001b[36mcyano.data.features\u001b[0m:\u001b[36mgenerate_satellite_features\u001b[0m:\u001b[36m109\u001b[0m - \u001b[1mGenerating satellite features for 10 sample/item combos, 2 samples\u001b[0m\n",
      "100%|██████████████████████████████████████████████████████████████████████████████████████| 10/10 [00:00<00:00, 217.23it/s]\n",
      "\u001b[32m2023-08-11 11:42:00.211\u001b[0m | \u001b[1mINFO    \u001b[0m | \u001b[36mcyano.data.features\u001b[0m:\u001b[36mgenerate_features\u001b[0m:\u001b[36m262\u001b[0m - \u001b[1mGenerated 66 satellite features. 2 samples, 10 item / sample combinations.\u001b[0m\n",
      "\u001b[32m2023-08-11 11:42:00.215\u001b[0m | \u001b[1mINFO    \u001b[0m | \u001b[36mcyano.data.features\u001b[0m:\u001b[36mgenerate_features\u001b[0m:\u001b[36m285\u001b[0m - \u001b[1mGenerated 10 metadata features\u001b[0m\n",
      "\u001b[32m2023-08-11 11:42:00.220\u001b[0m | \u001b[32m\u001b[1mSUCCESS \u001b[0m | \u001b[36mcyano.pipeline\u001b[0m:\u001b[36m_prepare_features\u001b[0m:\u001b[36m80\u001b[0m - \u001b[32m\u001b[1m67 features for 2 samples (of 5) saved to /Users/katewetstone/Repos/cyanobacteria-prediction/data/experiments/cache/features_train.csv\u001b[0m\n",
      "\u001b[32m2023-08-11 11:42:00.233\u001b[0m | \u001b[1mINFO    \u001b[0m | \u001b[36mcyano.pipeline\u001b[0m:\u001b[36m_predict_model\u001b[0m:\u001b[36m176\u001b[0m - \u001b[1mGrouping 10 predictions by 2 unique sample IDs\u001b[0m\n",
      "\u001b[32m2023-08-11 11:42:00.246\u001b[0m | \u001b[1mINFO    \u001b[0m | \u001b[36mcyano.pipeline\u001b[0m:\u001b[36m_predict_model\u001b[0m:\u001b[36m184\u001b[0m - \u001b[1mPredicting the mean for 3 samples with no imagery\u001b[0m\n",
      "\u001b[32m2023-08-11 11:42:00.250\u001b[0m | \u001b[32m\u001b[1mSUCCESS \u001b[0m | \u001b[36mcyano.pipeline\u001b[0m:\u001b[36m_write_predictions\u001b[0m:\u001b[36m194\u001b[0m - \u001b[32m\u001b[1mPredictions saved to tmp_third/preds.csv\u001b[0m\n",
      "\u001b[32m2023-08-11 11:42:00.460\u001b[0m | \u001b[32m\u001b[1mSUCCESS \u001b[0m | \u001b[36mcyano.experiment.experiment\u001b[0m:\u001b[36mrun_experiment\u001b[0m:\u001b[36m52\u001b[0m - \u001b[32m\u001b[1mWrote out metrics to tmp_third/metrics\u001b[0m\n"
     ]
    },
    {
     "data": {
      "image/png": "[encoded data removed]",
      "text/plain": [
       "<Figure size 640x480 with 1 Axes>"
      ]
     },
     "metadata": {},
     "output_type": "display_data"
    }
   ],
   "source": [
    "experiment_config = ExperimentConfig(\n",
    "    features_config=features_config,\n",
    "    train_csv=TEST_ASSETS_DIR / \"train_data.csv\",\n",
    "    predict_csv=TEST_ASSETS_DIR / \"evaluate_data.csv\",\n",
    "    cache_dir=LOCAL_CACHE_DIR,\n",
    "    save_dir=experiment_save_dir,\n",
    "    debug=False,\n",
    ")\n",
    "\n",
    "# config_path = REPO_ROOT / \"experiment/configs/third_place.yaml\"\n",
    "# with config_path.open(\"w\") as fp:\n",
    "#     yaml.dump(experiment_config.model_dump(), fp)\n",
    "\n",
    "experiment_config.run_experiment()"
   ]
  },
  {
   "cell_type": "markdown",
   "id": "4de9e1bb-a319-45a5-8314-f9e6e4b4ee9e",
   "metadata": {},
   "source": [
    "#### Experiment with larger subset of comp data"
   ]
  },
  {
   "cell_type": "code",
   "execution_count": 9,
   "id": "ebac859f-f01d-40ce-9db5-472dc493cc5c",
   "metadata": {},
   "outputs": [
    {
     "data": {
      "text/html": [
       "<div>\n",
       "<style scoped>\n",
       "    .dataframe tbody tr th:only-of-type {\n",
       "        vertical-align: middle;\n",
       "    }\n",
       "\n",
       "    .dataframe tbody tr th {\n",
       "        vertical-align: top;\n",
       "    }\n",
       "\n",
       "    .dataframe thead th {\n",
       "        text-align: right;\n",
       "    }\n",
       "</style>\n",
       "<table border=\"1\" class=\"dataframe\">\n",
       "  <thead>\n",
       "    <tr style=\"text-align: right;\">\n",
       "      <th></th>\n",
       "      <th>uid</th>\n",
       "      <th>data_provider</th>\n",
       "      <th>region</th>\n",
       "      <th>latitude</th>\n",
       "      <th>longitude</th>\n",
       "      <th>date</th>\n",
       "      <th>density_cells_per_ml</th>\n",
       "      <th>severity</th>\n",
       "      <th>distance_to_water_m</th>\n",
       "    </tr>\n",
       "  </thead>\n",
       "  <tbody>\n",
       "    <tr>\n",
       "      <th>1174</th>\n",
       "      <td>buvf</td>\n",
       "      <td>N.C. Division of Water Resources N.C. Departme...</td>\n",
       "      <td>south</td>\n",
       "      <td>35.790</td>\n",
       "      <td>-79.034845</td>\n",
       "      <td>2020-12-10</td>\n",
       "      <td>87137.0</td>\n",
       "      <td>2</td>\n",
       "      <td>524.0</td>\n",
       "    </tr>\n",
       "    <tr>\n",
       "      <th>3732</th>\n",
       "      <td>frko</td>\n",
       "      <td>N.C. Division of Water Resources N.C. Departme...</td>\n",
       "      <td>south</td>\n",
       "      <td>35.976</td>\n",
       "      <td>-78.757882</td>\n",
       "      <td>2016-05-10</td>\n",
       "      <td>279709.0</td>\n",
       "      <td>3</td>\n",
       "      <td>656.0</td>\n",
       "    </tr>\n",
       "  </tbody>\n",
       "</table>\n",
       "</div>"
      ],
      "text/plain": [
       "       uid                                      data_provider region  \\\n",
       "1174  buvf  N.C. Division of Water Resources N.C. Departme...  south   \n",
       "3732  frko  N.C. Division of Water Resources N.C. Departme...  south   \n",
       "\n",
       "      latitude  longitude        date  density_cells_per_ml  severity  \\\n",
       "1174    35.790 -79.034845  2020-12-10               87137.0         2   \n",
       "3732    35.976 -78.757882  2016-05-10              279709.0         3   \n",
       "\n",
       "      distance_to_water_m  \n",
       "1174                524.0  \n",
       "3732                656.0  "
      ]
     },
     "execution_count": 9,
     "metadata": {},
     "output_type": "execute_result"
    }
   ],
   "source": [
    "train = pd.read_csv(SPLITS_DIR / \"competition/train.csv\")\n",
    "\n",
    "train_sub_path = \"train_sub.csv\"\n",
    "train_sub = train.sample(n=50, random_state=4)\n",
    "train_sub.to_csv(train_sub_path, index=False)\n",
    "train_sub.head(2)"
   ]
  },
  {
   "cell_type": "code",
   "execution_count": 10,
   "id": "fe66781f-f2aa-45e1-8e56-0241d9782003",
   "metadata": {},
   "outputs": [
    {
     "data": {
      "text/html": [
       "<div>\n",
       "<style scoped>\n",
       "    .dataframe tbody tr th:only-of-type {\n",
       "        vertical-align: middle;\n",
       "    }\n",
       "\n",
       "    .dataframe tbody tr th {\n",
       "        vertical-align: top;\n",
       "    }\n",
       "\n",
       "    .dataframe thead th {\n",
       "        text-align: right;\n",
       "    }\n",
       "</style>\n",
       "<table border=\"1\" class=\"dataframe\">\n",
       "  <thead>\n",
       "    <tr style=\"text-align: right;\">\n",
       "      <th></th>\n",
       "      <th>uid</th>\n",
       "      <th>data_provider</th>\n",
       "      <th>region</th>\n",
       "      <th>latitude</th>\n",
       "      <th>longitude</th>\n",
       "      <th>date</th>\n",
       "      <th>density_cells_per_ml</th>\n",
       "      <th>severity</th>\n",
       "      <th>distance_to_water_m</th>\n",
       "    </tr>\n",
       "  </thead>\n",
       "  <tbody>\n",
       "    <tr>\n",
       "      <th>6054</th>\n",
       "      <td>ygor</td>\n",
       "      <td>Indiana State Department of Health</td>\n",
       "      <td>midwest</td>\n",
       "      <td>39.586383</td>\n",
       "      <td>-84.994867</td>\n",
       "      <td>2019-07-22</td>\n",
       "      <td>101041.0</td>\n",
       "      <td>3</td>\n",
       "      <td>0.0</td>\n",
       "    </tr>\n",
       "    <tr>\n",
       "      <th>675</th>\n",
       "      <td>csov</td>\n",
       "      <td>California Environmental Data Exchange Network</td>\n",
       "      <td>west</td>\n",
       "      <td>39.624200</td>\n",
       "      <td>-122.197000</td>\n",
       "      <td>2017-10-25</td>\n",
       "      <td>5667500.0</td>\n",
       "      <td>4</td>\n",
       "      <td>1059.0</td>\n",
       "    </tr>\n",
       "  </tbody>\n",
       "</table>\n",
       "</div>"
      ],
      "text/plain": [
       "       uid                                   data_provider   region  \\\n",
       "6054  ygor              Indiana State Department of Health  midwest   \n",
       "675   csov  California Environmental Data Exchange Network     west   \n",
       "\n",
       "       latitude   longitude        date  density_cells_per_ml  severity  \\\n",
       "6054  39.586383  -84.994867  2019-07-22              101041.0         3   \n",
       "675   39.624200 -122.197000  2017-10-25             5667500.0         4   \n",
       "\n",
       "      distance_to_water_m  \n",
       "6054                  0.0  \n",
       "675                1059.0  "
      ]
     },
     "execution_count": 10,
     "metadata": {},
     "output_type": "execute_result"
    }
   ],
   "source": [
    "test = pd.read_csv(SPLITS_DIR / \"competition/test.csv\")\n",
    "\n",
    "test_sub_path = \"test_sub.csv\"\n",
    "test_sub = test.sample(n=50, random_state=4)\n",
    "test_sub.to_csv(test_sub_path, index=False)\n",
    "test_sub.head(2)"
   ]
  },
  {
   "cell_type": "code",
   "execution_count": 178,
   "id": "3327a9a0-f999-4505-9ba4-6a62e0a1ca51",
   "metadata": {
    "collapsed": true,
    "jupyter": {
     "outputs_hidden": true
    },
    "tags": []
   },
   "outputs": [
    {
     "name": "stderr",
     "output_type": "stream",
     "text": [
      "\u001b[32m2023-08-11 11:45:35.248\u001b[0m | \u001b[1mINFO    \u001b[0m | \u001b[36mcyano.pipeline\u001b[0m:\u001b[36m_prep_train_data\u001b[0m:\u001b[36m52\u001b[0m - \u001b[1mLoaded 50 samples for training\u001b[0m\n",
      "\u001b[32m2023-08-11 11:45:35.249\u001b[0m | \u001b[1mINFO    \u001b[0m | \u001b[36mcyano.data.satellite_data\u001b[0m:\u001b[36mgenerate_candidate_metadata\u001b[0m:\u001b[36m192\u001b[0m - \u001b[1mGenerating metadata for all satellite item candidates\u001b[0m\n",
      "\u001b[32m2023-08-11 11:45:41.114\u001b[0m | \u001b[1mINFO    \u001b[0m | \u001b[36mcyano.data.satellite_data\u001b[0m:\u001b[36mgenerate_candidate_metadata\u001b[0m:\u001b[36m202\u001b[0m - \u001b[1mLoaded 56,173 rows of Sentinel candidate metadata from s3://drivendata-competition-nasa-cyanobacteria/data/interim/full_pc_search\u001b[0m\n",
      "\u001b[32m2023-08-11 11:45:41.969\u001b[0m | \u001b[1mINFO    \u001b[0m | \u001b[36mcyano.data.satellite_data\u001b[0m:\u001b[36midentify_satellite_data\u001b[0m:\u001b[36m297\u001b[0m - \u001b[1mSelecting which items to use for feature generation\u001b[0m\n",
      "100%|██████████████████████████████████████████████████████████████████████████████████████| 50/50 [00:00<00:00, 133.33it/s]\n",
      "\u001b[32m2023-08-11 11:45:42.361\u001b[0m | \u001b[1mINFO    \u001b[0m | \u001b[36mcyano.data.satellite_data\u001b[0m:\u001b[36midentify_satellite_data\u001b[0m:\u001b[36m316\u001b[0m - \u001b[1mIdentified satellite imagery for 34 samples\u001b[0m\n",
      "\u001b[32m2023-08-11 11:45:42.632\u001b[0m | \u001b[1mINFO    \u001b[0m | \u001b[36mcyano.pipeline\u001b[0m:\u001b[36m_prepare_features\u001b[0m:\u001b[36m62\u001b[0m - \u001b[1m117 rows of satellite metadata saved to /Users/katewetstone/Repos/cyanobacteria-prediction/data/experiments/cache/satellite_metadata_train.csv\u001b[0m\n",
      "\u001b[32m2023-08-11 11:45:42.633\u001b[0m | \u001b[1mINFO    \u001b[0m | \u001b[36mcyano.data.satellite_data\u001b[0m:\u001b[36mdownload_satellite_data\u001b[0m:\u001b[36m341\u001b[0m - \u001b[1mDownloading bands ['AOT', 'B01', 'B02', 'B03', 'B04', 'B05', 'B06', 'B07', 'B08', 'B09', 'B11', 'B12', 'B8A', 'SCL', 'WVP']\u001b[0m\n",
      "100%|█████████████████████████████████████████████████████████████████████████████████████| 117/117 [20:48<00:00, 10.68s/it]\n",
      "\u001b[32m2023-08-11 12:06:31.619\u001b[0m | \u001b[33m\u001b[1mWARNING \u001b[0m | \u001b[36mcyano.data.satellite_data\u001b[0m:\u001b[36mdownload_satellite_data\u001b[0m:\u001b[36m380\u001b[0m - \u001b[33m\u001b[1mCould not download 4 image/sample combinations with no data in bounds\u001b[0m\n",
      "\u001b[32m2023-08-11 12:06:31.620\u001b[0m | \u001b[32m\u001b[1mSUCCESS \u001b[0m | \u001b[36mcyano.pipeline\u001b[0m:\u001b[36m_prepare_features\u001b[0m:\u001b[36m74\u001b[0m - \u001b[32m\u001b[1mRaw source data saved to /Users/katewetstone/Repos/cyanobacteria-prediction/data/experiments/cache\u001b[0m\n",
      "\u001b[32m2023-08-11 12:06:31.622\u001b[0m | \u001b[1mINFO    \u001b[0m | \u001b[36mcyano.data.features\u001b[0m:\u001b[36mgenerate_satellite_features\u001b[0m:\u001b[36m109\u001b[0m - \u001b[1mGenerating satellite features for 117 sample/item combos, 34 samples\u001b[0m\n",
      "100%|████████████████████████████████████████████████████████████████████████████████████| 117/117 [00:00<00:00, 141.00it/s]\n",
      "\u001b[32m2023-08-11 12:06:32.481\u001b[0m | \u001b[1mINFO    \u001b[0m | \u001b[36mcyano.data.features\u001b[0m:\u001b[36mgenerate_features\u001b[0m:\u001b[36m262\u001b[0m - \u001b[1mGenerated 66 satellite features. 34 samples, 113 item / sample combinations.\u001b[0m\n",
      "\u001b[32m2023-08-11 12:06:32.484\u001b[0m | \u001b[1mINFO    \u001b[0m | \u001b[36mcyano.data.features\u001b[0m:\u001b[36mgenerate_features\u001b[0m:\u001b[36m285\u001b[0m - \u001b[1mGenerated 113 metadata features\u001b[0m\n",
      "\u001b[32m2023-08-11 12:06:32.496\u001b[0m | \u001b[32m\u001b[1mSUCCESS \u001b[0m | \u001b[36mcyano.pipeline\u001b[0m:\u001b[36m_prepare_features\u001b[0m:\u001b[36m80\u001b[0m - \u001b[32m\u001b[1m67 features for 34 samples (of 50) saved to /Users/katewetstone/Repos/cyanobacteria-prediction/data/experiments/cache/features_train.csv\u001b[0m\n",
      "\u001b[32m2023-08-11 12:06:32.612\u001b[0m | \u001b[1mINFO    \u001b[0m | \u001b[36mcyano.pipeline\u001b[0m:\u001b[36m_to_disk\u001b[0m:\u001b[36m133\u001b[0m - \u001b[1mSaving model to competition_split_subset/model.zip\u001b[0m\n",
      "\u001b[32m2023-08-11 12:06:32.631\u001b[0m | \u001b[32m\u001b[1mSUCCESS \u001b[0m | \u001b[36mcyano.experiment.experiment\u001b[0m:\u001b[36mrun_experiment\u001b[0m:\u001b[36m37\u001b[0m - \u001b[32m\u001b[1mWrote out artifact config to competition_split_subset\u001b[0m\n",
      "\u001b[32m2023-08-11 12:06:32.639\u001b[0m | \u001b[1mINFO    \u001b[0m | \u001b[36mcyano.pipeline\u001b[0m:\u001b[36m_prep_predict_data\u001b[0m:\u001b[36m161\u001b[0m - \u001b[1mLoaded 50 samples for prediction\u001b[0m\n",
      "\u001b[32m2023-08-11 12:06:32.640\u001b[0m | \u001b[1mINFO    \u001b[0m | \u001b[36mcyano.data.satellite_data\u001b[0m:\u001b[36mgenerate_candidate_metadata\u001b[0m:\u001b[36m192\u001b[0m - \u001b[1mGenerating metadata for all satellite item candidates\u001b[0m\n",
      "\u001b[32m2023-08-11 12:06:38.804\u001b[0m | \u001b[1mINFO    \u001b[0m | \u001b[36mcyano.data.satellite_data\u001b[0m:\u001b[36mgenerate_candidate_metadata\u001b[0m:\u001b[36m202\u001b[0m - \u001b[1mLoaded 56,173 rows of Sentinel candidate metadata from s3://drivendata-competition-nasa-cyanobacteria/data/interim/full_pc_search\u001b[0m\n",
      "\u001b[32m2023-08-11 12:06:39.767\u001b[0m | \u001b[1mINFO    \u001b[0m | \u001b[36mcyano.data.satellite_data\u001b[0m:\u001b[36midentify_satellite_data\u001b[0m:\u001b[36m297\u001b[0m - \u001b[1mSelecting which items to use for feature generation\u001b[0m\n",
      "100%|██████████████████████████████████████████████████████████████████████████████████████| 50/50 [00:00<00:00, 121.53it/s]\n",
      "\u001b[32m2023-08-11 12:06:40.192\u001b[0m | \u001b[1mINFO    \u001b[0m | \u001b[36mcyano.data.satellite_data\u001b[0m:\u001b[36midentify_satellite_data\u001b[0m:\u001b[36m316\u001b[0m - \u001b[1mIdentified satellite imagery for 38 samples\u001b[0m\n",
      "\u001b[32m2023-08-11 12:06:40.493\u001b[0m | \u001b[1mINFO    \u001b[0m | \u001b[36mcyano.pipeline\u001b[0m:\u001b[36m_prepare_features\u001b[0m:\u001b[36m62\u001b[0m - \u001b[1m196 rows of satellite metadata saved to /Users/katewetstone/Repos/cyanobacteria-prediction/data/experiments/cache/satellite_metadata_train.csv\u001b[0m\n",
      "\u001b[32m2023-08-11 12:06:40.494\u001b[0m | \u001b[1mINFO    \u001b[0m | \u001b[36mcyano.data.satellite_data\u001b[0m:\u001b[36mdownload_satellite_data\u001b[0m:\u001b[36m341\u001b[0m - \u001b[1mDownloading bands ['AOT', 'B01', 'B02', 'B03', 'B04', 'B05', 'B06', 'B07', 'B08', 'B09', 'B11', 'B12', 'B8A', 'SCL', 'WVP']\u001b[0m\n",
      "100%|█████████████████████████████████████████████████████████████████████████████████████| 196/196 [37:08<00:00, 11.37s/it]\n",
      "\u001b[32m2023-08-11 12:43:48.520\u001b[0m | \u001b[33m\u001b[1mWARNING \u001b[0m | \u001b[36mcyano.data.satellite_data\u001b[0m:\u001b[36mdownload_satellite_data\u001b[0m:\u001b[36m380\u001b[0m - \u001b[33m\u001b[1mCould not download 4 image/sample combinations with no data in bounds\u001b[0m\n",
      "\u001b[32m2023-08-11 12:43:48.523\u001b[0m | \u001b[32m\u001b[1mSUCCESS \u001b[0m | \u001b[36mcyano.pipeline\u001b[0m:\u001b[36m_prepare_features\u001b[0m:\u001b[36m74\u001b[0m - \u001b[32m\u001b[1mRaw source data saved to /Users/katewetstone/Repos/cyanobacteria-prediction/data/experiments/cache\u001b[0m\n",
      "\u001b[32m2023-08-11 12:43:48.525\u001b[0m | \u001b[1mINFO    \u001b[0m | \u001b[36mcyano.data.features\u001b[0m:\u001b[36mgenerate_satellite_features\u001b[0m:\u001b[36m109\u001b[0m - \u001b[1mGenerating satellite features for 196 sample/item combos, 38 samples\u001b[0m\n",
      "100%|█████████████████████████████████████████████████████████████████████████████████████| 196/196 [00:02<00:00, 94.35it/s]\n",
      "\u001b[32m2023-08-11 12:43:50.662\u001b[0m | \u001b[1mINFO    \u001b[0m | \u001b[36mcyano.data.features\u001b[0m:\u001b[36mgenerate_features\u001b[0m:\u001b[36m262\u001b[0m - \u001b[1mGenerated 66 satellite features. 38 samples, 192 item / sample combinations.\u001b[0m\n",
      "\u001b[32m2023-08-11 12:43:50.666\u001b[0m | \u001b[1mINFO    \u001b[0m | \u001b[36mcyano.data.features\u001b[0m:\u001b[36mgenerate_features\u001b[0m:\u001b[36m285\u001b[0m - \u001b[1mGenerated 192 metadata features\u001b[0m\n",
      "\u001b[32m2023-08-11 12:43:50.684\u001b[0m | \u001b[32m\u001b[1mSUCCESS \u001b[0m | \u001b[36mcyano.pipeline\u001b[0m:\u001b[36m_prepare_features\u001b[0m:\u001b[36m80\u001b[0m - \u001b[32m\u001b[1m67 features for 38 samples (of 50) saved to /Users/katewetstone/Repos/cyanobacteria-prediction/data/experiments/cache/features_train.csv\u001b[0m\n",
      "\u001b[32m2023-08-11 12:43:50.707\u001b[0m | \u001b[1mINFO    \u001b[0m | \u001b[36mcyano.pipeline\u001b[0m:\u001b[36m_predict_model\u001b[0m:\u001b[36m176\u001b[0m - \u001b[1mGrouping 192 predictions by 38 unique sample IDs\u001b[0m\n",
      "\u001b[32m2023-08-11 12:43:50.710\u001b[0m | \u001b[1mINFO    \u001b[0m | \u001b[36mcyano.pipeline\u001b[0m:\u001b[36m_predict_model\u001b[0m:\u001b[36m184\u001b[0m - \u001b[1mPredicting the mean for 12 samples with no imagery\u001b[0m\n",
      "\u001b[32m2023-08-11 12:43:50.715\u001b[0m | \u001b[32m\u001b[1mSUCCESS \u001b[0m | \u001b[36mcyano.pipeline\u001b[0m:\u001b[36m_write_predictions\u001b[0m:\u001b[36m194\u001b[0m - \u001b[32m\u001b[1mPredictions saved to competition_split_subset/preds.csv\u001b[0m\n",
      "\u001b[32m2023-08-11 12:43:50.949\u001b[0m | \u001b[32m\u001b[1mSUCCESS \u001b[0m | \u001b[36mcyano.experiment.experiment\u001b[0m:\u001b[36mrun_experiment\u001b[0m:\u001b[36m52\u001b[0m - \u001b[32m\u001b[1mWrote out metrics to competition_split_subset/metrics\u001b[0m\n"
     ]
    },
    {
     "data": {
      "image/png": "[encoded data removed]",
      "text/plain": [
       "<Figure size 640x480 with 1 Axes>"
      ]
     },
     "metadata": {},
     "output_type": "display_data"
    }
   ],
   "source": [
    "experiment_save_dir = \"competition_split_subset\"\n",
    "experiment_config = ExperimentConfig(\n",
    "    features_config=features_config,\n",
    "    train_csv=train_sub_path,\n",
    "    predict_csv=test_sub_path,\n",
    "    cache_dir=LOCAL_CACHE_DIR,\n",
    "    save_dir=experiment_save_dir,\n",
    "    debug=False,\n",
    ")\n",
    "\n",
    "experiment_config.run_experiment()"
   ]
  },
  {
   "cell_type": "code",
   "execution_count": 23,
   "id": "51d053b6-0f4e-4fc6-a529-0edf476027d1",
   "metadata": {},
   "outputs": [
    {
     "name": "stderr",
     "output_type": "stream",
     "text": [
      "/opt/anaconda3/envs/cyanobacteria-prediction/lib/python3.10/site-packages/pydantic/_internal/_fields.py:126: UserWarning: Field \"model_training_config\" has conflict with protected namespace \"model_\".\n",
      "\n",
      "You may be able to resolve this warning by setting `model_config['protected_namespaces'] = ()`.\n",
      "  warnings.warn(\n",
      "\u001b[32m2023-08-11 14:09:42.898\u001b[0m | \u001b[1mINFO    \u001b[0m | \u001b[36mcyano.pipeline\u001b[0m:\u001b[36m_prep_train_data\u001b[0m:\u001b[36m49\u001b[0m - \u001b[1mLoaded 50 samples for training\u001b[0m\n",
      "\u001b[32m2023-08-11 14:09:42.899\u001b[0m | \u001b[1mINFO    \u001b[0m | \u001b[36mcyano.data.satellite_data\u001b[0m:\u001b[36mgenerate_candidate_metadata\u001b[0m:\u001b[36m192\u001b[0m - \u001b[1mGenerating metadata for all satellite item candidates\u001b[0m\n",
      "\u001b[32m2023-08-11 14:09:48.286\u001b[0m | \u001b[1mINFO    \u001b[0m | \u001b[36mcyano.data.satellite_data\u001b[0m:\u001b[36mgenerate_candidate_metadata\u001b[0m:\u001b[36m202\u001b[0m - \u001b[1mLoaded 56,173 rows of Sentinel candidate metadata from s3://drivendata-competition-nasa-cyanobacteria/data/interim/full_pc_search\u001b[0m\n",
      "\u001b[32m2023-08-11 14:09:49.309\u001b[0m | \u001b[1mINFO    \u001b[0m | \u001b[36mcyano.data.satellite_data\u001b[0m:\u001b[36midentify_satellite_data\u001b[0m:\u001b[36m297\u001b[0m - \u001b[1mSelecting which items to use for feature generation\u001b[0m\n",
      "100%|██████████████████████████████████████████████████████████████████████████████████████| 50/50 [00:00<00:00, 165.16it/s]\n",
      "\u001b[32m2023-08-11 14:09:49.623\u001b[0m | \u001b[1mINFO    \u001b[0m | \u001b[36mcyano.data.satellite_data\u001b[0m:\u001b[36midentify_satellite_data\u001b[0m:\u001b[36m316\u001b[0m - \u001b[1mIdentified satellite imagery for 34 samples\u001b[0m\n",
      "\u001b[32m2023-08-11 14:09:49.862\u001b[0m | \u001b[1mINFO    \u001b[0m | \u001b[36mcyano.pipeline\u001b[0m:\u001b[36m_prepare_features\u001b[0m:\u001b[36m59\u001b[0m - \u001b[1m117 rows of satellite metadata saved to /Users/katewetstone/Repos/cyanobacteria-prediction/data/experiments/cache/satellite_metadata_train.csv\u001b[0m\n",
      "\u001b[32m2023-08-11 14:09:49.863\u001b[0m | \u001b[1mINFO    \u001b[0m | \u001b[36mcyano.data.satellite_data\u001b[0m:\u001b[36mdownload_satellite_data\u001b[0m:\u001b[36m341\u001b[0m - \u001b[1mDownloading bands ['AOT', 'B01', 'B02', 'B03', 'B04', 'B05', 'B06', 'B07', 'B08', 'B09', 'B11', 'B12', 'B8A', 'SCL', 'WVP']\u001b[0m\n",
      "100%|████████████████████████████████████████████████████████████████████████████████████| 117/117 [00:00<00:00, 620.61it/s]\n",
      "\u001b[32m2023-08-11 14:09:50.055\u001b[0m | \u001b[33m\u001b[1mWARNING \u001b[0m | \u001b[36mcyano.data.satellite_data\u001b[0m:\u001b[36mdownload_satellite_data\u001b[0m:\u001b[36m380\u001b[0m - \u001b[33m\u001b[1mCould not download 4 image/sample combinations with no data in bounds\u001b[0m\n",
      "\u001b[32m2023-08-11 14:09:50.056\u001b[0m | \u001b[32m\u001b[1mSUCCESS \u001b[0m | \u001b[36mcyano.pipeline\u001b[0m:\u001b[36m_prepare_features\u001b[0m:\u001b[36m71\u001b[0m - \u001b[32m\u001b[1mRaw source data saved to /Users/katewetstone/Repos/cyanobacteria-prediction/data/experiments/cache\u001b[0m\n",
      "\u001b[32m2023-08-11 14:09:50.058\u001b[0m | \u001b[1mINFO    \u001b[0m | \u001b[36mcyano.data.features\u001b[0m:\u001b[36mgenerate_satellite_features\u001b[0m:\u001b[36m109\u001b[0m - \u001b[1mGenerating satellite features for 117 sample/item combos, 34 samples\u001b[0m\n",
      "100%|████████████████████████████████████████████████████████████████████████████████████| 117/117 [00:01<00:00, 108.47it/s]\n",
      "\u001b[32m2023-08-11 14:09:51.162\u001b[0m | \u001b[1mINFO    \u001b[0m | \u001b[36mcyano.data.features\u001b[0m:\u001b[36mgenerate_features\u001b[0m:\u001b[36m262\u001b[0m - \u001b[1mGenerated 66 satellite features. 34 samples, 113 item / sample combinations.\u001b[0m\n",
      "\u001b[32m2023-08-11 14:09:51.165\u001b[0m | \u001b[1mINFO    \u001b[0m | \u001b[36mcyano.data.features\u001b[0m:\u001b[36mgenerate_features\u001b[0m:\u001b[36m285\u001b[0m - \u001b[1mGenerated 113 metadata features\u001b[0m\n",
      "\u001b[32m2023-08-11 14:09:51.177\u001b[0m | \u001b[32m\u001b[1mSUCCESS \u001b[0m | \u001b[36mcyano.pipeline\u001b[0m:\u001b[36m_prepare_features\u001b[0m:\u001b[36m77\u001b[0m - \u001b[32m\u001b[1m67 features for 34 samples (of 50) saved to /Users/katewetstone/Repos/cyanobacteria-prediction/data/experiments/cache/features_train.csv\u001b[0m\n",
      "\u001b[32m2023-08-11 14:10:04.000\u001b[0m | \u001b[1mINFO    \u001b[0m | \u001b[36mcyano.pipeline\u001b[0m:\u001b[36m_to_disk\u001b[0m:\u001b[36m102\u001b[0m - \u001b[1mSaving model to competition_split_subset/model.zip\u001b[0m\n",
      "\u001b[32m2023-08-11 14:10:05.544\u001b[0m | \u001b[32m\u001b[1mSUCCESS \u001b[0m | \u001b[36mcyano.experiment.experiment\u001b[0m:\u001b[36mrun_experiment\u001b[0m:\u001b[36m37\u001b[0m - \u001b[32m\u001b[1mWrote out artifact config to competition_split_subset\u001b[0m\n",
      "\u001b[32m2023-08-11 14:10:05.555\u001b[0m | \u001b[1mINFO    \u001b[0m | \u001b[36mcyano.pipeline\u001b[0m:\u001b[36m_prep_predict_data\u001b[0m:\u001b[36m130\u001b[0m - \u001b[1mLoaded 50 samples for prediction\u001b[0m\n",
      "\u001b[32m2023-08-11 14:10:05.557\u001b[0m | \u001b[1mINFO    \u001b[0m | \u001b[36mcyano.data.satellite_data\u001b[0m:\u001b[36mgenerate_candidate_metadata\u001b[0m:\u001b[36m192\u001b[0m - \u001b[1mGenerating metadata for all satellite item candidates\u001b[0m\n",
      "\u001b[32m2023-08-11 14:10:11.006\u001b[0m | \u001b[1mINFO    \u001b[0m | \u001b[36mcyano.data.satellite_data\u001b[0m:\u001b[36mgenerate_candidate_metadata\u001b[0m:\u001b[36m202\u001b[0m - \u001b[1mLoaded 56,173 rows of Sentinel candidate metadata from s3://drivendata-competition-nasa-cyanobacteria/data/interim/full_pc_search\u001b[0m\n",
      "\u001b[32m2023-08-11 14:10:11.972\u001b[0m | \u001b[1mINFO    \u001b[0m | \u001b[36mcyano.data.satellite_data\u001b[0m:\u001b[36midentify_satellite_data\u001b[0m:\u001b[36m297\u001b[0m - \u001b[1mSelecting which items to use for feature generation\u001b[0m\n",
      "100%|██████████████████████████████████████████████████████████████████████████████████████| 50/50 [00:00<00:00, 146.55it/s]\n",
      "\u001b[32m2023-08-11 14:10:12.331\u001b[0m | \u001b[1mINFO    \u001b[0m | \u001b[36mcyano.data.satellite_data\u001b[0m:\u001b[36midentify_satellite_data\u001b[0m:\u001b[36m316\u001b[0m - \u001b[1mIdentified satellite imagery for 38 samples\u001b[0m\n",
      "\u001b[32m2023-08-11 14:10:12.561\u001b[0m | \u001b[1mINFO    \u001b[0m | \u001b[36mcyano.pipeline\u001b[0m:\u001b[36m_prepare_features\u001b[0m:\u001b[36m59\u001b[0m - \u001b[1m196 rows of satellite metadata saved to /Users/katewetstone/Repos/cyanobacteria-prediction/data/experiments/cache/satellite_metadata_train.csv\u001b[0m\n",
      "\u001b[32m2023-08-11 14:10:12.562\u001b[0m | \u001b[1mINFO    \u001b[0m | \u001b[36mcyano.data.satellite_data\u001b[0m:\u001b[36mdownload_satellite_data\u001b[0m:\u001b[36m341\u001b[0m - \u001b[1mDownloading bands ['AOT', 'B01', 'B02', 'B03', 'B04', 'B05', 'B06', 'B07', 'B08', 'B09', 'B11', 'B12', 'B8A', 'SCL', 'WVP']\u001b[0m\n",
      "100%|████████████████████████████████████████████████████████████████████████████████████| 196/196 [00:00<00:00, 836.58it/s]\n",
      "\u001b[32m2023-08-11 14:10:12.799\u001b[0m | \u001b[33m\u001b[1mWARNING \u001b[0m | \u001b[36mcyano.data.satellite_data\u001b[0m:\u001b[36mdownload_satellite_data\u001b[0m:\u001b[36m380\u001b[0m - \u001b[33m\u001b[1mCould not download 4 image/sample combinations with no data in bounds\u001b[0m\n",
      "\u001b[32m2023-08-11 14:10:12.800\u001b[0m | \u001b[32m\u001b[1mSUCCESS \u001b[0m | \u001b[36mcyano.pipeline\u001b[0m:\u001b[36m_prepare_features\u001b[0m:\u001b[36m71\u001b[0m - \u001b[32m\u001b[1mRaw source data saved to /Users/katewetstone/Repos/cyanobacteria-prediction/data/experiments/cache\u001b[0m\n",
      "\u001b[32m2023-08-11 14:10:12.801\u001b[0m | \u001b[1mINFO    \u001b[0m | \u001b[36mcyano.data.features\u001b[0m:\u001b[36mgenerate_satellite_features\u001b[0m:\u001b[36m109\u001b[0m - \u001b[1mGenerating satellite features for 196 sample/item combos, 38 samples\u001b[0m\n",
      "100%|████████████████████████████████████████████████████████████████████████████████████| 196/196 [00:01<00:00, 107.68it/s]\n",
      "\u001b[32m2023-08-11 14:10:14.654\u001b[0m | \u001b[1mINFO    \u001b[0m | \u001b[36mcyano.data.features\u001b[0m:\u001b[36mgenerate_features\u001b[0m:\u001b[36m262\u001b[0m - \u001b[1mGenerated 66 satellite features. 38 samples, 192 item / sample combinations.\u001b[0m\n",
      "\u001b[32m2023-08-11 14:10:14.658\u001b[0m | \u001b[1mINFO    \u001b[0m | \u001b[36mcyano.data.features\u001b[0m:\u001b[36mgenerate_features\u001b[0m:\u001b[36m285\u001b[0m - \u001b[1mGenerated 192 metadata features\u001b[0m\n",
      "\u001b[32m2023-08-11 14:10:14.673\u001b[0m | \u001b[32m\u001b[1mSUCCESS \u001b[0m | \u001b[36mcyano.pipeline\u001b[0m:\u001b[36m_prepare_features\u001b[0m:\u001b[36m77\u001b[0m - \u001b[32m\u001b[1m67 features for 38 samples (of 50) saved to /Users/katewetstone/Repos/cyanobacteria-prediction/data/experiments/cache/features_train.csv\u001b[0m\n",
      "\u001b[32m2023-08-11 14:10:14.912\u001b[0m | \u001b[1mINFO    \u001b[0m | \u001b[36mcyano.pipeline\u001b[0m:\u001b[36m_predict_model\u001b[0m:\u001b[36m146\u001b[0m - \u001b[1mGrouping 192 predictions by 38 unique sample IDs\u001b[0m\n",
      "\u001b[32m2023-08-11 14:10:14.916\u001b[0m | \u001b[1mINFO    \u001b[0m | \u001b[36mcyano.pipeline\u001b[0m:\u001b[36m_predict_model\u001b[0m:\u001b[36m154\u001b[0m - \u001b[1mPredicting the mean for 12 samples with no imagery\u001b[0m\n",
      "\u001b[32m2023-08-11 14:10:14.920\u001b[0m | \u001b[32m\u001b[1mSUCCESS \u001b[0m | \u001b[36mcyano.pipeline\u001b[0m:\u001b[36m_write_predictions\u001b[0m:\u001b[36m164\u001b[0m - \u001b[32m\u001b[1mPredictions saved to competition_split_subset/preds.csv\u001b[0m\n",
      "\u001b[32m2023-08-11 14:10:15.088\u001b[0m | \u001b[32m\u001b[1mSUCCESS \u001b[0m | \u001b[36mcyano.experiment.experiment\u001b[0m:\u001b[36mrun_experiment\u001b[0m:\u001b[36m53\u001b[0m - \u001b[32m\u001b[1mWrote out metrics to competition_split_subset/metrics\u001b[0m\n"
     ]
    },
    {
     "name": "stdout",
     "output_type": "stream",
     "text": [
      "CPU times: user 1min 45s, sys: 4.27 s, total: 1min 49s\n",
      "Wall time: 32.4 s\n"
     ]
    },
    {
     "data": {
      "image/png": "[encoded data removed]",
      "text/plain": [
       "<Figure size 640x480 with 1 Axes>"
      ]
     },
     "metadata": {},
     "output_type": "display_data"
    }
   ],
   "source": [
    "%%time\n",
    "experiment_save_dir = \"competition_split_subset\"\n",
    "experiment_config = ExperimentConfig(\n",
    "    features_config=features_config,\n",
    "    model_training_config=model_config,\n",
    "    train_csv=train_sub_path,\n",
    "    predict_csv=test_sub_path,\n",
    "    cache_dir=LOCAL_CACHE_DIR,\n",
    "    save_dir=experiment_save_dir,\n",
    "    debug=False,\n",
    ")\n",
    "\n",
    "experiment_config.run_experiment()"
   ]
  },
  {
   "cell_type": "code",
   "execution_count": 14,
   "id": "810d93a5-0268-4f28-8849-fe8d3b89348c",
   "metadata": {},
   "outputs": [],
   "source": [
    "trained_pipeline = CyanoModelPipeline.from_disk(\n",
    "    \"competition_split_subset/model.zip\", cache_dir=LOCAL_CACHE_DIR\n",
    ")"
   ]
  },
  {
   "cell_type": "code",
   "execution_count": 24,
   "id": "d01a23e2-c387-4932-a108-7bd0d79772a9",
   "metadata": {},
   "outputs": [
    {
     "data": {
      "text/plain": [
       "True"
      ]
     },
     "execution_count": 24,
     "metadata": {},
     "output_type": "execute_result"
    }
   ],
   "source": [
    "model = trained_pipeline.model\n",
    "type(model) == lgb.Booster"
   ]
  },
  {
   "cell_type": "code",
   "execution_count": 20,
   "id": "30e65365-b52b-4d1b-835b-cb9ccba28564",
   "metadata": {},
   "outputs": [
    {
     "data": {
      "text/html": [
       "<div>\n",
       "<style scoped>\n",
       "    .dataframe tbody tr th:only-of-type {\n",
       "        vertical-align: middle;\n",
       "    }\n",
       "\n",
       "    .dataframe tbody tr th {\n",
       "        vertical-align: top;\n",
       "    }\n",
       "\n",
       "    .dataframe thead th {\n",
       "        text-align: right;\n",
       "    }\n",
       "</style>\n",
       "<table border=\"1\" class=\"dataframe\">\n",
       "  <thead>\n",
       "    <tr style=\"text-align: right;\">\n",
       "      <th></th>\n",
       "      <th>feature</th>\n",
       "      <th>importance_gain</th>\n",
       "      <th>importance_split</th>\n",
       "    </tr>\n",
       "  </thead>\n",
       "  <tbody>\n",
       "    <tr>\n",
       "      <th>0</th>\n",
       "      <td>AOT_mean</td>\n",
       "      <td>1.234578</td>\n",
       "      <td>8133</td>\n",
       "    </tr>\n",
       "    <tr>\n",
       "      <th>1</th>\n",
       "      <td>AOT_min</td>\n",
       "      <td>1.414103</td>\n",
       "      <td>983</td>\n",
       "    </tr>\n",
       "    <tr>\n",
       "      <th>2</th>\n",
       "      <td>AOT_max</td>\n",
       "      <td>0.000000</td>\n",
       "      <td>0</td>\n",
       "    </tr>\n",
       "    <tr>\n",
       "      <th>3</th>\n",
       "      <td>AOT_range</td>\n",
       "      <td>0.181301</td>\n",
       "      <td>790</td>\n",
       "    </tr>\n",
       "    <tr>\n",
       "      <th>4</th>\n",
       "      <td>B01_mean</td>\n",
       "      <td>0.203065</td>\n",
       "      <td>2094</td>\n",
       "    </tr>\n",
       "  </tbody>\n",
       "</table>\n",
       "</div>"
      ],
      "text/plain": [
       "     feature  importance_gain  importance_split\n",
       "0   AOT_mean         1.234578              8133\n",
       "1    AOT_min         1.414103               983\n",
       "2    AOT_max         0.000000                 0\n",
       "3  AOT_range         0.181301               790\n",
       "4   B01_mean         0.203065              2094"
      ]
     },
     "execution_count": 20,
     "metadata": {},
     "output_type": "execute_result"
    }
   ],
   "source": [
    "ft_importance = pd.DataFrame(\n",
    "    {\n",
    "        \"feature\": model.feature_name(),\n",
    "        \"importance_gain\": model.feature_importance(importance_type=\"gain\"),\n",
    "        \"importance_split\": model.feature_importance(importance_type=\"split\"),\n",
    "    }\n",
    ")\n",
    "ft_importance.head()"
   ]
  },
  {
   "cell_type": "code",
   "execution_count": 22,
   "id": "3a14edc2-ab76-409e-a25c-53a425d3e236",
   "metadata": {},
   "outputs": [
    {
     "data": {
      "text/html": [
       "<div>\n",
       "<style scoped>\n",
       "    .dataframe tbody tr th:only-of-type {\n",
       "        vertical-align: middle;\n",
       "    }\n",
       "\n",
       "    .dataframe tbody tr th {\n",
       "        vertical-align: top;\n",
       "    }\n",
       "\n",
       "    .dataframe thead th {\n",
       "        text-align: right;\n",
       "    }\n",
       "</style>\n",
       "<table border=\"1\" class=\"dataframe\">\n",
       "  <thead>\n",
       "    <tr style=\"text-align: right;\">\n",
       "      <th></th>\n",
       "      <th>feature</th>\n",
       "      <th>importance_gain</th>\n",
       "      <th>importance_split</th>\n",
       "    </tr>\n",
       "  </thead>\n",
       "  <tbody>\n",
       "    <tr>\n",
       "      <th>66</th>\n",
       "      <td>rounded_longitude</td>\n",
       "      <td>642.707034</td>\n",
       "      <td>6406</td>\n",
       "    </tr>\n",
       "    <tr>\n",
       "      <th>39</th>\n",
       "      <td>B09_range</td>\n",
       "      <td>34.853093</td>\n",
       "      <td>3248</td>\n",
       "    </tr>\n",
       "    <tr>\n",
       "      <th>9</th>\n",
       "      <td>B02_min</td>\n",
       "      <td>19.558242</td>\n",
       "      <td>3034</td>\n",
       "    </tr>\n",
       "    <tr>\n",
       "      <th>45</th>\n",
       "      <td>B12_min</td>\n",
       "      <td>18.501496</td>\n",
       "      <td>5684</td>\n",
       "    </tr>\n",
       "    <tr>\n",
       "      <th>15</th>\n",
       "      <td>B03_range</td>\n",
       "      <td>15.679932</td>\n",
       "      <td>1322</td>\n",
       "    </tr>\n",
       "    <tr>\n",
       "      <th>65</th>\n",
       "      <td>days_before_sample</td>\n",
       "      <td>15.201443</td>\n",
       "      <td>40259</td>\n",
       "    </tr>\n",
       "    <tr>\n",
       "      <th>63</th>\n",
       "      <td>NDVI_B07</td>\n",
       "      <td>14.334613</td>\n",
       "      <td>6564</td>\n",
       "    </tr>\n",
       "    <tr>\n",
       "      <th>62</th>\n",
       "      <td>NDVI_B06</td>\n",
       "      <td>12.153718</td>\n",
       "      <td>2849</td>\n",
       "    </tr>\n",
       "    <tr>\n",
       "      <th>60</th>\n",
       "      <td>NDVI_B04</td>\n",
       "      <td>12.086767</td>\n",
       "      <td>56722</td>\n",
       "    </tr>\n",
       "    <tr>\n",
       "      <th>55</th>\n",
       "      <td>SCL_range</td>\n",
       "      <td>11.282717</td>\n",
       "      <td>739</td>\n",
       "    </tr>\n",
       "  </tbody>\n",
       "</table>\n",
       "</div>"
      ],
      "text/plain": [
       "               feature  importance_gain  importance_split\n",
       "66   rounded_longitude       642.707034              6406\n",
       "39           B09_range        34.853093              3248\n",
       "9              B02_min        19.558242              3034\n",
       "45             B12_min        18.501496              5684\n",
       "15           B03_range        15.679932              1322\n",
       "65  days_before_sample        15.201443             40259\n",
       "63            NDVI_B07        14.334613              6564\n",
       "62            NDVI_B06        12.153718              2849\n",
       "60            NDVI_B04        12.086767             56722\n",
       "55           SCL_range        11.282717               739"
      ]
     },
     "execution_count": 22,
     "metadata": {},
     "output_type": "execute_result"
    }
   ],
   "source": [
    "ft_importance.sort_values(by=\"importance_gain\", ascending=False).head(10)"
   ]
  },
  {
   "cell_type": "code",
   "execution_count": null,
   "id": "cc3a0d44-c7b4-4707-9a90-ccd7166d2148",
   "metadata": {},
   "outputs": [],
   "source": [
    "# load model from disk\n"
   ]
  },
  {
   "cell_type": "code",
   "execution_count": null,
   "id": "585b96b6-7bfd-4b9e-a501-740166525b2d",
   "metadata": {},
   "outputs": [],
   "source": [
    "trained_pipeline = CyanoModelPipeline(features_config=features_config,\n",
    "                                      model_training_config=model_config,\n",
    "                                      cache_dir=LOCAL_CACHE_DIR,\n",
    "                                      model=\n",
    "                                      "
   ]
  },
  {
   "cell_type": "markdown",
   "id": "129f3ccd-b350-4afd-8e0a-4bbd2da84fa7",
   "metadata": {
    "tags": []
   },
   "source": [
    "## Training"
   ]
  },
  {
   "cell_type": "code",
   "execution_count": 159,
   "id": "51fe1d06-e0f3-45a3-99d2-cbc48cc399e8",
   "metadata": {},
   "outputs": [],
   "source": [
    "TEST_ASSETS_DIR = REPO_ROOT.parent / \"tests/assets\""
   ]
  },
  {
   "cell_type": "code",
   "execution_count": 160,
   "id": "11923bf9-2963-4b60-b7a4-0426c37081d8",
   "metadata": {},
   "outputs": [
    {
     "name": "stderr",
     "output_type": "stream",
     "text": [
      "\u001b[32m2023-08-11 10:53:41.975\u001b[0m | \u001b[1mINFO    \u001b[0m | \u001b[36mcyano.pipeline\u001b[0m:\u001b[36m_prep_train_data\u001b[0m:\u001b[36m52\u001b[0m - \u001b[1mLoaded 5 samples for training\u001b[0m\n",
      "\u001b[32m2023-08-11 10:53:41.976\u001b[0m | \u001b[1mINFO    \u001b[0m | \u001b[36mcyano.data.satellite_data\u001b[0m:\u001b[36mgenerate_candidate_metadata\u001b[0m:\u001b[36m192\u001b[0m - \u001b[1mGenerating metadata for all satellite item candidates\u001b[0m\n",
      "\u001b[32m2023-08-11 10:53:41.978\u001b[0m | \u001b[1mINFO    \u001b[0m | \u001b[36mcyano.data.satellite_data\u001b[0m:\u001b[36mgenerate_candidate_metadata\u001b[0m:\u001b[36m211\u001b[0m - \u001b[1mSearching ['sentinel-2-l2a'] within 15 days and 5000 meters\u001b[0m\n",
      "100%|█████████████████████████████████████████████████████████████████████████████████████████| 5/5 [00:14<00:00,  2.96s/it]\n",
      "\u001b[32m2023-08-11 10:53:56.790\u001b[0m | \u001b[1mINFO    \u001b[0m | \u001b[36mcyano.data.satellite_data\u001b[0m:\u001b[36mgenerate_candidate_metadata\u001b[0m:\u001b[36m241\u001b[0m - \u001b[1mGenerated metadata for 4 Sentinel item candidates\u001b[0m\n",
      "\u001b[32m2023-08-11 10:53:56.792\u001b[0m | \u001b[1mINFO    \u001b[0m | \u001b[36mcyano.data.satellite_data\u001b[0m:\u001b[36midentify_satellite_data\u001b[0m:\u001b[36m297\u001b[0m - \u001b[1mSelecting which items to use for feature generation\u001b[0m\n",
      "100%|████████████████████████████████████████████████████████████████████████████████████████| 5/5 [00:00<00:00, 363.92it/s]\n",
      "\u001b[32m2023-08-11 10:53:56.814\u001b[0m | \u001b[1mINFO    \u001b[0m | \u001b[36mcyano.data.satellite_data\u001b[0m:\u001b[36midentify_satellite_data\u001b[0m:\u001b[36m316\u001b[0m - \u001b[1mIdentified satellite imagery for 2 samples\u001b[0m\n",
      "\u001b[32m2023-08-11 10:53:56.817\u001b[0m | \u001b[1mINFO    \u001b[0m | \u001b[36mcyano.pipeline\u001b[0m:\u001b[36m_prepare_features\u001b[0m:\u001b[36m62\u001b[0m - \u001b[1m4 rows of satellite metadata saved to /Users/katewetstone/Repos/cyanobacteria-prediction/data/experiments/cache/satellite_metadata_train.csv\u001b[0m\n",
      "\u001b[32m2023-08-11 10:53:56.818\u001b[0m | \u001b[1mINFO    \u001b[0m | \u001b[36mcyano.data.satellite_data\u001b[0m:\u001b[36mdownload_satellite_data\u001b[0m:\u001b[36m341\u001b[0m - \u001b[1mDownloading bands ['AOT', 'B01', 'B02', 'B03', 'B04', 'B05', 'B06', 'B07', 'B08', 'B09', 'B11', 'B12', 'B8A', 'SCL', 'WVP']\u001b[0m\n",
      "100%|████████████████████████████████████████████████████████████████████████████████████████| 4/4 [00:00<00:00, 448.03it/s]\n",
      "\u001b[32m2023-08-11 10:53:56.829\u001b[0m | \u001b[32m\u001b[1mSUCCESS \u001b[0m | \u001b[36mcyano.pipeline\u001b[0m:\u001b[36m_prepare_features\u001b[0m:\u001b[36m74\u001b[0m - \u001b[32m\u001b[1mRaw source data saved to /Users/katewetstone/Repos/cyanobacteria-prediction/data/experiments/cache\u001b[0m\n",
      "\u001b[32m2023-08-11 10:53:56.831\u001b[0m | \u001b[1mINFO    \u001b[0m | \u001b[36mcyano.data.features\u001b[0m:\u001b[36mgenerate_satellite_features\u001b[0m:\u001b[36m109\u001b[0m - \u001b[1mGenerating satellite features for 4 sample/item combos, 2 samples\u001b[0m\n",
      "100%|█████████████████████████████████████████████████████████████████████████████████████████| 4/4 [00:00<00:00, 48.32it/s]\n",
      "\u001b[32m2023-08-11 10:53:56.928\u001b[0m | \u001b[1mINFO    \u001b[0m | \u001b[36mcyano.data.features\u001b[0m:\u001b[36mgenerate_features\u001b[0m:\u001b[36m262\u001b[0m - \u001b[1mGenerated 66 satellite features. 2 samples, 4 item / sample combinations.\u001b[0m\n",
      "\u001b[32m2023-08-11 10:53:56.931\u001b[0m | \u001b[1mINFO    \u001b[0m | \u001b[36mcyano.data.features\u001b[0m:\u001b[36mgenerate_features\u001b[0m:\u001b[36m285\u001b[0m - \u001b[1mGenerated 4 metadata features\u001b[0m\n",
      "\u001b[32m2023-08-11 10:53:56.936\u001b[0m | \u001b[32m\u001b[1mSUCCESS \u001b[0m | \u001b[36mcyano.pipeline\u001b[0m:\u001b[36m_prepare_features\u001b[0m:\u001b[36m80\u001b[0m - \u001b[32m\u001b[1m67 features for 2 samples (of 5) saved to /Users/katewetstone/Repos/cyanobacteria-prediction/data/experiments/cache/features_train.csv\u001b[0m\n",
      "\u001b[32m2023-08-11 10:53:57.911\u001b[0m | \u001b[1mINFO    \u001b[0m | \u001b[36mcyano.pipeline\u001b[0m:\u001b[36m_to_disk\u001b[0m:\u001b[36m142\u001b[0m - \u001b[1mSaving model to /tmp/model.zip\u001b[0m\n"
     ]
    }
   ],
   "source": [
    "pipeline = CyanoModelPipeline(\n",
    "    features_config=features_config,\n",
    "    model_training_config=model_config,\n",
    "    cache_dir=LOCAL_CACHE_DIR,\n",
    ")\n",
    "pipeline.run_training(TEST_ASSETS_DIR / \"train_data.csv\", save_path=\"/tmp/model.zip\")"
   ]
  },
  {
   "cell_type": "code",
   "execution_count": 140,
   "id": "e17e3471-a10e-4045-86bf-4fa9a8087444",
   "metadata": {},
   "outputs": [
    {
     "data": {
      "text/html": [
       "<div>\n",
       "<style scoped>\n",
       "    .dataframe tbody tr th:only-of-type {\n",
       "        vertical-align: middle;\n",
       "    }\n",
       "\n",
       "    .dataframe tbody tr th {\n",
       "        vertical-align: top;\n",
       "    }\n",
       "\n",
       "    .dataframe thead th {\n",
       "        text-align: right;\n",
       "    }\n",
       "</style>\n",
       "<table border=\"1\" class=\"dataframe\">\n",
       "  <thead>\n",
       "    <tr style=\"text-align: right;\">\n",
       "      <th></th>\n",
       "      <th>date</th>\n",
       "      <th>latitude</th>\n",
       "      <th>longitude</th>\n",
       "      <th>severity</th>\n",
       "      <th>region</th>\n",
       "    </tr>\n",
       "    <tr>\n",
       "      <th>uid</th>\n",
       "      <th></th>\n",
       "      <th></th>\n",
       "      <th></th>\n",
       "      <th></th>\n",
       "      <th></th>\n",
       "    </tr>\n",
       "  </thead>\n",
       "  <tbody>\n",
       "    <tr>\n",
       "      <th>e3ebefd90a00c3cc9f5aeaf32cd4c184</th>\n",
       "      <td>2015-06-29</td>\n",
       "      <td>41.424144</td>\n",
       "      <td>-73.206937</td>\n",
       "      <td>1</td>\n",
       "      <td>south</td>\n",
       "    </tr>\n",
       "    <tr>\n",
       "      <th>671520fa92f555ab335e0cfa888c57e7</th>\n",
       "      <td>2013-07-25</td>\n",
       "      <td>36.045000</td>\n",
       "      <td>-79.091942</td>\n",
       "      <td>1</td>\n",
       "      <td>south</td>\n",
       "    </tr>\n",
       "    <tr>\n",
       "      <th>9c601f226c2af07d570134127a7fda27</th>\n",
       "      <td>2017-08-21</td>\n",
       "      <td>35.884524</td>\n",
       "      <td>-78.953997</td>\n",
       "      <td>3</td>\n",
       "      <td>south</td>\n",
       "    </tr>\n",
       "    <tr>\n",
       "      <th>3a2c48812b551d720f8d56772efa6df1</th>\n",
       "      <td>2019-08-28</td>\n",
       "      <td>41.392490</td>\n",
       "      <td>-75.360700</td>\n",
       "      <td>2</td>\n",
       "      <td>south</td>\n",
       "    </tr>\n",
       "    <tr>\n",
       "      <th>2543db364f727f17fe4ce7881aa180da</th>\n",
       "      <td>2013-07-11</td>\n",
       "      <td>38.305600</td>\n",
       "      <td>-122.026000</td>\n",
       "      <td>4</td>\n",
       "      <td>south</td>\n",
       "    </tr>\n",
       "  </tbody>\n",
       "</table>\n",
       "</div>"
      ],
      "text/plain": [
       "                                        date   latitude   longitude  severity  \\\n",
       "uid                                                                             \n",
       "e3ebefd90a00c3cc9f5aeaf32cd4c184  2015-06-29  41.424144  -73.206937         1   \n",
       "671520fa92f555ab335e0cfa888c57e7  2013-07-25  36.045000  -79.091942         1   \n",
       "9c601f226c2af07d570134127a7fda27  2017-08-21  35.884524  -78.953997         3   \n",
       "3a2c48812b551d720f8d56772efa6df1  2019-08-28  41.392490  -75.360700         2   \n",
       "2543db364f727f17fe4ce7881aa180da  2013-07-11  38.305600 -122.026000         4   \n",
       "\n",
       "                                 region  \n",
       "uid                                      \n",
       "e3ebefd90a00c3cc9f5aeaf32cd4c184  south  \n",
       "671520fa92f555ab335e0cfa888c57e7  south  \n",
       "9c601f226c2af07d570134127a7fda27  south  \n",
       "3a2c48812b551d720f8d56772efa6df1  south  \n",
       "2543db364f727f17fe4ce7881aa180da  south  "
      ]
     },
     "execution_count": 140,
     "metadata": {},
     "output_type": "execute_result"
    }
   ],
   "source": [
    "pipeline.train_samples[\"region\"] = [\"south\", \"south\", \"south\", \"south\", \"south\"]\n",
    "pipeline.train_samples"
   ]
  },
  {
   "cell_type": "code",
   "execution_count": 141,
   "id": "2b6cc0d4-d638-4290-a6a2-e0be038734f3",
   "metadata": {},
   "outputs": [
    {
     "data": {
      "text/html": [
       "<div>\n",
       "<style scoped>\n",
       "    .dataframe tbody tr th:only-of-type {\n",
       "        vertical-align: middle;\n",
       "    }\n",
       "\n",
       "    .dataframe tbody tr th {\n",
       "        vertical-align: top;\n",
       "    }\n",
       "\n",
       "    .dataframe thead th {\n",
       "        text-align: right;\n",
       "    }\n",
       "</style>\n",
       "<table border=\"1\" class=\"dataframe\">\n",
       "  <thead>\n",
       "    <tr style=\"text-align: right;\">\n",
       "      <th></th>\n",
       "      <th>AOT_mean</th>\n",
       "      <th>AOT_min</th>\n",
       "      <th>AOT_max</th>\n",
       "      <th>AOT_range</th>\n",
       "      <th>B01_mean</th>\n",
       "      <th>B01_min</th>\n",
       "      <th>B01_max</th>\n",
       "      <th>B01_range</th>\n",
       "      <th>B02_mean</th>\n",
       "      <th>B02_min</th>\n",
       "      <th>...</th>\n",
       "      <th>WVP_max</th>\n",
       "      <th>WVP_range</th>\n",
       "      <th>NDVI_B04</th>\n",
       "      <th>NDVI_B05</th>\n",
       "      <th>NDVI_B06</th>\n",
       "      <th>NDVI_B07</th>\n",
       "      <th>month</th>\n",
       "      <th>days_before_sample</th>\n",
       "      <th>rounded_longitude</th>\n",
       "      <th>fold</th>\n",
       "    </tr>\n",
       "    <tr>\n",
       "      <th>sample_id</th>\n",
       "      <th></th>\n",
       "      <th></th>\n",
       "      <th></th>\n",
       "      <th></th>\n",
       "      <th></th>\n",
       "      <th></th>\n",
       "      <th></th>\n",
       "      <th></th>\n",
       "      <th></th>\n",
       "      <th></th>\n",
       "      <th></th>\n",
       "      <th></th>\n",
       "      <th></th>\n",
       "      <th></th>\n",
       "      <th></th>\n",
       "      <th></th>\n",
       "      <th></th>\n",
       "      <th></th>\n",
       "      <th></th>\n",
       "      <th></th>\n",
       "      <th></th>\n",
       "    </tr>\n",
       "  </thead>\n",
       "  <tbody>\n",
       "    <tr>\n",
       "      <th>9c601f226c2af07d570134127a7fda27</th>\n",
       "      <td>0.000000</td>\n",
       "      <td>0.0</td>\n",
       "      <td>0.0</td>\n",
       "      <td>0.0</td>\n",
       "      <td>0.000000</td>\n",
       "      <td>0.0</td>\n",
       "      <td>0.0</td>\n",
       "      <td>0.0</td>\n",
       "      <td>0.000000</td>\n",
       "      <td>0.0</td>\n",
       "      <td>...</td>\n",
       "      <td>0.0</td>\n",
       "      <td>0.0</td>\n",
       "      <td>0.000000</td>\n",
       "      <td>0.000000</td>\n",
       "      <td>0.000000</td>\n",
       "      <td>0.000000</td>\n",
       "      <td>8.0</td>\n",
       "      <td>4.0</td>\n",
       "      <td>-8.0</td>\n",
       "      <td>-1</td>\n",
       "    </tr>\n",
       "    <tr>\n",
       "      <th>9c601f226c2af07d570134127a7fda27</th>\n",
       "      <td>95.586168</td>\n",
       "      <td>95.0</td>\n",
       "      <td>96.0</td>\n",
       "      <td>1.0</td>\n",
       "      <td>4452.640625</td>\n",
       "      <td>3186.0</td>\n",
       "      <td>7687.0</td>\n",
       "      <td>4501.0</td>\n",
       "      <td>4323.993197</td>\n",
       "      <td>2168.0</td>\n",
       "      <td>...</td>\n",
       "      <td>4300.0</td>\n",
       "      <td>3162.0</td>\n",
       "      <td>0.121759</td>\n",
       "      <td>0.054942</td>\n",
       "      <td>0.017671</td>\n",
       "      <td>-0.007689</td>\n",
       "      <td>8.0</td>\n",
       "      <td>9.0</td>\n",
       "      <td>-8.0</td>\n",
       "      <td>-1</td>\n",
       "    </tr>\n",
       "    <tr>\n",
       "      <th>3a2c48812b551d720f8d56772efa6df1</th>\n",
       "      <td>129.913742</td>\n",
       "      <td>129.0</td>\n",
       "      <td>130.0</td>\n",
       "      <td>1.0</td>\n",
       "      <td>12258.953125</td>\n",
       "      <td>11413.0</td>\n",
       "      <td>13228.0</td>\n",
       "      <td>1815.0</td>\n",
       "      <td>11568.770970</td>\n",
       "      <td>10448.0</td>\n",
       "      <td>...</td>\n",
       "      <td>2934.0</td>\n",
       "      <td>0.0</td>\n",
       "      <td>-0.025785</td>\n",
       "      <td>-0.044395</td>\n",
       "      <td>-0.024266</td>\n",
       "      <td>-0.018886</td>\n",
       "      <td>8.0</td>\n",
       "      <td>14.0</td>\n",
       "      <td>-8.0</td>\n",
       "      <td>-1</td>\n",
       "    </tr>\n",
       "    <tr>\n",
       "      <th>3a2c48812b551d720f8d56772efa6df1</th>\n",
       "      <td>96.000000</td>\n",
       "      <td>96.0</td>\n",
       "      <td>96.0</td>\n",
       "      <td>0.0</td>\n",
       "      <td>289.156250</td>\n",
       "      <td>245.0</td>\n",
       "      <td>402.0</td>\n",
       "      <td>157.0</td>\n",
       "      <td>271.728138</td>\n",
       "      <td>189.0</td>\n",
       "      <td>...</td>\n",
       "      <td>1659.0</td>\n",
       "      <td>762.0</td>\n",
       "      <td>0.736759</td>\n",
       "      <td>0.519615</td>\n",
       "      <td>0.102936</td>\n",
       "      <td>0.021354</td>\n",
       "      <td>8.0</td>\n",
       "      <td>4.0</td>\n",
       "      <td>-8.0</td>\n",
       "      <td>-1</td>\n",
       "    </tr>\n",
       "    <tr>\n",
       "      <th>3a2c48812b551d720f8d56772efa6df1</th>\n",
       "      <td>151.995241</td>\n",
       "      <td>151.0</td>\n",
       "      <td>152.0</td>\n",
       "      <td>1.0</td>\n",
       "      <td>678.109375</td>\n",
       "      <td>241.0</td>\n",
       "      <td>1528.0</td>\n",
       "      <td>1287.0</td>\n",
       "      <td>728.650208</td>\n",
       "      <td>275.0</td>\n",
       "      <td>...</td>\n",
       "      <td>3353.0</td>\n",
       "      <td>1682.0</td>\n",
       "      <td>0.543555</td>\n",
       "      <td>0.382714</td>\n",
       "      <td>0.096019</td>\n",
       "      <td>0.013761</td>\n",
       "      <td>8.0</td>\n",
       "      <td>9.0</td>\n",
       "      <td>-8.0</td>\n",
       "      <td>-1</td>\n",
       "    </tr>\n",
       "  </tbody>\n",
       "</table>\n",
       "<p>5 rows × 68 columns</p>\n",
       "</div>"
      ],
      "text/plain": [
       "                                    AOT_mean  AOT_min  AOT_max  AOT_range  \\\n",
       "sample_id                                                                   \n",
       "9c601f226c2af07d570134127a7fda27    0.000000      0.0      0.0        0.0   \n",
       "9c601f226c2af07d570134127a7fda27   95.586168     95.0     96.0        1.0   \n",
       "3a2c48812b551d720f8d56772efa6df1  129.913742    129.0    130.0        1.0   \n",
       "3a2c48812b551d720f8d56772efa6df1   96.000000     96.0     96.0        0.0   \n",
       "3a2c48812b551d720f8d56772efa6df1  151.995241    151.0    152.0        1.0   \n",
       "\n",
       "                                      B01_mean  B01_min  B01_max  B01_range  \\\n",
       "sample_id                                                                     \n",
       "9c601f226c2af07d570134127a7fda27      0.000000      0.0      0.0        0.0   \n",
       "9c601f226c2af07d570134127a7fda27   4452.640625   3186.0   7687.0     4501.0   \n",
       "3a2c48812b551d720f8d56772efa6df1  12258.953125  11413.0  13228.0     1815.0   \n",
       "3a2c48812b551d720f8d56772efa6df1    289.156250    245.0    402.0      157.0   \n",
       "3a2c48812b551d720f8d56772efa6df1    678.109375    241.0   1528.0     1287.0   \n",
       "\n",
       "                                      B02_mean  B02_min  ...  WVP_max  \\\n",
       "sample_id                                                ...            \n",
       "9c601f226c2af07d570134127a7fda27      0.000000      0.0  ...      0.0   \n",
       "9c601f226c2af07d570134127a7fda27   4323.993197   2168.0  ...   4300.0   \n",
       "3a2c48812b551d720f8d56772efa6df1  11568.770970  10448.0  ...   2934.0   \n",
       "3a2c48812b551d720f8d56772efa6df1    271.728138    189.0  ...   1659.0   \n",
       "3a2c48812b551d720f8d56772efa6df1    728.650208    275.0  ...   3353.0   \n",
       "\n",
       "                                  WVP_range  NDVI_B04  NDVI_B05  NDVI_B06  \\\n",
       "sample_id                                                                   \n",
       "9c601f226c2af07d570134127a7fda27        0.0  0.000000  0.000000  0.000000   \n",
       "9c601f226c2af07d570134127a7fda27     3162.0  0.121759  0.054942  0.017671   \n",
       "3a2c48812b551d720f8d56772efa6df1        0.0 -0.025785 -0.044395 -0.024266   \n",
       "3a2c48812b551d720f8d56772efa6df1      762.0  0.736759  0.519615  0.102936   \n",
       "3a2c48812b551d720f8d56772efa6df1     1682.0  0.543555  0.382714  0.096019   \n",
       "\n",
       "                                  NDVI_B07  month  days_before_sample  \\\n",
       "sample_id                                                               \n",
       "9c601f226c2af07d570134127a7fda27  0.000000    8.0                 4.0   \n",
       "9c601f226c2af07d570134127a7fda27 -0.007689    8.0                 9.0   \n",
       "3a2c48812b551d720f8d56772efa6df1 -0.018886    8.0                14.0   \n",
       "3a2c48812b551d720f8d56772efa6df1  0.021354    8.0                 4.0   \n",
       "3a2c48812b551d720f8d56772efa6df1  0.013761    8.0                 9.0   \n",
       "\n",
       "                                  rounded_longitude  fold  \n",
       "sample_id                                                  \n",
       "9c601f226c2af07d570134127a7fda27               -8.0    -1  \n",
       "9c601f226c2af07d570134127a7fda27               -8.0    -1  \n",
       "3a2c48812b551d720f8d56772efa6df1               -8.0    -1  \n",
       "3a2c48812b551d720f8d56772efa6df1               -8.0    -1  \n",
       "3a2c48812b551d720f8d56772efa6df1               -8.0    -1  \n",
       "\n",
       "[5 rows x 68 columns]"
      ]
     },
     "execution_count": 141,
     "metadata": {},
     "output_type": "execute_result"
    }
   ],
   "source": [
    "pipeline.train_features"
   ]
  },
  {
   "cell_type": "code",
   "execution_count": 142,
   "id": "5a03f7b1-be8c-4017-bada-78edac4e4700",
   "metadata": {},
   "outputs": [
    {
     "data": {
      "text/plain": [
       "uid\n",
       "e3ebefd90a00c3cc9f5aeaf32cd4c184    1\n",
       "671520fa92f555ab335e0cfa888c57e7    1\n",
       "9c601f226c2af07d570134127a7fda27    3\n",
       "3a2c48812b551d720f8d56772efa6df1    2\n",
       "2543db364f727f17fe4ce7881aa180da    4\n",
       "Name: severity, dtype: int64"
      ]
     },
     "execution_count": 142,
     "metadata": {},
     "output_type": "execute_result"
    }
   ],
   "source": [
    "pipeline.train_labels"
   ]
  },
  {
   "cell_type": "code",
   "execution_count": 60,
   "id": "f2366321-b07b-4208-8fac-0e1b3a0717e1",
   "metadata": {},
   "outputs": [],
   "source": [
    "lgb_data = lgb.Dataset(\n",
    "    pipeline.train_features,\n",
    "    label=pipeline.train_labels.loc[pipeline.train_features.index],\n",
    ")"
   ]
  },
  {
   "cell_type": "code",
   "execution_count": null,
   "id": "f0d5728f-dc6c-4794-bb23-6f6885dc367c",
   "metadata": {},
   "outputs": [],
   "source": [
    "model = lgb.train(\n",
    "    pipeline.model_training_config.params.model_dump(),\n",
    "    lgb_data,\n",
    "    num_boost_round=pipeline.model_training_config.num_boost_round,\n",
    ")"
   ]
  },
  {
   "cell_type": "markdown",
   "id": "6ed3e5ee-a058-4ebf-9ef1-52b375b81068",
   "metadata": {},
   "source": [
    "#### Add folds"
   ]
  },
  {
   "cell_type": "code",
   "execution_count": 50,
   "id": "2299b8f2-d668-4a9c-9213-1d9a8cfbecc2",
   "metadata": {},
   "outputs": [],
   "source": [
    "from sklearn.model_selection import StratifiedGroupKFold\n",
    "from cyano.settings import RANDOM_STATE"
   ]
  },
  {
   "cell_type": "code",
   "execution_count": 52,
   "id": "8f9ce667-d54b-4609-ab4a-64b25c9e0e89",
   "metadata": {},
   "outputs": [],
   "source": []
  },
  {
   "cell_type": "code",
   "execution_count": 143,
   "id": "5352ec83-566b-4c42-bacf-677868e9412a",
   "metadata": {},
   "outputs": [
    {
     "data": {
      "text/html": [
       "<div>\n",
       "<style scoped>\n",
       "    .dataframe tbody tr th:only-of-type {\n",
       "        vertical-align: middle;\n",
       "    }\n",
       "\n",
       "    .dataframe tbody tr th {\n",
       "        vertical-align: top;\n",
       "    }\n",
       "\n",
       "    .dataframe thead th {\n",
       "        text-align: right;\n",
       "    }\n",
       "</style>\n",
       "<table border=\"1\" class=\"dataframe\">\n",
       "  <thead>\n",
       "    <tr style=\"text-align: right;\">\n",
       "      <th></th>\n",
       "      <th>date</th>\n",
       "      <th>latitude</th>\n",
       "      <th>longitude</th>\n",
       "      <th>severity</th>\n",
       "      <th>region</th>\n",
       "    </tr>\n",
       "    <tr>\n",
       "      <th>uid</th>\n",
       "      <th></th>\n",
       "      <th></th>\n",
       "      <th></th>\n",
       "      <th></th>\n",
       "      <th></th>\n",
       "    </tr>\n",
       "  </thead>\n",
       "  <tbody>\n",
       "    <tr>\n",
       "      <th>e3ebefd90a00c3cc9f5aeaf32cd4c184</th>\n",
       "      <td>2015-06-29</td>\n",
       "      <td>41.424144</td>\n",
       "      <td>-73.206937</td>\n",
       "      <td>1</td>\n",
       "      <td>south</td>\n",
       "    </tr>\n",
       "    <tr>\n",
       "      <th>671520fa92f555ab335e0cfa888c57e7</th>\n",
       "      <td>2013-07-25</td>\n",
       "      <td>36.045000</td>\n",
       "      <td>-79.091942</td>\n",
       "      <td>1</td>\n",
       "      <td>south</td>\n",
       "    </tr>\n",
       "    <tr>\n",
       "      <th>9c601f226c2af07d570134127a7fda27</th>\n",
       "      <td>2017-08-21</td>\n",
       "      <td>35.884524</td>\n",
       "      <td>-78.953997</td>\n",
       "      <td>3</td>\n",
       "      <td>south</td>\n",
       "    </tr>\n",
       "    <tr>\n",
       "      <th>3a2c48812b551d720f8d56772efa6df1</th>\n",
       "      <td>2019-08-28</td>\n",
       "      <td>41.392490</td>\n",
       "      <td>-75.360700</td>\n",
       "      <td>2</td>\n",
       "      <td>south</td>\n",
       "    </tr>\n",
       "    <tr>\n",
       "      <th>2543db364f727f17fe4ce7881aa180da</th>\n",
       "      <td>2013-07-11</td>\n",
       "      <td>38.305600</td>\n",
       "      <td>-122.026000</td>\n",
       "      <td>4</td>\n",
       "      <td>south</td>\n",
       "    </tr>\n",
       "  </tbody>\n",
       "</table>\n",
       "</div>"
      ],
      "text/plain": [
       "                                        date   latitude   longitude  severity  \\\n",
       "uid                                                                             \n",
       "e3ebefd90a00c3cc9f5aeaf32cd4c184  2015-06-29  41.424144  -73.206937         1   \n",
       "671520fa92f555ab335e0cfa888c57e7  2013-07-25  36.045000  -79.091942         1   \n",
       "9c601f226c2af07d570134127a7fda27  2017-08-21  35.884524  -78.953997         3   \n",
       "3a2c48812b551d720f8d56772efa6df1  2019-08-28  41.392490  -75.360700         2   \n",
       "2543db364f727f17fe4ce7881aa180da  2013-07-11  38.305600 -122.026000         4   \n",
       "\n",
       "                                 region  \n",
       "uid                                      \n",
       "e3ebefd90a00c3cc9f5aeaf32cd4c184  south  \n",
       "671520fa92f555ab335e0cfa888c57e7  south  \n",
       "9c601f226c2af07d570134127a7fda27  south  \n",
       "3a2c48812b551d720f8d56772efa6df1  south  \n",
       "2543db364f727f17fe4ce7881aa180da  south  "
      ]
     },
     "execution_count": 143,
     "metadata": {},
     "output_type": "execute_result"
    }
   ],
   "source": [
    "pipeline.train_samples"
   ]
  },
  {
   "cell_type": "code",
   "execution_count": 144,
   "id": "e21bf2ed-6155-422b-838c-bf591b774beb",
   "metadata": {},
   "outputs": [
    {
     "data": {
      "text/plain": [
       "sample_id\n",
       "9c601f226c2af07d570134127a7fda27    south\n",
       "9c601f226c2af07d570134127a7fda27    south\n",
       "3a2c48812b551d720f8d56772efa6df1    south\n",
       "3a2c48812b551d720f8d56772efa6df1    south\n",
       "3a2c48812b551d720f8d56772efa6df1    south\n",
       "Name: region, dtype: object"
      ]
     },
     "execution_count": 144,
     "metadata": {},
     "output_type": "execute_result"
    }
   ],
   "source": [
    "pipeline.train_samples.loc[pipeline.train_features.index].region"
   ]
  },
  {
   "cell_type": "code",
   "execution_count": 145,
   "id": "b2a493cd-c5d3-4f87-ad7d-cfdb8705abb4",
   "metadata": {},
   "outputs": [
    {
     "data": {
      "text/html": [
       "<div>\n",
       "<style scoped>\n",
       "    .dataframe tbody tr th:only-of-type {\n",
       "        vertical-align: middle;\n",
       "    }\n",
       "\n",
       "    .dataframe tbody tr th {\n",
       "        vertical-align: top;\n",
       "    }\n",
       "\n",
       "    .dataframe thead th {\n",
       "        text-align: right;\n",
       "    }\n",
       "</style>\n",
       "<table border=\"1\" class=\"dataframe\">\n",
       "  <thead>\n",
       "    <tr style=\"text-align: right;\">\n",
       "      <th></th>\n",
       "      <th>sample_id</th>\n",
       "      <th>AOT_mean</th>\n",
       "      <th>AOT_min</th>\n",
       "      <th>AOT_max</th>\n",
       "      <th>AOT_range</th>\n",
       "      <th>B01_mean</th>\n",
       "      <th>B01_min</th>\n",
       "      <th>B01_max</th>\n",
       "      <th>B01_range</th>\n",
       "      <th>B02_mean</th>\n",
       "      <th>...</th>\n",
       "      <th>WVP_max</th>\n",
       "      <th>WVP_range</th>\n",
       "      <th>NDVI_B04</th>\n",
       "      <th>NDVI_B05</th>\n",
       "      <th>NDVI_B06</th>\n",
       "      <th>NDVI_B07</th>\n",
       "      <th>month</th>\n",
       "      <th>days_before_sample</th>\n",
       "      <th>rounded_longitude</th>\n",
       "      <th>fold</th>\n",
       "    </tr>\n",
       "  </thead>\n",
       "  <tbody>\n",
       "    <tr>\n",
       "      <th>0</th>\n",
       "      <td>9c601f226c2af07d570134127a7fda27</td>\n",
       "      <td>0.000000</td>\n",
       "      <td>0.0</td>\n",
       "      <td>0.0</td>\n",
       "      <td>0.0</td>\n",
       "      <td>0.000000</td>\n",
       "      <td>0.0</td>\n",
       "      <td>0.0</td>\n",
       "      <td>0.0</td>\n",
       "      <td>0.000000</td>\n",
       "      <td>...</td>\n",
       "      <td>0.0</td>\n",
       "      <td>0.0</td>\n",
       "      <td>0.000000</td>\n",
       "      <td>0.000000</td>\n",
       "      <td>0.000000</td>\n",
       "      <td>0.000000</td>\n",
       "      <td>8.0</td>\n",
       "      <td>4.0</td>\n",
       "      <td>-8.0</td>\n",
       "      <td>-1</td>\n",
       "    </tr>\n",
       "    <tr>\n",
       "      <th>1</th>\n",
       "      <td>9c601f226c2af07d570134127a7fda27</td>\n",
       "      <td>95.586168</td>\n",
       "      <td>95.0</td>\n",
       "      <td>96.0</td>\n",
       "      <td>1.0</td>\n",
       "      <td>4452.640625</td>\n",
       "      <td>3186.0</td>\n",
       "      <td>7687.0</td>\n",
       "      <td>4501.0</td>\n",
       "      <td>4323.993197</td>\n",
       "      <td>...</td>\n",
       "      <td>4300.0</td>\n",
       "      <td>3162.0</td>\n",
       "      <td>0.121759</td>\n",
       "      <td>0.054942</td>\n",
       "      <td>0.017671</td>\n",
       "      <td>-0.007689</td>\n",
       "      <td>8.0</td>\n",
       "      <td>9.0</td>\n",
       "      <td>-8.0</td>\n",
       "      <td>-1</td>\n",
       "    </tr>\n",
       "  </tbody>\n",
       "</table>\n",
       "<p>2 rows × 69 columns</p>\n",
       "</div>"
      ],
      "text/plain": [
       "                          sample_id   AOT_mean  AOT_min  AOT_max  AOT_range  \\\n",
       "0  9c601f226c2af07d570134127a7fda27   0.000000      0.0      0.0        0.0   \n",
       "1  9c601f226c2af07d570134127a7fda27  95.586168     95.0     96.0        1.0   \n",
       "\n",
       "      B01_mean  B01_min  B01_max  B01_range     B02_mean  ...  WVP_max  \\\n",
       "0     0.000000      0.0      0.0        0.0     0.000000  ...      0.0   \n",
       "1  4452.640625   3186.0   7687.0     4501.0  4323.993197  ...   4300.0   \n",
       "\n",
       "   WVP_range  NDVI_B04  NDVI_B05  NDVI_B06  NDVI_B07  month  \\\n",
       "0        0.0  0.000000  0.000000  0.000000  0.000000    8.0   \n",
       "1     3162.0  0.121759  0.054942  0.017671 -0.007689    8.0   \n",
       "\n",
       "   days_before_sample  rounded_longitude  fold  \n",
       "0                 4.0               -8.0    -1  \n",
       "1                 9.0               -8.0    -1  \n",
       "\n",
       "[2 rows x 69 columns]"
      ]
     },
     "execution_count": 145,
     "metadata": {},
     "output_type": "execute_result"
    }
   ],
   "source": [
    "train_features = pipeline.train_features.copy()\n",
    "train_features = train_features.reset_index(drop=False)\n",
    "train_features[\"fold\"] = -1\n",
    "train_features.head(2)"
   ]
  },
  {
   "cell_type": "code",
   "execution_count": 146,
   "id": "0f8e0e6c-6fee-454a-b8fd-38f5df2eaf2f",
   "metadata": {},
   "outputs": [],
   "source": [
    "n_folds = 4\n",
    "kf = StratifiedGroupKFold(n_splits=n_folds, shuffle=True, random_state=RANDOM_STATE)\n",
    "\n",
    "splits = kf.split(\n",
    "    train_features,\n",
    "    pipeline.train_samples.loc[train_features.sample_id].region,\n",
    "    groups=train_features.sample_id,\n",
    ")\n",
    "\n",
    "for fold_id, (train_index, test_index) in enumerate(splits):\n",
    "    train_features.loc[test_index, \"fold\"] = fold_id"
   ]
  },
  {
   "cell_type": "code",
   "execution_count": 136,
   "id": "12cb0ea8-4865-459a-a093-db1ded151142",
   "metadata": {},
   "outputs": [
    {
     "data": {
      "text/plain": [
       "fold\n",
       "1    3\n",
       "0    2\n",
       "Name: count, dtype: int64"
      ]
     },
     "execution_count": 136,
     "metadata": {},
     "output_type": "execute_result"
    }
   ],
   "source": [
    "train_features.fold.value_counts()"
   ]
  },
  {
   "cell_type": "code",
   "execution_count": 138,
   "id": "34cd8691-4791-4786-9537-d12e5d5613ed",
   "metadata": {},
   "outputs": [
    {
     "data": {
      "text/plain": [
       "uid\n",
       "9c601f226c2af07d570134127a7fda27    midwest\n",
       "9c601f226c2af07d570134127a7fda27    midwest\n",
       "3a2c48812b551d720f8d56772efa6df1       west\n",
       "3a2c48812b551d720f8d56772efa6df1       west\n",
       "3a2c48812b551d720f8d56772efa6df1       west\n",
       "Name: region, dtype: object"
      ]
     },
     "execution_count": 138,
     "metadata": {},
     "output_type": "execute_result"
    }
   ],
   "source": [
    "pipeline.train_samples.loc[train_features.sample_id].region"
   ]
  },
  {
   "cell_type": "code",
   "execution_count": 148,
   "id": "8a917efd-3abb-446f-9f13-69e461f230e0",
   "metadata": {},
   "outputs": [
    {
     "ename": "ValueError",
     "evalue": "Supported target types are: ('binary', 'multiclass'). Got 'unknown' instead.",
     "output_type": "error",
     "traceback": [
      "\u001b[0;31m---------------------------------------------------------------------------\u001b[0m",
      "\u001b[0;31mValueError\u001b[0m                                Traceback (most recent call last)",
      "Cell \u001b[0;32mIn[148], line 11\u001b[0m\n\u001b[1;32m      3\u001b[0m train_features[\u001b[38;5;124m'\u001b[39m\u001b[38;5;124mfold2\u001b[39m\u001b[38;5;124m'\u001b[39m] \u001b[38;5;241m=\u001b[39m \u001b[38;5;241m-\u001b[39m\u001b[38;5;241m1\u001b[39m\n\u001b[1;32m      5\u001b[0m splits \u001b[38;5;241m=\u001b[39m kf\u001b[38;5;241m.\u001b[39msplit(\n\u001b[1;32m      6\u001b[0m     train_features,\n\u001b[1;32m      7\u001b[0m     \u001b[38;5;66;03m# pipeline.train_samples.loc[train_features.sample_id].region,\u001b[39;00m\n\u001b[1;32m      8\u001b[0m     groups\u001b[38;5;241m=\u001b[39mtrain_features\u001b[38;5;241m.\u001b[39msample_id,\n\u001b[1;32m      9\u001b[0m )\n\u001b[0;32m---> 11\u001b[0m \u001b[38;5;28;01mfor\u001b[39;00m fold_id, (train_index, test_index) \u001b[38;5;129;01min\u001b[39;00m \u001b[38;5;28menumerate\u001b[39m(splits):\n\u001b[1;32m     12\u001b[0m     train_features\u001b[38;5;241m.\u001b[39mloc[test_index, \u001b[38;5;124m\"\u001b[39m\u001b[38;5;124mfold2\u001b[39m\u001b[38;5;124m\"\u001b[39m] \u001b[38;5;241m=\u001b[39m fold_id\n",
      "File \u001b[0;32m/opt/anaconda3/envs/cyanobacteria-prediction/lib/python3.10/site-packages/sklearn/model_selection/_split.py:377\u001b[0m, in \u001b[0;36m_BaseKFold.split\u001b[0;34m(self, X, y, groups)\u001b[0m\n\u001b[1;32m    369\u001b[0m \u001b[38;5;28;01mif\u001b[39;00m \u001b[38;5;28mself\u001b[39m\u001b[38;5;241m.\u001b[39mn_splits \u001b[38;5;241m>\u001b[39m n_samples:\n\u001b[1;32m    370\u001b[0m     \u001b[38;5;28;01mraise\u001b[39;00m \u001b[38;5;167;01mValueError\u001b[39;00m(\n\u001b[1;32m    371\u001b[0m         (\n\u001b[1;32m    372\u001b[0m             \u001b[38;5;124m\"\u001b[39m\u001b[38;5;124mCannot have number of splits n_splits=\u001b[39m\u001b[38;5;132;01m{0}\u001b[39;00m\u001b[38;5;124m greater\u001b[39m\u001b[38;5;124m\"\u001b[39m\n\u001b[1;32m    373\u001b[0m             \u001b[38;5;124m\"\u001b[39m\u001b[38;5;124m than the number of samples: n_samples=\u001b[39m\u001b[38;5;132;01m{1}\u001b[39;00m\u001b[38;5;124m.\u001b[39m\u001b[38;5;124m\"\u001b[39m\n\u001b[1;32m    374\u001b[0m         )\u001b[38;5;241m.\u001b[39mformat(\u001b[38;5;28mself\u001b[39m\u001b[38;5;241m.\u001b[39mn_splits, n_samples)\n\u001b[1;32m    375\u001b[0m     )\n\u001b[0;32m--> 377\u001b[0m \u001b[38;5;28;01mfor\u001b[39;00m train, test \u001b[38;5;129;01min\u001b[39;00m \u001b[38;5;28msuper\u001b[39m()\u001b[38;5;241m.\u001b[39msplit(X, y, groups):\n\u001b[1;32m    378\u001b[0m     \u001b[38;5;28;01myield\u001b[39;00m train, test\n",
      "File \u001b[0;32m/opt/anaconda3/envs/cyanobacteria-prediction/lib/python3.10/site-packages/sklearn/model_selection/_split.py:108\u001b[0m, in \u001b[0;36mBaseCrossValidator.split\u001b[0;34m(self, X, y, groups)\u001b[0m\n\u001b[1;32m    106\u001b[0m X, y, groups \u001b[38;5;241m=\u001b[39m indexable(X, y, groups)\n\u001b[1;32m    107\u001b[0m indices \u001b[38;5;241m=\u001b[39m np\u001b[38;5;241m.\u001b[39marange(_num_samples(X))\n\u001b[0;32m--> 108\u001b[0m \u001b[38;5;28;01mfor\u001b[39;00m test_index \u001b[38;5;129;01min\u001b[39;00m \u001b[38;5;28mself\u001b[39m\u001b[38;5;241m.\u001b[39m_iter_test_masks(X, y, groups):\n\u001b[1;32m    109\u001b[0m     train_index \u001b[38;5;241m=\u001b[39m indices[np\u001b[38;5;241m.\u001b[39mlogical_not(test_index)]\n\u001b[1;32m    110\u001b[0m     test_index \u001b[38;5;241m=\u001b[39m indices[test_index]\n",
      "File \u001b[0;32m/opt/anaconda3/envs/cyanobacteria-prediction/lib/python3.10/site-packages/sklearn/model_selection/_split.py:120\u001b[0m, in \u001b[0;36mBaseCrossValidator._iter_test_masks\u001b[0;34m(self, X, y, groups)\u001b[0m\n\u001b[1;32m    115\u001b[0m \u001b[38;5;28;01mdef\u001b[39;00m \u001b[38;5;21m_iter_test_masks\u001b[39m(\u001b[38;5;28mself\u001b[39m, X\u001b[38;5;241m=\u001b[39m\u001b[38;5;28;01mNone\u001b[39;00m, y\u001b[38;5;241m=\u001b[39m\u001b[38;5;28;01mNone\u001b[39;00m, groups\u001b[38;5;241m=\u001b[39m\u001b[38;5;28;01mNone\u001b[39;00m):\n\u001b[1;32m    116\u001b[0m \u001b[38;5;250m    \u001b[39m\u001b[38;5;124;03m\"\"\"Generates boolean masks corresponding to test sets.\u001b[39;00m\n\u001b[1;32m    117\u001b[0m \n\u001b[1;32m    118\u001b[0m \u001b[38;5;124;03m    By default, delegates to _iter_test_indices(X, y, groups)\u001b[39;00m\n\u001b[1;32m    119\u001b[0m \u001b[38;5;124;03m    \"\"\"\u001b[39;00m\n\u001b[0;32m--> 120\u001b[0m     \u001b[38;5;28;01mfor\u001b[39;00m test_index \u001b[38;5;129;01min\u001b[39;00m \u001b[38;5;28mself\u001b[39m\u001b[38;5;241m.\u001b[39m_iter_test_indices(X, y, groups):\n\u001b[1;32m    121\u001b[0m         test_mask \u001b[38;5;241m=\u001b[39m np\u001b[38;5;241m.\u001b[39mzeros(_num_samples(X), dtype\u001b[38;5;241m=\u001b[39m\u001b[38;5;28mbool\u001b[39m)\n\u001b[1;32m    122\u001b[0m         test_mask[test_index] \u001b[38;5;241m=\u001b[39m \u001b[38;5;28;01mTrue\u001b[39;00m\n",
      "File \u001b[0;32m/opt/anaconda3/envs/cyanobacteria-prediction/lib/python3.10/site-packages/sklearn/model_selection/_split.py:919\u001b[0m, in \u001b[0;36mStratifiedGroupKFold._iter_test_indices\u001b[0;34m(self, X, y, groups)\u001b[0m\n\u001b[1;32m    917\u001b[0m allowed_target_types \u001b[38;5;241m=\u001b[39m (\u001b[38;5;124m\"\u001b[39m\u001b[38;5;124mbinary\u001b[39m\u001b[38;5;124m\"\u001b[39m, \u001b[38;5;124m\"\u001b[39m\u001b[38;5;124mmulticlass\u001b[39m\u001b[38;5;124m\"\u001b[39m)\n\u001b[1;32m    918\u001b[0m \u001b[38;5;28;01mif\u001b[39;00m type_of_target_y \u001b[38;5;129;01mnot\u001b[39;00m \u001b[38;5;129;01min\u001b[39;00m allowed_target_types:\n\u001b[0;32m--> 919\u001b[0m     \u001b[38;5;28;01mraise\u001b[39;00m \u001b[38;5;167;01mValueError\u001b[39;00m(\n\u001b[1;32m    920\u001b[0m         \u001b[38;5;124m\"\u001b[39m\u001b[38;5;124mSupported target types are: \u001b[39m\u001b[38;5;132;01m{}\u001b[39;00m\u001b[38;5;124m. Got \u001b[39m\u001b[38;5;132;01m{!r}\u001b[39;00m\u001b[38;5;124m instead.\u001b[39m\u001b[38;5;124m\"\u001b[39m\u001b[38;5;241m.\u001b[39mformat(\n\u001b[1;32m    921\u001b[0m             allowed_target_types, type_of_target_y\n\u001b[1;32m    922\u001b[0m         )\n\u001b[1;32m    923\u001b[0m     )\n\u001b[1;32m    925\u001b[0m y \u001b[38;5;241m=\u001b[39m column_or_1d(y)\n\u001b[1;32m    926\u001b[0m _, y_inv, y_cnt \u001b[38;5;241m=\u001b[39m np\u001b[38;5;241m.\u001b[39munique(y, return_inverse\u001b[38;5;241m=\u001b[39m\u001b[38;5;28;01mTrue\u001b[39;00m, return_counts\u001b[38;5;241m=\u001b[39m\u001b[38;5;28;01mTrue\u001b[39;00m)\n",
      "\u001b[0;31mValueError\u001b[0m: Supported target types are: ('binary', 'multiclass'). Got 'unknown' instead."
     ]
    }
   ],
   "source": [
    "n_folds = 4\n",
    "kf = StratifiedGroupKFold(n_splits=n_folds, shuffle=True, random_state=RANDOM_STATE)\n",
    "train_features['fold2'] = -1\n",
    "\n",
    "splits = kf.split(\n",
    "    train_features,\n",
    "    # pipeline.train_samples.loc[train_features.sample_id].region,\n",
    "    groups=train_features.sample_id,\n",
    ")\n",
    "\n",
    "for fold_id, (train_index, test_index) in enumerate(splits):\n",
    "    train_features.loc[test_index, \"fold2\"] = fold_id"
   ]
  },
  {
   "cell_type": "code",
   "execution_count": 88,
   "id": "0babd454-7dbf-4fa2-b005-73bdfc027368",
   "metadata": {},
   "outputs": [
    {
     "data": {
      "text/plain": [
       "(23570, 12)"
      ]
     },
     "execution_count": 88,
     "metadata": {},
     "output_type": "execute_result"
    }
   ],
   "source": [
    "meta = pd.read_csv(\n",
    "    AnyPath(\"s3://drivendata-competition-nasa-cyanobacteria\")\n",
    "    / \"data/interim/processed_unified_labels.csv\",\n",
    "    index_col=0,\n",
    ")\n",
    "meta.shape"
   ]
  },
  {
   "cell_type": "code",
   "execution_count": 89,
   "id": "ffd49c24-8e86-42d3-a75b-3e20fb109937",
   "metadata": {},
   "outputs": [
    {
     "data": {
      "text/html": [
       "<div>\n",
       "<style scoped>\n",
       "    .dataframe tbody tr th:only-of-type {\n",
       "        vertical-align: middle;\n",
       "    }\n",
       "\n",
       "    .dataframe tbody tr th {\n",
       "        vertical-align: top;\n",
       "    }\n",
       "\n",
       "    .dataframe thead th {\n",
       "        text-align: right;\n",
       "    }\n",
       "</style>\n",
       "<table border=\"1\" class=\"dataframe\">\n",
       "  <thead>\n",
       "    <tr style=\"text-align: right;\">\n",
       "      <th></th>\n",
       "      <th>latitude</th>\n",
       "      <th>longitude</th>\n",
       "      <th>date</th>\n",
       "      <th>density</th>\n",
       "      <th>dataset_id</th>\n",
       "      <th>severity</th>\n",
       "      <th>geometry</th>\n",
       "      <th>state</th>\n",
       "      <th>region</th>\n",
       "      <th>cluster</th>\n",
       "      <th>split</th>\n",
       "      <th>season</th>\n",
       "    </tr>\n",
       "    <tr>\n",
       "      <th>uid</th>\n",
       "      <th></th>\n",
       "      <th></th>\n",
       "      <th></th>\n",
       "      <th></th>\n",
       "      <th></th>\n",
       "      <th></th>\n",
       "      <th></th>\n",
       "      <th></th>\n",
       "      <th></th>\n",
       "      <th></th>\n",
       "      <th></th>\n",
       "      <th></th>\n",
       "    </tr>\n",
       "  </thead>\n",
       "  <tbody>\n",
       "    <tr>\n",
       "      <th>paev</th>\n",
       "      <td>44.822478</td>\n",
       "      <td>-93.367962</td>\n",
       "      <td>2013-01-04</td>\n",
       "      <td>1884.0</td>\n",
       "      <td>epa_wqdp</td>\n",
       "      <td>1</td>\n",
       "      <td>POINT (-93.367962 44.822478)</td>\n",
       "      <td>MN</td>\n",
       "      <td>midwest</td>\n",
       "      <td>0</td>\n",
       "      <td>train</td>\n",
       "      <td>winter</td>\n",
       "    </tr>\n",
       "    <tr>\n",
       "      <th>evep</th>\n",
       "      <td>44.847993</td>\n",
       "      <td>-93.476318</td>\n",
       "      <td>2013-01-04</td>\n",
       "      <td>115.0</td>\n",
       "      <td>epa_wqdp</td>\n",
       "      <td>1</td>\n",
       "      <td>POINT (-93.476318 44.847993)</td>\n",
       "      <td>MN</td>\n",
       "      <td>midwest</td>\n",
       "      <td>0</td>\n",
       "      <td>train</td>\n",
       "      <td>winter</td>\n",
       "    </tr>\n",
       "    <tr>\n",
       "      <th>fwbt</th>\n",
       "      <td>44.850500</td>\n",
       "      <td>-93.515700</td>\n",
       "      <td>2013-01-04</td>\n",
       "      <td>476.0</td>\n",
       "      <td>epa_wqdp</td>\n",
       "      <td>1</td>\n",
       "      <td>POINT (-93.5157 44.8505)</td>\n",
       "      <td>MN</td>\n",
       "      <td>midwest</td>\n",
       "      <td>0</td>\n",
       "      <td>train</td>\n",
       "      <td>winter</td>\n",
       "    </tr>\n",
       "  </tbody>\n",
       "</table>\n",
       "</div>"
      ],
      "text/plain": [
       "       latitude  longitude        date  density dataset_id  severity  \\\n",
       "uid                                                                    \n",
       "paev  44.822478 -93.367962  2013-01-04   1884.0   epa_wqdp         1   \n",
       "evep  44.847993 -93.476318  2013-01-04    115.0   epa_wqdp         1   \n",
       "fwbt  44.850500 -93.515700  2013-01-04    476.0   epa_wqdp         1   \n",
       "\n",
       "                          geometry state   region cluster  split  season  \n",
       "uid                                                                       \n",
       "paev  POINT (-93.367962 44.822478)    MN  midwest       0  train  winter  \n",
       "evep  POINT (-93.476318 44.847993)    MN  midwest       0  train  winter  \n",
       "fwbt      POINT (-93.5157 44.8505)    MN  midwest       0  train  winter  "
      ]
     },
     "execution_count": 89,
     "metadata": {},
     "output_type": "execute_result"
    }
   ],
   "source": [
    "meta.head(3)"
   ]
  },
  {
   "cell_type": "code",
   "execution_count": 90,
   "id": "6e0765ed-7c45-4ae4-8fa9-91fb21f8c449",
   "metadata": {},
   "outputs": [
    {
     "data": {
      "text/plain": [
       "(23725, 12)"
      ]
     },
     "execution_count": 90,
     "metadata": {},
     "output_type": "execute_result"
    }
   ],
   "source": [
    "dupe_meta = pd.concat([meta, meta.sample(n=155, random_state=4)])\n",
    "dupe_meta.shape"
   ]
  },
  {
   "cell_type": "code",
   "execution_count": 91,
   "id": "7f788f37-1286-477e-b780-d8420e4dc7ab",
   "metadata": {},
   "outputs": [],
   "source": [
    "kf = StratifiedGroupKFold(n_splits=5, shuffle=True, random_state=RANDOM_STATE)"
   ]
  },
  {
   "cell_type": "code",
   "execution_count": 98,
   "id": "580c7936-2cf4-47a7-afbf-afb2851bcabe",
   "metadata": {},
   "outputs": [
    {
     "data": {
      "text/html": [
       "<div>\n",
       "<style scoped>\n",
       "    .dataframe tbody tr th:only-of-type {\n",
       "        vertical-align: middle;\n",
       "    }\n",
       "\n",
       "    .dataframe tbody tr th {\n",
       "        vertical-align: top;\n",
       "    }\n",
       "\n",
       "    .dataframe thead th {\n",
       "        text-align: right;\n",
       "    }\n",
       "</style>\n",
       "<table border=\"1\" class=\"dataframe\">\n",
       "  <thead>\n",
       "    <tr style=\"text-align: right;\">\n",
       "      <th></th>\n",
       "      <th>uid</th>\n",
       "      <th>latitude</th>\n",
       "      <th>longitude</th>\n",
       "      <th>date</th>\n",
       "      <th>density</th>\n",
       "      <th>dataset_id</th>\n",
       "      <th>severity</th>\n",
       "      <th>geometry</th>\n",
       "      <th>state</th>\n",
       "      <th>region</th>\n",
       "      <th>cluster</th>\n",
       "      <th>split</th>\n",
       "      <th>season</th>\n",
       "      <th>fold</th>\n",
       "    </tr>\n",
       "  </thead>\n",
       "  <tbody>\n",
       "    <tr>\n",
       "      <th>0</th>\n",
       "      <td>paev</td>\n",
       "      <td>44.822478</td>\n",
       "      <td>-93.367962</td>\n",
       "      <td>2013-01-04</td>\n",
       "      <td>1884.0</td>\n",
       "      <td>epa_wqdp</td>\n",
       "      <td>1</td>\n",
       "      <td>POINT (-93.367962 44.822478)</td>\n",
       "      <td>MN</td>\n",
       "      <td>midwest</td>\n",
       "      <td>0</td>\n",
       "      <td>train</td>\n",
       "      <td>winter</td>\n",
       "      <td>-1</td>\n",
       "    </tr>\n",
       "    <tr>\n",
       "      <th>1</th>\n",
       "      <td>evep</td>\n",
       "      <td>44.847993</td>\n",
       "      <td>-93.476318</td>\n",
       "      <td>2013-01-04</td>\n",
       "      <td>115.0</td>\n",
       "      <td>epa_wqdp</td>\n",
       "      <td>1</td>\n",
       "      <td>POINT (-93.476318 44.847993)</td>\n",
       "      <td>MN</td>\n",
       "      <td>midwest</td>\n",
       "      <td>0</td>\n",
       "      <td>train</td>\n",
       "      <td>winter</td>\n",
       "      <td>-1</td>\n",
       "    </tr>\n",
       "  </tbody>\n",
       "</table>\n",
       "</div>"
      ],
      "text/plain": [
       "    uid   latitude  longitude        date  density dataset_id  severity  \\\n",
       "0  paev  44.822478 -93.367962  2013-01-04   1884.0   epa_wqdp         1   \n",
       "1  evep  44.847993 -93.476318  2013-01-04    115.0   epa_wqdp         1   \n",
       "\n",
       "                       geometry state   region cluster  split  season  fold  \n",
       "0  POINT (-93.367962 44.822478)    MN  midwest       0  train  winter    -1  \n",
       "1  POINT (-93.476318 44.847993)    MN  midwest       0  train  winter    -1  "
      ]
     },
     "execution_count": 98,
     "metadata": {},
     "output_type": "execute_result"
    }
   ],
   "source": [
    "dupe_meta = dupe_meta.reset_index(drop=False)\n",
    "dupe_meta.head(2)"
   ]
  },
  {
   "cell_type": "code",
   "execution_count": 99,
   "id": "2c38a47b-da26-4f7b-baad-52568a5a24eb",
   "metadata": {},
   "outputs": [],
   "source": [
    "splits = kf.split(dupe_meta, dupe_meta.region, groups=dupe_meta.uid)"
   ]
  },
  {
   "cell_type": "code",
   "execution_count": 100,
   "id": "cbef9402-348d-4bae-a8f8-bfaf650b5aca",
   "metadata": {},
   "outputs": [],
   "source": [
    "dupe_meta[\"fold\"] = -1\n",
    "for fold_id, (train_index, test_index) in enumerate(splits):\n",
    "    dupe_meta.loc[test_index, \"fold\"] = fold_id"
   ]
  },
  {
   "cell_type": "code",
   "execution_count": 101,
   "id": "dbaf54b7-6f8e-4665-b034-46702a2f5c3e",
   "metadata": {},
   "outputs": [
    {
     "data": {
      "text/plain": [
       "fold\n",
       "3    4753\n",
       "0    4746\n",
       "1    4744\n",
       "4    4742\n",
       "2    4740\n",
       "Name: count, dtype: int64"
      ]
     },
     "execution_count": 101,
     "metadata": {},
     "output_type": "execute_result"
    }
   ],
   "source": [
    "dupe_meta.fold.value_counts(dropna=False)"
   ]
  },
  {
   "cell_type": "code",
   "execution_count": 103,
   "id": "f67007c4-71d2-4f86-b155-66a2f317c35f",
   "metadata": {},
   "outputs": [
    {
     "data": {
      "text/plain": [
       "fold\n",
       "1    23570\n",
       "Name: count, dtype: int64"
      ]
     },
     "execution_count": 103,
     "metadata": {},
     "output_type": "execute_result"
    }
   ],
   "source": [
    "dupe_meta.groupby(\"uid\").fold.nunique().value_counts(dropna=False)"
   ]
  },
  {
   "cell_type": "code",
   "execution_count": null,
   "id": "8ca8d4b6-4ca9-4540-8cd5-62bfee3a3ec1",
   "metadata": {},
   "outputs": [],
   "source": []
  },
  {
   "cell_type": "code",
   "execution_count": null,
   "id": "5ce26cc1-9a3f-4716-9217-28536588dbc9",
   "metadata": {},
   "outputs": [],
   "source": []
  },
  {
   "cell_type": "code",
   "execution_count": null,
   "id": "32a524eb-fb02-4f21-a6ea-06b44df7d08b",
   "metadata": {},
   "outputs": [],
   "source": []
  },
  {
   "cell_type": "code",
   "execution_count": null,
   "id": "f6b549c7-cfb1-49ef-95e0-2bf36ef8d601",
   "metadata": {},
   "outputs": [],
   "source": []
  }
 ],
 "metadata": {
  "kernelspec": {
   "display_name": "Python 3 (ipykernel)",
   "language": "python",
   "name": "python3"
  },
  "language_info": {
   "codemirror_mode": {
    "name": "ipython",
    "version": 3
   },
   "file_extension": ".py",
   "mimetype": "text/x-python",
   "name": "python",
   "nbconvert_exporter": "python",
   "pygments_lexer": "ipython3",
   "version": "3.10.12"
  }
 },
 "nbformat": 4,
 "nbformat_minor": 5
}
