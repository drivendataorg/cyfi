{
 "cells": [
  {
   "cell_type": "markdown",
   "id": "24beac4b-ff1d-4815-b909-bf0b66db8f36",
   "metadata": {},
   "source": [
    "Look at the results of adding climate data and see the differential performance on samples with satellite imagery samples with only climate data"
   ]
  },
  {
   "cell_type": "code",
   "execution_count": 1,
   "id": "5f70ed9e-63a3-4828-9531-1f560ee4e594",
   "metadata": {},
   "outputs": [],
   "source": [
    "%load_ext lab_black\n",
    "%load_ext autoreload\n",
    "%autoreload 2"
   ]
  },
  {
   "cell_type": "code",
   "execution_count": 2,
   "id": "2ca54dc1-9e2d-41de-a8ec-8d6bdf3a1943",
   "metadata": {},
   "outputs": [],
   "source": [
    "import shutil\n",
    "import yaml\n",
    "\n",
    "from cloudpathlib import AnyPath\n",
    "import lightgbm as lgb\n",
    "import pandas as pd\n",
    "from zipfile import ZipFile\n",
    "\n",
    "from cyano.evaluate import (\n",
    "    EvaluatePreds,\n",
    "    generate_and_plot_crosstab,\n",
    "    generate_actual_density_boxplot,\n",
    "    generate_regional_barplot,\n",
    ")"
   ]
  },
  {
   "cell_type": "code",
   "execution_count": 3,
   "id": "fb7e5b3d-fccb-421d-aae0-1276905b0850",
   "metadata": {},
   "outputs": [],
   "source": [
    "s3_dir = AnyPath(\"s3://drivendata-competition-nasa-cyanobacteria/experiments\")"
   ]
  },
  {
   "cell_type": "code",
   "execution_count": 4,
   "id": "15f859fb-ebd2-4b6f-b1e9-d42b92035b36",
   "metadata": {},
   "outputs": [
    {
     "data": {
      "text/plain": [
       "(6510, 8)"
      ]
     },
     "execution_count": 4,
     "metadata": {},
     "output_type": "execute_result"
    }
   ],
   "source": [
    "# load ground truth\n",
    "true_path = s3_dir / \"splits/competition/test.csv\"\n",
    "true = pd.read_csv(true_path, index_col=0)\n",
    "true.shape"
   ]
  },
  {
   "cell_type": "code",
   "execution_count": 5,
   "id": "45bd70ec-c9e3-4b46-9619-0892e0290542",
   "metadata": {},
   "outputs": [
    {
     "data": {
      "text/plain": [
       "(6510, 4)"
      ]
     },
     "execution_count": 5,
     "metadata": {},
     "output_type": "execute_result"
    }
   ],
   "source": [
    "# load predictions\n",
    "preds = pd.read_csv(\n",
    "    s3_dir / \"results/third_sentinel_and_climate/preds.csv\", index_col=0\n",
    ")\n",
    "preds.shape"
   ]
  },
  {
   "cell_type": "code",
   "execution_count": 6,
   "id": "ab543ba5-d016-48c0-b40c-9231fe16c70a",
   "metadata": {},
   "outputs": [
    {
     "data": {
      "text/plain": [
       "date            0\n",
       "latitude        0\n",
       "longitude       0\n",
       "severity     1050\n",
       "dtype: int64"
      ]
     },
     "execution_count": 6,
     "metadata": {},
     "output_type": "execute_result"
    }
   ],
   "source": [
    "preds.isna().sum()"
   ]
  },
  {
   "cell_type": "markdown",
   "id": "e435cf5e-c474-4777-bfce-2b73b1996363",
   "metadata": {},
   "source": [
    "### Save out subsets with / without satellite imagery\n",
    "\n",
    "So that we can instantiate separate `EvaluatePreds` classes, save out two versions of the predictions -- one with only samples that have satellite imagery, one with only samples that *don't* have satellite imagery"
   ]
  },
  {
   "cell_type": "code",
   "execution_count": 7,
   "id": "94a7d774-f7ec-4bf9-97c9-c95f6de9a845",
   "metadata": {},
   "outputs": [
    {
     "data": {
      "text/plain": [
       "((22128, 74), 5460)"
      ]
     },
     "execution_count": 7,
     "metadata": {},
     "output_type": "execute_result"
    }
   ],
   "source": [
    "# Load test features to see which samples had satellite imagery\n",
    "test_features = pd.read_csv(\n",
    "    s3_dir / \"results/third_sentinel_and_climate/features_test.csv\"\n",
    ")\n",
    "test_features.shape, test_features.sample_id.nunique()"
   ]
  },
  {
   "cell_type": "code",
   "execution_count": 8,
   "id": "dbd86c52-7058-4917-805d-ddb3a4d8ee1c",
   "metadata": {},
   "outputs": [
    {
     "data": {
      "text/html": [
       "<div>\n",
       "<style scoped>\n",
       "    .dataframe tbody tr th:only-of-type {\n",
       "        vertical-align: middle;\n",
       "    }\n",
       "\n",
       "    .dataframe tbody tr th {\n",
       "        vertical-align: top;\n",
       "    }\n",
       "\n",
       "    .dataframe thead th {\n",
       "        text-align: right;\n",
       "    }\n",
       "</style>\n",
       "<table border=\"1\" class=\"dataframe\">\n",
       "  <thead>\n",
       "    <tr style=\"text-align: right;\">\n",
       "      <th></th>\n",
       "      <th>sample_id</th>\n",
       "      <th>AOT_mean</th>\n",
       "      <th>AOT_min</th>\n",
       "      <th>AOT_max</th>\n",
       "      <th>AOT_range</th>\n",
       "      <th>B01_mean</th>\n",
       "      <th>B01_min</th>\n",
       "      <th>B01_max</th>\n",
       "      <th>B01_range</th>\n",
       "      <th>B02_mean</th>\n",
       "      <th>...</th>\n",
       "      <th>NDVI_B07</th>\n",
       "      <th>month</th>\n",
       "      <th>days_before_sample</th>\n",
       "      <th>TMP_min</th>\n",
       "      <th>TMP_mean</th>\n",
       "      <th>TMP_max</th>\n",
       "      <th>SPFH_min</th>\n",
       "      <th>SPFH_mean</th>\n",
       "      <th>SPFH_max</th>\n",
       "      <th>rounded_longitude</th>\n",
       "    </tr>\n",
       "  </thead>\n",
       "  <tbody>\n",
       "    <tr>\n",
       "      <th>0</th>\n",
       "      <td>00028d54fa33b3b90a70eda38c1d94c4</td>\n",
       "      <td>126.0</td>\n",
       "      <td>126.0</td>\n",
       "      <td>126.0</td>\n",
       "      <td>0.0</td>\n",
       "      <td>685.530612</td>\n",
       "      <td>432.0</td>\n",
       "      <td>1742.0</td>\n",
       "      <td>1310.0</td>\n",
       "      <td>822.126417</td>\n",
       "      <td>...</td>\n",
       "      <td>0.029072</td>\n",
       "      <td>9.0</td>\n",
       "      <td>6.0</td>\n",
       "      <td>288.82895</td>\n",
       "      <td>290.581756</td>\n",
       "      <td>292.12683</td>\n",
       "      <td>0.00823</td>\n",
       "      <td>0.010754</td>\n",
       "      <td>0.01257</td>\n",
       "      <td>-12.0</td>\n",
       "    </tr>\n",
       "    <tr>\n",
       "      <th>1</th>\n",
       "      <td>00028d54fa33b3b90a70eda38c1d94c4</td>\n",
       "      <td>114.0</td>\n",
       "      <td>114.0</td>\n",
       "      <td>114.0</td>\n",
       "      <td>0.0</td>\n",
       "      <td>643.408163</td>\n",
       "      <td>351.0</td>\n",
       "      <td>1668.0</td>\n",
       "      <td>1317.0</td>\n",
       "      <td>819.565760</td>\n",
       "      <td>...</td>\n",
       "      <td>0.019663</td>\n",
       "      <td>9.0</td>\n",
       "      <td>11.0</td>\n",
       "      <td>288.82895</td>\n",
       "      <td>290.581756</td>\n",
       "      <td>292.12683</td>\n",
       "      <td>0.00823</td>\n",
       "      <td>0.010754</td>\n",
       "      <td>0.01257</td>\n",
       "      <td>-12.0</td>\n",
       "    </tr>\n",
       "  </tbody>\n",
       "</table>\n",
       "<p>2 rows × 74 columns</p>\n",
       "</div>"
      ],
      "text/plain": [
       "                          sample_id  AOT_mean  AOT_min  AOT_max  AOT_range  \\\n",
       "0  00028d54fa33b3b90a70eda38c1d94c4     126.0    126.0    126.0        0.0   \n",
       "1  00028d54fa33b3b90a70eda38c1d94c4     114.0    114.0    114.0        0.0   \n",
       "\n",
       "     B01_mean  B01_min  B01_max  B01_range    B02_mean  ...  NDVI_B07  month  \\\n",
       "0  685.530612    432.0   1742.0     1310.0  822.126417  ...  0.029072    9.0   \n",
       "1  643.408163    351.0   1668.0     1317.0  819.565760  ...  0.019663    9.0   \n",
       "\n",
       "   days_before_sample    TMP_min    TMP_mean    TMP_max  SPFH_min  SPFH_mean  \\\n",
       "0                 6.0  288.82895  290.581756  292.12683   0.00823   0.010754   \n",
       "1                11.0  288.82895  290.581756  292.12683   0.00823   0.010754   \n",
       "\n",
       "   SPFH_max  rounded_longitude  \n",
       "0   0.01257              -12.0  \n",
       "1   0.01257              -12.0  \n",
       "\n",
       "[2 rows x 74 columns]"
      ]
     },
     "execution_count": 8,
     "metadata": {},
     "output_type": "execute_result"
    }
   ],
   "source": [
    "test_features.head(2)"
   ]
  },
  {
   "cell_type": "code",
   "execution_count": 9,
   "id": "1ae1fa85-b28d-4668-93e8-05674c8427d8",
   "metadata": {},
   "outputs": [
    {
     "data": {
      "text/plain": [
       "sample_id              0\n",
       "AOT_mean             636\n",
       "AOT_min              636\n",
       "AOT_max              636\n",
       "AOT_range            636\n",
       "                    ... \n",
       "TMP_max               25\n",
       "SPFH_min              25\n",
       "SPFH_mean             25\n",
       "SPFH_max              25\n",
       "rounded_longitude      0\n",
       "Length: 74, dtype: int64"
      ]
     },
     "execution_count": 9,
     "metadata": {},
     "output_type": "execute_result"
    }
   ],
   "source": [
    "test_features.isna().sum()"
   ]
  },
  {
   "cell_type": "code",
   "execution_count": 10,
   "id": "31de379b-3a21-4e93-92b6-17c53d059688",
   "metadata": {},
   "outputs": [
    {
     "data": {
      "text/plain": [
       "636    66\n",
       "25      6\n",
       "0       2\n",
       "Name: count, dtype: int64"
      ]
     },
     "execution_count": 10,
     "metadata": {},
     "output_type": "execute_result"
    }
   ],
   "source": [
    "# all satellite features have the same number of missing values\n",
    "test_features.isna().sum().value_counts()"
   ]
  },
  {
   "cell_type": "code",
   "execution_count": 11,
   "id": "ed00ac76-0413-4957-9b7c-01f072ccf332",
   "metadata": {},
   "outputs": [
    {
     "data": {
      "text/plain": [
       "5444"
      ]
     },
     "execution_count": 11,
     "metadata": {},
     "output_type": "execute_result"
    }
   ],
   "source": [
    "test_features[\"has_climate\"] = test_features.SPFH_max.notna()\n",
    "test_features[\"has_satellite\"] = test_features.AOT_mean.notna()\n",
    "\n",
    "# how many samples have climate features?\n",
    "test_features[test_features.has_climate].sample_id.nunique()"
   ]
  },
  {
   "cell_type": "code",
   "execution_count": 12,
   "id": "58e13366-f950-4961-97ea-5c9fe161dd24",
   "metadata": {},
   "outputs": [
    {
     "data": {
      "text/plain": [
       "4824"
      ]
     },
     "execution_count": 12,
     "metadata": {},
     "output_type": "execute_result"
    }
   ],
   "source": [
    "# how many samples have satellite features?\n",
    "test_features[test_features.has_satellite].sample_id.nunique()"
   ]
  },
  {
   "cell_type": "code",
   "execution_count": 13,
   "id": "81c4b17e-3e88-44c4-80ec-bbbf6174b303",
   "metadata": {},
   "outputs": [
    {
     "data": {
      "text/html": [
       "<div>\n",
       "<style scoped>\n",
       "    .dataframe tbody tr th:only-of-type {\n",
       "        vertical-align: middle;\n",
       "    }\n",
       "\n",
       "    .dataframe tbody tr th {\n",
       "        vertical-align: top;\n",
       "    }\n",
       "\n",
       "    .dataframe thead th {\n",
       "        text-align: right;\n",
       "    }\n",
       "</style>\n",
       "<table border=\"1\" class=\"dataframe\">\n",
       "  <thead>\n",
       "    <tr style=\"text-align: right;\">\n",
       "      <th></th>\n",
       "      <th>has_climate</th>\n",
       "      <th>has_satellite</th>\n",
       "      <th>sample_id</th>\n",
       "    </tr>\n",
       "  </thead>\n",
       "  <tbody>\n",
       "    <tr>\n",
       "      <th>0</th>\n",
       "      <td>False</td>\n",
       "      <td>True</td>\n",
       "      <td>16</td>\n",
       "    </tr>\n",
       "    <tr>\n",
       "      <th>1</th>\n",
       "      <td>True</td>\n",
       "      <td>False</td>\n",
       "      <td>636</td>\n",
       "    </tr>\n",
       "    <tr>\n",
       "      <th>2</th>\n",
       "      <td>True</td>\n",
       "      <td>True</td>\n",
       "      <td>4808</td>\n",
       "    </tr>\n",
       "  </tbody>\n",
       "</table>\n",
       "</div>"
      ],
      "text/plain": [
       "   has_climate  has_satellite  sample_id\n",
       "0        False           True         16\n",
       "1         True          False        636\n",
       "2         True           True       4808"
      ]
     },
     "execution_count": 13,
     "metadata": {},
     "output_type": "execute_result"
    }
   ],
   "source": [
    "# all sample have either satellite or climate\n",
    "test_features.groupby(\n",
    "    [\"has_climate\", \"has_satellite\"], as_index=False\n",
    ").sample_id.nunique()"
   ]
  },
  {
   "cell_type": "code",
   "execution_count": 14,
   "id": "beacc7d0-6ed4-442f-a100-09a74a8d3c1f",
   "metadata": {},
   "outputs": [],
   "source": [
    "tmp_save_dir = AnyPath(\"tmp_data\")\n",
    "tmp_save_dir.mkdir(exist_ok=True, parents=True)\n",
    "\n",
    "preds_sat_path = tmp_save_dir / \"preds_with_sat.csv\"\n",
    "preds_no_sat_path = tmp_save_dir / \"preds_no_sat.csv\""
   ]
  },
  {
   "cell_type": "code",
   "execution_count": 15,
   "id": "3f92f638-30f7-416e-9aed-18ad18cadd62",
   "metadata": {},
   "outputs": [
    {
     "name": "stdout",
     "output_type": "stream",
     "text": [
      "(4824, 4)\n"
     ]
    }
   ],
   "source": [
    "# Save out subset with satellite imagery\n",
    "preds_sat = preds.loc[test_features[test_features.has_satellite].sample_id.unique()]\n",
    "print(preds_sat.shape)\n",
    "preds_sat.to_csv(preds_sat_path, index=True)"
   ]
  },
  {
   "cell_type": "code",
   "execution_count": 16,
   "id": "dd9a737a-c197-44ab-b491-f08ac89c0537",
   "metadata": {},
   "outputs": [
    {
     "name": "stdout",
     "output_type": "stream",
     "text": [
      "(636, 4)\n"
     ]
    }
   ],
   "source": [
    "# Save out subset without satellite imagery\n",
    "preds_no_sat = preds.loc[test_features[~test_features.has_satellite].sample_id]\n",
    "print(preds_no_sat.shape)\n",
    "preds_no_sat.to_csv(preds_no_sat_path, index=True)"
   ]
  },
  {
   "cell_type": "code",
   "execution_count": 17,
   "id": "3cbe5675-6846-47db-8110-c7e144d6e69b",
   "metadata": {},
   "outputs": [
    {
     "data": {
      "text/plain": [
       "lightgbm.basic.Booster"
      ]
     },
     "execution_count": 17,
     "metadata": {},
     "output_type": "execute_result"
    }
   ],
   "source": [
    "# Load model\n",
    "archive = ZipFile(s3_dir / \"results/third_sentinel_and_climate/model.zip\", \"r\")\n",
    "model = lgb.Booster(model_str=archive.read(\"lgb_model.txt\").decode())\n",
    "type(model)"
   ]
  },
  {
   "cell_type": "markdown",
   "id": "0c4e3d30-3801-472f-8026-e9a49dfb2de6",
   "metadata": {},
   "source": [
    "### Instantiate `EvaluatePreds` classes"
   ]
  },
  {
   "cell_type": "code",
   "execution_count": 18,
   "id": "7c854c08-f416-4729-8def-c9790d79f679",
   "metadata": {},
   "outputs": [
    {
     "name": "stderr",
     "output_type": "stream",
     "text": [
      "\u001b[32m2023-08-23 10:31:26.204\u001b[0m | \u001b[1mINFO    \u001b[0m | \u001b[36mcyano.evaluate\u001b[0m:\u001b[36m__init__\u001b[0m:\u001b[36m98\u001b[0m - \u001b[1mEvaluating on 4,824 samples (of 4,824)\u001b[0m\n"
     ]
    }
   ],
   "source": [
    "evals = {}\n",
    "evals[\"with_satellite\"] = EvaluatePreds(\n",
    "    true_path, preds_sat_path, \"tmp/eval_sat\", model\n",
    ")"
   ]
  },
  {
   "cell_type": "code",
   "execution_count": 19,
   "id": "0e81a5e2-1c7a-4eba-833e-8f68e3b235b6",
   "metadata": {},
   "outputs": [
    {
     "name": "stderr",
     "output_type": "stream",
     "text": [
      "\u001b[32m2023-08-23 10:31:26.408\u001b[0m | \u001b[1mINFO    \u001b[0m | \u001b[36mcyano.evaluate\u001b[0m:\u001b[36m__init__\u001b[0m:\u001b[36m98\u001b[0m - \u001b[1mEvaluating on 636 samples (of 636)\u001b[0m\n"
     ]
    }
   ],
   "source": [
    "evals[\"without_satellite\"] = EvaluatePreds(\n",
    "    true_path, preds_no_sat_path, \"tmp/eval_sat\", model\n",
    ")"
   ]
  },
  {
   "cell_type": "markdown",
   "id": "faba2be2-2b83-470a-b506-4c40f0d7ec87",
   "metadata": {},
   "source": [
    "## Evaluate"
   ]
  },
  {
   "cell_type": "code",
   "execution_count": 20,
   "id": "7723ab89-3666-4699-956b-c977ee67dc86",
   "metadata": {},
   "outputs": [],
   "source": [
    "import matplotlib.pyplot as plt"
   ]
  },
  {
   "cell_type": "code",
   "execution_count": 21,
   "id": "3d84c2b5-cf08-4493-88bc-85a4fde15907",
   "metadata": {},
   "outputs": [
    {
     "data": {
      "image/png": "[encoded data removed]",
      "text/plain": [
       "<Figure size 900x400 with 2 Axes>"
      ]
     },
     "metadata": {},
     "output_type": "display_data"
    }
   ],
   "source": [
    "fig, axes = plt.subplots(1, 2, figsize=(9, 4), sharex=True, sharey=True)\n",
    "for i, key in enumerate(evals.keys()):\n",
    "    generate_and_plot_crosstab(evals[key].y_true, evals[key].y_pred, ax=axes[i])\n",
    "    axes[i].set_title(key)"
   ]
  },
  {
   "cell_type": "code",
   "execution_count": 22,
   "id": "19626e7a-439b-45b6-b5ca-124ac0f5e2d6",
   "metadata": {},
   "outputs": [
    {
     "data": {
      "image/png": "[encoded data removed]",
      "text/plain": [
       "<Figure size 900x400 with 2 Axes>"
      ]
     },
     "metadata": {},
     "output_type": "display_data"
    }
   ],
   "source": [
    "fig, axes = plt.subplots(1, 2, figsize=(9, 4), sharex=True, sharey=True)\n",
    "for i, key in enumerate(evals.keys()):\n",
    "    generate_actual_density_boxplot(\n",
    "        evals[key].metadata.density_cells_per_ml, evals[key].y_pred, ax=axes[i]\n",
    "    )\n",
    "    axes[i].set_title(key)"
   ]
  },
  {
   "cell_type": "code",
   "execution_count": 23,
   "id": "739fd202-b39e-4a0a-bdaf-0dbed6135b17",
   "metadata": {},
   "outputs": [],
   "source": [
    "results = {key: evalpreds.calculate_metrics() for key, evalpreds in evals.items()}"
   ]
  },
  {
   "cell_type": "code",
   "execution_count": 24,
   "id": "da3f7ca2-524f-4013-9794-e99c173c2ee4",
   "metadata": {},
   "outputs": [
    {
     "data": {
      "image/png": "[encoded data removed]",
      "text/plain": [
       "<Figure size 800x400 with 2 Axes>"
      ]
     },
     "metadata": {},
     "output_type": "display_data"
    }
   ],
   "source": [
    "fig, axes = plt.subplots(1, 2, figsize=(8, 4))\n",
    "\n",
    "for i, metric in enumerate(\n",
    "    [\n",
    "        \"regional_mae\",\n",
    "        \"regional_rmse\",\n",
    "    ]\n",
    "):\n",
    "    regional_scores = pd.DataFrame({key: res[metric] for key, res in results.items()})\n",
    "    regional_scores.plot(kind=\"bar\", ax=axes[i])\n",
    "    axes[i].set_title(metric)\n",
    "plt.show()"
   ]
  },
  {
   "cell_type": "code",
   "execution_count": 25,
   "id": "9963da0d-2bca-48e9-80dc-886860ee9e1d",
   "metadata": {},
   "outputs": [
    {
     "data": {
      "text/html": [
       "<div>\n",
       "<style scoped>\n",
       "    .dataframe tbody tr th:only-of-type {\n",
       "        vertical-align: middle;\n",
       "    }\n",
       "\n",
       "    .dataframe tbody tr th {\n",
       "        vertical-align: top;\n",
       "    }\n",
       "\n",
       "    .dataframe thead th {\n",
       "        text-align: right;\n",
       "    }\n",
       "</style>\n",
       "<table border=\"1\" class=\"dataframe\">\n",
       "  <thead>\n",
       "    <tr style=\"text-align: right;\">\n",
       "      <th></th>\n",
       "      <th>with_satellite</th>\n",
       "      <th>without_satellite</th>\n",
       "    </tr>\n",
       "  </thead>\n",
       "  <tbody>\n",
       "    <tr>\n",
       "      <th>midwest</th>\n",
       "      <td>0.838046</td>\n",
       "      <td>0.874700</td>\n",
       "    </tr>\n",
       "    <tr>\n",
       "      <th>northeast</th>\n",
       "      <td>1.012438</td>\n",
       "      <td>1.194467</td>\n",
       "    </tr>\n",
       "    <tr>\n",
       "      <th>south</th>\n",
       "      <td>0.952904</td>\n",
       "      <td>0.991903</td>\n",
       "    </tr>\n",
       "    <tr>\n",
       "      <th>west</th>\n",
       "      <td>0.577350</td>\n",
       "      <td>0.361382</td>\n",
       "    </tr>\n",
       "  </tbody>\n",
       "</table>\n",
       "</div>"
      ],
      "text/plain": [
       "           with_satellite  without_satellite\n",
       "midwest          0.838046           0.874700\n",
       "northeast        1.012438           1.194467\n",
       "south            0.952904           0.991903\n",
       "west             0.577350           0.361382"
      ]
     },
     "execution_count": 25,
     "metadata": {},
     "output_type": "execute_result"
    }
   ],
   "source": [
    "# See RMSE in detail for regions\n",
    "regional_scores"
   ]
  },
  {
   "cell_type": "code",
   "execution_count": 26,
   "id": "8275121a-5c50-44e4-b826-0b00aa640b7e",
   "metadata": {},
   "outputs": [
    {
     "data": {
      "text/html": [
       "<div>\n",
       "<style scoped>\n",
       "    .dataframe tbody tr th:only-of-type {\n",
       "        vertical-align: middle;\n",
       "    }\n",
       "\n",
       "    .dataframe tbody tr th {\n",
       "        vertical-align: top;\n",
       "    }\n",
       "\n",
       "    .dataframe thead th {\n",
       "        text-align: right;\n",
       "    }\n",
       "</style>\n",
       "<table border=\"1\" class=\"dataframe\">\n",
       "  <thead>\n",
       "    <tr style=\"text-align: right;\">\n",
       "      <th></th>\n",
       "      <th>overall_rmse</th>\n",
       "      <th>overall_mae</th>\n",
       "      <th>overall_mape</th>\n",
       "      <th>region_averaged_rmse</th>\n",
       "    </tr>\n",
       "  </thead>\n",
       "  <tbody>\n",
       "    <tr>\n",
       "      <th>with_satellite</th>\n",
       "      <td>0.826213</td>\n",
       "      <td>0.539594</td>\n",
       "      <td>0.342354</td>\n",
       "      <td>0.845185</td>\n",
       "    </tr>\n",
       "    <tr>\n",
       "      <th>without_satellite</th>\n",
       "      <td>0.826069</td>\n",
       "      <td>0.462264</td>\n",
       "      <td>0.244418</td>\n",
       "      <td>0.855613</td>\n",
       "    </tr>\n",
       "  </tbody>\n",
       "</table>\n",
       "</div>"
      ],
      "text/plain": [
       "                  overall_rmse overall_mae overall_mape region_averaged_rmse\n",
       "with_satellite        0.826213    0.539594     0.342354             0.845185\n",
       "without_satellite     0.826069    0.462264     0.244418             0.855613"
      ]
     },
     "execution_count": 26,
     "metadata": {},
     "output_type": "execute_result"
    }
   ],
   "source": [
    "pd.DataFrame(results).T[\n",
    "    [\n",
    "        \"overall_rmse\",\n",
    "        \"overall_mae\",\n",
    "        \"overall_mape\",\n",
    "        \"region_averaged_rmse\",\n",
    "    ]\n",
    "]"
   ]
  },
  {
   "cell_type": "markdown",
   "id": "85a983c1-af68-41a3-a2aa-168bb1549202",
   "metadata": {},
   "source": [
    "**Takeaway**\n",
    "\n",
    "The difference in performance between samples with and without satellite imagery is not huge. Samples without satellite imagery have noticeably higher RMSE in the northeast and a small amount higher in the midwest and south, but actually lower RMSE in the west.\n",
    "\n",
    "The difference in performance is much greater when looking at MAE and MAPE than when looking at RMSE."
   ]
  },
  {
   "cell_type": "code",
   "execution_count": 27,
   "id": "c61d70ef-9f69-42ee-957e-81ea8214ce60",
   "metadata": {},
   "outputs": [
    {
     "data": {
      "text/html": [
       "<div>\n",
       "<style scoped>\n",
       "    .dataframe tbody tr th:only-of-type {\n",
       "        vertical-align: middle;\n",
       "    }\n",
       "\n",
       "    .dataframe tbody tr th {\n",
       "        vertical-align: top;\n",
       "    }\n",
       "\n",
       "    .dataframe thead th {\n",
       "        text-align: right;\n",
       "    }\n",
       "</style>\n",
       "<table border=\"1\" class=\"dataframe\">\n",
       "  <thead>\n",
       "    <tr style=\"text-align: right;\">\n",
       "      <th></th>\n",
       "      <th>importance_gain</th>\n",
       "      <th>importance_split</th>\n",
       "    </tr>\n",
       "    <tr>\n",
       "      <th>feature</th>\n",
       "      <th></th>\n",
       "      <th></th>\n",
       "    </tr>\n",
       "  </thead>\n",
       "  <tbody>\n",
       "    <tr>\n",
       "      <th>rounded_longitude</th>\n",
       "      <td>202955.651685</td>\n",
       "      <td>566</td>\n",
       "    </tr>\n",
       "    <tr>\n",
       "      <th>TMP_max</th>\n",
       "      <td>14037.840122</td>\n",
       "      <td>1642</td>\n",
       "    </tr>\n",
       "    <tr>\n",
       "      <th>month</th>\n",
       "      <td>11736.040193</td>\n",
       "      <td>648</td>\n",
       "    </tr>\n",
       "    <tr>\n",
       "      <th>TMP_min</th>\n",
       "      <td>8056.240197</td>\n",
       "      <td>1528</td>\n",
       "    </tr>\n",
       "    <tr>\n",
       "      <th>TMP_mean</th>\n",
       "      <td>7514.781976</td>\n",
       "      <td>1430</td>\n",
       "    </tr>\n",
       "    <tr>\n",
       "      <th>SPFH_min</th>\n",
       "      <td>7293.962607</td>\n",
       "      <td>1573</td>\n",
       "    </tr>\n",
       "    <tr>\n",
       "      <th>SPFH_max</th>\n",
       "      <td>6980.449090</td>\n",
       "      <td>1388</td>\n",
       "    </tr>\n",
       "    <tr>\n",
       "      <th>SPFH_mean</th>\n",
       "      <td>6250.482605</td>\n",
       "      <td>1203</td>\n",
       "    </tr>\n",
       "    <tr>\n",
       "      <th>B05_min</th>\n",
       "      <td>2693.146313</td>\n",
       "      <td>340</td>\n",
       "    </tr>\n",
       "    <tr>\n",
       "      <th>B12_mean</th>\n",
       "      <td>2295.450669</td>\n",
       "      <td>497</td>\n",
       "    </tr>\n",
       "  </tbody>\n",
       "</table>\n",
       "</div>"
      ],
      "text/plain": [
       "                   importance_gain  importance_split\n",
       "feature                                             \n",
       "rounded_longitude    202955.651685               566\n",
       "TMP_max               14037.840122              1642\n",
       "month                 11736.040193               648\n",
       "TMP_min                8056.240197              1528\n",
       "TMP_mean               7514.781976              1430\n",
       "SPFH_min               7293.962607              1573\n",
       "SPFH_max               6980.449090              1388\n",
       "SPFH_mean              6250.482605              1203\n",
       "B05_min                2693.146313               340\n",
       "B12_mean               2295.450669               497"
      ]
     },
     "execution_count": 27,
     "metadata": {},
     "output_type": "execute_result"
    }
   ],
   "source": [
    "feature_importance = pd.read_csv(\n",
    "    s3_dir / \"results/third_sentinel_and_climate/metrics/feature_importance.csv\",\n",
    "    index_col=0,\n",
    ")\n",
    "\n",
    "# what are the top features by importance gain?\n",
    "feature_importance.sort_values(by=\"importance_gain\", ascending=False).head(10)"
   ]
  },
  {
   "cell_type": "code",
   "execution_count": 28,
   "id": "707fa4f5-0d0a-4700-b2bb-284a17cc6dfa",
   "metadata": {},
   "outputs": [
    {
     "data": {
      "text/html": [
       "<div>\n",
       "<style scoped>\n",
       "    .dataframe tbody tr th:only-of-type {\n",
       "        vertical-align: middle;\n",
       "    }\n",
       "\n",
       "    .dataframe tbody tr th {\n",
       "        vertical-align: top;\n",
       "    }\n",
       "\n",
       "    .dataframe thead th {\n",
       "        text-align: right;\n",
       "    }\n",
       "</style>\n",
       "<table border=\"1\" class=\"dataframe\">\n",
       "  <thead>\n",
       "    <tr style=\"text-align: right;\">\n",
       "      <th></th>\n",
       "      <th>importance_gain</th>\n",
       "      <th>importance_split</th>\n",
       "    </tr>\n",
       "    <tr>\n",
       "      <th>feature</th>\n",
       "      <th></th>\n",
       "      <th></th>\n",
       "    </tr>\n",
       "  </thead>\n",
       "  <tbody>\n",
       "    <tr>\n",
       "      <th>TMP_max</th>\n",
       "      <td>14037.840122</td>\n",
       "      <td>1642</td>\n",
       "    </tr>\n",
       "    <tr>\n",
       "      <th>SPFH_min</th>\n",
       "      <td>7293.962607</td>\n",
       "      <td>1573</td>\n",
       "    </tr>\n",
       "    <tr>\n",
       "      <th>TMP_min</th>\n",
       "      <td>8056.240197</td>\n",
       "      <td>1528</td>\n",
       "    </tr>\n",
       "    <tr>\n",
       "      <th>TMP_mean</th>\n",
       "      <td>7514.781976</td>\n",
       "      <td>1430</td>\n",
       "    </tr>\n",
       "    <tr>\n",
       "      <th>SPFH_max</th>\n",
       "      <td>6980.449090</td>\n",
       "      <td>1388</td>\n",
       "    </tr>\n",
       "    <tr>\n",
       "      <th>SPFH_mean</th>\n",
       "      <td>6250.482605</td>\n",
       "      <td>1203</td>\n",
       "    </tr>\n",
       "    <tr>\n",
       "      <th>NDVI_B07</th>\n",
       "      <td>1964.771477</td>\n",
       "      <td>1003</td>\n",
       "    </tr>\n",
       "    <tr>\n",
       "      <th>NDVI_B06</th>\n",
       "      <td>1694.195924</td>\n",
       "      <td>739</td>\n",
       "    </tr>\n",
       "    <tr>\n",
       "      <th>month</th>\n",
       "      <td>11736.040193</td>\n",
       "      <td>648</td>\n",
       "    </tr>\n",
       "    <tr>\n",
       "      <th>NDVI_B05</th>\n",
       "      <td>2005.724227</td>\n",
       "      <td>610</td>\n",
       "    </tr>\n",
       "  </tbody>\n",
       "</table>\n",
       "</div>"
      ],
      "text/plain": [
       "           importance_gain  importance_split\n",
       "feature                                     \n",
       "TMP_max       14037.840122              1642\n",
       "SPFH_min       7293.962607              1573\n",
       "TMP_min        8056.240197              1528\n",
       "TMP_mean       7514.781976              1430\n",
       "SPFH_max       6980.449090              1388\n",
       "SPFH_mean      6250.482605              1203\n",
       "NDVI_B07       1964.771477              1003\n",
       "NDVI_B06       1694.195924               739\n",
       "month         11736.040193               648\n",
       "NDVI_B05       2005.724227               610"
      ]
     },
     "execution_count": 28,
     "metadata": {},
     "output_type": "execute_result"
    }
   ],
   "source": [
    "# what are the top features by importance split?\n",
    "feature_importance.sort_values(by=\"importance_split\", ascending=False).head(10)"
   ]
  },
  {
   "cell_type": "markdown",
   "id": "b9ae488f-6bb3-4694-b99e-1bcadcb78d89",
   "metadata": {},
   "source": [
    "**Takeaways**\n",
    "\n",
    "All of our climate features are in the top most important features. Even though performance is somewhat lower on data with no satellite imagery, this implies that the model is still able to glean useful information with climate data alone."
   ]
  },
  {
   "cell_type": "code",
   "execution_count": 29,
   "id": "78501069-e6c7-4bb1-ae05-7a108ac60126",
   "metadata": {},
   "outputs": [],
   "source": [
    "# delete temporary dir\n",
    "shutil.rmtree(tmp_save_dir)"
   ]
  },
  {
   "cell_type": "code",
   "execution_count": null,
   "id": "b0711744-d0fe-4fa8-a07c-ac677b554647",
   "metadata": {},
   "outputs": [],
   "source": []
  },
  {
   "cell_type": "code",
   "execution_count": null,
   "id": "c9f0f6ec-99e5-4b57-b84e-4810867970d0",
   "metadata": {},
   "outputs": [],
   "source": []
  },
  {
   "cell_type": "code",
   "execution_count": null,
   "id": "54be7d95-1563-4486-a8b1-6986d9cc7b40",
   "metadata": {},
   "outputs": [],
   "source": []
  },
  {
   "cell_type": "code",
   "execution_count": null,
   "id": "0afb9d0f-40ac-495c-b071-d46cb80e6913",
   "metadata": {},
   "outputs": [],
   "source": []
  },
  {
   "cell_type": "code",
   "execution_count": null,
   "id": "7302d8c4-2ef7-4839-aea4-18c475856f38",
   "metadata": {},
   "outputs": [],
   "source": []
  }
 ],
 "metadata": {
  "kernelspec": {
   "display_name": "Python 3 (ipykernel)",
   "language": "python",
   "name": "python3"
  },
  "language_info": {
   "codemirror_mode": {
    "name": "ipython",
    "version": 3
   },
   "file_extension": ".py",
   "mimetype": "text/x-python",
   "name": "python",
   "nbconvert_exporter": "python",
   "pygments_lexer": "ipython3",
   "version": "3.10.12"
  }
 },
 "nbformat": 4,
 "nbformat_minor": 5
}
