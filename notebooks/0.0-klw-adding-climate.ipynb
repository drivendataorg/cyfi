{
 "cells": [
  {
   "cell_type": "markdown",
   "id": "24beac4b-ff1d-4815-b909-bf0b66db8f36",
   "metadata": {},
   "source": [
    "Look at the results of adding climate data. See the impact on performance for samples with satellite imagery vs. samples with only climate data"
   ]
  },
  {
   "cell_type": "code",
   "execution_count": 1,
   "id": "5f70ed9e-63a3-4828-9531-1f560ee4e594",
   "metadata": {},
   "outputs": [],
   "source": [
    "%load_ext lab_black\n",
    "%load_ext autoreload\n",
    "%autoreload 2"
   ]
  },
  {
   "cell_type": "code",
   "execution_count": 2,
   "id": "2ca54dc1-9e2d-41de-a8ec-8d6bdf3a1943",
   "metadata": {},
   "outputs": [],
   "source": [
    "import shutil\n",
    "import yaml\n",
    "\n",
    "from cloudpathlib import AnyPath\n",
    "import lightgbm as lgb\n",
    "import matplotlib.pyplot as plt\n",
    "import pandas as pd\n",
    "from zipfile import ZipFile\n",
    "\n",
    "from cyano.data.utils import add_unique_identifier\n",
    "from cyano.evaluate import (\n",
    "    EvaluatePreds,\n",
    "    generate_and_plot_crosstab,\n",
    "    generate_actual_density_boxplot,\n",
    "    generate_regional_barplot,\n",
    ")"
   ]
  },
  {
   "cell_type": "code",
   "execution_count": 3,
   "id": "fb7e5b3d-fccb-421d-aae0-1276905b0850",
   "metadata": {},
   "outputs": [],
   "source": [
    "s3_dir = AnyPath(\"s3://drivendata-competition-nasa-cyanobacteria/experiments\")"
   ]
  },
  {
   "cell_type": "code",
   "execution_count": 4,
   "id": "a0ba4198-68a5-4679-862b-00d9480ed3e0",
   "metadata": {},
   "outputs": [],
   "source": [
    "tmp_save_dir = AnyPath(\"tmp_data\")\n",
    "tmp_save_dir.mkdir(exist_ok=True, parents=True)"
   ]
  },
  {
   "cell_type": "code",
   "execution_count": 5,
   "id": "15f859fb-ebd2-4b6f-b1e9-d42b92035b36",
   "metadata": {},
   "outputs": [
    {
     "data": {
      "text/plain": [
       "(6510, 9)"
      ]
     },
     "execution_count": 5,
     "metadata": {},
     "output_type": "execute_result"
    }
   ],
   "source": [
    "# load ground truth\n",
    "true_path = s3_dir / \"splits/competition/test.csv\"\n",
    "true = pd.read_csv(true_path, index_col=0)\n",
    "true.shape"
   ]
  },
  {
   "cell_type": "markdown",
   "id": "d7311c71-da59-4ce6-9c23-5135744ecb7b",
   "metadata": {
    "jp-MarkdownHeadingCollapsed": true
   },
   "source": [
    "# With metadata features\n",
    "\n",
    "With metadata feature for `rounded_longitude`"
   ]
  },
  {
   "cell_type": "code",
   "execution_count": 6,
   "id": "45bd70ec-c9e3-4b46-9619-0892e0290542",
   "metadata": {},
   "outputs": [
    {
     "data": {
      "text/plain": [
       "(6510, 4)"
      ]
     },
     "execution_count": 6,
     "metadata": {},
     "output_type": "execute_result"
    }
   ],
   "source": [
    "# load predictions\n",
    "preds = pd.read_csv(\n",
    "    s3_dir / \"results/third_sentinel_and_climate/preds.csv\", index_col=0\n",
    ")\n",
    "preds.shape"
   ]
  },
  {
   "cell_type": "code",
   "execution_count": 7,
   "id": "ab543ba5-d016-48c0-b40c-9231fe16c70a",
   "metadata": {},
   "outputs": [
    {
     "data": {
      "text/plain": [
       "date            0\n",
       "latitude        0\n",
       "longitude       0\n",
       "severity     1050\n",
       "dtype: int64"
      ]
     },
     "execution_count": 7,
     "metadata": {},
     "output_type": "execute_result"
    }
   ],
   "source": [
    "preds.isna().sum()"
   ]
  },
  {
   "cell_type": "markdown",
   "id": "e435cf5e-c474-4777-bfce-2b73b1996363",
   "metadata": {},
   "source": [
    "### Save out subsets with / without satellite imagery\n",
    "\n",
    "So that we can instantiate separate `EvaluatePreds` classes, save out two versions of the predictions -- one with only samples that have satellite imagery, one with only samples that *don't* have satellite imagery"
   ]
  },
  {
   "cell_type": "code",
   "execution_count": 8,
   "id": "94a7d774-f7ec-4bf9-97c9-c95f6de9a845",
   "metadata": {},
   "outputs": [
    {
     "data": {
      "text/plain": [
       "((22128, 74), 5460)"
      ]
     },
     "execution_count": 8,
     "metadata": {},
     "output_type": "execute_result"
    }
   ],
   "source": [
    "# Load test features to see which samples had satellite imagery\n",
    "test_features = pd.read_csv(\n",
    "    s3_dir / \"results/third_sentinel_and_climate/features_test.csv\"\n",
    ")\n",
    "test_features.shape, test_features.sample_id.nunique()"
   ]
  },
  {
   "cell_type": "code",
   "execution_count": 9,
   "id": "dbd86c52-7058-4917-805d-ddb3a4d8ee1c",
   "metadata": {},
   "outputs": [
    {
     "data": {
      "text/html": [
       "<div>\n",
       "<style scoped>\n",
       "    .dataframe tbody tr th:only-of-type {\n",
       "        vertical-align: middle;\n",
       "    }\n",
       "\n",
       "    .dataframe tbody tr th {\n",
       "        vertical-align: top;\n",
       "    }\n",
       "\n",
       "    .dataframe thead th {\n",
       "        text-align: right;\n",
       "    }\n",
       "</style>\n",
       "<table border=\"1\" class=\"dataframe\">\n",
       "  <thead>\n",
       "    <tr style=\"text-align: right;\">\n",
       "      <th></th>\n",
       "      <th>sample_id</th>\n",
       "      <th>AOT_mean</th>\n",
       "      <th>AOT_min</th>\n",
       "      <th>AOT_max</th>\n",
       "      <th>AOT_range</th>\n",
       "      <th>B01_mean</th>\n",
       "      <th>B01_min</th>\n",
       "      <th>B01_max</th>\n",
       "      <th>B01_range</th>\n",
       "      <th>B02_mean</th>\n",
       "      <th>...</th>\n",
       "      <th>NDVI_B07</th>\n",
       "      <th>month</th>\n",
       "      <th>days_before_sample</th>\n",
       "      <th>TMP_min</th>\n",
       "      <th>TMP_mean</th>\n",
       "      <th>TMP_max</th>\n",
       "      <th>SPFH_min</th>\n",
       "      <th>SPFH_mean</th>\n",
       "      <th>SPFH_max</th>\n",
       "      <th>rounded_longitude</th>\n",
       "    </tr>\n",
       "  </thead>\n",
       "  <tbody>\n",
       "    <tr>\n",
       "      <th>0</th>\n",
       "      <td>00028d54fa33b3b90a70eda38c1d94c4</td>\n",
       "      <td>126.0</td>\n",
       "      <td>126.0</td>\n",
       "      <td>126.0</td>\n",
       "      <td>0.0</td>\n",
       "      <td>685.530612</td>\n",
       "      <td>432.0</td>\n",
       "      <td>1742.0</td>\n",
       "      <td>1310.0</td>\n",
       "      <td>822.126417</td>\n",
       "      <td>...</td>\n",
       "      <td>0.029072</td>\n",
       "      <td>9.0</td>\n",
       "      <td>6.0</td>\n",
       "      <td>288.82895</td>\n",
       "      <td>290.581756</td>\n",
       "      <td>292.12683</td>\n",
       "      <td>0.00823</td>\n",
       "      <td>0.010754</td>\n",
       "      <td>0.01257</td>\n",
       "      <td>-12.0</td>\n",
       "    </tr>\n",
       "    <tr>\n",
       "      <th>1</th>\n",
       "      <td>00028d54fa33b3b90a70eda38c1d94c4</td>\n",
       "      <td>114.0</td>\n",
       "      <td>114.0</td>\n",
       "      <td>114.0</td>\n",
       "      <td>0.0</td>\n",
       "      <td>643.408163</td>\n",
       "      <td>351.0</td>\n",
       "      <td>1668.0</td>\n",
       "      <td>1317.0</td>\n",
       "      <td>819.565760</td>\n",
       "      <td>...</td>\n",
       "      <td>0.019663</td>\n",
       "      <td>9.0</td>\n",
       "      <td>11.0</td>\n",
       "      <td>288.82895</td>\n",
       "      <td>290.581756</td>\n",
       "      <td>292.12683</td>\n",
       "      <td>0.00823</td>\n",
       "      <td>0.010754</td>\n",
       "      <td>0.01257</td>\n",
       "      <td>-12.0</td>\n",
       "    </tr>\n",
       "  </tbody>\n",
       "</table>\n",
       "<p>2 rows × 74 columns</p>\n",
       "</div>"
      ],
      "text/plain": [
       "                          sample_id  AOT_mean  AOT_min  AOT_max  AOT_range  \\\n",
       "0  00028d54fa33b3b90a70eda38c1d94c4     126.0    126.0    126.0        0.0   \n",
       "1  00028d54fa33b3b90a70eda38c1d94c4     114.0    114.0    114.0        0.0   \n",
       "\n",
       "     B01_mean  B01_min  B01_max  B01_range    B02_mean  ...  NDVI_B07  month  \\\n",
       "0  685.530612    432.0   1742.0     1310.0  822.126417  ...  0.029072    9.0   \n",
       "1  643.408163    351.0   1668.0     1317.0  819.565760  ...  0.019663    9.0   \n",
       "\n",
       "   days_before_sample    TMP_min    TMP_mean    TMP_max  SPFH_min  SPFH_mean  \\\n",
       "0                 6.0  288.82895  290.581756  292.12683   0.00823   0.010754   \n",
       "1                11.0  288.82895  290.581756  292.12683   0.00823   0.010754   \n",
       "\n",
       "   SPFH_max  rounded_longitude  \n",
       "0   0.01257              -12.0  \n",
       "1   0.01257              -12.0  \n",
       "\n",
       "[2 rows x 74 columns]"
      ]
     },
     "execution_count": 9,
     "metadata": {},
     "output_type": "execute_result"
    }
   ],
   "source": [
    "test_features.head(2)"
   ]
  },
  {
   "cell_type": "code",
   "execution_count": 10,
   "id": "1ae1fa85-b28d-4668-93e8-05674c8427d8",
   "metadata": {},
   "outputs": [
    {
     "data": {
      "text/plain": [
       "sample_id              0\n",
       "AOT_mean             636\n",
       "AOT_min              636\n",
       "AOT_max              636\n",
       "AOT_range            636\n",
       "                    ... \n",
       "TMP_max               25\n",
       "SPFH_min              25\n",
       "SPFH_mean             25\n",
       "SPFH_max              25\n",
       "rounded_longitude      0\n",
       "Length: 74, dtype: int64"
      ]
     },
     "execution_count": 10,
     "metadata": {},
     "output_type": "execute_result"
    }
   ],
   "source": [
    "test_features.isna().sum()"
   ]
  },
  {
   "cell_type": "code",
   "execution_count": 11,
   "id": "31de379b-3a21-4e93-92b6-17c53d059688",
   "metadata": {},
   "outputs": [
    {
     "data": {
      "text/plain": [
       "636    66\n",
       "25      6\n",
       "0       2\n",
       "Name: count, dtype: int64"
      ]
     },
     "execution_count": 11,
     "metadata": {},
     "output_type": "execute_result"
    }
   ],
   "source": [
    "# all satellite features have the same number of missing values\n",
    "test_features.isna().sum().value_counts()"
   ]
  },
  {
   "cell_type": "code",
   "execution_count": 12,
   "id": "ed00ac76-0413-4957-9b7c-01f072ccf332",
   "metadata": {},
   "outputs": [
    {
     "data": {
      "text/plain": [
       "5444"
      ]
     },
     "execution_count": 12,
     "metadata": {},
     "output_type": "execute_result"
    }
   ],
   "source": [
    "test_features[\"has_climate\"] = test_features.SPFH_max.notna()\n",
    "test_features[\"has_satellite\"] = test_features.AOT_mean.notna()\n",
    "\n",
    "# how many samples have climate features?\n",
    "test_features[test_features.has_climate].sample_id.nunique()"
   ]
  },
  {
   "cell_type": "code",
   "execution_count": 13,
   "id": "58e13366-f950-4961-97ea-5c9fe161dd24",
   "metadata": {},
   "outputs": [
    {
     "data": {
      "text/plain": [
       "4824"
      ]
     },
     "execution_count": 13,
     "metadata": {},
     "output_type": "execute_result"
    }
   ],
   "source": [
    "# how many samples have satellite features?\n",
    "test_features[test_features.has_satellite].sample_id.nunique()"
   ]
  },
  {
   "cell_type": "code",
   "execution_count": 14,
   "id": "81c4b17e-3e88-44c4-80ec-bbbf6174b303",
   "metadata": {},
   "outputs": [
    {
     "data": {
      "text/html": [
       "<div>\n",
       "<style scoped>\n",
       "    .dataframe tbody tr th:only-of-type {\n",
       "        vertical-align: middle;\n",
       "    }\n",
       "\n",
       "    .dataframe tbody tr th {\n",
       "        vertical-align: top;\n",
       "    }\n",
       "\n",
       "    .dataframe thead th {\n",
       "        text-align: right;\n",
       "    }\n",
       "</style>\n",
       "<table border=\"1\" class=\"dataframe\">\n",
       "  <thead>\n",
       "    <tr style=\"text-align: right;\">\n",
       "      <th></th>\n",
       "      <th>has_climate</th>\n",
       "      <th>has_satellite</th>\n",
       "      <th>sample_id</th>\n",
       "    </tr>\n",
       "  </thead>\n",
       "  <tbody>\n",
       "    <tr>\n",
       "      <th>0</th>\n",
       "      <td>False</td>\n",
       "      <td>True</td>\n",
       "      <td>16</td>\n",
       "    </tr>\n",
       "    <tr>\n",
       "      <th>1</th>\n",
       "      <td>True</td>\n",
       "      <td>False</td>\n",
       "      <td>636</td>\n",
       "    </tr>\n",
       "    <tr>\n",
       "      <th>2</th>\n",
       "      <td>True</td>\n",
       "      <td>True</td>\n",
       "      <td>4808</td>\n",
       "    </tr>\n",
       "  </tbody>\n",
       "</table>\n",
       "</div>"
      ],
      "text/plain": [
       "   has_climate  has_satellite  sample_id\n",
       "0        False           True         16\n",
       "1         True          False        636\n",
       "2         True           True       4808"
      ]
     },
     "execution_count": 14,
     "metadata": {},
     "output_type": "execute_result"
    }
   ],
   "source": [
    "# all sample have either satellite or climate\n",
    "test_features.groupby(\n",
    "    [\"has_climate\", \"has_satellite\"], as_index=False\n",
    ").sample_id.nunique()"
   ]
  },
  {
   "cell_type": "code",
   "execution_count": 15,
   "id": "beacc7d0-6ed4-442f-a100-09a74a8d3c1f",
   "metadata": {},
   "outputs": [],
   "source": [
    "preds_sat_path = tmp_save_dir / \"preds_with_sat.csv\"\n",
    "preds_no_sat_path = tmp_save_dir / \"preds_no_sat.csv\""
   ]
  },
  {
   "cell_type": "code",
   "execution_count": 16,
   "id": "3f92f638-30f7-416e-9aed-18ad18cadd62",
   "metadata": {},
   "outputs": [
    {
     "name": "stdout",
     "output_type": "stream",
     "text": [
      "(4824, 4)\n"
     ]
    }
   ],
   "source": [
    "# Save out subset with satellite imagery\n",
    "preds_sat = preds.loc[test_features[test_features.has_satellite].sample_id.unique()]\n",
    "print(preds_sat.shape)\n",
    "preds_sat.to_csv(preds_sat_path, index=True)"
   ]
  },
  {
   "cell_type": "code",
   "execution_count": 17,
   "id": "dd9a737a-c197-44ab-b491-f08ac89c0537",
   "metadata": {},
   "outputs": [
    {
     "name": "stdout",
     "output_type": "stream",
     "text": [
      "(636, 4)\n"
     ]
    }
   ],
   "source": [
    "# Save out subset without satellite imagery\n",
    "preds_no_sat = preds.loc[test_features[~test_features.has_satellite].sample_id]\n",
    "print(preds_no_sat.shape)\n",
    "preds_no_sat.to_csv(preds_no_sat_path, index=True)"
   ]
  },
  {
   "cell_type": "code",
   "execution_count": 18,
   "id": "3cbe5675-6846-47db-8110-c7e144d6e69b",
   "metadata": {},
   "outputs": [
    {
     "data": {
      "text/plain": [
       "lightgbm.basic.Booster"
      ]
     },
     "execution_count": 18,
     "metadata": {},
     "output_type": "execute_result"
    }
   ],
   "source": [
    "# Load model\n",
    "archive = ZipFile(s3_dir / \"results/third_sentinel_and_climate/model.zip\", \"r\")\n",
    "model = lgb.Booster(model_str=archive.read(\"lgb_model.txt\").decode())\n",
    "type(model)"
   ]
  },
  {
   "cell_type": "markdown",
   "id": "0c4e3d30-3801-472f-8026-e9a49dfb2de6",
   "metadata": {},
   "source": [
    "### Instantiate `EvaluatePreds` classes"
   ]
  },
  {
   "cell_type": "code",
   "execution_count": 19,
   "id": "7c854c08-f416-4729-8def-c9790d79f679",
   "metadata": {},
   "outputs": [
    {
     "name": "stderr",
     "output_type": "stream",
     "text": [
      "\u001b[32m2023-08-24 11:28:51.723\u001b[0m | \u001b[1mINFO    \u001b[0m | \u001b[36mcyano.evaluate\u001b[0m:\u001b[36m__init__\u001b[0m:\u001b[36m98\u001b[0m - \u001b[1mEvaluating on 4,824 samples (of 4,824)\u001b[0m\n"
     ]
    }
   ],
   "source": [
    "evals = {}\n",
    "evals[\"with_satellite\"] = EvaluatePreds(\n",
    "    true_path, preds_sat_path, \"tmp/eval_sat\", model\n",
    ")"
   ]
  },
  {
   "cell_type": "code",
   "execution_count": 20,
   "id": "0e81a5e2-1c7a-4eba-833e-8f68e3b235b6",
   "metadata": {},
   "outputs": [
    {
     "name": "stderr",
     "output_type": "stream",
     "text": [
      "\u001b[32m2023-08-24 11:28:51.969\u001b[0m | \u001b[1mINFO    \u001b[0m | \u001b[36mcyano.evaluate\u001b[0m:\u001b[36m__init__\u001b[0m:\u001b[36m98\u001b[0m - \u001b[1mEvaluating on 636 samples (of 636)\u001b[0m\n"
     ]
    }
   ],
   "source": [
    "evals[\"without_satellite\"] = EvaluatePreds(\n",
    "    true_path, preds_no_sat_path, \"tmp/eval_sat\", model\n",
    ")"
   ]
  },
  {
   "cell_type": "markdown",
   "id": "faba2be2-2b83-470a-b506-4c40f0d7ec87",
   "metadata": {},
   "source": [
    "### Evaluate"
   ]
  },
  {
   "cell_type": "code",
   "execution_count": 21,
   "id": "3d84c2b5-cf08-4493-88bc-85a4fde15907",
   "metadata": {},
   "outputs": [
    {
     "data": {
      "image/png": "[encoded data removed]",
      "text/plain": [
       "<Figure size 900x400 with 2 Axes>"
      ]
     },
     "metadata": {},
     "output_type": "display_data"
    }
   ],
   "source": [
    "fig, axes = plt.subplots(1, 2, figsize=(9, 4), sharex=True, sharey=True)\n",
    "for i, key in enumerate(evals.keys()):\n",
    "    generate_and_plot_crosstab(evals[key].y_true, evals[key].y_pred, ax=axes[i])\n",
    "    axes[i].set_title(key)"
   ]
  },
  {
   "cell_type": "code",
   "execution_count": 22,
   "id": "19626e7a-439b-45b6-b5ca-124ac0f5e2d6",
   "metadata": {},
   "outputs": [
    {
     "data": {
      "image/png": "[encoded data removed]",
      "text/plain": [
       "<Figure size 900x400 with 2 Axes>"
      ]
     },
     "metadata": {},
     "output_type": "display_data"
    }
   ],
   "source": [
    "fig, axes = plt.subplots(1, 2, figsize=(9, 4), sharex=True, sharey=True)\n",
    "for i, key in enumerate(evals.keys()):\n",
    "    generate_actual_density_boxplot(\n",
    "        evals[key].metadata.density_cells_per_ml, evals[key].y_pred, ax=axes[i]\n",
    "    )\n",
    "    axes[i].set_title(key)"
   ]
  },
  {
   "cell_type": "code",
   "execution_count": 23,
   "id": "739fd202-b39e-4a0a-bdaf-0dbed6135b17",
   "metadata": {},
   "outputs": [],
   "source": [
    "results = {key: evalpreds.calculate_metrics() for key, evalpreds in evals.items()}"
   ]
  },
  {
   "cell_type": "code",
   "execution_count": 24,
   "id": "da3f7ca2-524f-4013-9794-e99c173c2ee4",
   "metadata": {},
   "outputs": [
    {
     "data": {
      "image/png": "[encoded data removed]",
      "text/plain": [
       "<Figure size 800x400 with 2 Axes>"
      ]
     },
     "metadata": {},
     "output_type": "display_data"
    }
   ],
   "source": [
    "fig, axes = plt.subplots(1, 2, figsize=(8, 4))\n",
    "\n",
    "for i, metric in enumerate(\n",
    "    [\n",
    "        \"regional_mae\",\n",
    "        \"regional_rmse\",\n",
    "    ]\n",
    "):\n",
    "    regional_scores = pd.DataFrame({key: res[metric] for key, res in results.items()})\n",
    "    regional_scores.plot(kind=\"bar\", ax=axes[i])\n",
    "    axes[i].set_title(metric)\n",
    "plt.show()"
   ]
  },
  {
   "cell_type": "code",
   "execution_count": 25,
   "id": "9963da0d-2bca-48e9-80dc-886860ee9e1d",
   "metadata": {},
   "outputs": [
    {
     "data": {
      "text/html": [
       "<div>\n",
       "<style scoped>\n",
       "    .dataframe tbody tr th:only-of-type {\n",
       "        vertical-align: middle;\n",
       "    }\n",
       "\n",
       "    .dataframe tbody tr th {\n",
       "        vertical-align: top;\n",
       "    }\n",
       "\n",
       "    .dataframe thead th {\n",
       "        text-align: right;\n",
       "    }\n",
       "</style>\n",
       "<table border=\"1\" class=\"dataframe\">\n",
       "  <thead>\n",
       "    <tr style=\"text-align: right;\">\n",
       "      <th></th>\n",
       "      <th>with_satellite</th>\n",
       "      <th>without_satellite</th>\n",
       "    </tr>\n",
       "  </thead>\n",
       "  <tbody>\n",
       "    <tr>\n",
       "      <th>midwest</th>\n",
       "      <td>0.838046</td>\n",
       "      <td>0.874700</td>\n",
       "    </tr>\n",
       "    <tr>\n",
       "      <th>northeast</th>\n",
       "      <td>1.012438</td>\n",
       "      <td>1.194467</td>\n",
       "    </tr>\n",
       "    <tr>\n",
       "      <th>south</th>\n",
       "      <td>0.952904</td>\n",
       "      <td>0.991903</td>\n",
       "    </tr>\n",
       "    <tr>\n",
       "      <th>west</th>\n",
       "      <td>0.577350</td>\n",
       "      <td>0.361382</td>\n",
       "    </tr>\n",
       "  </tbody>\n",
       "</table>\n",
       "</div>"
      ],
      "text/plain": [
       "           with_satellite  without_satellite\n",
       "midwest          0.838046           0.874700\n",
       "northeast        1.012438           1.194467\n",
       "south            0.952904           0.991903\n",
       "west             0.577350           0.361382"
      ]
     },
     "execution_count": 25,
     "metadata": {},
     "output_type": "execute_result"
    }
   ],
   "source": [
    "# See RMSE in detail for regions\n",
    "regional_scores"
   ]
  },
  {
   "cell_type": "code",
   "execution_count": 26,
   "id": "918a805d-6441-4f45-966a-27dbf968b6c5",
   "metadata": {},
   "outputs": [
    {
     "data": {
      "text/html": [
       "<div>\n",
       "<style scoped>\n",
       "    .dataframe tbody tr th:only-of-type {\n",
       "        vertical-align: middle;\n",
       "    }\n",
       "\n",
       "    .dataframe tbody tr th {\n",
       "        vertical-align: top;\n",
       "    }\n",
       "\n",
       "    .dataframe thead th {\n",
       "        text-align: right;\n",
       "    }\n",
       "</style>\n",
       "<table border=\"1\" class=\"dataframe\">\n",
       "  <thead>\n",
       "    <tr style=\"text-align: right;\">\n",
       "      <th></th>\n",
       "      <th>with_satellite</th>\n",
       "      <th>without_satellite</th>\n",
       "    </tr>\n",
       "  </thead>\n",
       "  <tbody>\n",
       "    <tr>\n",
       "      <th>overall_rmse</th>\n",
       "      <td>0.826213</td>\n",
       "      <td>0.826069</td>\n",
       "    </tr>\n",
       "    <tr>\n",
       "      <th>overall_mae</th>\n",
       "      <td>0.539594</td>\n",
       "      <td>0.462264</td>\n",
       "    </tr>\n",
       "    <tr>\n",
       "      <th>overall_mape</th>\n",
       "      <td>0.342354</td>\n",
       "      <td>0.244418</td>\n",
       "    </tr>\n",
       "    <tr>\n",
       "      <th>region_averaged_rmse</th>\n",
       "      <td>0.845185</td>\n",
       "      <td>0.855613</td>\n",
       "    </tr>\n",
       "  </tbody>\n",
       "</table>\n",
       "</div>"
      ],
      "text/plain": [
       "                     with_satellite without_satellite\n",
       "overall_rmse               0.826213          0.826069\n",
       "overall_mae                0.539594          0.462264\n",
       "overall_mape               0.342354          0.244418\n",
       "region_averaged_rmse       0.845185          0.855613"
      ]
     },
     "execution_count": 26,
     "metadata": {},
     "output_type": "execute_result"
    }
   ],
   "source": [
    "pd.DataFrame(results).loc[\n",
    "    [\n",
    "        \"overall_rmse\",\n",
    "        \"overall_mae\",\n",
    "        \"overall_mape\",\n",
    "        \"region_averaged_rmse\",\n",
    "    ]\n",
    "]"
   ]
  },
  {
   "cell_type": "markdown",
   "id": "85a983c1-af68-41a3-a2aa-168bb1549202",
   "metadata": {},
   "source": [
    "**Takeaway**\n",
    "\n",
    "The difference in performance between samples with and without satellite imagery is not huge. Samples without satellite imagery have noticeably higher RMSE in the northeast and a small amount higher in the midwest and south, but actually lower RMSE in the west.\n",
    "\n",
    "The difference in performance is much greater when looking at MAE and MAPE than when looking at RMSE."
   ]
  },
  {
   "cell_type": "code",
   "execution_count": 27,
   "id": "c61d70ef-9f69-42ee-957e-81ea8214ce60",
   "metadata": {},
   "outputs": [
    {
     "data": {
      "text/html": [
       "<div>\n",
       "<style scoped>\n",
       "    .dataframe tbody tr th:only-of-type {\n",
       "        vertical-align: middle;\n",
       "    }\n",
       "\n",
       "    .dataframe tbody tr th {\n",
       "        vertical-align: top;\n",
       "    }\n",
       "\n",
       "    .dataframe thead th {\n",
       "        text-align: right;\n",
       "    }\n",
       "</style>\n",
       "<table border=\"1\" class=\"dataframe\">\n",
       "  <thead>\n",
       "    <tr style=\"text-align: right;\">\n",
       "      <th></th>\n",
       "      <th>importance_gain</th>\n",
       "      <th>importance_split</th>\n",
       "    </tr>\n",
       "    <tr>\n",
       "      <th>feature</th>\n",
       "      <th></th>\n",
       "      <th></th>\n",
       "    </tr>\n",
       "  </thead>\n",
       "  <tbody>\n",
       "    <tr>\n",
       "      <th>rounded_longitude</th>\n",
       "      <td>202955.651685</td>\n",
       "      <td>566</td>\n",
       "    </tr>\n",
       "    <tr>\n",
       "      <th>TMP_max</th>\n",
       "      <td>14037.840122</td>\n",
       "      <td>1642</td>\n",
       "    </tr>\n",
       "    <tr>\n",
       "      <th>month</th>\n",
       "      <td>11736.040193</td>\n",
       "      <td>648</td>\n",
       "    </tr>\n",
       "    <tr>\n",
       "      <th>TMP_min</th>\n",
       "      <td>8056.240197</td>\n",
       "      <td>1528</td>\n",
       "    </tr>\n",
       "    <tr>\n",
       "      <th>TMP_mean</th>\n",
       "      <td>7514.781976</td>\n",
       "      <td>1430</td>\n",
       "    </tr>\n",
       "    <tr>\n",
       "      <th>SPFH_min</th>\n",
       "      <td>7293.962607</td>\n",
       "      <td>1573</td>\n",
       "    </tr>\n",
       "    <tr>\n",
       "      <th>SPFH_max</th>\n",
       "      <td>6980.449090</td>\n",
       "      <td>1388</td>\n",
       "    </tr>\n",
       "    <tr>\n",
       "      <th>SPFH_mean</th>\n",
       "      <td>6250.482605</td>\n",
       "      <td>1203</td>\n",
       "    </tr>\n",
       "    <tr>\n",
       "      <th>B05_min</th>\n",
       "      <td>2693.146313</td>\n",
       "      <td>340</td>\n",
       "    </tr>\n",
       "    <tr>\n",
       "      <th>B12_mean</th>\n",
       "      <td>2295.450669</td>\n",
       "      <td>497</td>\n",
       "    </tr>\n",
       "  </tbody>\n",
       "</table>\n",
       "</div>"
      ],
      "text/plain": [
       "                   importance_gain  importance_split\n",
       "feature                                             \n",
       "rounded_longitude    202955.651685               566\n",
       "TMP_max               14037.840122              1642\n",
       "month                 11736.040193               648\n",
       "TMP_min                8056.240197              1528\n",
       "TMP_mean               7514.781976              1430\n",
       "SPFH_min               7293.962607              1573\n",
       "SPFH_max               6980.449090              1388\n",
       "SPFH_mean              6250.482605              1203\n",
       "B05_min                2693.146313               340\n",
       "B12_mean               2295.450669               497"
      ]
     },
     "execution_count": 27,
     "metadata": {},
     "output_type": "execute_result"
    }
   ],
   "source": [
    "feature_importance = pd.read_csv(\n",
    "    s3_dir / \"results/third_sentinel_and_climate/metrics/feature_importance.csv\",\n",
    "    index_col=0,\n",
    ")\n",
    "\n",
    "# what are the top features by importance gain?\n",
    "feature_importance.sort_values(by=\"importance_gain\", ascending=False).head(10)"
   ]
  },
  {
   "cell_type": "code",
   "execution_count": 28,
   "id": "707fa4f5-0d0a-4700-b2bb-284a17cc6dfa",
   "metadata": {},
   "outputs": [
    {
     "data": {
      "text/html": [
       "<div>\n",
       "<style scoped>\n",
       "    .dataframe tbody tr th:only-of-type {\n",
       "        vertical-align: middle;\n",
       "    }\n",
       "\n",
       "    .dataframe tbody tr th {\n",
       "        vertical-align: top;\n",
       "    }\n",
       "\n",
       "    .dataframe thead th {\n",
       "        text-align: right;\n",
       "    }\n",
       "</style>\n",
       "<table border=\"1\" class=\"dataframe\">\n",
       "  <thead>\n",
       "    <tr style=\"text-align: right;\">\n",
       "      <th></th>\n",
       "      <th>importance_gain</th>\n",
       "      <th>importance_split</th>\n",
       "    </tr>\n",
       "    <tr>\n",
       "      <th>feature</th>\n",
       "      <th></th>\n",
       "      <th></th>\n",
       "    </tr>\n",
       "  </thead>\n",
       "  <tbody>\n",
       "    <tr>\n",
       "      <th>TMP_max</th>\n",
       "      <td>14037.840122</td>\n",
       "      <td>1642</td>\n",
       "    </tr>\n",
       "    <tr>\n",
       "      <th>SPFH_min</th>\n",
       "      <td>7293.962607</td>\n",
       "      <td>1573</td>\n",
       "    </tr>\n",
       "    <tr>\n",
       "      <th>TMP_min</th>\n",
       "      <td>8056.240197</td>\n",
       "      <td>1528</td>\n",
       "    </tr>\n",
       "    <tr>\n",
       "      <th>TMP_mean</th>\n",
       "      <td>7514.781976</td>\n",
       "      <td>1430</td>\n",
       "    </tr>\n",
       "    <tr>\n",
       "      <th>SPFH_max</th>\n",
       "      <td>6980.449090</td>\n",
       "      <td>1388</td>\n",
       "    </tr>\n",
       "    <tr>\n",
       "      <th>SPFH_mean</th>\n",
       "      <td>6250.482605</td>\n",
       "      <td>1203</td>\n",
       "    </tr>\n",
       "    <tr>\n",
       "      <th>NDVI_B07</th>\n",
       "      <td>1964.771477</td>\n",
       "      <td>1003</td>\n",
       "    </tr>\n",
       "    <tr>\n",
       "      <th>NDVI_B06</th>\n",
       "      <td>1694.195924</td>\n",
       "      <td>739</td>\n",
       "    </tr>\n",
       "    <tr>\n",
       "      <th>month</th>\n",
       "      <td>11736.040193</td>\n",
       "      <td>648</td>\n",
       "    </tr>\n",
       "    <tr>\n",
       "      <th>NDVI_B05</th>\n",
       "      <td>2005.724227</td>\n",
       "      <td>610</td>\n",
       "    </tr>\n",
       "  </tbody>\n",
       "</table>\n",
       "</div>"
      ],
      "text/plain": [
       "           importance_gain  importance_split\n",
       "feature                                     \n",
       "TMP_max       14037.840122              1642\n",
       "SPFH_min       7293.962607              1573\n",
       "TMP_min        8056.240197              1528\n",
       "TMP_mean       7514.781976              1430\n",
       "SPFH_max       6980.449090              1388\n",
       "SPFH_mean      6250.482605              1203\n",
       "NDVI_B07       1964.771477              1003\n",
       "NDVI_B06       1694.195924               739\n",
       "month         11736.040193               648\n",
       "NDVI_B05       2005.724227               610"
      ]
     },
     "execution_count": 28,
     "metadata": {},
     "output_type": "execute_result"
    }
   ],
   "source": [
    "# what are the top features by importance split?\n",
    "feature_importance.sort_values(by=\"importance_split\", ascending=False).head(10)"
   ]
  },
  {
   "cell_type": "markdown",
   "id": "b9ae488f-6bb3-4694-b99e-1bcadcb78d89",
   "metadata": {},
   "source": [
    "**Takeaways**\n",
    "\n",
    "All of our climate features are in the top most important features. Even though performance is somewhat lower on data with no satellite imagery, this implies that the model is still able to glean useful information with climate data alone."
   ]
  },
  {
   "cell_type": "markdown",
   "id": "3b8fb730-7d15-41ff-b539-5b0e84c83536",
   "metadata": {},
   "source": [
    "### Which new samples do we get features for?\n",
    "\n",
    "Are we only covering additional older samples, or does climate data increase our coverage on newer samples as well? this helps determine whether the tradeoff of slight decrease in performance is worth the additional coverage moving forward. "
   ]
  },
  {
   "cell_type": "code",
   "execution_count": 29,
   "id": "6f0419a9-8b4a-4214-8276-a663cac61816",
   "metadata": {},
   "outputs": [
    {
     "data": {
      "text/html": [
       "<div>\n",
       "<style scoped>\n",
       "    .dataframe tbody tr th:only-of-type {\n",
       "        vertical-align: middle;\n",
       "    }\n",
       "\n",
       "    .dataframe tbody tr th {\n",
       "        vertical-align: top;\n",
       "    }\n",
       "\n",
       "    .dataframe thead th {\n",
       "        text-align: right;\n",
       "    }\n",
       "</style>\n",
       "<table border=\"1\" class=\"dataframe\">\n",
       "  <thead>\n",
       "    <tr style=\"text-align: right;\">\n",
       "      <th></th>\n",
       "      <th>uid</th>\n",
       "      <th>data_provider</th>\n",
       "      <th>region</th>\n",
       "      <th>latitude</th>\n",
       "      <th>longitude</th>\n",
       "      <th>date</th>\n",
       "      <th>density_cells_per_ml</th>\n",
       "      <th>severity</th>\n",
       "      <th>distance_to_water_m</th>\n",
       "      <th>log_density</th>\n",
       "    </tr>\n",
       "    <tr>\n",
       "      <th>sample_id</th>\n",
       "      <th></th>\n",
       "      <th></th>\n",
       "      <th></th>\n",
       "      <th></th>\n",
       "      <th></th>\n",
       "      <th></th>\n",
       "      <th></th>\n",
       "      <th></th>\n",
       "      <th></th>\n",
       "      <th></th>\n",
       "    </tr>\n",
       "  </thead>\n",
       "  <tbody>\n",
       "    <tr>\n",
       "      <th>4a89ead93e2caa84da636236bb361e12</th>\n",
       "      <td>aabn</td>\n",
       "      <td>California Environmental Data Exchange Network</td>\n",
       "      <td>west</td>\n",
       "      <td>36.5597</td>\n",
       "      <td>-121.510</td>\n",
       "      <td>2016-08-31</td>\n",
       "      <td>5867500.0</td>\n",
       "      <td>4</td>\n",
       "      <td>3512.0</td>\n",
       "      <td>15.584939</td>\n",
       "    </tr>\n",
       "    <tr>\n",
       "      <th>a7e2d76f204ac347ae5529557eb7f665</th>\n",
       "      <td>aair</td>\n",
       "      <td>California Environmental Data Exchange Network</td>\n",
       "      <td>west</td>\n",
       "      <td>33.0426</td>\n",
       "      <td>-117.076</td>\n",
       "      <td>2014-11-01</td>\n",
       "      <td>2769000.0</td>\n",
       "      <td>4</td>\n",
       "      <td>195.0</td>\n",
       "      <td>14.833997</td>\n",
       "    </tr>\n",
       "  </tbody>\n",
       "</table>\n",
       "</div>"
      ],
      "text/plain": [
       "                                   uid  \\\n",
       "sample_id                                \n",
       "4a89ead93e2caa84da636236bb361e12  aabn   \n",
       "a7e2d76f204ac347ae5529557eb7f665  aair   \n",
       "\n",
       "                                                                   data_provider  \\\n",
       "sample_id                                                                          \n",
       "4a89ead93e2caa84da636236bb361e12  California Environmental Data Exchange Network   \n",
       "a7e2d76f204ac347ae5529557eb7f665  California Environmental Data Exchange Network   \n",
       "\n",
       "                                 region  latitude  longitude       date  \\\n",
       "sample_id                                                                 \n",
       "4a89ead93e2caa84da636236bb361e12   west   36.5597   -121.510 2016-08-31   \n",
       "a7e2d76f204ac347ae5529557eb7f665   west   33.0426   -117.076 2014-11-01   \n",
       "\n",
       "                                  density_cells_per_ml  severity  \\\n",
       "sample_id                                                          \n",
       "4a89ead93e2caa84da636236bb361e12             5867500.0         4   \n",
       "a7e2d76f204ac347ae5529557eb7f665             2769000.0         4   \n",
       "\n",
       "                                  distance_to_water_m  log_density  \n",
       "sample_id                                                           \n",
       "4a89ead93e2caa84da636236bb361e12               3512.0    15.584939  \n",
       "a7e2d76f204ac347ae5529557eb7f665                195.0    14.833997  "
      ]
     },
     "execution_count": 29,
     "metadata": {},
     "output_type": "execute_result"
    }
   ],
   "source": [
    "test = pd.read_csv(s3_dir / \"splits/competition/test.csv\")\n",
    "test = add_unique_identifier(test)\n",
    "test[\"date\"] = pd.to_datetime(test.date)\n",
    "test.head(2)"
   ]
  },
  {
   "cell_type": "code",
   "execution_count": 30,
   "id": "01c339db-d73b-4868-b639-c0bfec3f84e2",
   "metadata": {},
   "outputs": [
    {
     "data": {
      "text/plain": [
       "(636, 10)"
      ]
     },
     "execution_count": 30,
     "metadata": {},
     "output_type": "execute_result"
    }
   ],
   "source": [
    "new_coverage = test.loc[test_features[~test_features.has_satellite].sample_id]\n",
    "new_coverage.shape"
   ]
  },
  {
   "cell_type": "code",
   "execution_count": 31,
   "id": "834103f9-f85e-4344-ae0e-86c2e5c45932",
   "metadata": {},
   "outputs": [
    {
     "data": {
      "image/png": "[encoded data removed]",
      "text/plain": [
       "<Figure size 640x480 with 1 Axes>"
      ]
     },
     "metadata": {},
     "output_type": "display_data"
    }
   ],
   "source": [
    "new_coverage.date.hist()\n",
    "plt.title(\"Dates for samples with climate data but no satellite imagery\")\n",
    "plt.show()"
   ]
  },
  {
   "cell_type": "code",
   "execution_count": 32,
   "id": "f9bc99df-914c-426c-983c-dca7a6c79962",
   "metadata": {},
   "outputs": [
    {
     "data": {
      "text/plain": [
       "date\n",
       "2014     74\n",
       "2015    453\n",
       "2016     37\n",
       "2017     67\n",
       "2021      5\n",
       "Name: count, dtype: int64"
      ]
     },
     "execution_count": 32,
     "metadata": {},
     "output_type": "execute_result"
    }
   ],
   "source": [
    "new_coverage.date.dt.year.value_counts().sort_index()"
   ]
  },
  {
   "cell_type": "markdown",
   "id": "5bb9bf1b-6693-450c-8080-ac87c480a875",
   "metadata": {},
   "source": [
    "**Takeaway**\n",
    "\n",
    "Most of the samples climate data enables us to cover are on the older side. There are almost none post-2017 that climate covers but satellite does not."
   ]
  },
  {
   "cell_type": "markdown",
   "id": "ecbdfe27-8cac-4942-a246-421cc319641f",
   "metadata": {
    "jp-MarkdownHeadingCollapsed": true
   },
   "source": [
    "# Without metadata feature\n",
    "\n",
    "Look into performance without the metadata feature of `rounded_longitude`"
   ]
  },
  {
   "cell_type": "code",
   "execution_count": 33,
   "id": "ed7a65f9-914f-4b47-9143-6e8bc93569cb",
   "metadata": {},
   "outputs": [
    {
     "data": {
      "text/plain": [
       "(6510, 4)"
      ]
     },
     "execution_count": 33,
     "metadata": {},
     "output_type": "execute_result"
    }
   ],
   "source": [
    "preds = pd.read_csv(\n",
    "    s3_dir / \"results/third_sentinel_and_climate_no_meta/preds.csv\", index_col=0\n",
    ")\n",
    "preds.shape"
   ]
  },
  {
   "cell_type": "code",
   "execution_count": 34,
   "id": "b2908fd5-f6e7-4e50-adf2-93ab86675d56",
   "metadata": {},
   "outputs": [
    {
     "data": {
      "text/plain": [
       "date            0\n",
       "latitude        0\n",
       "longitude       0\n",
       "severity     1050\n",
       "dtype: int64"
      ]
     },
     "execution_count": 34,
     "metadata": {},
     "output_type": "execute_result"
    }
   ],
   "source": [
    "preds.isna().sum()"
   ]
  },
  {
   "cell_type": "markdown",
   "id": "729042cf-9118-4b30-8356-946e16e30db4",
   "metadata": {},
   "source": [
    "### Save out subsets\n",
    "\n",
    "So that we can instantiate separate `EvaluatePreds` classes, save out two versions of the predictions -- one with only samples that have satellite imagery, one with only samples that *don't* have satellite imagery"
   ]
  },
  {
   "cell_type": "code",
   "execution_count": 35,
   "id": "0824abbb-fc9e-4cbb-857c-960ce85509dc",
   "metadata": {},
   "outputs": [
    {
     "data": {
      "text/plain": [
       "((22128, 73), 5460)"
      ]
     },
     "execution_count": 35,
     "metadata": {},
     "output_type": "execute_result"
    }
   ],
   "source": [
    "# Load test features to see which samples had satellite imagery\n",
    "test_features = pd.read_csv(\n",
    "    s3_dir / \"results/third_sentinel_and_climate_no_meta/features_test.csv\"\n",
    ")\n",
    "test_features.shape, test_features.sample_id.nunique()"
   ]
  },
  {
   "cell_type": "code",
   "execution_count": 36,
   "id": "70ea0cf7-362e-439e-b34d-eef439b32357",
   "metadata": {},
   "outputs": [
    {
     "data": {
      "text/plain": [
       "5444"
      ]
     },
     "execution_count": 36,
     "metadata": {},
     "output_type": "execute_result"
    }
   ],
   "source": [
    "# how many have climate features?\n",
    "# checks out, same as experiment with metadata\n",
    "test_features[test_features.SPFH_max.notna()].sample_id.nunique()"
   ]
  },
  {
   "cell_type": "code",
   "execution_count": 37,
   "id": "a2f578a8-cc74-4ac3-af26-4ede76e31543",
   "metadata": {},
   "outputs": [
    {
     "data": {
      "text/plain": [
       "4824"
      ]
     },
     "execution_count": 37,
     "metadata": {},
     "output_type": "execute_result"
    }
   ],
   "source": [
    "# same number have satellite features as well\n",
    "test_features[\"has_satellite\"] = test_features.AOT_mean.notna()\n",
    "test_features[test_features.has_satellite].sample_id.nunique()"
   ]
  },
  {
   "cell_type": "code",
   "execution_count": 38,
   "id": "d879a998-9402-4bed-85b3-2d92dae89af8",
   "metadata": {},
   "outputs": [
    {
     "name": "stdout",
     "output_type": "stream",
     "text": [
      "(4824, 4)\n",
      "(636, 4)\n"
     ]
    },
    {
     "data": {
      "text/plain": [
       "lightgbm.basic.Booster"
      ]
     },
     "execution_count": 38,
     "metadata": {},
     "output_type": "execute_result"
    }
   ],
   "source": [
    "preds_sat_path = tmp_save_dir / \"preds_with_sat.csv\"\n",
    "preds_no_sat_path = tmp_save_dir / \"preds_no_sat.csv\"\n",
    "\n",
    "# Save out subset with satellite imagery\n",
    "preds_sat = preds.loc[test_features[test_features.has_satellite].sample_id.unique()]\n",
    "print(preds_sat.shape)\n",
    "preds_sat.to_csv(preds_sat_path, index=True)\n",
    "\n",
    "# Save out subset without satellite imagery\n",
    "preds_no_sat = preds.loc[test_features[~test_features.has_satellite].sample_id]\n",
    "print(preds_no_sat.shape)\n",
    "preds_no_sat.to_csv(preds_no_sat_path, index=True)\n",
    "\n",
    "# Load model\n",
    "archive = ZipFile(s3_dir / \"results/third_sentinel_and_climate_no_meta/model.zip\", \"r\")\n",
    "model = lgb.Booster(model_str=archive.read(\"lgb_model.txt\").decode())\n",
    "type(model)"
   ]
  },
  {
   "cell_type": "markdown",
   "id": "98d1f975-d058-46f8-8e04-13237fa7620e",
   "metadata": {},
   "source": [
    "### Instantiate `EvaluatePreds` classes"
   ]
  },
  {
   "cell_type": "code",
   "execution_count": 39,
   "id": "6b8911f7-4edc-4bdd-a8bb-6a60651293ae",
   "metadata": {},
   "outputs": [
    {
     "name": "stderr",
     "output_type": "stream",
     "text": [
      "\u001b[32m2023-08-24 11:29:02.517\u001b[0m | \u001b[1mINFO    \u001b[0m | \u001b[36mcyano.evaluate\u001b[0m:\u001b[36m__init__\u001b[0m:\u001b[36m98\u001b[0m - \u001b[1mEvaluating on 4,824 samples (of 4,824)\u001b[0m\n"
     ]
    }
   ],
   "source": [
    "evals = {}\n",
    "evals[\"with_satellite\"] = EvaluatePreds(\n",
    "    true_path, preds_sat_path, \"tmp/eval_sat\", model\n",
    ")"
   ]
  },
  {
   "cell_type": "code",
   "execution_count": 40,
   "id": "50162778-aa1e-4d5b-b583-ff8bd953913f",
   "metadata": {},
   "outputs": [
    {
     "name": "stderr",
     "output_type": "stream",
     "text": [
      "\u001b[32m2023-08-24 11:29:02.712\u001b[0m | \u001b[1mINFO    \u001b[0m | \u001b[36mcyano.evaluate\u001b[0m:\u001b[36m__init__\u001b[0m:\u001b[36m98\u001b[0m - \u001b[1mEvaluating on 636 samples (of 636)\u001b[0m\n"
     ]
    }
   ],
   "source": [
    "evals[\"without_satellite\"] = EvaluatePreds(\n",
    "    true_path, preds_no_sat_path, \"tmp/eval_sat\", model\n",
    ")"
   ]
  },
  {
   "cell_type": "markdown",
   "id": "2287f5ac-2cf7-4d62-a32e-1fae6c2c30c2",
   "metadata": {},
   "source": [
    "### Evaluate"
   ]
  },
  {
   "cell_type": "code",
   "execution_count": 41,
   "id": "a37c6ba7-dcff-4ef2-b8b1-747dfaec2b56",
   "metadata": {},
   "outputs": [
    {
     "data": {
      "image/png": "[encoded data removed]",
      "text/plain": [
       "<Figure size 900x400 with 2 Axes>"
      ]
     },
     "metadata": {},
     "output_type": "display_data"
    }
   ],
   "source": [
    "fig, axes = plt.subplots(1, 2, figsize=(9, 4), sharex=True, sharey=True)\n",
    "for i, key in enumerate(evals.keys()):\n",
    "    generate_and_plot_crosstab(evals[key].y_true, evals[key].y_pred, ax=axes[i])\n",
    "    axes[i].set_title(key)"
   ]
  },
  {
   "cell_type": "code",
   "execution_count": 42,
   "id": "741c0997-4ef4-410d-9b7f-5f5ee874bc2f",
   "metadata": {},
   "outputs": [
    {
     "data": {
      "image/png": "[encoded data removed]",
      "text/plain": [
       "<Figure size 900x400 with 2 Axes>"
      ]
     },
     "metadata": {},
     "output_type": "display_data"
    }
   ],
   "source": [
    "fig, axes = plt.subplots(1, 2, figsize=(9, 4), sharex=True, sharey=True)\n",
    "for i, key in enumerate(evals.keys()):\n",
    "    generate_actual_density_boxplot(\n",
    "        evals[key].metadata.density_cells_per_ml, evals[key].y_pred, ax=axes[i]\n",
    "    )\n",
    "    axes[i].set_title(key)"
   ]
  },
  {
   "cell_type": "code",
   "execution_count": 43,
   "id": "a0f1c0a0-d3bd-433b-a5ac-5f1d3ddfff5a",
   "metadata": {},
   "outputs": [],
   "source": [
    "results = {key: evalpreds.calculate_metrics() for key, evalpreds in evals.items()}"
   ]
  },
  {
   "cell_type": "code",
   "execution_count": 44,
   "id": "533d3ded-a390-42ab-a039-c48ee8da736f",
   "metadata": {},
   "outputs": [
    {
     "data": {
      "image/png": "[encoded data removed]",
      "text/plain": [
       "<Figure size 800x400 with 2 Axes>"
      ]
     },
     "metadata": {},
     "output_type": "display_data"
    }
   ],
   "source": [
    "fig, axes = plt.subplots(1, 2, figsize=(8, 4))\n",
    "\n",
    "for i, metric in enumerate(\n",
    "    [\n",
    "        \"regional_mae\",\n",
    "        \"regional_rmse\",\n",
    "    ]\n",
    "):\n",
    "    regional_scores = pd.DataFrame({key: res[metric] for key, res in results.items()})\n",
    "    regional_scores.plot(kind=\"bar\", ax=axes[i])\n",
    "    axes[i].set_title(metric)\n",
    "plt.show()"
   ]
  },
  {
   "cell_type": "code",
   "execution_count": 45,
   "id": "1281e775-b8d0-4434-b854-52be6b355799",
   "metadata": {},
   "outputs": [
    {
     "data": {
      "text/html": [
       "<div>\n",
       "<style scoped>\n",
       "    .dataframe tbody tr th:only-of-type {\n",
       "        vertical-align: middle;\n",
       "    }\n",
       "\n",
       "    .dataframe tbody tr th {\n",
       "        vertical-align: top;\n",
       "    }\n",
       "\n",
       "    .dataframe thead th {\n",
       "        text-align: right;\n",
       "    }\n",
       "</style>\n",
       "<table border=\"1\" class=\"dataframe\">\n",
       "  <thead>\n",
       "    <tr style=\"text-align: right;\">\n",
       "      <th></th>\n",
       "      <th>with_satellite</th>\n",
       "      <th>without_satellite</th>\n",
       "    </tr>\n",
       "  </thead>\n",
       "  <tbody>\n",
       "    <tr>\n",
       "      <th>midwest</th>\n",
       "      <td>0.929077</td>\n",
       "      <td>1.198433</td>\n",
       "    </tr>\n",
       "    <tr>\n",
       "      <th>northeast</th>\n",
       "      <td>1.059553</td>\n",
       "      <td>1.194467</td>\n",
       "    </tr>\n",
       "    <tr>\n",
       "      <th>south</th>\n",
       "      <td>1.085400</td>\n",
       "      <td>1.150035</td>\n",
       "    </tr>\n",
       "    <tr>\n",
       "      <th>west</th>\n",
       "      <td>0.983223</td>\n",
       "      <td>1.285685</td>\n",
       "    </tr>\n",
       "  </tbody>\n",
       "</table>\n",
       "</div>"
      ],
      "text/plain": [
       "           with_satellite  without_satellite\n",
       "midwest          0.929077           1.198433\n",
       "northeast        1.059553           1.194467\n",
       "south            1.085400           1.150035\n",
       "west             0.983223           1.285685"
      ]
     },
     "execution_count": 45,
     "metadata": {},
     "output_type": "execute_result"
    }
   ],
   "source": [
    "# See RMSE in detail for regions\n",
    "regional_scores"
   ]
  },
  {
   "cell_type": "code",
   "execution_count": 46,
   "id": "1270615e-522a-4b48-97b8-614310c6e574",
   "metadata": {},
   "outputs": [
    {
     "data": {
      "text/html": [
       "<div>\n",
       "<style scoped>\n",
       "    .dataframe tbody tr th:only-of-type {\n",
       "        vertical-align: middle;\n",
       "    }\n",
       "\n",
       "    .dataframe tbody tr th {\n",
       "        vertical-align: top;\n",
       "    }\n",
       "\n",
       "    .dataframe thead th {\n",
       "        text-align: right;\n",
       "    }\n",
       "</style>\n",
       "<table border=\"1\" class=\"dataframe\">\n",
       "  <thead>\n",
       "    <tr style=\"text-align: right;\">\n",
       "      <th></th>\n",
       "      <th>with_satellite</th>\n",
       "      <th>without_satellite</th>\n",
       "    </tr>\n",
       "  </thead>\n",
       "  <tbody>\n",
       "    <tr>\n",
       "      <th>overall_rmse</th>\n",
       "      <td>1.009491</td>\n",
       "      <td>1.230508</td>\n",
       "    </tr>\n",
       "    <tr>\n",
       "      <th>overall_mae</th>\n",
       "      <td>0.771144</td>\n",
       "      <td>0.944969</td>\n",
       "    </tr>\n",
       "    <tr>\n",
       "      <th>overall_mape</th>\n",
       "      <td>0.464155</td>\n",
       "      <td>0.484408</td>\n",
       "    </tr>\n",
       "    <tr>\n",
       "      <th>region_averaged_rmse</th>\n",
       "      <td>1.014313</td>\n",
       "      <td>1.207155</td>\n",
       "    </tr>\n",
       "  </tbody>\n",
       "</table>\n",
       "</div>"
      ],
      "text/plain": [
       "                     with_satellite without_satellite\n",
       "overall_rmse               1.009491          1.230508\n",
       "overall_mae                0.771144          0.944969\n",
       "overall_mape               0.464155          0.484408\n",
       "region_averaged_rmse       1.014313          1.207155"
      ]
     },
     "execution_count": 46,
     "metadata": {},
     "output_type": "execute_result"
    }
   ],
   "source": [
    "pd.DataFrame(results).loc[\n",
    "    [\n",
    "        \"overall_rmse\",\n",
    "        \"overall_mae\",\n",
    "        \"overall_mape\",\n",
    "        \"region_averaged_rmse\",\n",
    "    ]\n",
    "]"
   ]
  },
  {
   "cell_type": "code",
   "execution_count": 47,
   "id": "dca3256d-87f0-43d0-96d8-711002196f37",
   "metadata": {},
   "outputs": [
    {
     "data": {
      "text/html": [
       "<div>\n",
       "<style scoped>\n",
       "    .dataframe tbody tr th:only-of-type {\n",
       "        vertical-align: middle;\n",
       "    }\n",
       "\n",
       "    .dataframe tbody tr th {\n",
       "        vertical-align: top;\n",
       "    }\n",
       "\n",
       "    .dataframe thead th {\n",
       "        text-align: right;\n",
       "    }\n",
       "</style>\n",
       "<table border=\"1\" class=\"dataframe\">\n",
       "  <thead>\n",
       "    <tr style=\"text-align: right;\">\n",
       "      <th></th>\n",
       "      <th>importance_gain</th>\n",
       "      <th>importance_split</th>\n",
       "    </tr>\n",
       "    <tr>\n",
       "      <th>feature</th>\n",
       "      <th></th>\n",
       "      <th></th>\n",
       "    </tr>\n",
       "  </thead>\n",
       "  <tbody>\n",
       "    <tr>\n",
       "      <th>TMP_max</th>\n",
       "      <td>53546.889020</td>\n",
       "      <td>1833</td>\n",
       "    </tr>\n",
       "    <tr>\n",
       "      <th>SPFH_max</th>\n",
       "      <td>41941.464973</td>\n",
       "      <td>1483</td>\n",
       "    </tr>\n",
       "    <tr>\n",
       "      <th>TMP_min</th>\n",
       "      <td>23523.431098</td>\n",
       "      <td>1658</td>\n",
       "    </tr>\n",
       "    <tr>\n",
       "      <th>B12_mean</th>\n",
       "      <td>18048.219769</td>\n",
       "      <td>514</td>\n",
       "    </tr>\n",
       "    <tr>\n",
       "      <th>month</th>\n",
       "      <td>15720.395728</td>\n",
       "      <td>666</td>\n",
       "    </tr>\n",
       "    <tr>\n",
       "      <th>SPFH_mean</th>\n",
       "      <td>15208.863395</td>\n",
       "      <td>1318</td>\n",
       "    </tr>\n",
       "    <tr>\n",
       "      <th>TMP_mean</th>\n",
       "      <td>13348.002863</td>\n",
       "      <td>1615</td>\n",
       "    </tr>\n",
       "    <tr>\n",
       "      <th>SPFH_min</th>\n",
       "      <td>12179.669496</td>\n",
       "      <td>1595</td>\n",
       "    </tr>\n",
       "    <tr>\n",
       "      <th>AOT_mean</th>\n",
       "      <td>11438.979404</td>\n",
       "      <td>594</td>\n",
       "    </tr>\n",
       "    <tr>\n",
       "      <th>AOT_range</th>\n",
       "      <td>10405.258692</td>\n",
       "      <td>173</td>\n",
       "    </tr>\n",
       "  </tbody>\n",
       "</table>\n",
       "</div>"
      ],
      "text/plain": [
       "           importance_gain  importance_split\n",
       "feature                                     \n",
       "TMP_max       53546.889020              1833\n",
       "SPFH_max      41941.464973              1483\n",
       "TMP_min       23523.431098              1658\n",
       "B12_mean      18048.219769               514\n",
       "month         15720.395728               666\n",
       "SPFH_mean     15208.863395              1318\n",
       "TMP_mean      13348.002863              1615\n",
       "SPFH_min      12179.669496              1595\n",
       "AOT_mean      11438.979404               594\n",
       "AOT_range     10405.258692               173"
      ]
     },
     "execution_count": 47,
     "metadata": {},
     "output_type": "execute_result"
    }
   ],
   "source": [
    "feature_importance = pd.read_csv(\n",
    "    s3_dir\n",
    "    / \"results/third_sentinel_and_climate_no_meta/metrics/feature_importance.csv\",\n",
    "    index_col=0,\n",
    ")\n",
    "\n",
    "# what are the top features by importance gain?\n",
    "feature_importance.sort_values(by=\"importance_gain\", ascending=False).head(10)"
   ]
  },
  {
   "cell_type": "code",
   "execution_count": 48,
   "id": "d5e93c19-ab83-4f50-8e4c-8cd96d161358",
   "metadata": {},
   "outputs": [
    {
     "data": {
      "text/html": [
       "<div>\n",
       "<style scoped>\n",
       "    .dataframe tbody tr th:only-of-type {\n",
       "        vertical-align: middle;\n",
       "    }\n",
       "\n",
       "    .dataframe tbody tr th {\n",
       "        vertical-align: top;\n",
       "    }\n",
       "\n",
       "    .dataframe thead th {\n",
       "        text-align: right;\n",
       "    }\n",
       "</style>\n",
       "<table border=\"1\" class=\"dataframe\">\n",
       "  <thead>\n",
       "    <tr style=\"text-align: right;\">\n",
       "      <th></th>\n",
       "      <th>importance_gain</th>\n",
       "      <th>importance_split</th>\n",
       "    </tr>\n",
       "    <tr>\n",
       "      <th>feature</th>\n",
       "      <th></th>\n",
       "      <th></th>\n",
       "    </tr>\n",
       "  </thead>\n",
       "  <tbody>\n",
       "    <tr>\n",
       "      <th>TMP_max</th>\n",
       "      <td>53546.889020</td>\n",
       "      <td>1833</td>\n",
       "    </tr>\n",
       "    <tr>\n",
       "      <th>TMP_min</th>\n",
       "      <td>23523.431098</td>\n",
       "      <td>1658</td>\n",
       "    </tr>\n",
       "    <tr>\n",
       "      <th>TMP_mean</th>\n",
       "      <td>13348.002863</td>\n",
       "      <td>1615</td>\n",
       "    </tr>\n",
       "    <tr>\n",
       "      <th>SPFH_min</th>\n",
       "      <td>12179.669496</td>\n",
       "      <td>1595</td>\n",
       "    </tr>\n",
       "    <tr>\n",
       "      <th>SPFH_max</th>\n",
       "      <td>41941.464973</td>\n",
       "      <td>1483</td>\n",
       "    </tr>\n",
       "    <tr>\n",
       "      <th>SPFH_mean</th>\n",
       "      <td>15208.863395</td>\n",
       "      <td>1318</td>\n",
       "    </tr>\n",
       "    <tr>\n",
       "      <th>NDVI_B07</th>\n",
       "      <td>4367.601362</td>\n",
       "      <td>894</td>\n",
       "    </tr>\n",
       "    <tr>\n",
       "      <th>month</th>\n",
       "      <td>15720.395728</td>\n",
       "      <td>666</td>\n",
       "    </tr>\n",
       "    <tr>\n",
       "      <th>NDVI_B06</th>\n",
       "      <td>3257.189273</td>\n",
       "      <td>613</td>\n",
       "    </tr>\n",
       "    <tr>\n",
       "      <th>AOT_mean</th>\n",
       "      <td>11438.979404</td>\n",
       "      <td>594</td>\n",
       "    </tr>\n",
       "  </tbody>\n",
       "</table>\n",
       "</div>"
      ],
      "text/plain": [
       "           importance_gain  importance_split\n",
       "feature                                     \n",
       "TMP_max       53546.889020              1833\n",
       "TMP_min       23523.431098              1658\n",
       "TMP_mean      13348.002863              1615\n",
       "SPFH_min      12179.669496              1595\n",
       "SPFH_max      41941.464973              1483\n",
       "SPFH_mean     15208.863395              1318\n",
       "NDVI_B07       4367.601362               894\n",
       "month         15720.395728               666\n",
       "NDVI_B06       3257.189273               613\n",
       "AOT_mean      11438.979404               594"
      ]
     },
     "execution_count": 48,
     "metadata": {},
     "output_type": "execute_result"
    }
   ],
   "source": [
    "# what are the top features by importance split?\n",
    "feature_importance.sort_values(by=\"importance_split\", ascending=False).head(10)"
   ]
  },
  {
   "cell_type": "code",
   "execution_count": null,
   "id": "c9bf20bb-0a94-474c-a03a-519819af7978",
   "metadata": {},
   "outputs": [],
   "source": []
  },
  {
   "cell_type": "code",
   "execution_count": null,
   "id": "55b5ac2a-dbcc-4e2b-b6d0-653491fb1cf9",
   "metadata": {},
   "outputs": [],
   "source": []
  },
  {
   "cell_type": "code",
   "execution_count": 49,
   "id": "78501069-e6c7-4bb1-ae05-7a108ac60126",
   "metadata": {},
   "outputs": [],
   "source": [
    "# delete temporary dir\n",
    "shutil.rmtree(tmp_save_dir)"
   ]
  },
  {
   "cell_type": "code",
   "execution_count": null,
   "id": "0afb9d0f-40ac-495c-b071-d46cb80e6913",
   "metadata": {},
   "outputs": [],
   "source": []
  },
  {
   "cell_type": "markdown",
   "id": "ff0bbc43-1583-4ba5-9444-49c2674cd04c",
   "metadata": {},
   "source": [
    "***\n",
    "\n",
    "# scrap"
   ]
  },
  {
   "cell_type": "code",
   "execution_count": 93,
   "id": "414a6539-c1c2-4260-a204-43b089d13e29",
   "metadata": {},
   "outputs": [],
   "source": [
    "from cyano.settings import REPO_ROOT\n",
    "from cyano.config import FeaturesConfig, ModelTrainingConfig\n",
    "from cyano.pipeline import CyanoModelPipeline\n",
    "from cyano.data.climate_data import download_climate_data\n",
    "from cyano.data.features import generate_features\n",
    "import numpy as np"
   ]
  },
  {
   "cell_type": "code",
   "execution_count": 52,
   "id": "34f02b83-c440-4ec7-8a34-3f29ad7fb1c3",
   "metadata": {},
   "outputs": [
    {
     "data": {
      "text/plain": [
       "(5, 6)"
      ]
     },
     "execution_count": 52,
     "metadata": {},
     "output_type": "execute_result"
    }
   ],
   "source": [
    "train = pd.read_csv(REPO_ROOT.parent / \"tests/assets/train_data.csv\")\n",
    "train.shape"
   ]
  },
  {
   "cell_type": "code",
   "execution_count": 56,
   "id": "48ce4f37-0660-4590-b7bd-4b0c802da272",
   "metadata": {},
   "outputs": [],
   "source": [
    "train = add_unique_identifier(train)"
   ]
  },
  {
   "cell_type": "code",
   "execution_count": 57,
   "id": "20fb3a1e-fda4-49fb-a552-56a8478d67fb",
   "metadata": {},
   "outputs": [
    {
     "data": {
      "text/html": [
       "<div>\n",
       "<style scoped>\n",
       "    .dataframe tbody tr th:only-of-type {\n",
       "        vertical-align: middle;\n",
       "    }\n",
       "\n",
       "    .dataframe tbody tr th {\n",
       "        vertical-align: top;\n",
       "    }\n",
       "\n",
       "    .dataframe thead th {\n",
       "        text-align: right;\n",
       "    }\n",
       "</style>\n",
       "<table border=\"1\" class=\"dataframe\">\n",
       "  <thead>\n",
       "    <tr style=\"text-align: right;\">\n",
       "      <th></th>\n",
       "      <th>date</th>\n",
       "      <th>latitude</th>\n",
       "      <th>longitude</th>\n",
       "      <th>severity</th>\n",
       "      <th>density_cells_per_ml</th>\n",
       "      <th>log_density</th>\n",
       "    </tr>\n",
       "    <tr>\n",
       "      <th>sample_id</th>\n",
       "      <th></th>\n",
       "      <th></th>\n",
       "      <th></th>\n",
       "      <th></th>\n",
       "      <th></th>\n",
       "      <th></th>\n",
       "    </tr>\n",
       "  </thead>\n",
       "  <tbody>\n",
       "    <tr>\n",
       "      <th>e3ebefd90a00c3cc9f5aeaf32cd4c184</th>\n",
       "      <td>2015-06-29</td>\n",
       "      <td>41.424144</td>\n",
       "      <td>-73.206937</td>\n",
       "      <td>1</td>\n",
       "      <td>5.867500e+06</td>\n",
       "      <td>15.584939</td>\n",
       "    </tr>\n",
       "    <tr>\n",
       "      <th>671520fa92f555ab335e0cfa888c57e7</th>\n",
       "      <td>2013-07-25</td>\n",
       "      <td>36.045000</td>\n",
       "      <td>-79.091942</td>\n",
       "      <td>1</td>\n",
       "      <td>2.451087e+03</td>\n",
       "      <td>7.804695</td>\n",
       "    </tr>\n",
       "    <tr>\n",
       "      <th>9c601f226c2af07d570134127a7fda27</th>\n",
       "      <td>2017-08-21</td>\n",
       "      <td>35.884524</td>\n",
       "      <td>-78.953997</td>\n",
       "      <td>3</td>\n",
       "      <td>3.034000e+05</td>\n",
       "      <td>12.622811</td>\n",
       "    </tr>\n",
       "    <tr>\n",
       "      <th>3a2c48812b551d720f8d56772efa6df1</th>\n",
       "      <td>2019-08-28</td>\n",
       "      <td>41.392490</td>\n",
       "      <td>-75.360700</td>\n",
       "      <td>2</td>\n",
       "      <td>6.720000e+04</td>\n",
       "      <td>11.115443</td>\n",
       "    </tr>\n",
       "    <tr>\n",
       "      <th>2543db364f727f17fe4ce7881aa180da</th>\n",
       "      <td>2013-07-11</td>\n",
       "      <td>38.305600</td>\n",
       "      <td>-122.026000</td>\n",
       "      <td>4</td>\n",
       "      <td>4.437500e+06</td>\n",
       "      <td>15.305602</td>\n",
       "    </tr>\n",
       "  </tbody>\n",
       "</table>\n",
       "</div>"
      ],
      "text/plain": [
       "                                        date   latitude   longitude  severity  \\\n",
       "sample_id                                                                       \n",
       "e3ebefd90a00c3cc9f5aeaf32cd4c184  2015-06-29  41.424144  -73.206937         1   \n",
       "671520fa92f555ab335e0cfa888c57e7  2013-07-25  36.045000  -79.091942         1   \n",
       "9c601f226c2af07d570134127a7fda27  2017-08-21  35.884524  -78.953997         3   \n",
       "3a2c48812b551d720f8d56772efa6df1  2019-08-28  41.392490  -75.360700         2   \n",
       "2543db364f727f17fe4ce7881aa180da  2013-07-11  38.305600 -122.026000         4   \n",
       "\n",
       "                                  density_cells_per_ml  log_density  \n",
       "sample_id                                                            \n",
       "e3ebefd90a00c3cc9f5aeaf32cd4c184          5.867500e+06    15.584939  \n",
       "671520fa92f555ab335e0cfa888c57e7          2.451087e+03     7.804695  \n",
       "9c601f226c2af07d570134127a7fda27          3.034000e+05    12.622811  \n",
       "3a2c48812b551d720f8d56772efa6df1          6.720000e+04    11.115443  \n",
       "2543db364f727f17fe4ce7881aa180da          4.437500e+06    15.305602  "
      ]
     },
     "execution_count": 57,
     "metadata": {},
     "output_type": "execute_result"
    }
   ],
   "source": [
    "train.head()"
   ]
  },
  {
   "cell_type": "code",
   "execution_count": 63,
   "id": "f217d61f-9312-4980-96ac-b45c4873b6c4",
   "metadata": {},
   "outputs": [],
   "source": [
    "eval = pd.read_csv(REPO_ROOT.parent / \"tests/assets/evaluate_data.csv\")\n",
    "eval = add_unique_identifier(eval)\n",
    "\n",
    "predict = pd.read_csv(REPO_ROOT.parent / \"tests/assets/predict_data.csv\")\n",
    "predict = add_unique_identifier(predict)"
   ]
  },
  {
   "cell_type": "code",
   "execution_count": 68,
   "id": "3b654fab-4e2d-46ee-bcf8-2583775b2541",
   "metadata": {},
   "outputs": [
    {
     "data": {
      "text/html": [
       "<div>\n",
       "<style scoped>\n",
       "    .dataframe tbody tr th:only-of-type {\n",
       "        vertical-align: middle;\n",
       "    }\n",
       "\n",
       "    .dataframe tbody tr th {\n",
       "        vertical-align: top;\n",
       "    }\n",
       "\n",
       "    .dataframe thead th {\n",
       "        text-align: right;\n",
       "    }\n",
       "</style>\n",
       "<table border=\"1\" class=\"dataframe\">\n",
       "  <thead>\n",
       "    <tr style=\"text-align: right;\">\n",
       "      <th></th>\n",
       "      <th>uid</th>\n",
       "      <th>data_provider</th>\n",
       "      <th>region</th>\n",
       "      <th>latitude</th>\n",
       "      <th>longitude</th>\n",
       "      <th>date</th>\n",
       "      <th>density_cells_per_ml</th>\n",
       "      <th>severity</th>\n",
       "      <th>distance_to_water_m</th>\n",
       "    </tr>\n",
       "    <tr>\n",
       "      <th>sample_id</th>\n",
       "      <th></th>\n",
       "      <th></th>\n",
       "      <th></th>\n",
       "      <th></th>\n",
       "      <th></th>\n",
       "      <th></th>\n",
       "      <th></th>\n",
       "      <th></th>\n",
       "      <th></th>\n",
       "    </tr>\n",
       "  </thead>\n",
       "  <tbody>\n",
       "    <tr>\n",
       "      <th>d7ebbce63c7d1498cc627a1e77f6061c</th>\n",
       "      <td>aabm</td>\n",
       "      <td>Indiana State Department of Health</td>\n",
       "      <td>midwest</td>\n",
       "      <td>39.080319</td>\n",
       "      <td>-86.430867</td>\n",
       "      <td>2018-05-14</td>\n",
       "      <td>585.0</td>\n",
       "      <td>1</td>\n",
       "      <td>0.0</td>\n",
       "    </tr>\n",
       "    <tr>\n",
       "      <th>4a89ead93e2caa84da636236bb361e12</th>\n",
       "      <td>aabn</td>\n",
       "      <td>California Environmental Data Exchange Network</td>\n",
       "      <td>west</td>\n",
       "      <td>36.559700</td>\n",
       "      <td>-121.510000</td>\n",
       "      <td>2016-08-31</td>\n",
       "      <td>5867500.0</td>\n",
       "      <td>4</td>\n",
       "      <td>3512.0</td>\n",
       "    </tr>\n",
       "  </tbody>\n",
       "</table>\n",
       "</div>"
      ],
      "text/plain": [
       "                                   uid  \\\n",
       "sample_id                                \n",
       "d7ebbce63c7d1498cc627a1e77f6061c  aabm   \n",
       "4a89ead93e2caa84da636236bb361e12  aabn   \n",
       "\n",
       "                                                                   data_provider  \\\n",
       "sample_id                                                                          \n",
       "d7ebbce63c7d1498cc627a1e77f6061c              Indiana State Department of Health   \n",
       "4a89ead93e2caa84da636236bb361e12  California Environmental Data Exchange Network   \n",
       "\n",
       "                                   region   latitude   longitude        date  \\\n",
       "sample_id                                                                      \n",
       "d7ebbce63c7d1498cc627a1e77f6061c  midwest  39.080319  -86.430867  2018-05-14   \n",
       "4a89ead93e2caa84da636236bb361e12     west  36.559700 -121.510000  2016-08-31   \n",
       "\n",
       "                                  density_cells_per_ml  severity  \\\n",
       "sample_id                                                          \n",
       "d7ebbce63c7d1498cc627a1e77f6061c                 585.0         1   \n",
       "4a89ead93e2caa84da636236bb361e12             5867500.0         4   \n",
       "\n",
       "                                  distance_to_water_m  \n",
       "sample_id                                              \n",
       "d7ebbce63c7d1498cc627a1e77f6061c                  0.0  \n",
       "4a89ead93e2caa84da636236bb361e12               3512.0  "
      ]
     },
     "execution_count": 68,
     "metadata": {},
     "output_type": "execute_result"
    }
   ],
   "source": [
    "meta = pd.read_csv(\n",
    "    AnyPath(\n",
    "        \"s3://drivendata-competition-nasa-cyanobacteria/data/final/combined_final_release.csv\"\n",
    "    )\n",
    ")\n",
    "meta = add_unique_identifier(meta)\n",
    "meta.head(2)"
   ]
  },
  {
   "cell_type": "code",
   "execution_count": null,
   "id": "1da0b978-13ef-4bbb-a7ab-2e5063f24ca2",
   "metadata": {},
   "outputs": [],
   "source": []
  },
  {
   "cell_type": "code",
   "execution_count": 67,
   "id": "d890333c-c8b9-4e1a-8fbe-435643ddff20",
   "metadata": {},
   "outputs": [
    {
     "data": {
      "text/html": [
       "<div>\n",
       "<style scoped>\n",
       "    .dataframe tbody tr th:only-of-type {\n",
       "        vertical-align: middle;\n",
       "    }\n",
       "\n",
       "    .dataframe tbody tr th {\n",
       "        vertical-align: top;\n",
       "    }\n",
       "\n",
       "    .dataframe thead th {\n",
       "        text-align: right;\n",
       "    }\n",
       "</style>\n",
       "<table border=\"1\" class=\"dataframe\">\n",
       "  <thead>\n",
       "    <tr style=\"text-align: right;\">\n",
       "      <th></th>\n",
       "      <th>date</th>\n",
       "      <th>latitude</th>\n",
       "      <th>longitude</th>\n",
       "    </tr>\n",
       "    <tr>\n",
       "      <th>sample_id</th>\n",
       "      <th></th>\n",
       "      <th></th>\n",
       "      <th></th>\n",
       "    </tr>\n",
       "  </thead>\n",
       "  <tbody>\n",
       "    <tr>\n",
       "      <th>d97d52643128ae2141336af9001cdcbe</th>\n",
       "      <td>2021-05-18</td>\n",
       "      <td>35.650000</td>\n",
       "      <td>-78.682816</td>\n",
       "    </tr>\n",
       "    <tr>\n",
       "      <th>11363094fead01206ba5582e561e999e</th>\n",
       "      <td>2018-10-22</td>\n",
       "      <td>37.564318</td>\n",
       "      <td>-101.335575</td>\n",
       "    </tr>\n",
       "    <tr>\n",
       "      <th>7284ae28904be4631eabfc4a3acf7872</th>\n",
       "      <td>2021-05-17</td>\n",
       "      <td>36.050000</td>\n",
       "      <td>-76.700000</td>\n",
       "    </tr>\n",
       "    <tr>\n",
       "      <th>71cb4d6862dbed69ba133385362d220e</th>\n",
       "      <td>2016-08-31</td>\n",
       "      <td>35.705416</td>\n",
       "      <td>-79.164659</td>\n",
       "    </tr>\n",
       "    <tr>\n",
       "      <th>e66ea0c31ba500d5d4ac4c610b8cf508</th>\n",
       "      <td>2015-06-27</td>\n",
       "      <td>41.287577</td>\n",
       "      <td>-80.424543</td>\n",
       "    </tr>\n",
       "  </tbody>\n",
       "</table>\n",
       "</div>"
      ],
      "text/plain": [
       "                                        date   latitude   longitude\n",
       "sample_id                                                          \n",
       "d97d52643128ae2141336af9001cdcbe  2021-05-18  35.650000  -78.682816\n",
       "11363094fead01206ba5582e561e999e  2018-10-22  37.564318 -101.335575\n",
       "7284ae28904be4631eabfc4a3acf7872  2021-05-17  36.050000  -76.700000\n",
       "71cb4d6862dbed69ba133385362d220e  2016-08-31  35.705416  -79.164659\n",
       "e66ea0c31ba500d5d4ac4c610b8cf508  2015-06-27  41.287577  -80.424543"
      ]
     },
     "execution_count": 67,
     "metadata": {},
     "output_type": "execute_result"
    }
   ],
   "source": [
    "predict"
   ]
  },
  {
   "cell_type": "code",
   "execution_count": 74,
   "id": "a7d2f39b-5d11-41a9-b229-ba99a12e85ae",
   "metadata": {},
   "outputs": [],
   "source": [
    "pipe = CyanoModelPipeline(\n",
    "    features_config=FeaturesConfig(\n",
    "        use_sentinel_bands=[\"B02\"],\n",
    "        image_feature_meter_window=500,\n",
    "        satellite_image_features=[\"B02_mean\", \"B02_min\", \"B02_max\"],\n",
    "        climate_features=[\"TMP_min\", \"SPFH_mean\"],\n",
    "        climate_variables=[\"TMP\", \"SPFH\"],\n",
    "        climate_level=\"2 m above ground\",\n",
    "    ),\n",
    "    model_training_config=ModelTrainingConfig(),\n",
    "    cache_dir=REPO_ROOT.parent / \"tests/assets/feature_cache\",\n",
    ")"
   ]
  },
  {
   "cell_type": "code",
   "execution_count": 76,
   "id": "d22da77f-bc1f-4a5a-aa31-3f10002683fe",
   "metadata": {},
   "outputs": [
    {
     "name": "stderr",
     "output_type": "stream",
     "text": [
      "\u001b[32m2023-08-24 14:35:32.198\u001b[0m | \u001b[1mINFO    \u001b[0m | \u001b[36mcyano.pipeline\u001b[0m:\u001b[36m_prep_train_data\u001b[0m:\u001b[36m66\u001b[0m - \u001b[1mLoaded 5 samples for training\u001b[0m\n"
     ]
    }
   ],
   "source": [
    "train_path = REPO_ROOT.parent / \"tests/assets/train_data.csv\"\n",
    "pipe._prep_train_data(train_path, False)"
   ]
  },
  {
   "cell_type": "code",
   "execution_count": 79,
   "id": "b2806f0a-27ae-491b-90b8-123cf038199a",
   "metadata": {},
   "outputs": [
    {
     "name": "stderr",
     "output_type": "stream",
     "text": [
      "\u001b[32m2023-08-24 14:36:14.401\u001b[0m | \u001b[1mINFO    \u001b[0m | \u001b[36mcyano.data.climate_data\u001b[0m:\u001b[36mdownload_climate_data\u001b[0m:\u001b[36m299\u001b[0m - \u001b[1mGetting climate data for 3 samples for sources ['TMP', 'SPFH']\u001b[0m\n",
      "Could not find 1/14 GRIB files.\n",
      "\u001b[32m2023-08-24 14:36:36.647\u001b[0m | \u001b[1mINFO    \u001b[0m | \u001b[36mcyano.data.climate_data\u001b[0m:\u001b[36mquery_grid_mapping\u001b[0m:\u001b[36m127\u001b[0m - \u001b[1mIterating over 3 locations to get HRRR grid indices with 4 workers\u001b[0m\n"
     ]
    },
    {
     "data": {
      "application/vnd.jupyter.widget-view+json": {
       "model_id": "30c5c8a7fca5462890a96187245eca2d",
       "version_major": 2,
       "version_minor": 0
      },
      "text/plain": [
       "  0%|          | 0/3 [00:00<?, ?it/s]"
      ]
     },
     "metadata": {},
     "output_type": "display_data"
    },
    {
     "name": "stderr",
     "output_type": "stream",
     "text": [
      "\u001b[32m2023-08-24 14:37:13.242\u001b[0m | \u001b[1mINFO    \u001b[0m | \u001b[36mcyano.data.climate_data\u001b[0m:\u001b[36mload_hrrr_grid\u001b[0m:\u001b[36m201\u001b[0m - \u001b[1mSaving updated grid mapping with 3 samples to /Users/katewetstone/Repos/cyanobacteria-prediction/tests/assets/feature_cache/hrrr_sample_grid_mapping.csv\u001b[0m\n",
      "\u001b[32m2023-08-24 14:37:13.260\u001b[0m | \u001b[1mINFO    \u001b[0m | \u001b[36mcyano.data.climate_data\u001b[0m:\u001b[36mdownload_climate_data\u001b[0m:\u001b[36m317\u001b[0m - \u001b[1mDownloading TMP at 2 m above ground for 3 date(s)\u001b[0m\n"
     ]
    },
    {
     "data": {
      "application/vnd.jupyter.widget-view+json": {
       "model_id": "04b2e9fa361544bc8e166bd004d8cfb0",
       "version_major": 2,
       "version_minor": 0
      },
      "text/plain": [
       "  0%|          | 0/3 [00:00<?, ?it/s]"
      ]
     },
     "metadata": {},
     "output_type": "display_data"
    },
    {
     "name": "stderr",
     "output_type": "stream",
     "text": [
      "Exception has occured : HTTPSConnectionPool(host='noaa-hrrr-bdp-pds.s3.amazonaws.com', port=443): Max retries exceeded with url: /hrrr.20190828/conus/hrrr.t04z.wrfsfcf00.grib2 (Caused by NewConnectionError('<urllib3.connection.HTTPSConnection object at 0x160402bf0>: Failed to establish a new connection: [Errno 8] nodename nor servname provided, or not known'))\n",
      "\u001b[32m2023-08-24 14:37:53.413\u001b[0m | \u001b[1mINFO    \u001b[0m | \u001b[36mcyano.data.climate_data\u001b[0m:\u001b[36mdownload_climate_data\u001b[0m:\u001b[36m317\u001b[0m - \u001b[1mDownloading SPFH at 2 m above ground for 3 date(s)\u001b[0m\n"
     ]
    },
    {
     "data": {
      "application/vnd.jupyter.widget-view+json": {
       "model_id": "0cd46f386a8e449db9ed46e001c72f65",
       "version_major": 2,
       "version_minor": 0
      },
      "text/plain": [
       "  0%|          | 0/3 [00:00<?, ?it/s]"
      ]
     },
     "metadata": {},
     "output_type": "display_data"
    },
    {
     "name": "stderr",
     "output_type": "stream",
     "text": [
      "Exception has occured : HTTPSConnectionPool(host='noaa-hrrr-bdp-pds.s3.amazonaws.com', port=443): Max retries exceeded with url: /hrrr.20190828/conus/hrrr.t04z.wrfsfcf00.grib2 (Caused by NewConnectionError('<urllib3.connection.HTTPSConnection object at 0x162a73a00>: Failed to establish a new connection: [Errno 8] nodename nor servname provided, or not known'))\n"
     ]
    }
   ],
   "source": [
    "download_climate_data(pipe.train_samples, pipe.features_config, pipe.cache_dir)"
   ]
  },
  {
   "cell_type": "code",
   "execution_count": 82,
   "id": "9e93e6cc-bd1e-494b-b6d3-968643845562",
   "metadata": {},
   "outputs": [
    {
     "data": {
      "text/html": [
       "<div>\n",
       "<style scoped>\n",
       "    .dataframe tbody tr th:only-of-type {\n",
       "        vertical-align: middle;\n",
       "    }\n",
       "\n",
       "    .dataframe tbody tr th {\n",
       "        vertical-align: top;\n",
       "    }\n",
       "\n",
       "    .dataframe thead th {\n",
       "        text-align: right;\n",
       "    }\n",
       "</style>\n",
       "<table border=\"1\" class=\"dataframe\">\n",
       "  <thead>\n",
       "    <tr style=\"text-align: right;\">\n",
       "      <th></th>\n",
       "      <th>date</th>\n",
       "      <th>latitude</th>\n",
       "      <th>longitude</th>\n",
       "    </tr>\n",
       "    <tr>\n",
       "      <th>sample_id</th>\n",
       "      <th></th>\n",
       "      <th></th>\n",
       "      <th></th>\n",
       "    </tr>\n",
       "  </thead>\n",
       "  <tbody>\n",
       "    <tr>\n",
       "      <th>e3ebefd90a00c3cc9f5aeaf32cd4c184</th>\n",
       "      <td>2015-06-29</td>\n",
       "      <td>41.424144</td>\n",
       "      <td>-73.206937</td>\n",
       "    </tr>\n",
       "    <tr>\n",
       "      <th>671520fa92f555ab335e0cfa888c57e7</th>\n",
       "      <td>2013-07-25</td>\n",
       "      <td>36.045000</td>\n",
       "      <td>-79.091942</td>\n",
       "    </tr>\n",
       "    <tr>\n",
       "      <th>9c601f226c2af07d570134127a7fda27</th>\n",
       "      <td>2017-08-21</td>\n",
       "      <td>35.884524</td>\n",
       "      <td>-78.953997</td>\n",
       "    </tr>\n",
       "    <tr>\n",
       "      <th>3a2c48812b551d720f8d56772efa6df1</th>\n",
       "      <td>2019-08-28</td>\n",
       "      <td>41.392490</td>\n",
       "      <td>-75.360700</td>\n",
       "    </tr>\n",
       "    <tr>\n",
       "      <th>2543db364f727f17fe4ce7881aa180da</th>\n",
       "      <td>2013-07-11</td>\n",
       "      <td>38.305600</td>\n",
       "      <td>-122.026000</td>\n",
       "    </tr>\n",
       "  </tbody>\n",
       "</table>\n",
       "</div>"
      ],
      "text/plain": [
       "                                       date   latitude   longitude\n",
       "sample_id                                                         \n",
       "e3ebefd90a00c3cc9f5aeaf32cd4c184 2015-06-29  41.424144  -73.206937\n",
       "671520fa92f555ab335e0cfa888c57e7 2013-07-25  36.045000  -79.091942\n",
       "9c601f226c2af07d570134127a7fda27 2017-08-21  35.884524  -78.953997\n",
       "3a2c48812b551d720f8d56772efa6df1 2019-08-28  41.392490  -75.360700\n",
       "2543db364f727f17fe4ce7881aa180da 2013-07-11  38.305600 -122.026000"
      ]
     },
     "execution_count": 82,
     "metadata": {},
     "output_type": "execute_result"
    }
   ],
   "source": [
    "pipe.train_samples"
   ]
  },
  {
   "cell_type": "code",
   "execution_count": 83,
   "id": "9a5f22d8-cbde-4271-9caf-4fd2d4314fc6",
   "metadata": {},
   "outputs": [],
   "source": [
    "sat_meta = pd.read_csv(REPO_ROOT.parent / \"tests/assets/satellite_metadata.csv\")"
   ]
  },
  {
   "cell_type": "code",
   "execution_count": 86,
   "id": "66854e8c-f524-48f7-8a7a-6249edf2f967",
   "metadata": {},
   "outputs": [
    {
     "name": "stderr",
     "output_type": "stream",
     "text": [
      "\u001b[32m2023-08-24 14:40:18.231\u001b[0m | \u001b[1mINFO    \u001b[0m | \u001b[36mcyano.data.features\u001b[0m:\u001b[36mgenerate_satellite_features\u001b[0m:\u001b[36m180\u001b[0m - \u001b[1mGenerating satellite features for 2 sample/item combos, 2 samples with 4 processes\u001b[0m\n"
     ]
    },
    {
     "data": {
      "application/vnd.jupyter.widget-view+json": {
       "model_id": "2cbec7580fb8415d95a231bda3a92083",
       "version_major": 2,
       "version_minor": 0
      },
      "text/plain": [
       "  0%|          | 0/2 [00:00<?, ?it/s]"
      ]
     },
     "metadata": {},
     "output_type": "display_data"
    },
    {
     "name": "stderr",
     "output_type": "stream",
     "text": [
      "\u001b[32m2023-08-24 14:40:22.513\u001b[0m | \u001b[1mINFO    \u001b[0m | \u001b[36mcyano.data.features\u001b[0m:\u001b[36mgenerate_features\u001b[0m:\u001b[36m337\u001b[0m - \u001b[1mGenerated 3 satellite features for 1 samples (20%)\u001b[0m\n",
      "\u001b[32m2023-08-24 14:40:22.514\u001b[0m | \u001b[1mINFO    \u001b[0m | \u001b[36mcyano.data.features\u001b[0m:\u001b[36mgenerate_climate_features\u001b[0m:\u001b[36m230\u001b[0m - \u001b[1mGenerating climate features for 5 samples.\u001b[0m\n",
      "100%|██████████████████████████████████████████████████████████████████████████████████████████████| 5/5 [00:00<00:00, 222.45it/s]\n",
      "\u001b[32m2023-08-24 14:40:22.545\u001b[0m | \u001b[1mINFO    \u001b[0m | \u001b[36mcyano.data.features\u001b[0m:\u001b[36mgenerate_features\u001b[0m:\u001b[36m346\u001b[0m - \u001b[1mGenerated climate features for 3 samples (60%)\u001b[0m\n",
      "\u001b[32m2023-08-24 14:40:22.550\u001b[0m | \u001b[1mINFO    \u001b[0m | \u001b[36mcyano.data.features\u001b[0m:\u001b[36mgenerate_features\u001b[0m:\u001b[36m364\u001b[0m - \u001b[1mGenerated metadata features for 5 samples (100%)\u001b[0m\n",
      "\u001b[32m2023-08-24 14:40:22.553\u001b[0m | \u001b[32m\u001b[1mSUCCESS \u001b[0m | \u001b[36mcyano.data.features\u001b[0m:\u001b[36mgenerate_features\u001b[0m:\u001b[36m373\u001b[0m - \u001b[32m\u001b[1mGenerated 6 features for 3 samples (60%). 3 rows total\u001b[0m\n"
     ]
    },
    {
     "data": {
      "text/html": [
       "<div>\n",
       "<style scoped>\n",
       "    .dataframe tbody tr th:only-of-type {\n",
       "        vertical-align: middle;\n",
       "    }\n",
       "\n",
       "    .dataframe tbody tr th {\n",
       "        vertical-align: top;\n",
       "    }\n",
       "\n",
       "    .dataframe thead th {\n",
       "        text-align: right;\n",
       "    }\n",
       "</style>\n",
       "<table border=\"1\" class=\"dataframe\">\n",
       "  <thead>\n",
       "    <tr style=\"text-align: right;\">\n",
       "      <th></th>\n",
       "      <th>B02_mean</th>\n",
       "      <th>B02_min</th>\n",
       "      <th>B02_max</th>\n",
       "      <th>TMP_min</th>\n",
       "      <th>SPFH_mean</th>\n",
       "      <th>rounded_longitude</th>\n",
       "    </tr>\n",
       "  </thead>\n",
       "  <tbody>\n",
       "    <tr>\n",
       "      <th>3a2c48812b551d720f8d56772efa6df1</th>\n",
       "      <td>402.258299</td>\n",
       "      <td>309.0</td>\n",
       "      <td>1296.0</td>\n",
       "      <td>288.10547</td>\n",
       "      <td>0.010970</td>\n",
       "      <td>-8.0</td>\n",
       "    </tr>\n",
       "    <tr>\n",
       "      <th>9c601f226c2af07d570134127a7fda27</th>\n",
       "      <td>NaN</td>\n",
       "      <td>NaN</td>\n",
       "      <td>NaN</td>\n",
       "      <td>292.83050</td>\n",
       "      <td>0.014407</td>\n",
       "      <td>-8.0</td>\n",
       "    </tr>\n",
       "    <tr>\n",
       "      <th>e3ebefd90a00c3cc9f5aeaf32cd4c184</th>\n",
       "      <td>NaN</td>\n",
       "      <td>NaN</td>\n",
       "      <td>NaN</td>\n",
       "      <td>287.41495</td>\n",
       "      <td>0.009920</td>\n",
       "      <td>-7.0</td>\n",
       "    </tr>\n",
       "  </tbody>\n",
       "</table>\n",
       "</div>"
      ],
      "text/plain": [
       "                                    B02_mean  B02_min  B02_max    TMP_min  \\\n",
       "3a2c48812b551d720f8d56772efa6df1  402.258299    309.0   1296.0  288.10547   \n",
       "9c601f226c2af07d570134127a7fda27         NaN      NaN      NaN  292.83050   \n",
       "e3ebefd90a00c3cc9f5aeaf32cd4c184         NaN      NaN      NaN  287.41495   \n",
       "\n",
       "                                  SPFH_mean  rounded_longitude  \n",
       "3a2c48812b551d720f8d56772efa6df1   0.010970               -8.0  \n",
       "9c601f226c2af07d570134127a7fda27   0.014407               -8.0  \n",
       "e3ebefd90a00c3cc9f5aeaf32cd4c184   0.009920               -7.0  "
      ]
     },
     "execution_count": 86,
     "metadata": {},
     "output_type": "execute_result"
    }
   ],
   "source": [
    "fts = generate_features(\n",
    "    pipe.train_samples, sat_meta, pipe.features_config, pipe.cache_dir\n",
    ")\n",
    "fts"
   ]
  },
  {
   "cell_type": "code",
   "execution_count": 90,
   "id": "cc386cb8-15b7-4677-b425-39f94f8707cc",
   "metadata": {},
   "outputs": [
    {
     "data": {
      "text/plain": [
       "TMP_min      True\n",
       "SPFH_mean    True\n",
       "dtype: bool"
      ]
     },
     "execution_count": 90,
     "metadata": {},
     "output_type": "execute_result"
    }
   ],
   "source": [
    "fts[[\"TMP_min\", \"SPFH_mean\"]].notna().all()"
   ]
  },
  {
   "cell_type": "code",
   "execution_count": 97,
   "id": "18060a68-060d-4b03-8370-15090a6cc3b8",
   "metadata": {},
   "outputs": [
    {
     "data": {
      "text/plain": [
       "True"
      ]
     },
     "execution_count": 97,
     "metadata": {},
     "output_type": "execute_result"
    }
   ],
   "source": [
    "np.isclose(fts.loc[\"9c601f226c2af07d570134127a7fda27\", \"SPFH_mean\"], 0.01440739)"
   ]
  },
  {
   "cell_type": "code",
   "execution_count": 96,
   "id": "efb4855d-436f-41a7-a72a-179dee6afe41",
   "metadata": {},
   "outputs": [
    {
     "data": {
      "text/plain": [
       "0.014407391304347823"
      ]
     },
     "execution_count": 96,
     "metadata": {},
     "output_type": "execute_result"
    }
   ],
   "source": [
    "fts.loc[\"9c601f226c2af07d570134127a7fda27\", \"SPFH_mean\"]"
   ]
  },
  {
   "cell_type": "code",
   "execution_count": null,
   "id": "4ef621b0-a04c-484a-98be-a2f8c9c842c4",
   "metadata": {},
   "outputs": [],
   "source": []
  }
 ],
 "metadata": {
  "kernelspec": {
   "display_name": "Python 3 (ipykernel)",
   "language": "python",
   "name": "python3"
  },
  "language_info": {
   "codemirror_mode": {
    "name": "ipython",
    "version": 3
   },
   "file_extension": ".py",
   "mimetype": "text/x-python",
   "name": "python",
   "nbconvert_exporter": "python",
   "pygments_lexer": "ipython3",
   "version": "3.10.12"
  }
 },
 "nbformat": 4,
 "nbformat_minor": 5
}
