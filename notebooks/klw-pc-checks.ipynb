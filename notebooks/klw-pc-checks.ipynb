{
 "cells": [
  {
   "cell_type": "markdown",
   "id": "f2f3c661-bc3c-417f-8072-ee53129d96ab",
   "metadata": {},
   "source": [
    "Issue [19](https://github.com/drivendataorg/cyanobacteria-prediction/issues/19)\n",
    "\n",
    "Check that our planetary computer results are correct"
   ]
  },
  {
   "cell_type": "code",
   "execution_count": 1,
   "id": "d222ce72-14fa-4391-bfa2-dda607aa4342",
   "metadata": {},
   "outputs": [],
   "source": [
    "import json\n",
    "\n",
    "from cloudpathlib import AnyPath\n",
    "import pandas as pd\n",
    "from tqdm import tqdm\n",
    "\n",
    "from cyano.config import FeaturesConfig\n",
    "from cyano.data.utils import add_unique_identifier\n",
    "from cyano.data.satellite_data import (\n",
    "    select_items,\n",
    "    search_planetary_computer,\n",
    "    get_items_metadata\n",
    ")"
   ]
  },
  {
   "cell_type": "markdown",
   "id": "239e9d39-5c21-47a0-8d1c-1b1069db21c3",
   "metadata": {},
   "source": [
    "### Load data"
   ]
  },
  {
   "cell_type": "code",
   "execution_count": 2,
   "id": "87b5a37d-9e6c-42cb-a9cd-8d575c73bd95",
   "metadata": {},
   "outputs": [
    {
     "data": {
      "text/plain": [
       "(6510, 10)"
      ]
     },
     "execution_count": 2,
     "metadata": {},
     "output_type": "execute_result"
    }
   ],
   "source": [
    "test = pd.read_csv(\n",
    "    AnyPath(\n",
    "        \"s3://drivendata-competition-nasa-cyanobacteria/experiments/splits/competition/test.csv\"\n",
    "    )\n",
    ")\n",
    "test = add_unique_identifier(test)\n",
    "test.shape"
   ]
  },
  {
   "cell_type": "code",
   "execution_count": 3,
   "id": "3004e64f-5c00-45de-80aa-def466c2eaa8",
   "metadata": {},
   "outputs": [
    {
     "data": {
      "text/html": [
       "<div>\n",
       "<style scoped>\n",
       "    .dataframe tbody tr th:only-of-type {\n",
       "        vertical-align: middle;\n",
       "    }\n",
       "\n",
       "    .dataframe tbody tr th {\n",
       "        vertical-align: top;\n",
       "    }\n",
       "\n",
       "    .dataframe thead th {\n",
       "        text-align: right;\n",
       "    }\n",
       "</style>\n",
       "<table border=\"1\" class=\"dataframe\">\n",
       "  <thead>\n",
       "    <tr style=\"text-align: right;\">\n",
       "      <th></th>\n",
       "      <th>uid</th>\n",
       "      <th>data_provider</th>\n",
       "      <th>region</th>\n",
       "      <th>latitude</th>\n",
       "      <th>longitude</th>\n",
       "      <th>date</th>\n",
       "      <th>density_cells_per_ml</th>\n",
       "      <th>severity</th>\n",
       "      <th>distance_to_water_m</th>\n",
       "      <th>log_density</th>\n",
       "    </tr>\n",
       "    <tr>\n",
       "      <th>sample_id</th>\n",
       "      <th></th>\n",
       "      <th></th>\n",
       "      <th></th>\n",
       "      <th></th>\n",
       "      <th></th>\n",
       "      <th></th>\n",
       "      <th></th>\n",
       "      <th></th>\n",
       "      <th></th>\n",
       "      <th></th>\n",
       "    </tr>\n",
       "  </thead>\n",
       "  <tbody>\n",
       "    <tr>\n",
       "      <th>4a89ead93e2caa84da636236bb361e12</th>\n",
       "      <td>aabn</td>\n",
       "      <td>California Environmental Data Exchange Network</td>\n",
       "      <td>west</td>\n",
       "      <td>36.5597</td>\n",
       "      <td>-121.510</td>\n",
       "      <td>2016-08-31</td>\n",
       "      <td>5867500.0</td>\n",
       "      <td>4</td>\n",
       "      <td>3512.0</td>\n",
       "      <td>15.584939</td>\n",
       "    </tr>\n",
       "    <tr>\n",
       "      <th>a7e2d76f204ac347ae5529557eb7f665</th>\n",
       "      <td>aair</td>\n",
       "      <td>California Environmental Data Exchange Network</td>\n",
       "      <td>west</td>\n",
       "      <td>33.0426</td>\n",
       "      <td>-117.076</td>\n",
       "      <td>2014-11-01</td>\n",
       "      <td>2769000.0</td>\n",
       "      <td>4</td>\n",
       "      <td>195.0</td>\n",
       "      <td>14.833997</td>\n",
       "    </tr>\n",
       "  </tbody>\n",
       "</table>\n",
       "</div>"
      ],
      "text/plain": [
       "                                   uid  \\\n",
       "sample_id                                \n",
       "4a89ead93e2caa84da636236bb361e12  aabn   \n",
       "a7e2d76f204ac347ae5529557eb7f665  aair   \n",
       "\n",
       "                                                                   data_provider  \\\n",
       "sample_id                                                                          \n",
       "4a89ead93e2caa84da636236bb361e12  California Environmental Data Exchange Network   \n",
       "a7e2d76f204ac347ae5529557eb7f665  California Environmental Data Exchange Network   \n",
       "\n",
       "                                 region  latitude  longitude        date  \\\n",
       "sample_id                                                                  \n",
       "4a89ead93e2caa84da636236bb361e12   west   36.5597   -121.510  2016-08-31   \n",
       "a7e2d76f204ac347ae5529557eb7f665   west   33.0426   -117.076  2014-11-01   \n",
       "\n",
       "                                  density_cells_per_ml  severity  \\\n",
       "sample_id                                                          \n",
       "4a89ead93e2caa84da636236bb361e12             5867500.0         4   \n",
       "a7e2d76f204ac347ae5529557eb7f665             2769000.0         4   \n",
       "\n",
       "                                  distance_to_water_m  log_density  \n",
       "sample_id                                                           \n",
       "4a89ead93e2caa84da636236bb361e12               3512.0    15.584939  \n",
       "a7e2d76f204ac347ae5529557eb7f665                195.0    14.833997  "
      ]
     },
     "execution_count": 3,
     "metadata": {},
     "output_type": "execute_result"
    }
   ],
   "source": [
    "test.head(2)"
   ]
  },
  {
   "cell_type": "code",
   "execution_count": 4,
   "id": "88a80e9e-87c4-482e-b945-cbebd543bc34",
   "metadata": {},
   "outputs": [
    {
     "data": {
      "text/plain": [
       "region\n",
       "west         36\n",
       "midwest      26\n",
       "south        24\n",
       "northeast    14\n",
       "Name: count, dtype: int64"
      ]
     },
     "execution_count": 4,
     "metadata": {},
     "output_type": "execute_result"
    }
   ],
   "source": [
    "# Take a subset to run PC search on\n",
    "samples = test.sample(n=100, random_state=3) #(n=100, random_state=3)\n",
    "samples.region.value_counts()"
   ]
  },
  {
   "cell_type": "markdown",
   "id": "332c489d-7816-40e1-a005-d9ed62f0ba21",
   "metadata": {},
   "source": [
    "### Define functions"
   ]
  },
  {
   "cell_type": "code",
   "execution_count": 5,
   "id": "178827fa-0497-4258-9f4c-ba206c2160a8",
   "metadata": {},
   "outputs": [
    {
     "data": {
      "text/plain": [
       "(10000, 15)"
      ]
     },
     "execution_count": 5,
     "metadata": {},
     "output_type": "execute_result"
    }
   ],
   "source": [
    "# use the same geographic window as our original full PC search\n",
    "config = FeaturesConfig(pc_meters_search_window=10000)\n",
    "config.pc_meters_search_window, config.pc_days_search_window"
   ]
  },
  {
   "cell_type": "markdown",
   "id": "d4c9f218-82b3-4c27-84a2-541865294f57",
   "metadata": {},
   "source": [
    "Note that our original PC search includes a time buffer both before *and* after the sample, while our current package code only adds a time buffer *before* the sample. \n",
    "\n",
    "Rather than comparing the raw results of the PC search, we'll also complete the next step of identifying relevant satellite data (`identify_satellite_data`) to apply the same date range to both, and *then* we'll compare results."
   ]
  },
  {
   "cell_type": "code",
   "execution_count": 6,
   "id": "87127370-9dec-496a-8f0c-5184cfdcfe92",
   "metadata": {},
   "outputs": [],
   "source": [
    "def identify_satellite_data_mod(samples: pd.DataFrame,\n",
    "                           config: FeaturesConfig,\n",
    "                            candidate_sentinel_meta: pd.DataFrame,\n",
    "                            sample_item_map: dict\n",
    "                           ) -> pd.DataFrame:\n",
    "    \"\"\"Modified version of \n",
    "    cyano.data.utils.satellite_data.identify_satellite_data\n",
    "    that allows us to change the item map and candidate metadata\n",
    "    \"\"\"\n",
    "    selected_meta = []\n",
    "    for sample in tqdm(samples.itertuples(), total=len(samples)):\n",
    "        sample_item_ids = sample_item_map[sample.Index]['sentinel_item_ids']\n",
    "        if len(sample_item_ids) == 0:\n",
    "            continue\n",
    "\n",
    "        sample_items_meta = candidate_sentinel_meta[\n",
    "            candidate_sentinel_meta.item_id.isin(sample_item_ids)\n",
    "        ].copy()\n",
    "        selected_ids = select_items(sample_items_meta, sample.date, config)\n",
    "\n",
    "        sample_items_meta = sample_items_meta[\n",
    "            sample_items_meta.item_id.isin(selected_ids)\n",
    "        ]\n",
    "        sample_items_meta['sample_id'] = sample.Index\n",
    "\n",
    "        selected_meta.append(sample_items_meta)\n",
    "\n",
    "    selected_meta = pd.concat(selected_meta).reset_index(drop=True)\n",
    "    \n",
    "    return selected_meta"
   ]
  },
  {
   "cell_type": "markdown",
   "id": "7254f508-a683-49d2-b4e4-0f3edbe323c1",
   "metadata": {},
   "source": [
    "## Search planetary computer to regenerate results"
   ]
  },
  {
   "cell_type": "code",
   "execution_count": 7,
   "id": "54f1a485-0a3f-4e0e-acf4-13ef6af17a8d",
   "metadata": {
    "tags": []
   },
   "outputs": [
    {
     "name": "stderr",
     "output_type": "stream",
     "text": [
      "100%|█████████████████████████████████████████████████████████████████████████████| 100/100 [00:19<00:00,  5.08it/s]"
     ]
    },
    {
     "name": "stdout",
     "output_type": "stream",
     "text": [
      "Generated metadata for 325 Sentinel item candidates\n"
     ]
    },
    {
     "name": "stderr",
     "output_type": "stream",
     "text": [
      "\n"
     ]
    }
   ],
   "source": [
    "regenerated_candidate_meta = []\n",
    "regenerated_map = {}\n",
    "\n",
    "for sample in tqdm(samples.itertuples(), total=len(samples)):\n",
    "    # Search planetary computer\n",
    "    search_results = search_planetary_computer(\n",
    "        sample.date,\n",
    "        sample.latitude,\n",
    "        sample.longitude,\n",
    "        collections=[\"sentinel-2-l2a\"],\n",
    "        days_search_window=config.pc_days_search_window,\n",
    "        meters_search_window=config.pc_meters_search_window,\n",
    "    )\n",
    "    \n",
    "    # Get satellite metadata\n",
    "    sample_items_meta = get_items_metadata(\n",
    "        search_results, sample.latitude, sample.longitude, config\n",
    "    )\n",
    "    \n",
    "    regenerated_map[sample.Index]  = {\n",
    "        \"sentinel_item_ids\": sample_items_meta.item_id.tolist()\n",
    "        if len(sample_items_meta) > 0\n",
    "        else []\n",
    "    }\n",
    "    regenerated_candidate_meta.append(sample_items_meta)\n",
    "    \n",
    "regenerated_candidate_meta = (\n",
    "    pd.concat(regenerated_candidate_meta).groupby(\"item_id\", as_index=False)\n",
    "    .first().reset_index(drop=True)\n",
    ")\n",
    "print(f\"Generated metadata for {regenerated_candidate_meta.shape[0]:,} Sentinel item candidates\")"
   ]
  },
  {
   "cell_type": "code",
   "execution_count": 8,
   "id": "5de86d14-1967-484d-b146-1d8ea74f295c",
   "metadata": {},
   "outputs": [
    {
     "name": "stderr",
     "output_type": "stream",
     "text": [
      "100%|████████████████████████████████████████████████████████████████████████████| 100/100 [00:00<00:00, 266.43it/s]\n"
     ]
    },
    {
     "data": {
      "text/plain": [
       "(332, 27)"
      ]
     },
     "execution_count": 8,
     "metadata": {},
     "output_type": "execute_result"
    }
   ],
   "source": [
    "regenerated_meta = identify_satellite_data_mod(\n",
    "    samples = samples,\n",
    "    config = config,\n",
    "    candidate_sentinel_meta = regenerated_candidate_meta,\n",
    "    sample_item_map = regenerated_map\n",
    ")\n",
    "regenerated_meta.shape"
   ]
  },
  {
   "cell_type": "code",
   "execution_count": 9,
   "id": "69a53c09-2f12-4ba8-95c3-58669204f794",
   "metadata": {},
   "outputs": [
    {
     "data": {
      "text/html": [
       "<div>\n",
       "<style scoped>\n",
       "    .dataframe tbody tr th:only-of-type {\n",
       "        vertical-align: middle;\n",
       "    }\n",
       "\n",
       "    .dataframe tbody tr th {\n",
       "        vertical-align: top;\n",
       "    }\n",
       "\n",
       "    .dataframe thead th {\n",
       "        text-align: right;\n",
       "    }\n",
       "</style>\n",
       "<table border=\"1\" class=\"dataframe\">\n",
       "  <thead>\n",
       "    <tr style=\"text-align: right;\">\n",
       "      <th></th>\n",
       "      <th>item_id</th>\n",
       "      <th>datetime</th>\n",
       "      <th>platform</th>\n",
       "      <th>min_long</th>\n",
       "      <th>max_long</th>\n",
       "      <th>min_lat</th>\n",
       "      <th>max_lat</th>\n",
       "      <th>eo:cloud_cover</th>\n",
       "      <th>s2:nodata_pixel_percentage</th>\n",
       "      <th>visual_href</th>\n",
       "      <th>...</th>\n",
       "      <th>B07_href</th>\n",
       "      <th>B08_href</th>\n",
       "      <th>B09_href</th>\n",
       "      <th>B11_href</th>\n",
       "      <th>B12_href</th>\n",
       "      <th>B8A_href</th>\n",
       "      <th>SCL_href</th>\n",
       "      <th>WVP_href</th>\n",
       "      <th>days_before_sample</th>\n",
       "      <th>sample_id</th>\n",
       "    </tr>\n",
       "  </thead>\n",
       "  <tbody>\n",
       "    <tr>\n",
       "      <th>0</th>\n",
       "      <td>S2A_MSIL2A_20181028T155341_R054_T18TUM_2020100...</td>\n",
       "      <td>2018-10-28</td>\n",
       "      <td>Sentinel-2A</td>\n",
       "      <td>-77.130866</td>\n",
       "      <td>-76.080027</td>\n",
       "      <td>41.442810</td>\n",
       "      <td>42.447443</td>\n",
       "      <td>99.673942</td>\n",
       "      <td>33.018643</td>\n",
       "      <td>https://sentinel2l2a01.blob.core.windows.net/s...</td>\n",
       "      <td>...</td>\n",
       "      <td>https://sentinel2l2a01.blob.core.windows.net/s...</td>\n",
       "      <td>https://sentinel2l2a01.blob.core.windows.net/s...</td>\n",
       "      <td>https://sentinel2l2a01.blob.core.windows.net/s...</td>\n",
       "      <td>https://sentinel2l2a01.blob.core.windows.net/s...</td>\n",
       "      <td>https://sentinel2l2a01.blob.core.windows.net/s...</td>\n",
       "      <td>https://sentinel2l2a01.blob.core.windows.net/s...</td>\n",
       "      <td>https://sentinel2l2a01.blob.core.windows.net/s...</td>\n",
       "      <td>https://sentinel2l2a01.blob.core.windows.net/s...</td>\n",
       "      <td>11</td>\n",
       "      <td>6b94006dfe552540366c57ecfd24663c</td>\n",
       "    </tr>\n",
       "    <tr>\n",
       "      <th>1</th>\n",
       "      <td>S2A_MSIL2A_20181031T160411_R097_T18TUM_2020100...</td>\n",
       "      <td>2018-10-31</td>\n",
       "      <td>Sentinel-2A</td>\n",
       "      <td>-77.431180</td>\n",
       "      <td>-76.080020</td>\n",
       "      <td>41.438836</td>\n",
       "      <td>42.447443</td>\n",
       "      <td>40.748203</td>\n",
       "      <td>0.000000</td>\n",
       "      <td>https://sentinel2l2a01.blob.core.windows.net/s...</td>\n",
       "      <td>...</td>\n",
       "      <td>https://sentinel2l2a01.blob.core.windows.net/s...</td>\n",
       "      <td>https://sentinel2l2a01.blob.core.windows.net/s...</td>\n",
       "      <td>https://sentinel2l2a01.blob.core.windows.net/s...</td>\n",
       "      <td>https://sentinel2l2a01.blob.core.windows.net/s...</td>\n",
       "      <td>https://sentinel2l2a01.blob.core.windows.net/s...</td>\n",
       "      <td>https://sentinel2l2a01.blob.core.windows.net/s...</td>\n",
       "      <td>https://sentinel2l2a01.blob.core.windows.net/s...</td>\n",
       "      <td>https://sentinel2l2a01.blob.core.windows.net/s...</td>\n",
       "      <td>8</td>\n",
       "      <td>6b94006dfe552540366c57ecfd24663c</td>\n",
       "    </tr>\n",
       "  </tbody>\n",
       "</table>\n",
       "<p>2 rows × 27 columns</p>\n",
       "</div>"
      ],
      "text/plain": [
       "                                             item_id    datetime     platform  \\\n",
       "0  S2A_MSIL2A_20181028T155341_R054_T18TUM_2020100...  2018-10-28  Sentinel-2A   \n",
       "1  S2A_MSIL2A_20181031T160411_R097_T18TUM_2020100...  2018-10-31  Sentinel-2A   \n",
       "\n",
       "    min_long   max_long    min_lat    max_lat  eo:cloud_cover  \\\n",
       "0 -77.130866 -76.080027  41.442810  42.447443       99.673942   \n",
       "1 -77.431180 -76.080020  41.438836  42.447443       40.748203   \n",
       "\n",
       "   s2:nodata_pixel_percentage  \\\n",
       "0                   33.018643   \n",
       "1                    0.000000   \n",
       "\n",
       "                                         visual_href  ...  \\\n",
       "0  https://sentinel2l2a01.blob.core.windows.net/s...  ...   \n",
       "1  https://sentinel2l2a01.blob.core.windows.net/s...  ...   \n",
       "\n",
       "                                            B07_href  \\\n",
       "0  https://sentinel2l2a01.blob.core.windows.net/s...   \n",
       "1  https://sentinel2l2a01.blob.core.windows.net/s...   \n",
       "\n",
       "                                            B08_href  \\\n",
       "0  https://sentinel2l2a01.blob.core.windows.net/s...   \n",
       "1  https://sentinel2l2a01.blob.core.windows.net/s...   \n",
       "\n",
       "                                            B09_href  \\\n",
       "0  https://sentinel2l2a01.blob.core.windows.net/s...   \n",
       "1  https://sentinel2l2a01.blob.core.windows.net/s...   \n",
       "\n",
       "                                            B11_href  \\\n",
       "0  https://sentinel2l2a01.blob.core.windows.net/s...   \n",
       "1  https://sentinel2l2a01.blob.core.windows.net/s...   \n",
       "\n",
       "                                            B12_href  \\\n",
       "0  https://sentinel2l2a01.blob.core.windows.net/s...   \n",
       "1  https://sentinel2l2a01.blob.core.windows.net/s...   \n",
       "\n",
       "                                            B8A_href  \\\n",
       "0  https://sentinel2l2a01.blob.core.windows.net/s...   \n",
       "1  https://sentinel2l2a01.blob.core.windows.net/s...   \n",
       "\n",
       "                                            SCL_href  \\\n",
       "0  https://sentinel2l2a01.blob.core.windows.net/s...   \n",
       "1  https://sentinel2l2a01.blob.core.windows.net/s...   \n",
       "\n",
       "                                            WVP_href days_before_sample  \\\n",
       "0  https://sentinel2l2a01.blob.core.windows.net/s...                 11   \n",
       "1  https://sentinel2l2a01.blob.core.windows.net/s...                  8   \n",
       "\n",
       "                          sample_id  \n",
       "0  6b94006dfe552540366c57ecfd24663c  \n",
       "1  6b94006dfe552540366c57ecfd24663c  \n",
       "\n",
       "[2 rows x 27 columns]"
      ]
     },
     "execution_count": 9,
     "metadata": {},
     "output_type": "execute_result"
    }
   ],
   "source": [
    "regenerated_meta.head(2)"
   ]
  },
  {
   "cell_type": "markdown",
   "id": "2ff68a21-cca2-466f-b59e-4b3ff27280d6",
   "metadata": {},
   "source": [
    "## Load results from past PC search"
   ]
  },
  {
   "cell_type": "code",
   "execution_count": 10,
   "id": "9a9a3bab-614c-4c93-95b0-c72620bd2dd0",
   "metadata": {},
   "outputs": [
    {
     "name": "stdout",
     "output_type": "stream",
     "text": [
      "Loaded 56,173 rows of Sentinel candidate metadata\n",
      "Loaded sample item map for 23,570 samples\n"
     ]
    }
   ],
   "source": [
    "pc_results_dir = (\n",
    "    AnyPath(\"s3://drivendata-competition-nasa-cyanobacteria\")\n",
    "    / \"data/interim/full_pc_search\"\n",
    ")\n",
    "loaded_candidate_meta = pd.read_csv(\n",
    "    pc_results_dir / \"sentinel_metadata.csv\"\n",
    ")\n",
    "assert loaded_candidate_meta.item_id.is_unique\n",
    "print(\n",
    "    f\"Loaded {loaded_candidate_meta.shape[0]:,} rows of Sentinel candidate metadata\"\n",
    ")\n",
    "\n",
    "with open(pc_results_dir / \"sample_item_map.json\", \"r\") as fp:\n",
    "    loaded_map = json.load(fp)\n",
    "print(f\"Loaded sample item map for {len(loaded_map):,} samples\")"
   ]
  },
  {
   "cell_type": "code",
   "execution_count": 11,
   "id": "5350ed3c-4f8d-4124-a69c-a3dbeb407b29",
   "metadata": {},
   "outputs": [
    {
     "name": "stderr",
     "output_type": "stream",
     "text": [
      "100%|████████████████████████████████████████████████████████████████████████████| 100/100 [00:00<00:00, 149.75it/s]\n"
     ]
    },
    {
     "data": {
      "text/plain": [
       "(332, 36)"
      ]
     },
     "execution_count": 11,
     "metadata": {},
     "output_type": "execute_result"
    }
   ],
   "source": [
    "loaded_meta = identify_satellite_data_mod(\n",
    "    samples = samples,\n",
    "    config=config,\n",
    "    candidate_sentinel_meta = loaded_candidate_meta,\n",
    "    sample_item_map = loaded_map\n",
    ")\n",
    "loaded_meta.shape"
   ]
  },
  {
   "cell_type": "code",
   "execution_count": 12,
   "id": "85d4dcf8-8e17-4724-b411-b8f5bcf8f7fc",
   "metadata": {},
   "outputs": [
    {
     "data": {
      "text/html": [
       "<div>\n",
       "<style scoped>\n",
       "    .dataframe tbody tr th:only-of-type {\n",
       "        vertical-align: middle;\n",
       "    }\n",
       "\n",
       "    .dataframe tbody tr th {\n",
       "        vertical-align: top;\n",
       "    }\n",
       "\n",
       "    .dataframe thead th {\n",
       "        text-align: right;\n",
       "    }\n",
       "</style>\n",
       "<table border=\"1\" class=\"dataframe\">\n",
       "  <thead>\n",
       "    <tr style=\"text-align: right;\">\n",
       "      <th></th>\n",
       "      <th>item_id</th>\n",
       "      <th>datetime</th>\n",
       "      <th>platform</th>\n",
       "      <th>min_long</th>\n",
       "      <th>max_long</th>\n",
       "      <th>min_lat</th>\n",
       "      <th>max_lat</th>\n",
       "      <th>bbox_from_geometry</th>\n",
       "      <th>eo:cloud_cover</th>\n",
       "      <th>s2:water_percentage</th>\n",
       "      <th>...</th>\n",
       "      <th>B07_href</th>\n",
       "      <th>B08_href</th>\n",
       "      <th>B09_href</th>\n",
       "      <th>B11_href</th>\n",
       "      <th>B12_href</th>\n",
       "      <th>B8A_href</th>\n",
       "      <th>SCL_href</th>\n",
       "      <th>WVP_href</th>\n",
       "      <th>days_before_sample</th>\n",
       "      <th>sample_id</th>\n",
       "    </tr>\n",
       "  </thead>\n",
       "  <tbody>\n",
       "    <tr>\n",
       "      <th>0</th>\n",
       "      <td>S2A_MSIL2A_20181028T155341_R054_T18TUM_2020100...</td>\n",
       "      <td>2018-10-28</td>\n",
       "      <td>Sentinel-2A</td>\n",
       "      <td>-77.130866</td>\n",
       "      <td>-76.080027</td>\n",
       "      <td>41.442810</td>\n",
       "      <td>42.447443</td>\n",
       "      <td>False</td>\n",
       "      <td>99.673942</td>\n",
       "      <td>0.006484</td>\n",
       "      <td>...</td>\n",
       "      <td>https://sentinel2l2a01.blob.core.windows.net/s...</td>\n",
       "      <td>https://sentinel2l2a01.blob.core.windows.net/s...</td>\n",
       "      <td>https://sentinel2l2a01.blob.core.windows.net/s...</td>\n",
       "      <td>https://sentinel2l2a01.blob.core.windows.net/s...</td>\n",
       "      <td>https://sentinel2l2a01.blob.core.windows.net/s...</td>\n",
       "      <td>https://sentinel2l2a01.blob.core.windows.net/s...</td>\n",
       "      <td>https://sentinel2l2a01.blob.core.windows.net/s...</td>\n",
       "      <td>https://sentinel2l2a01.blob.core.windows.net/s...</td>\n",
       "      <td>11</td>\n",
       "      <td>6b94006dfe552540366c57ecfd24663c</td>\n",
       "    </tr>\n",
       "    <tr>\n",
       "      <th>1</th>\n",
       "      <td>S2A_MSIL2A_20181031T160411_R097_T18TUM_2020100...</td>\n",
       "      <td>2018-10-31</td>\n",
       "      <td>Sentinel-2A</td>\n",
       "      <td>-77.431180</td>\n",
       "      <td>-76.080020</td>\n",
       "      <td>41.438836</td>\n",
       "      <td>42.447443</td>\n",
       "      <td>False</td>\n",
       "      <td>40.748203</td>\n",
       "      <td>0.247979</td>\n",
       "      <td>...</td>\n",
       "      <td>https://sentinel2l2a01.blob.core.windows.net/s...</td>\n",
       "      <td>https://sentinel2l2a01.blob.core.windows.net/s...</td>\n",
       "      <td>https://sentinel2l2a01.blob.core.windows.net/s...</td>\n",
       "      <td>https://sentinel2l2a01.blob.core.windows.net/s...</td>\n",
       "      <td>https://sentinel2l2a01.blob.core.windows.net/s...</td>\n",
       "      <td>https://sentinel2l2a01.blob.core.windows.net/s...</td>\n",
       "      <td>https://sentinel2l2a01.blob.core.windows.net/s...</td>\n",
       "      <td>https://sentinel2l2a01.blob.core.windows.net/s...</td>\n",
       "      <td>8</td>\n",
       "      <td>6b94006dfe552540366c57ecfd24663c</td>\n",
       "    </tr>\n",
       "  </tbody>\n",
       "</table>\n",
       "<p>2 rows × 36 columns</p>\n",
       "</div>"
      ],
      "text/plain": [
       "                                             item_id    datetime     platform  \\\n",
       "0  S2A_MSIL2A_20181028T155341_R054_T18TUM_2020100...  2018-10-28  Sentinel-2A   \n",
       "1  S2A_MSIL2A_20181031T160411_R097_T18TUM_2020100...  2018-10-31  Sentinel-2A   \n",
       "\n",
       "    min_long   max_long    min_lat    max_lat  bbox_from_geometry  \\\n",
       "0 -77.130866 -76.080027  41.442810  42.447443               False   \n",
       "1 -77.431180 -76.080020  41.438836  42.447443               False   \n",
       "\n",
       "   eo:cloud_cover  s2:water_percentage  ...  \\\n",
       "0       99.673942             0.006484  ...   \n",
       "1       40.748203             0.247979  ...   \n",
       "\n",
       "                                            B07_href  \\\n",
       "0  https://sentinel2l2a01.blob.core.windows.net/s...   \n",
       "1  https://sentinel2l2a01.blob.core.windows.net/s...   \n",
       "\n",
       "                                            B08_href  \\\n",
       "0  https://sentinel2l2a01.blob.core.windows.net/s...   \n",
       "1  https://sentinel2l2a01.blob.core.windows.net/s...   \n",
       "\n",
       "                                            B09_href  \\\n",
       "0  https://sentinel2l2a01.blob.core.windows.net/s...   \n",
       "1  https://sentinel2l2a01.blob.core.windows.net/s...   \n",
       "\n",
       "                                            B11_href  \\\n",
       "0  https://sentinel2l2a01.blob.core.windows.net/s...   \n",
       "1  https://sentinel2l2a01.blob.core.windows.net/s...   \n",
       "\n",
       "                                            B12_href  \\\n",
       "0  https://sentinel2l2a01.blob.core.windows.net/s...   \n",
       "1  https://sentinel2l2a01.blob.core.windows.net/s...   \n",
       "\n",
       "                                            B8A_href  \\\n",
       "0  https://sentinel2l2a01.blob.core.windows.net/s...   \n",
       "1  https://sentinel2l2a01.blob.core.windows.net/s...   \n",
       "\n",
       "                                            SCL_href  \\\n",
       "0  https://sentinel2l2a01.blob.core.windows.net/s...   \n",
       "1  https://sentinel2l2a01.blob.core.windows.net/s...   \n",
       "\n",
       "                                            WVP_href  days_before_sample  \\\n",
       "0  https://sentinel2l2a01.blob.core.windows.net/s...                  11   \n",
       "1  https://sentinel2l2a01.blob.core.windows.net/s...                   8   \n",
       "\n",
       "                          sample_id  \n",
       "0  6b94006dfe552540366c57ecfd24663c  \n",
       "1  6b94006dfe552540366c57ecfd24663c  \n",
       "\n",
       "[2 rows x 36 columns]"
      ]
     },
     "execution_count": 12,
     "metadata": {},
     "output_type": "execute_result"
    }
   ],
   "source": [
    "loaded_meta.head(2)"
   ]
  },
  {
   "cell_type": "markdown",
   "id": "63669219-ea72-4ce2-a166-d00601664451",
   "metadata": {},
   "source": [
    "## Compare regenerated results with loaded results"
   ]
  },
  {
   "cell_type": "code",
   "execution_count": 13,
   "id": "f4ce447b-a86e-490e-a0dd-1fe682145551",
   "metadata": {},
   "outputs": [
    {
     "data": {
      "text/plain": [
       "((332, 36), (332, 27))"
      ]
     },
     "execution_count": 13,
     "metadata": {},
     "output_type": "execute_result"
    }
   ],
   "source": [
    "loaded_meta.shape, regenerated_meta.shape"
   ]
  },
  {
   "cell_type": "code",
   "execution_count": 14,
   "id": "50c59995-5625-4fd8-b91a-7c235789d291",
   "metadata": {},
   "outputs": [],
   "source": [
    "include_cols = ['item_id', 'sample_id', \n",
    "                'datetime', 'platform', 'min_long', 'max_long', 'min_lat',\n",
    "       'max_lat', 'eo:cloud_cover', 's2:nodata_pixel_percentage',\n",
    "       'days_before_sample']"
   ]
  },
  {
   "cell_type": "code",
   "execution_count": 15,
   "id": "5aff6e5a-90bd-4374-a6bc-060c6ab9139f",
   "metadata": {},
   "outputs": [],
   "source": [
    "compare_loaded_meta = (\n",
    "    loaded_meta.sort_values(by=['sample_id', 'item_id'])[include_cols].round(5)\n",
    ")\n",
    "compare_regenerated_meta = (\n",
    "    regenerated_meta.sort_values(by=['sample_id', 'item_id'])[include_cols].round(5)\n",
    ")"
   ]
  },
  {
   "cell_type": "code",
   "execution_count": 16,
   "id": "c5179596-f830-4c14-8300-3b3fabe82b3b",
   "metadata": {},
   "outputs": [
    {
     "data": {
      "text/plain": [
       "item_id                       True\n",
       "sample_id                     True\n",
       "datetime                      True\n",
       "platform                      True\n",
       "min_long                      True\n",
       "max_long                      True\n",
       "min_lat                       True\n",
       "max_lat                       True\n",
       "eo:cloud_cover                True\n",
       "s2:nodata_pixel_percentage    True\n",
       "days_before_sample            True\n",
       "dtype: bool"
      ]
     },
     "execution_count": 16,
     "metadata": {},
     "output_type": "execute_result"
    }
   ],
   "source": [
    "(compare_loaded_meta == compare_regenerated_meta).all()"
   ]
  },
  {
   "cell_type": "code",
   "execution_count": null,
   "id": "1080d77d-1995-4598-ab41-2e33396e9b00",
   "metadata": {},
   "outputs": [],
   "source": []
  },
  {
   "cell_type": "code",
   "execution_count": null,
   "id": "15048391-853d-4403-ae1b-396bd95024e9",
   "metadata": {},
   "outputs": [],
   "source": []
  }
 ],
 "metadata": {
  "kernelspec": {
   "display_name": "Python 3 (ipykernel)",
   "language": "python",
   "name": "python3"
  },
  "language_info": {
   "codemirror_mode": {
    "name": "ipython",
    "version": 3
   },
   "file_extension": ".py",
   "mimetype": "text/x-python",
   "name": "python",
   "nbconvert_exporter": "python",
   "pygments_lexer": "ipython3",
   "version": "3.10.12"
  }
 },
 "nbformat": 4,
 "nbformat_minor": 5
}
