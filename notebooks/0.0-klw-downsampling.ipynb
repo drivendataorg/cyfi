{
 "cells": [
  {
   "cell_type": "markdown",
   "id": "e8b5b1be-8b85-4684-9a7e-7deed376acc5",
   "metadata": {},
   "source": [
    "Experiment with downsampling certain samples we have an even distribution between severity levels 1-4.\n",
    "\n",
    "We'll use the features that a have already been generated for our current best experiment (third sentinel + land cover features, trained with folds). Compare the results to that [best experiment](https://docs.google.com/presentation/d/1zWrSMSivxylx_iH_aOapJfyziRsDuyuXOELduOn6x3c/edit#slide=id.g278eb39bdd6_0_43)"
   ]
  },
  {
   "cell_type": "markdown",
   "id": "08f8d878-3503-4d12-a6bb-5e729d76d223",
   "metadata": {},
   "source": [
    "**Takeaway**\n",
    "\n",
    "- Performance is better in the west, but significantly worse in other regions\n",
    "- Log(density) metrics are worse (R-squared and MAPE)\n",
    "- R-squared is better in the west, but much worse in all other regions\n",
    "- Based on the crosstab, the model does appear better at identifying severities 3 and 4, and distinguishing between severities 2 and 3. Severity level 2 predictions are also generally higher. However, performance is much worse on severity 1.\n",
    "\n",
    "On balance, it does not seem worth it to downsample severities 1 and 4"
   ]
  },
  {
   "cell_type": "code",
   "execution_count": 7,
   "id": "5ed7c0d7-0d40-455f-8167-bbf9ced9f9c4",
   "metadata": {},
   "outputs": [
    {
     "name": "stdout",
     "output_type": "stream",
     "text": [
      "The lab_black extension is already loaded. To reload it, use:\n",
      "  %reload_ext lab_black\n",
      "The autoreload extension is already loaded. To reload it, use:\n",
      "  %reload_ext autoreload\n"
     ]
    }
   ],
   "source": [
    "%load_ext lab_black\n",
    "%load_ext autoreload\n",
    "%autoreload 2"
   ]
  },
  {
   "cell_type": "code",
   "execution_count": 8,
   "id": "decc6908-46f7-4e7a-8123-ab00b205c100",
   "metadata": {},
   "outputs": [],
   "source": [
    "import shutil\n",
    "\n",
    "from cloudpathlib import AnyPath\n",
    "import pandas as pd\n",
    "\n",
    "from cyano.data.utils import add_unique_identifier\n",
    "from cyano.experiment.experiment import ExperimentConfig\n",
    "from cyano.pipeline import CyanoModelPipeline\n",
    "from cyano.settings import RANDOM_STATE"
   ]
  },
  {
   "cell_type": "code",
   "execution_count": 3,
   "id": "f7ad7140-dc2d-4bd2-9745-aedb5a3364ba",
   "metadata": {},
   "outputs": [],
   "source": [
    "tmp_dir = AnyPath(\"tmp_dir\")\n",
    "tmp_dir.mkdir(exist_ok=True)"
   ]
  },
  {
   "cell_type": "code",
   "execution_count": 4,
   "id": "531c5168-ff11-4103-9afb-787c9141ca47",
   "metadata": {},
   "outputs": [],
   "source": [
    "experiment_dir = AnyPath(\n",
    "    \"s3://drivendata-competition-nasa-cyanobacteria/experiments/results/third_sentinel_with_folds\"\n",
    ")"
   ]
  },
  {
   "cell_type": "code",
   "execution_count": 5,
   "id": "e3d42428-02ce-47c2-ad62-69f2e8d8d292",
   "metadata": {},
   "outputs": [
    {
     "data": {
      "text/html": [
       "<div>\n",
       "<style scoped>\n",
       "    .dataframe tbody tr th:only-of-type {\n",
       "        vertical-align: middle;\n",
       "    }\n",
       "\n",
       "    .dataframe tbody tr th {\n",
       "        vertical-align: top;\n",
       "    }\n",
       "\n",
       "    .dataframe thead th {\n",
       "        text-align: right;\n",
       "    }\n",
       "</style>\n",
       "<table border=\"1\" class=\"dataframe\">\n",
       "  <thead>\n",
       "    <tr style=\"text-align: right;\">\n",
       "      <th></th>\n",
       "      <th>AOT_mean</th>\n",
       "      <th>AOT_min</th>\n",
       "      <th>AOT_max</th>\n",
       "      <th>AOT_range</th>\n",
       "      <th>B01_mean</th>\n",
       "      <th>B01_min</th>\n",
       "      <th>B01_max</th>\n",
       "      <th>B01_range</th>\n",
       "      <th>B02_mean</th>\n",
       "      <th>B02_min</th>\n",
       "      <th>...</th>\n",
       "      <th>WVP_min</th>\n",
       "      <th>WVP_max</th>\n",
       "      <th>WVP_range</th>\n",
       "      <th>NDVI_B04</th>\n",
       "      <th>NDVI_B05</th>\n",
       "      <th>NDVI_B06</th>\n",
       "      <th>NDVI_B07</th>\n",
       "      <th>month</th>\n",
       "      <th>days_before_sample</th>\n",
       "      <th>land_cover</th>\n",
       "    </tr>\n",
       "    <tr>\n",
       "      <th>sample_id</th>\n",
       "      <th></th>\n",
       "      <th></th>\n",
       "      <th></th>\n",
       "      <th></th>\n",
       "      <th></th>\n",
       "      <th></th>\n",
       "      <th></th>\n",
       "      <th></th>\n",
       "      <th></th>\n",
       "      <th></th>\n",
       "      <th></th>\n",
       "      <th></th>\n",
       "      <th></th>\n",
       "      <th></th>\n",
       "      <th></th>\n",
       "      <th></th>\n",
       "      <th></th>\n",
       "      <th></th>\n",
       "      <th></th>\n",
       "      <th></th>\n",
       "      <th></th>\n",
       "    </tr>\n",
       "  </thead>\n",
       "  <tbody>\n",
       "    <tr>\n",
       "      <th>0001cfa683171fe80161cdbe6a090c94</th>\n",
       "      <td>102.0</td>\n",
       "      <td>102.0</td>\n",
       "      <td>102.0</td>\n",
       "      <td>0.0</td>\n",
       "      <td>319.843750</td>\n",
       "      <td>144.0</td>\n",
       "      <td>1083.0</td>\n",
       "      <td>939.0</td>\n",
       "      <td>441.956349</td>\n",
       "      <td>146.0</td>\n",
       "      <td>...</td>\n",
       "      <td>277.0</td>\n",
       "      <td>1413.0</td>\n",
       "      <td>1136.0</td>\n",
       "      <td>0.581754</td>\n",
       "      <td>0.418335</td>\n",
       "      <td>0.114064</td>\n",
       "      <td>0.033551</td>\n",
       "      <td>2.0</td>\n",
       "      <td>15.0</td>\n",
       "      <td>11</td>\n",
       "    </tr>\n",
       "    <tr>\n",
       "      <th>0001cfa683171fe80161cdbe6a090c94</th>\n",
       "      <td>132.0</td>\n",
       "      <td>132.0</td>\n",
       "      <td>132.0</td>\n",
       "      <td>0.0</td>\n",
       "      <td>435.984375</td>\n",
       "      <td>229.0</td>\n",
       "      <td>1055.0</td>\n",
       "      <td>826.0</td>\n",
       "      <td>503.288549</td>\n",
       "      <td>154.0</td>\n",
       "      <td>...</td>\n",
       "      <td>167.0</td>\n",
       "      <td>828.0</td>\n",
       "      <td>661.0</td>\n",
       "      <td>0.574375</td>\n",
       "      <td>0.418914</td>\n",
       "      <td>0.120972</td>\n",
       "      <td>0.042572</td>\n",
       "      <td>3.0</td>\n",
       "      <td>8.0</td>\n",
       "      <td>11</td>\n",
       "    </tr>\n",
       "    <tr>\n",
       "      <th>0001cfa683171fe80161cdbe6a090c94</th>\n",
       "      <td>204.0</td>\n",
       "      <td>204.0</td>\n",
       "      <td>204.0</td>\n",
       "      <td>0.0</td>\n",
       "      <td>902.640625</td>\n",
       "      <td>703.0</td>\n",
       "      <td>1661.0</td>\n",
       "      <td>958.0</td>\n",
       "      <td>938.553288</td>\n",
       "      <td>672.0</td>\n",
       "      <td>...</td>\n",
       "      <td>931.0</td>\n",
       "      <td>931.0</td>\n",
       "      <td>0.0</td>\n",
       "      <td>0.455419</td>\n",
       "      <td>0.329302</td>\n",
       "      <td>0.097910</td>\n",
       "      <td>0.027511</td>\n",
       "      <td>3.0</td>\n",
       "      <td>5.0</td>\n",
       "      <td>11</td>\n",
       "    </tr>\n",
       "    <tr>\n",
       "      <th>0001cfa683171fe80161cdbe6a090c94</th>\n",
       "      <td>102.0</td>\n",
       "      <td>102.0</td>\n",
       "      <td>102.0</td>\n",
       "      <td>0.0</td>\n",
       "      <td>518.484375</td>\n",
       "      <td>316.0</td>\n",
       "      <td>1554.0</td>\n",
       "      <td>1238.0</td>\n",
       "      <td>618.096939</td>\n",
       "      <td>277.0</td>\n",
       "      <td>...</td>\n",
       "      <td>574.0</td>\n",
       "      <td>1436.0</td>\n",
       "      <td>862.0</td>\n",
       "      <td>0.548216</td>\n",
       "      <td>0.391690</td>\n",
       "      <td>0.115218</td>\n",
       "      <td>0.032818</td>\n",
       "      <td>2.0</td>\n",
       "      <td>13.0</td>\n",
       "      <td>11</td>\n",
       "    </tr>\n",
       "    <tr>\n",
       "      <th>0001cfa683171fe80161cdbe6a090c94</th>\n",
       "      <td>102.0</td>\n",
       "      <td>102.0</td>\n",
       "      <td>102.0</td>\n",
       "      <td>0.0</td>\n",
       "      <td>318.218750</td>\n",
       "      <td>104.0</td>\n",
       "      <td>1314.0</td>\n",
       "      <td>1210.0</td>\n",
       "      <td>485.587302</td>\n",
       "      <td>162.0</td>\n",
       "      <td>...</td>\n",
       "      <td>340.0</td>\n",
       "      <td>1114.0</td>\n",
       "      <td>774.0</td>\n",
       "      <td>0.582335</td>\n",
       "      <td>0.425137</td>\n",
       "      <td>0.129981</td>\n",
       "      <td>0.039196</td>\n",
       "      <td>2.0</td>\n",
       "      <td>10.0</td>\n",
       "      <td>11</td>\n",
       "    </tr>\n",
       "  </tbody>\n",
       "</table>\n",
       "<p>5 rows × 67 columns</p>\n",
       "</div>"
      ],
      "text/plain": [
       "                                  AOT_mean  AOT_min  AOT_max  AOT_range  \\\n",
       "sample_id                                                                 \n",
       "0001cfa683171fe80161cdbe6a090c94     102.0    102.0    102.0        0.0   \n",
       "0001cfa683171fe80161cdbe6a090c94     132.0    132.0    132.0        0.0   \n",
       "0001cfa683171fe80161cdbe6a090c94     204.0    204.0    204.0        0.0   \n",
       "0001cfa683171fe80161cdbe6a090c94     102.0    102.0    102.0        0.0   \n",
       "0001cfa683171fe80161cdbe6a090c94     102.0    102.0    102.0        0.0   \n",
       "\n",
       "                                    B01_mean  B01_min  B01_max  B01_range  \\\n",
       "sample_id                                                                   \n",
       "0001cfa683171fe80161cdbe6a090c94  319.843750    144.0   1083.0      939.0   \n",
       "0001cfa683171fe80161cdbe6a090c94  435.984375    229.0   1055.0      826.0   \n",
       "0001cfa683171fe80161cdbe6a090c94  902.640625    703.0   1661.0      958.0   \n",
       "0001cfa683171fe80161cdbe6a090c94  518.484375    316.0   1554.0     1238.0   \n",
       "0001cfa683171fe80161cdbe6a090c94  318.218750    104.0   1314.0     1210.0   \n",
       "\n",
       "                                    B02_mean  B02_min  ...  WVP_min  WVP_max  \\\n",
       "sample_id                                              ...                     \n",
       "0001cfa683171fe80161cdbe6a090c94  441.956349    146.0  ...    277.0   1413.0   \n",
       "0001cfa683171fe80161cdbe6a090c94  503.288549    154.0  ...    167.0    828.0   \n",
       "0001cfa683171fe80161cdbe6a090c94  938.553288    672.0  ...    931.0    931.0   \n",
       "0001cfa683171fe80161cdbe6a090c94  618.096939    277.0  ...    574.0   1436.0   \n",
       "0001cfa683171fe80161cdbe6a090c94  485.587302    162.0  ...    340.0   1114.0   \n",
       "\n",
       "                                  WVP_range  NDVI_B04  NDVI_B05  NDVI_B06  \\\n",
       "sample_id                                                                   \n",
       "0001cfa683171fe80161cdbe6a090c94     1136.0  0.581754  0.418335  0.114064   \n",
       "0001cfa683171fe80161cdbe6a090c94      661.0  0.574375  0.418914  0.120972   \n",
       "0001cfa683171fe80161cdbe6a090c94        0.0  0.455419  0.329302  0.097910   \n",
       "0001cfa683171fe80161cdbe6a090c94      862.0  0.548216  0.391690  0.115218   \n",
       "0001cfa683171fe80161cdbe6a090c94      774.0  0.582335  0.425137  0.129981   \n",
       "\n",
       "                                  NDVI_B07  month  days_before_sample  \\\n",
       "sample_id                                                               \n",
       "0001cfa683171fe80161cdbe6a090c94  0.033551    2.0                15.0   \n",
       "0001cfa683171fe80161cdbe6a090c94  0.042572    3.0                 8.0   \n",
       "0001cfa683171fe80161cdbe6a090c94  0.027511    3.0                 5.0   \n",
       "0001cfa683171fe80161cdbe6a090c94  0.032818    2.0                13.0   \n",
       "0001cfa683171fe80161cdbe6a090c94  0.039196    2.0                10.0   \n",
       "\n",
       "                                  land_cover  \n",
       "sample_id                                     \n",
       "0001cfa683171fe80161cdbe6a090c94          11  \n",
       "0001cfa683171fe80161cdbe6a090c94          11  \n",
       "0001cfa683171fe80161cdbe6a090c94          11  \n",
       "0001cfa683171fe80161cdbe6a090c94          11  \n",
       "0001cfa683171fe80161cdbe6a090c94          11  \n",
       "\n",
       "[5 rows x 67 columns]"
      ]
     },
     "execution_count": 5,
     "metadata": {},
     "output_type": "execute_result"
    }
   ],
   "source": [
    "train_features = pd.read_csv(experiment_dir / \"features_train.csv\", index_col=0)\n",
    "train_features.head()"
   ]
  },
  {
   "cell_type": "code",
   "execution_count": 6,
   "id": "dea1ae26-db98-465e-bee8-9286cc8477f1",
   "metadata": {},
   "outputs": [
    {
     "data": {
      "text/html": [
       "<div>\n",
       "<style scoped>\n",
       "    .dataframe tbody tr th:only-of-type {\n",
       "        vertical-align: middle;\n",
       "    }\n",
       "\n",
       "    .dataframe tbody tr th {\n",
       "        vertical-align: top;\n",
       "    }\n",
       "\n",
       "    .dataframe thead th {\n",
       "        text-align: right;\n",
       "    }\n",
       "</style>\n",
       "<table border=\"1\" class=\"dataframe\">\n",
       "  <thead>\n",
       "    <tr style=\"text-align: right;\">\n",
       "      <th></th>\n",
       "      <th>uid</th>\n",
       "      <th>data_provider</th>\n",
       "      <th>region</th>\n",
       "      <th>latitude</th>\n",
       "      <th>longitude</th>\n",
       "      <th>date</th>\n",
       "      <th>density_cells_per_ml</th>\n",
       "      <th>severity</th>\n",
       "      <th>distance_to_water_m</th>\n",
       "      <th>log_density</th>\n",
       "    </tr>\n",
       "    <tr>\n",
       "      <th>sample_id</th>\n",
       "      <th></th>\n",
       "      <th></th>\n",
       "      <th></th>\n",
       "      <th></th>\n",
       "      <th></th>\n",
       "      <th></th>\n",
       "      <th></th>\n",
       "      <th></th>\n",
       "      <th></th>\n",
       "      <th></th>\n",
       "    </tr>\n",
       "  </thead>\n",
       "  <tbody>\n",
       "    <tr>\n",
       "      <th>d7ebbce63c7d1498cc627a1e77f6061c</th>\n",
       "      <td>aabm</td>\n",
       "      <td>Indiana State Department of Health</td>\n",
       "      <td>midwest</td>\n",
       "      <td>39.080319</td>\n",
       "      <td>-86.430867</td>\n",
       "      <td>2018-05-14</td>\n",
       "      <td>585.0</td>\n",
       "      <td>1</td>\n",
       "      <td>0.0</td>\n",
       "      <td>6.373320</td>\n",
       "    </tr>\n",
       "    <tr>\n",
       "      <th>0856c3740614b5ee606f82d6c3a215a0</th>\n",
       "      <td>aacd</td>\n",
       "      <td>N.C. Division of Water Resources N.C. Departme...</td>\n",
       "      <td>south</td>\n",
       "      <td>35.875083</td>\n",
       "      <td>-78.878434</td>\n",
       "      <td>2020-11-19</td>\n",
       "      <td>290.0</td>\n",
       "      <td>1</td>\n",
       "      <td>514.0</td>\n",
       "      <td>5.673323</td>\n",
       "    </tr>\n",
       "  </tbody>\n",
       "</table>\n",
       "</div>"
      ],
      "text/plain": [
       "                                   uid  \\\n",
       "sample_id                                \n",
       "d7ebbce63c7d1498cc627a1e77f6061c  aabm   \n",
       "0856c3740614b5ee606f82d6c3a215a0  aacd   \n",
       "\n",
       "                                                                      data_provider  \\\n",
       "sample_id                                                                             \n",
       "d7ebbce63c7d1498cc627a1e77f6061c                 Indiana State Department of Health   \n",
       "0856c3740614b5ee606f82d6c3a215a0  N.C. Division of Water Resources N.C. Departme...   \n",
       "\n",
       "                                   region   latitude  longitude        date  \\\n",
       "sample_id                                                                     \n",
       "d7ebbce63c7d1498cc627a1e77f6061c  midwest  39.080319 -86.430867  2018-05-14   \n",
       "0856c3740614b5ee606f82d6c3a215a0    south  35.875083 -78.878434  2020-11-19   \n",
       "\n",
       "                                  density_cells_per_ml  severity  \\\n",
       "sample_id                                                          \n",
       "d7ebbce63c7d1498cc627a1e77f6061c                 585.0         1   \n",
       "0856c3740614b5ee606f82d6c3a215a0                 290.0         1   \n",
       "\n",
       "                                  distance_to_water_m  log_density  \n",
       "sample_id                                                           \n",
       "d7ebbce63c7d1498cc627a1e77f6061c                  0.0     6.373320  \n",
       "0856c3740614b5ee606f82d6c3a215a0                514.0     5.673323  "
      ]
     },
     "execution_count": 6,
     "metadata": {},
     "output_type": "execute_result"
    }
   ],
   "source": [
    "# add in actual labels\n",
    "train = pd.read_csv(\n",
    "    AnyPath(\n",
    "        \"s3://drivendata-competition-nasa-cyanobacteria/experiments/splits/competition/train.csv\"\n",
    "    )\n",
    ")\n",
    "train = add_unique_identifier(train)\n",
    "train.head(2)"
   ]
  },
  {
   "cell_type": "markdown",
   "id": "6909e6c3-4ca4-4d99-abf5-8a333814a9d2",
   "metadata": {},
   "source": [
    "## Select samples\n",
    "\n",
    "Select which samples we'll keep in our training"
   ]
  },
  {
   "cell_type": "code",
   "execution_count": 9,
   "id": "602d4595-8c81-4c7b-8948-edfb704cbf02",
   "metadata": {},
   "outputs": [
    {
     "data": {
      "text/plain": [
       "severity\n",
       "1    7497\n",
       "2    3239\n",
       "3    2719\n",
       "4    3547\n",
       "5      58\n",
       "Name: count, dtype: int64"
      ]
     },
     "execution_count": 9,
     "metadata": {},
     "output_type": "execute_result"
    }
   ],
   "source": [
    "train.severity.value_counts().sort_index()"
   ]
  },
  {
   "cell_type": "code",
   "execution_count": 10,
   "id": "555f14cb-52a8-4c1b-9258-0ba0d9e8479d",
   "metadata": {},
   "outputs": [
    {
     "data": {
      "text/plain": [
       "3239"
      ]
     },
     "execution_count": 10,
     "metadata": {},
     "output_type": "execute_result"
    }
   ],
   "source": [
    "(sample_size := train.severity.value_counts().loc[2])"
   ]
  },
  {
   "cell_type": "code",
   "execution_count": 11,
   "id": "e76de9bd-03e9-4428-8e05-f4872d16d13c",
   "metadata": {},
   "outputs": [
    {
     "data": {
      "text/plain": [
       "severity\n",
       "1    3239\n",
       "2    3239\n",
       "3    2719\n",
       "4    3239\n",
       "5      58\n",
       "Name: count, dtype: int64"
      ]
     },
     "execution_count": 11,
     "metadata": {},
     "output_type": "execute_result"
    }
   ],
   "source": [
    "# shuffle train\n",
    "train = train.sample(frac=1, random_state=RANDOM_STATE)\n",
    "\n",
    "# select first n for each severity\n",
    "downsampled_train = []\n",
    "for severity in train.severity.unique():\n",
    "    downsampled_train.append(train[train.severity == severity].head(sample_size))\n",
    "downsampled_train = pd.concat(downsampled_train)\n",
    "\n",
    "downsampled_train.severity.value_counts().sort_index()"
   ]
  },
  {
   "cell_type": "code",
   "execution_count": 12,
   "id": "2a0f2fbe-848b-40ea-afb4-18d715b6be6c",
   "metadata": {},
   "outputs": [
    {
     "data": {
      "text/plain": [
       "(12494, 10)"
      ]
     },
     "execution_count": 12,
     "metadata": {},
     "output_type": "execute_result"
    }
   ],
   "source": [
    "downsampled_train.shape"
   ]
  },
  {
   "cell_type": "code",
   "execution_count": 13,
   "id": "e0d3a5a9-cfce-4306-be03-f86b61ccf368",
   "metadata": {},
   "outputs": [
    {
     "data": {
      "text/plain": [
       "(32429, 67)"
      ]
     },
     "execution_count": 13,
     "metadata": {},
     "output_type": "execute_result"
    }
   ],
   "source": [
    "train_features = train_features[train_features.index.isin(downsampled_train.index)]\n",
    "train_features.shape"
   ]
  },
  {
   "cell_type": "code",
   "execution_count": 14,
   "id": "9c028082-eb4a-4aaf-911b-1838bf0175b6",
   "metadata": {},
   "outputs": [
    {
     "data": {
      "text/plain": [
       "8620"
      ]
     },
     "execution_count": 14,
     "metadata": {},
     "output_type": "execute_result"
    }
   ],
   "source": [
    "train_features.index.nunique()"
   ]
  },
  {
   "cell_type": "code",
   "execution_count": 15,
   "id": "258a5fc0-fe30-46fe-aa1e-1384a2e2e1c4",
   "metadata": {},
   "outputs": [
    {
     "data": {
      "text/html": [
       "<div>\n",
       "<style scoped>\n",
       "    .dataframe tbody tr th:only-of-type {\n",
       "        vertical-align: middle;\n",
       "    }\n",
       "\n",
       "    .dataframe tbody tr th {\n",
       "        vertical-align: top;\n",
       "    }\n",
       "\n",
       "    .dataframe thead th {\n",
       "        text-align: right;\n",
       "    }\n",
       "</style>\n",
       "<table border=\"1\" class=\"dataframe\">\n",
       "  <thead>\n",
       "    <tr style=\"text-align: right;\">\n",
       "      <th></th>\n",
       "      <th>AOT_mean</th>\n",
       "      <th>AOT_min</th>\n",
       "      <th>AOT_max</th>\n",
       "      <th>AOT_range</th>\n",
       "      <th>B01_mean</th>\n",
       "      <th>B01_min</th>\n",
       "      <th>B01_max</th>\n",
       "      <th>B01_range</th>\n",
       "      <th>B02_mean</th>\n",
       "      <th>B02_min</th>\n",
       "      <th>...</th>\n",
       "      <th>WVP_min</th>\n",
       "      <th>WVP_max</th>\n",
       "      <th>WVP_range</th>\n",
       "      <th>NDVI_B04</th>\n",
       "      <th>NDVI_B05</th>\n",
       "      <th>NDVI_B06</th>\n",
       "      <th>NDVI_B07</th>\n",
       "      <th>month</th>\n",
       "      <th>days_before_sample</th>\n",
       "      <th>land_cover</th>\n",
       "    </tr>\n",
       "    <tr>\n",
       "      <th>sample_id</th>\n",
       "      <th></th>\n",
       "      <th></th>\n",
       "      <th></th>\n",
       "      <th></th>\n",
       "      <th></th>\n",
       "      <th></th>\n",
       "      <th></th>\n",
       "      <th></th>\n",
       "      <th></th>\n",
       "      <th></th>\n",
       "      <th></th>\n",
       "      <th></th>\n",
       "      <th></th>\n",
       "      <th></th>\n",
       "      <th></th>\n",
       "      <th></th>\n",
       "      <th></th>\n",
       "      <th></th>\n",
       "      <th></th>\n",
       "      <th></th>\n",
       "      <th></th>\n",
       "    </tr>\n",
       "  </thead>\n",
       "  <tbody>\n",
       "    <tr>\n",
       "      <th>0001cfa683171fe80161cdbe6a090c94</th>\n",
       "      <td>102.0</td>\n",
       "      <td>102.0</td>\n",
       "      <td>102.0</td>\n",
       "      <td>0.0</td>\n",
       "      <td>319.843750</td>\n",
       "      <td>144.0</td>\n",
       "      <td>1083.0</td>\n",
       "      <td>939.0</td>\n",
       "      <td>441.956349</td>\n",
       "      <td>146.0</td>\n",
       "      <td>...</td>\n",
       "      <td>277.0</td>\n",
       "      <td>1413.0</td>\n",
       "      <td>1136.0</td>\n",
       "      <td>0.581754</td>\n",
       "      <td>0.418335</td>\n",
       "      <td>0.114064</td>\n",
       "      <td>0.033551</td>\n",
       "      <td>2.0</td>\n",
       "      <td>15.0</td>\n",
       "      <td>11</td>\n",
       "    </tr>\n",
       "    <tr>\n",
       "      <th>0001cfa683171fe80161cdbe6a090c94</th>\n",
       "      <td>132.0</td>\n",
       "      <td>132.0</td>\n",
       "      <td>132.0</td>\n",
       "      <td>0.0</td>\n",
       "      <td>435.984375</td>\n",
       "      <td>229.0</td>\n",
       "      <td>1055.0</td>\n",
       "      <td>826.0</td>\n",
       "      <td>503.288549</td>\n",
       "      <td>154.0</td>\n",
       "      <td>...</td>\n",
       "      <td>167.0</td>\n",
       "      <td>828.0</td>\n",
       "      <td>661.0</td>\n",
       "      <td>0.574375</td>\n",
       "      <td>0.418914</td>\n",
       "      <td>0.120972</td>\n",
       "      <td>0.042572</td>\n",
       "      <td>3.0</td>\n",
       "      <td>8.0</td>\n",
       "      <td>11</td>\n",
       "    </tr>\n",
       "    <tr>\n",
       "      <th>0001cfa683171fe80161cdbe6a090c94</th>\n",
       "      <td>204.0</td>\n",
       "      <td>204.0</td>\n",
       "      <td>204.0</td>\n",
       "      <td>0.0</td>\n",
       "      <td>902.640625</td>\n",
       "      <td>703.0</td>\n",
       "      <td>1661.0</td>\n",
       "      <td>958.0</td>\n",
       "      <td>938.553288</td>\n",
       "      <td>672.0</td>\n",
       "      <td>...</td>\n",
       "      <td>931.0</td>\n",
       "      <td>931.0</td>\n",
       "      <td>0.0</td>\n",
       "      <td>0.455419</td>\n",
       "      <td>0.329302</td>\n",
       "      <td>0.097910</td>\n",
       "      <td>0.027511</td>\n",
       "      <td>3.0</td>\n",
       "      <td>5.0</td>\n",
       "      <td>11</td>\n",
       "    </tr>\n",
       "    <tr>\n",
       "      <th>0001cfa683171fe80161cdbe6a090c94</th>\n",
       "      <td>102.0</td>\n",
       "      <td>102.0</td>\n",
       "      <td>102.0</td>\n",
       "      <td>0.0</td>\n",
       "      <td>518.484375</td>\n",
       "      <td>316.0</td>\n",
       "      <td>1554.0</td>\n",
       "      <td>1238.0</td>\n",
       "      <td>618.096939</td>\n",
       "      <td>277.0</td>\n",
       "      <td>...</td>\n",
       "      <td>574.0</td>\n",
       "      <td>1436.0</td>\n",
       "      <td>862.0</td>\n",
       "      <td>0.548216</td>\n",
       "      <td>0.391690</td>\n",
       "      <td>0.115218</td>\n",
       "      <td>0.032818</td>\n",
       "      <td>2.0</td>\n",
       "      <td>13.0</td>\n",
       "      <td>11</td>\n",
       "    </tr>\n",
       "    <tr>\n",
       "      <th>0001cfa683171fe80161cdbe6a090c94</th>\n",
       "      <td>102.0</td>\n",
       "      <td>102.0</td>\n",
       "      <td>102.0</td>\n",
       "      <td>0.0</td>\n",
       "      <td>318.218750</td>\n",
       "      <td>104.0</td>\n",
       "      <td>1314.0</td>\n",
       "      <td>1210.0</td>\n",
       "      <td>485.587302</td>\n",
       "      <td>162.0</td>\n",
       "      <td>...</td>\n",
       "      <td>340.0</td>\n",
       "      <td>1114.0</td>\n",
       "      <td>774.0</td>\n",
       "      <td>0.582335</td>\n",
       "      <td>0.425137</td>\n",
       "      <td>0.129981</td>\n",
       "      <td>0.039196</td>\n",
       "      <td>2.0</td>\n",
       "      <td>10.0</td>\n",
       "      <td>11</td>\n",
       "    </tr>\n",
       "  </tbody>\n",
       "</table>\n",
       "<p>5 rows × 67 columns</p>\n",
       "</div>"
      ],
      "text/plain": [
       "                                  AOT_mean  AOT_min  AOT_max  AOT_range  \\\n",
       "sample_id                                                                 \n",
       "0001cfa683171fe80161cdbe6a090c94     102.0    102.0    102.0        0.0   \n",
       "0001cfa683171fe80161cdbe6a090c94     132.0    132.0    132.0        0.0   \n",
       "0001cfa683171fe80161cdbe6a090c94     204.0    204.0    204.0        0.0   \n",
       "0001cfa683171fe80161cdbe6a090c94     102.0    102.0    102.0        0.0   \n",
       "0001cfa683171fe80161cdbe6a090c94     102.0    102.0    102.0        0.0   \n",
       "\n",
       "                                    B01_mean  B01_min  B01_max  B01_range  \\\n",
       "sample_id                                                                   \n",
       "0001cfa683171fe80161cdbe6a090c94  319.843750    144.0   1083.0      939.0   \n",
       "0001cfa683171fe80161cdbe6a090c94  435.984375    229.0   1055.0      826.0   \n",
       "0001cfa683171fe80161cdbe6a090c94  902.640625    703.0   1661.0      958.0   \n",
       "0001cfa683171fe80161cdbe6a090c94  518.484375    316.0   1554.0     1238.0   \n",
       "0001cfa683171fe80161cdbe6a090c94  318.218750    104.0   1314.0     1210.0   \n",
       "\n",
       "                                    B02_mean  B02_min  ...  WVP_min  WVP_max  \\\n",
       "sample_id                                              ...                     \n",
       "0001cfa683171fe80161cdbe6a090c94  441.956349    146.0  ...    277.0   1413.0   \n",
       "0001cfa683171fe80161cdbe6a090c94  503.288549    154.0  ...    167.0    828.0   \n",
       "0001cfa683171fe80161cdbe6a090c94  938.553288    672.0  ...    931.0    931.0   \n",
       "0001cfa683171fe80161cdbe6a090c94  618.096939    277.0  ...    574.0   1436.0   \n",
       "0001cfa683171fe80161cdbe6a090c94  485.587302    162.0  ...    340.0   1114.0   \n",
       "\n",
       "                                  WVP_range  NDVI_B04  NDVI_B05  NDVI_B06  \\\n",
       "sample_id                                                                   \n",
       "0001cfa683171fe80161cdbe6a090c94     1136.0  0.581754  0.418335  0.114064   \n",
       "0001cfa683171fe80161cdbe6a090c94      661.0  0.574375  0.418914  0.120972   \n",
       "0001cfa683171fe80161cdbe6a090c94        0.0  0.455419  0.329302  0.097910   \n",
       "0001cfa683171fe80161cdbe6a090c94      862.0  0.548216  0.391690  0.115218   \n",
       "0001cfa683171fe80161cdbe6a090c94      774.0  0.582335  0.425137  0.129981   \n",
       "\n",
       "                                  NDVI_B07  month  days_before_sample  \\\n",
       "sample_id                                                               \n",
       "0001cfa683171fe80161cdbe6a090c94  0.033551    2.0                15.0   \n",
       "0001cfa683171fe80161cdbe6a090c94  0.042572    3.0                 8.0   \n",
       "0001cfa683171fe80161cdbe6a090c94  0.027511    3.0                 5.0   \n",
       "0001cfa683171fe80161cdbe6a090c94  0.032818    2.0                13.0   \n",
       "0001cfa683171fe80161cdbe6a090c94  0.039196    2.0                10.0   \n",
       "\n",
       "                                  land_cover  \n",
       "sample_id                                     \n",
       "0001cfa683171fe80161cdbe6a090c94          11  \n",
       "0001cfa683171fe80161cdbe6a090c94          11  \n",
       "0001cfa683171fe80161cdbe6a090c94          11  \n",
       "0001cfa683171fe80161cdbe6a090c94          11  \n",
       "0001cfa683171fe80161cdbe6a090c94          11  \n",
       "\n",
       "[5 rows x 67 columns]"
      ]
     },
     "execution_count": 15,
     "metadata": {},
     "output_type": "execute_result"
    }
   ],
   "source": [
    "train_features.head()"
   ]
  },
  {
   "cell_type": "markdown",
   "id": "11a3d133-579f-4ff4-9a85-256fe85041bc",
   "metadata": {},
   "source": [
    "## Train model\n",
    "\n",
    "Train a model on the downsampled features"
   ]
  },
  {
   "cell_type": "code",
   "execution_count": 16,
   "id": "214eff7f-18e7-409d-a3eb-f8eed198859d",
   "metadata": {},
   "outputs": [],
   "source": [
    "# Load best yaml config\n",
    "experiment = ExperimentConfig.from_file(experiment_dir / \"config_artifact.yaml\")"
   ]
  },
  {
   "cell_type": "code",
   "execution_count": 17,
   "id": "43e57400-819d-4c4a-9b8d-85cd3a7d6540",
   "metadata": {},
   "outputs": [],
   "source": [
    "pipe = CyanoModelPipeline(\n",
    "    features_config=experiment.features_config,\n",
    "    model_training_config=experiment.model_training_config,\n",
    "    target_col=experiment.target_col,\n",
    ")"
   ]
  },
  {
   "cell_type": "code",
   "execution_count": 18,
   "id": "50c1b7f1-1205-4135-8c2d-1108406f9ba7",
   "metadata": {},
   "outputs": [
    {
     "data": {
      "text/plain": [
       "ModelTrainingConfig(params=LGBParams(application='regression', metric='rmse', max_depth=-1, num_leaves=31, learning_rate=0.1, verbosity=-1, early_stopping_round=100, bagging_seed=40, seed=40), num_boost_round=100000, n_folds=5)"
      ]
     },
     "execution_count": 18,
     "metadata": {},
     "output_type": "execute_result"
    }
   ],
   "source": [
    "pipe.model_training_config"
   ]
  },
  {
   "cell_type": "code",
   "execution_count": 19,
   "id": "6e460e3a-fc93-41a0-b137-499ffadb3886",
   "metadata": {},
   "outputs": [],
   "source": [
    "pipe.train_features = train_features\n",
    "pipe.train_labels = downsampled_train[\"log_density\"]\n",
    "pipe.train_samples = downsampled_train[[\"date\", \"latitude\", \"longitude\", \"region\"]]"
   ]
  },
  {
   "cell_type": "code",
   "execution_count": 21,
   "id": "1d9fcc6d-7bd0-4cf8-9ea2-3a8ffd66af34",
   "metadata": {},
   "outputs": [
    {
     "name": "stderr",
     "output_type": "stream",
     "text": [
      "\u001b[32m2023-08-28 15:59:45.830\u001b[0m | \u001b[1mINFO    \u001b[0m | \u001b[36mcyano.pipeline\u001b[0m:\u001b[36m_train_model\u001b[0m:\u001b[36m128\u001b[0m - \u001b[1mTraining 5 model folds\u001b[0m\n"
     ]
    }
   ],
   "source": [
    "pipe._train_model()"
   ]
  },
  {
   "cell_type": "code",
   "execution_count": 23,
   "id": "0b25b5c9-cfa0-4b0e-bee6-2b2e5870b185",
   "metadata": {},
   "outputs": [
    {
     "name": "stderr",
     "output_type": "stream",
     "text": [
      "\u001b[32m2023-08-28 16:31:38.586\u001b[0m | \u001b[1mINFO    \u001b[0m | \u001b[36mcyano.pipeline\u001b[0m:\u001b[36m_to_disk\u001b[0m:\u001b[36m177\u001b[0m - \u001b[1mSaving model to downsampled_model.zip\u001b[0m\n"
     ]
    }
   ],
   "source": [
    "pipe._to_disk(tmp_dir / \"downsampled_model.zip\")"
   ]
  },
  {
   "cell_type": "markdown",
   "id": "5466b46b-e458-426b-902a-2baa36091a8b",
   "metadata": {},
   "source": [
    "## Predict"
   ]
  },
  {
   "cell_type": "code",
   "execution_count": 20,
   "id": "c5d04599-aafa-46db-98c9-f200692989f9",
   "metadata": {},
   "outputs": [
    {
     "name": "stdout",
     "output_type": "stream",
     "text": [
      "(6510, 10)\n",
      "(21492, 67)\n"
     ]
    }
   ],
   "source": [
    "# read in test features and test samples\n",
    "test = pd.read_csv(\n",
    "    AnyPath(\n",
    "        \"s3://drivendata-competition-nasa-cyanobacteria/experiments/splits/competition/test.csv\"\n",
    "    )\n",
    ")\n",
    "test = add_unique_identifier(test)\n",
    "print(test.shape)\n",
    "\n",
    "test_features = pd.read_csv(experiment_dir / \"features_test.csv\", index_col=0)\n",
    "print(test_features.shape)"
   ]
  },
  {
   "cell_type": "code",
   "execution_count": 21,
   "id": "8534d708-1b58-4e29-b11a-9dff0c222544",
   "metadata": {},
   "outputs": [],
   "source": [
    "pipe.predict_samples = test[[\"date\", \"latitude\", \"longitude\"]]\n",
    "pipe.predict_features = test_features"
   ]
  },
  {
   "cell_type": "code",
   "execution_count": 26,
   "id": "aae7b5ac-1b15-4618-a961-8bb68940dee2",
   "metadata": {},
   "outputs": [
    {
     "name": "stderr",
     "output_type": "stream",
     "text": [
      "\u001b[32m2023-08-28 16:32:14.825\u001b[0m | \u001b[1mINFO    \u001b[0m | \u001b[36mcyano.pipeline\u001b[0m:\u001b[36m_predict_model\u001b[0m:\u001b[36m221\u001b[0m - \u001b[1mEnsembling 5 models\u001b[0m\n",
      "\u001b[32m2023-08-28 16:41:28.622\u001b[0m | \u001b[1mINFO    \u001b[0m | \u001b[36mcyano.pipeline\u001b[0m:\u001b[36m_predict_model\u001b[0m:\u001b[36m233\u001b[0m - \u001b[1mGrouping 107,460 predictions by 4,824 unique sample IDs\u001b[0m\n",
      "\u001b[32m2023-08-28 16:41:28.660\u001b[0m | \u001b[33m\u001b[1mWARNING \u001b[0m | \u001b[36mcyano.pipeline\u001b[0m:\u001b[36m_predict_model\u001b[0m:\u001b[36m258\u001b[0m - \u001b[33m\u001b[1m1,686 samples do not have predictions (26%)\u001b[0m\n"
     ]
    }
   ],
   "source": [
    "pipe._predict_model()"
   ]
  },
  {
   "cell_type": "code",
   "execution_count": 27,
   "id": "07afbf0e-a0ae-4570-9533-41f8bb6b40a8",
   "metadata": {},
   "outputs": [
    {
     "name": "stderr",
     "output_type": "stream",
     "text": [
      "\u001b[32m2023-08-28 16:41:28.783\u001b[0m | \u001b[32m\u001b[1mSUCCESS \u001b[0m | \u001b[36mcyano.pipeline\u001b[0m:\u001b[36m_write_predictions\u001b[0m:\u001b[36m265\u001b[0m - \u001b[32m\u001b[1mPredictions saved to preds.csv\u001b[0m\n"
     ]
    }
   ],
   "source": [
    "pipe._write_predictions(tmp_dir / \"preds.csv\")"
   ]
  },
  {
   "cell_type": "markdown",
   "id": "9153f76b-e348-432e-b9aa-bfc9491c144d",
   "metadata": {},
   "source": [
    "## Evaluate"
   ]
  },
  {
   "cell_type": "code",
   "execution_count": 22,
   "id": "0f1de1f1-ef00-4a8f-bdcd-d93801156ba4",
   "metadata": {},
   "outputs": [],
   "source": [
    "from cyano.evaluate import (\n",
    "    EvaluatePreds,\n",
    "    generate_and_plot_crosstab,\n",
    "    generate_actual_density_boxplot,\n",
    "    generate_density_scatterplot,\n",
    "    generate_density_kdeplot,\n",
    ")"
   ]
  },
  {
   "cell_type": "code",
   "execution_count": 23,
   "id": "536f3ddf-0076-42e6-81ab-e04217d4b948",
   "metadata": {},
   "outputs": [
    {
     "name": "stderr",
     "output_type": "stream",
     "text": [
      "\u001b[32m2023-08-28 16:56:58.309\u001b[0m | \u001b[1mINFO    \u001b[0m | \u001b[36mcyano.evaluate\u001b[0m:\u001b[36m__init__\u001b[0m:\u001b[36m125\u001b[0m - \u001b[1mEvaluating on 4,824 samples (of 6,510)\u001b[0m\n"
     ]
    }
   ],
   "source": [
    "ep = EvaluatePreds(\n",
    "    y_true_csv=AnyPath(\n",
    "        \"s3://drivendata-competition-nasa-cyanobacteria/experiments/splits/competition/test.csv\"\n",
    "    ),\n",
    "    y_pred_csv=\"preds.csv\",\n",
    "    save_dir=\"eval\",\n",
    ")"
   ]
  },
  {
   "cell_type": "markdown",
   "id": "5c2bd2e1-0630-4fc9-8114-a02798e63784",
   "metadata": {},
   "source": [
    "#### Severity predictions"
   ]
  },
  {
   "cell_type": "code",
   "execution_count": 24,
   "id": "afb27f53-32e1-4ecc-a0b1-1e89a7e32a35",
   "metadata": {},
   "outputs": [
    {
     "data": {
      "text/plain": [
       "{'overall_rmse': 1.039138723606641,\n",
       " 'overall_mae': 0.724502487562189,\n",
       " 'overall_mape': 0.4489566058595909,\n",
       " 'regional_rmse': {'midwest': 0.9423691959590664,\n",
       "  'northeast': 1.0434850628281327,\n",
       "  'south': 1.2047842199839804,\n",
       "  'west': 0.9715611107851846},\n",
       " 'region_averaged_rmse': 1.040549897389091,\n",
       " 'regional_mae': {'midwest': 0.6509121061359867,\n",
       "  'northeast': 0.7709637046307884,\n",
       "  'south': 0.9481605351170569,\n",
       "  'west': 0.5914972273567468}}"
      ]
     },
     "execution_count": 24,
     "metadata": {},
     "output_type": "execute_result"
    }
   ],
   "source": [
    "severity_results = ep.calculate_severity_metrics(\n",
    "    y_true=ep.y_true_df[\"severity\"], y_pred=ep.y_pred_df[\"severity\"], region=ep.region\n",
    ")\n",
    "\n",
    "{key: item for key, item in severity_results.items() if key != \"classification_report\"}"
   ]
  },
  {
   "cell_type": "code",
   "execution_count": 25,
   "id": "6d76023e-efd9-47aa-af67-433bb8d0bedc",
   "metadata": {},
   "outputs": [
    {
     "data": {
      "text/plain": [
       "<Axes: xlabel='Actual severity', ylabel='Predicted severity'>"
      ]
     },
     "execution_count": 25,
     "metadata": {},
     "output_type": "execute_result"
    },
    {
     "data": {
      "image/png": "[encoded data removed]",
      "text/plain": [
       "<Figure size 640x480 with 1 Axes>"
      ]
     },
     "metadata": {},
     "output_type": "display_data"
    }
   ],
   "source": [
    "generate_and_plot_crosstab(ep.y_true_df.severity, ep.y_pred_df.severity)"
   ]
  },
  {
   "cell_type": "code",
   "execution_count": 26,
   "id": "46d36d2c-9484-469b-9c77-e4839ef78d3f",
   "metadata": {},
   "outputs": [
    {
     "data": {
      "text/plain": [
       "<Axes: xlabel='Predicted severity', ylabel='Actual density (cells/mL)'>"
      ]
     },
     "execution_count": 26,
     "metadata": {},
     "output_type": "execute_result"
    },
    {
     "data": {
      "image/png": "[encoded data removed]",
      "text/plain": [
       "<Figure size 640x480 with 1 Axes>"
      ]
     },
     "metadata": {},
     "output_type": "display_data"
    }
   ],
   "source": [
    "generate_actual_density_boxplot(\n",
    "    ep.y_true_df.density_cells_per_ml, ep.y_pred_df.severity\n",
    ")"
   ]
  },
  {
   "cell_type": "markdown",
   "id": "33ca5e3b-66ce-4b37-a6e3-82d335c9e7c5",
   "metadata": {},
   "source": [
    "#### Log(density) predictions"
   ]
  },
  {
   "cell_type": "code",
   "execution_count": 27,
   "id": "abde9cbb-95c6-4052-831c-9fecfad46445",
   "metadata": {},
   "outputs": [
    {
     "data": {
      "text/plain": [
       "{'overall_r_squared': 0.33783129806156986,\n",
       " 'overall_mape': 844249784945572.2,\n",
       " 'regional_r_squared': {'midwest': 0.21316562793933114,\n",
       "  'northeast': -0.13915249519993123,\n",
       "  'south': -0.5101570061588583,\n",
       "  'west': -1.0583688609398534}}"
      ]
     },
     "execution_count": 27,
     "metadata": {},
     "output_type": "execute_result"
    }
   ],
   "source": [
    "ep.calculate_density_metrics(\n",
    "    y_true=ep.y_true_df.log_density, y_pred=ep.y_pred_df.log_density, region=ep.region\n",
    ")"
   ]
  },
  {
   "cell_type": "code",
   "execution_count": 28,
   "id": "6533efb2-fd50-4d82-b74b-2d8adde6b861",
   "metadata": {},
   "outputs": [
    {
     "data": {
      "text/plain": [
       "<Axes: xlabel='Actual log_density', ylabel='Predicted log_density'>"
      ]
     },
     "execution_count": 28,
     "metadata": {},
     "output_type": "execute_result"
    },
    {
     "data": {
      "image/png": "[encoded data removed]",
      "text/plain": [
       "<Figure size 640x480 with 1 Axes>"
      ]
     },
     "metadata": {},
     "output_type": "display_data"
    }
   ],
   "source": [
    "generate_density_scatterplot(ep.y_true_df[\"log_density\"], ep.y_pred_df[\"log_density\"])"
   ]
  },
  {
   "cell_type": "code",
   "execution_count": 29,
   "id": "c2455c15-9876-4412-8291-903392345eab",
   "metadata": {},
   "outputs": [
    {
     "data": {
      "text/plain": [
       "<seaborn.axisgrid.FacetGrid at 0x17c452170>"
      ]
     },
     "execution_count": 29,
     "metadata": {},
     "output_type": "execute_result"
    },
    {
     "data": {
      "image/png": "[encoded data removed]",
      "text/plain": [
       "<Figure size 500x500 with 1 Axes>"
      ]
     },
     "metadata": {},
     "output_type": "display_data"
    }
   ],
   "source": [
    "generate_density_kdeplot(ep.y_true_df.log_density, ep.y_pred_df.log_density)"
   ]
  },
  {
   "cell_type": "code",
   "execution_count": null,
   "id": "cebc884b-1e3f-430a-989d-ce564052367e",
   "metadata": {},
   "outputs": [],
   "source": []
  },
  {
   "cell_type": "code",
   "execution_count": null,
   "id": "6b9240c2-de89-45e3-87fe-bb91376efac7",
   "metadata": {},
   "outputs": [],
   "source": [
    "shutil.rmtree(tmp_dir)"
   ]
  },
  {
   "cell_type": "code",
   "execution_count": null,
   "id": "527b7bc1-2a52-423d-9c85-faeda8a85d1d",
   "metadata": {},
   "outputs": [],
   "source": []
  }
 ],
 "metadata": {
  "kernelspec": {
   "display_name": "Python 3 (ipykernel)",
   "language": "python",
   "name": "python3"
  },
  "language_info": {
   "codemirror_mode": {
    "name": "ipython",
    "version": 3
   },
   "file_extension": ".py",
   "mimetype": "text/x-python",
   "name": "python",
   "nbconvert_exporter": "python",
   "pygments_lexer": "ipython3",
   "version": "3.10.12"
  }
 },
 "nbformat": 4,
 "nbformat_minor": 5
}
