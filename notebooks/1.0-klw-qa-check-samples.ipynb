{
 "cells": [
  {
   "cell_type": "markdown",
   "id": "21a4a40f-0128-4720-84a6-f2d50e28c518",
   "metadata": {},
   "source": [
    "Generate list of samples to use for QA checks for temporal consistency"
   ]
  },
  {
   "cell_type": "code",
   "execution_count": 1,
   "id": "3bca3fc8-b3df-4aca-8a67-0b31d6e87332",
   "metadata": {},
   "outputs": [],
   "source": [
    "%load_ext lab_black"
   ]
  },
  {
   "cell_type": "code",
   "execution_count": 2,
   "id": "230ad864-6ebd-4b97-8cd4-98d0f3e345f2",
   "metadata": {},
   "outputs": [],
   "source": [
    "from datetime import timedelta\n",
    "\n",
    "from cloudpathlib import AnyPath\n",
    "import geopandas as gpd\n",
    "import matplotlib.pyplot as plt\n",
    "import pandas as pd\n",
    "from shapely.geometry import Point\n",
    "\n",
    "from cyano.data.utils import add_unique_identifier"
   ]
  },
  {
   "cell_type": "code",
   "execution_count": 3,
   "id": "502a1c8e-82a9-4264-a8fa-ec5c48be6dc5",
   "metadata": {},
   "outputs": [],
   "source": [
    "STATES_SHAPEFILE = gpd.GeoDataFrame.from_file(\n",
    "    \"../../competition-nasa-cyanobacteria/data/raw/cb_2018_us_state_500k/cb_2018_us_state_500k.shp\"\n",
    ")\n",
    "\n",
    "\n",
    "def plot_map(df, markersize=5, **kwargs):\n",
    "    _, ax = plt.subplots()\n",
    "\n",
    "    STATES_SHAPEFILE.plot(color=\"ghostwhite\", edgecolor=\"lightgray\", ax=ax)\n",
    "\n",
    "    geometry = [Point(xy) for xy in zip(df.longitude, df.latitude)]\n",
    "    gdf = gpd.GeoDataFrame(df, geometry=geometry)\n",
    "    gdf.plot(ax=ax, markersize=markersize)\n",
    "\n",
    "    ax.set_xlim([-125, -65])\n",
    "    ax.set_ylim([25, 50])\n",
    "\n",
    "    return ax"
   ]
  },
  {
   "cell_type": "code",
   "execution_count": 4,
   "id": "d53a5679-dc97-4cfb-b7c7-5e71d2eb621a",
   "metadata": {},
   "outputs": [
    {
     "data": {
      "text/html": [
       "<div>\n",
       "<style scoped>\n",
       "    .dataframe tbody tr th:only-of-type {\n",
       "        vertical-align: middle;\n",
       "    }\n",
       "\n",
       "    .dataframe tbody tr th {\n",
       "        vertical-align: top;\n",
       "    }\n",
       "\n",
       "    .dataframe thead th {\n",
       "        text-align: right;\n",
       "    }\n",
       "</style>\n",
       "<table border=\"1\" class=\"dataframe\">\n",
       "  <thead>\n",
       "    <tr style=\"text-align: right;\">\n",
       "      <th></th>\n",
       "      <th>uid</th>\n",
       "      <th>data_provider</th>\n",
       "      <th>region</th>\n",
       "      <th>latitude</th>\n",
       "      <th>longitude</th>\n",
       "      <th>date</th>\n",
       "      <th>density_cells_per_ml</th>\n",
       "      <th>severity</th>\n",
       "      <th>distance_to_water_m</th>\n",
       "    </tr>\n",
       "  </thead>\n",
       "  <tbody>\n",
       "    <tr>\n",
       "      <th>0</th>\n",
       "      <td>aabm</td>\n",
       "      <td>Indiana State Department of Health</td>\n",
       "      <td>midwest</td>\n",
       "      <td>39.080319</td>\n",
       "      <td>-86.430867</td>\n",
       "      <td>2018-05-14</td>\n",
       "      <td>585.0</td>\n",
       "      <td>1</td>\n",
       "      <td>0.0</td>\n",
       "    </tr>\n",
       "    <tr>\n",
       "      <th>1</th>\n",
       "      <td>aabn</td>\n",
       "      <td>California Environmental Data Exchange Network</td>\n",
       "      <td>west</td>\n",
       "      <td>36.559700</td>\n",
       "      <td>-121.510000</td>\n",
       "      <td>2016-08-31</td>\n",
       "      <td>5867500.0</td>\n",
       "      <td>4</td>\n",
       "      <td>3512.0</td>\n",
       "    </tr>\n",
       "    <tr>\n",
       "      <th>2</th>\n",
       "      <td>aacd</td>\n",
       "      <td>N.C. Division of Water Resources N.C. Departme...</td>\n",
       "      <td>south</td>\n",
       "      <td>35.875083</td>\n",
       "      <td>-78.878434</td>\n",
       "      <td>2020-11-19</td>\n",
       "      <td>290.0</td>\n",
       "      <td>1</td>\n",
       "      <td>514.0</td>\n",
       "    </tr>\n",
       "  </tbody>\n",
       "</table>\n",
       "</div>"
      ],
      "text/plain": [
       "    uid                                      data_provider   region  \\\n",
       "0  aabm                 Indiana State Department of Health  midwest   \n",
       "1  aabn     California Environmental Data Exchange Network     west   \n",
       "2  aacd  N.C. Division of Water Resources N.C. Departme...    south   \n",
       "\n",
       "    latitude   longitude       date  density_cells_per_ml  severity  \\\n",
       "0  39.080319  -86.430867 2018-05-14                 585.0         1   \n",
       "1  36.559700 -121.510000 2016-08-31             5867500.0         4   \n",
       "2  35.875083  -78.878434 2020-11-19                 290.0         1   \n",
       "\n",
       "   distance_to_water_m  \n",
       "0                  0.0  \n",
       "1               3512.0  \n",
       "2                514.0  "
      ]
     },
     "execution_count": 4,
     "metadata": {},
     "output_type": "execute_result"
    }
   ],
   "source": [
    "df = pd.read_csv(\n",
    "    AnyPath(\n",
    "        \"s3://drivendata-competition-nasa-cyanobacteria/data/final/combined_final_release.csv\"\n",
    "    )\n",
    ")\n",
    "df[\"date\"] = pd.to_datetime(df.date)\n",
    "df.head(3)"
   ]
  },
  {
   "cell_type": "markdown",
   "id": "601ace1e-94dc-404e-bfbd-9a9af14eaf1b",
   "metadata": {},
   "source": [
    "### Select subset of samples"
   ]
  },
  {
   "cell_type": "code",
   "execution_count": 5,
   "id": "dfd63acd-97bd-4e75-a2c2-defa1d1e1938",
   "metadata": {},
   "outputs": [
    {
     "name": "stdout",
     "output_type": "stream",
     "text": [
      "6722 samples in water\n",
      "2320 unique locations\n"
     ]
    },
    {
     "data": {
      "text/html": [
       "<div>\n",
       "<style scoped>\n",
       "    .dataframe tbody tr th:only-of-type {\n",
       "        vertical-align: middle;\n",
       "    }\n",
       "\n",
       "    .dataframe tbody tr th {\n",
       "        vertical-align: top;\n",
       "    }\n",
       "\n",
       "    .dataframe thead th {\n",
       "        text-align: right;\n",
       "    }\n",
       "</style>\n",
       "<table border=\"1\" class=\"dataframe\">\n",
       "  <thead>\n",
       "    <tr style=\"text-align: right;\">\n",
       "      <th></th>\n",
       "      <th>latitude</th>\n",
       "      <th>longitude</th>\n",
       "      <th>uid</th>\n",
       "      <th>data_provider</th>\n",
       "      <th>region</th>\n",
       "      <th>date</th>\n",
       "      <th>density_cells_per_ml</th>\n",
       "      <th>severity</th>\n",
       "      <th>distance_to_water_m</th>\n",
       "    </tr>\n",
       "  </thead>\n",
       "  <tbody>\n",
       "    <tr>\n",
       "      <th>863</th>\n",
       "      <td>37.824933</td>\n",
       "      <td>-99.916659</td>\n",
       "      <td>acpk</td>\n",
       "      <td>Bureau of Water Kansas Department of Health an...</td>\n",
       "      <td>midwest</td>\n",
       "      <td>2021-08-16</td>\n",
       "      <td>201641.0</td>\n",
       "      <td>3</td>\n",
       "      <td>0.0</td>\n",
       "    </tr>\n",
       "  </tbody>\n",
       "</table>\n",
       "</div>"
      ],
      "text/plain": [
       "      latitude  longitude   uid  \\\n",
       "863  37.824933 -99.916659  acpk   \n",
       "\n",
       "                                         data_provider   region       date  \\\n",
       "863  Bureau of Water Kansas Department of Health an...  midwest 2021-08-16   \n",
       "\n",
       "     density_cells_per_ml  severity  distance_to_water_m  \n",
       "863              201641.0         3                  0.0  "
      ]
     },
     "execution_count": 5,
     "metadata": {},
     "output_type": "execute_result"
    }
   ],
   "source": [
    "# subset to points in water bodies\n",
    "subset = df[df.distance_to_water_m == 0]\n",
    "print(f\"{subset.shape[0]} samples in water\")\n",
    "\n",
    "# only have max 1 example at each location\n",
    "subset = subset.sample(frac=1, random_state=3)\n",
    "subset = subset.groupby([\"latitude\", \"longitude\"], as_index=False).first()\n",
    "print(f\"{subset.shape[0]} unique locations\")\n",
    "\n",
    "subset = subset.sample(n=5, random_state=3)\n",
    "subset.head(1)"
   ]
  },
  {
   "cell_type": "code",
   "execution_count": 6,
   "id": "93413c49-6f31-48f0-85a3-cb1efb157621",
   "metadata": {},
   "outputs": [
    {
     "data": {
      "text/plain": [
       "region\n",
       "midwest      2\n",
       "west         1\n",
       "northeast    1\n",
       "south        1\n",
       "Name: count, dtype: int64"
      ]
     },
     "execution_count": 6,
     "metadata": {},
     "output_type": "execute_result"
    }
   ],
   "source": [
    "subset.region.value_counts()"
   ]
  },
  {
   "cell_type": "code",
   "execution_count": 7,
   "id": "0a5ebf17-5d81-4df5-a257-a6ef955ce526",
   "metadata": {},
   "outputs": [
    {
     "data": {
      "text/plain": [
       "severity\n",
       "1    1\n",
       "3    4\n",
       "Name: count, dtype: int64"
      ]
     },
     "execution_count": 7,
     "metadata": {},
     "output_type": "execute_result"
    }
   ],
   "source": [
    "subset.severity.value_counts().sort_index()"
   ]
  },
  {
   "cell_type": "code",
   "execution_count": 8,
   "id": "90118083-96bc-4901-8c1f-9fb84d326ed9",
   "metadata": {},
   "outputs": [
    {
     "data": {
      "image/png": "[encoded data removed]",
      "text/plain": [
       "<Figure size 640x480 with 1 Axes>"
      ]
     },
     "metadata": {},
     "output_type": "display_data"
    }
   ],
   "source": [
    "# see on a map where these samples are\n",
    "plot_map(subset)\n",
    "plt.show()"
   ]
  },
  {
   "cell_type": "markdown",
   "id": "5ddb0f1e-c4dc-4871-977a-b0f953fe2e23",
   "metadata": {},
   "source": [
    "### Add temporal checks"
   ]
  },
  {
   "cell_type": "code",
   "execution_count": 9,
   "id": "eeaf2b37-12a7-427c-baf5-6513d6d10cdf",
   "metadata": {},
   "outputs": [
    {
     "data": {
      "text/plain": [
       "(25, 3)"
      ]
     },
     "execution_count": 9,
     "metadata": {},
     "output_type": "execute_result"
    }
   ],
   "source": [
    "predict_df = []\n",
    "\n",
    "for sample in subset.itertuples():\n",
    "    predict_df.append(\n",
    "        pd.DataFrame(\n",
    "            {\n",
    "                \"latitude\": sample.latitude,\n",
    "                \"longitude\": sample.longitude,\n",
    "                # 4 week range for each sample\n",
    "                # 7 days between samples\n",
    "                \"date\": pd.date_range(\n",
    "                    start=sample.date - timedelta(days=14),\n",
    "                    end=sample.date + timedelta(days=14),\n",
    "                    freq=\"7d\",\n",
    "                    inclusive=\"both\",\n",
    "                ),\n",
    "            }\n",
    "        )\n",
    "    )\n",
    "\n",
    "predict_df = pd.concat(predict_df)\n",
    "predict_df.shape"
   ]
  },
  {
   "cell_type": "code",
   "execution_count": 10,
   "id": "54fd4cd0-0494-4d08-9cc8-9fdf446dd583",
   "metadata": {},
   "outputs": [
    {
     "data": {
      "text/html": [
       "<div>\n",
       "<style scoped>\n",
       "    .dataframe tbody tr th:only-of-type {\n",
       "        vertical-align: middle;\n",
       "    }\n",
       "\n",
       "    .dataframe tbody tr th {\n",
       "        vertical-align: top;\n",
       "    }\n",
       "\n",
       "    .dataframe thead th {\n",
       "        text-align: right;\n",
       "    }\n",
       "</style>\n",
       "<table border=\"1\" class=\"dataframe\">\n",
       "  <thead>\n",
       "    <tr style=\"text-align: right;\">\n",
       "      <th></th>\n",
       "      <th>latitude</th>\n",
       "      <th>longitude</th>\n",
       "      <th>date</th>\n",
       "    </tr>\n",
       "  </thead>\n",
       "  <tbody>\n",
       "    <tr>\n",
       "      <th>0</th>\n",
       "      <td>37.824933</td>\n",
       "      <td>-99.916659</td>\n",
       "      <td>2021-08-02</td>\n",
       "    </tr>\n",
       "    <tr>\n",
       "      <th>1</th>\n",
       "      <td>37.824933</td>\n",
       "      <td>-99.916659</td>\n",
       "      <td>2021-08-09</td>\n",
       "    </tr>\n",
       "    <tr>\n",
       "      <th>2</th>\n",
       "      <td>37.824933</td>\n",
       "      <td>-99.916659</td>\n",
       "      <td>2021-08-16</td>\n",
       "    </tr>\n",
       "    <tr>\n",
       "      <th>3</th>\n",
       "      <td>37.824933</td>\n",
       "      <td>-99.916659</td>\n",
       "      <td>2021-08-23</td>\n",
       "    </tr>\n",
       "    <tr>\n",
       "      <th>4</th>\n",
       "      <td>37.824933</td>\n",
       "      <td>-99.916659</td>\n",
       "      <td>2021-08-30</td>\n",
       "    </tr>\n",
       "    <tr>\n",
       "      <th>0</th>\n",
       "      <td>46.428900</td>\n",
       "      <td>-94.123490</td>\n",
       "      <td>2017-07-11</td>\n",
       "    </tr>\n",
       "    <tr>\n",
       "      <th>1</th>\n",
       "      <td>46.428900</td>\n",
       "      <td>-94.123490</td>\n",
       "      <td>2017-07-18</td>\n",
       "    </tr>\n",
       "    <tr>\n",
       "      <th>2</th>\n",
       "      <td>46.428900</td>\n",
       "      <td>-94.123490</td>\n",
       "      <td>2017-07-25</td>\n",
       "    </tr>\n",
       "    <tr>\n",
       "      <th>3</th>\n",
       "      <td>46.428900</td>\n",
       "      <td>-94.123490</td>\n",
       "      <td>2017-08-01</td>\n",
       "    </tr>\n",
       "    <tr>\n",
       "      <th>4</th>\n",
       "      <td>46.428900</td>\n",
       "      <td>-94.123490</td>\n",
       "      <td>2017-08-08</td>\n",
       "    </tr>\n",
       "    <tr>\n",
       "      <th>0</th>\n",
       "      <td>47.896510</td>\n",
       "      <td>-122.882400</td>\n",
       "      <td>2017-08-14</td>\n",
       "    </tr>\n",
       "    <tr>\n",
       "      <th>1</th>\n",
       "      <td>47.896510</td>\n",
       "      <td>-122.882400</td>\n",
       "      <td>2017-08-21</td>\n",
       "    </tr>\n",
       "    <tr>\n",
       "      <th>2</th>\n",
       "      <td>47.896510</td>\n",
       "      <td>-122.882400</td>\n",
       "      <td>2017-08-28</td>\n",
       "    </tr>\n",
       "    <tr>\n",
       "      <th>3</th>\n",
       "      <td>47.896510</td>\n",
       "      <td>-122.882400</td>\n",
       "      <td>2017-09-04</td>\n",
       "    </tr>\n",
       "    <tr>\n",
       "      <th>4</th>\n",
       "      <td>47.896510</td>\n",
       "      <td>-122.882400</td>\n",
       "      <td>2017-09-11</td>\n",
       "    </tr>\n",
       "    <tr>\n",
       "      <th>0</th>\n",
       "      <td>41.405200</td>\n",
       "      <td>-75.254300</td>\n",
       "      <td>2019-07-23</td>\n",
       "    </tr>\n",
       "    <tr>\n",
       "      <th>1</th>\n",
       "      <td>41.405200</td>\n",
       "      <td>-75.254300</td>\n",
       "      <td>2019-07-30</td>\n",
       "    </tr>\n",
       "    <tr>\n",
       "      <th>2</th>\n",
       "      <td>41.405200</td>\n",
       "      <td>-75.254300</td>\n",
       "      <td>2019-08-06</td>\n",
       "    </tr>\n",
       "    <tr>\n",
       "      <th>3</th>\n",
       "      <td>41.405200</td>\n",
       "      <td>-75.254300</td>\n",
       "      <td>2019-08-13</td>\n",
       "    </tr>\n",
       "    <tr>\n",
       "      <th>4</th>\n",
       "      <td>41.405200</td>\n",
       "      <td>-75.254300</td>\n",
       "      <td>2019-08-20</td>\n",
       "    </tr>\n",
       "    <tr>\n",
       "      <th>0</th>\n",
       "      <td>34.300000</td>\n",
       "      <td>-78.000000</td>\n",
       "      <td>2018-05-08</td>\n",
       "    </tr>\n",
       "    <tr>\n",
       "      <th>1</th>\n",
       "      <td>34.300000</td>\n",
       "      <td>-78.000000</td>\n",
       "      <td>2018-05-15</td>\n",
       "    </tr>\n",
       "    <tr>\n",
       "      <th>2</th>\n",
       "      <td>34.300000</td>\n",
       "      <td>-78.000000</td>\n",
       "      <td>2018-05-22</td>\n",
       "    </tr>\n",
       "    <tr>\n",
       "      <th>3</th>\n",
       "      <td>34.300000</td>\n",
       "      <td>-78.000000</td>\n",
       "      <td>2018-05-29</td>\n",
       "    </tr>\n",
       "    <tr>\n",
       "      <th>4</th>\n",
       "      <td>34.300000</td>\n",
       "      <td>-78.000000</td>\n",
       "      <td>2018-06-05</td>\n",
       "    </tr>\n",
       "  </tbody>\n",
       "</table>\n",
       "</div>"
      ],
      "text/plain": [
       "    latitude   longitude       date\n",
       "0  37.824933  -99.916659 2021-08-02\n",
       "1  37.824933  -99.916659 2021-08-09\n",
       "2  37.824933  -99.916659 2021-08-16\n",
       "3  37.824933  -99.916659 2021-08-23\n",
       "4  37.824933  -99.916659 2021-08-30\n",
       "0  46.428900  -94.123490 2017-07-11\n",
       "1  46.428900  -94.123490 2017-07-18\n",
       "2  46.428900  -94.123490 2017-07-25\n",
       "3  46.428900  -94.123490 2017-08-01\n",
       "4  46.428900  -94.123490 2017-08-08\n",
       "0  47.896510 -122.882400 2017-08-14\n",
       "1  47.896510 -122.882400 2017-08-21\n",
       "2  47.896510 -122.882400 2017-08-28\n",
       "3  47.896510 -122.882400 2017-09-04\n",
       "4  47.896510 -122.882400 2017-09-11\n",
       "0  41.405200  -75.254300 2019-07-23\n",
       "1  41.405200  -75.254300 2019-07-30\n",
       "2  41.405200  -75.254300 2019-08-06\n",
       "3  41.405200  -75.254300 2019-08-13\n",
       "4  41.405200  -75.254300 2019-08-20\n",
       "0  34.300000  -78.000000 2018-05-08\n",
       "1  34.300000  -78.000000 2018-05-15\n",
       "2  34.300000  -78.000000 2018-05-22\n",
       "3  34.300000  -78.000000 2018-05-29\n",
       "4  34.300000  -78.000000 2018-06-05"
      ]
     },
     "execution_count": 10,
     "metadata": {},
     "output_type": "execute_result"
    }
   ],
   "source": [
    "predict_df"
   ]
  },
  {
   "cell_type": "code",
   "execution_count": 11,
   "id": "e608b634-4aeb-43ee-a2dc-95152066bdb7",
   "metadata": {},
   "outputs": [
    {
     "name": "stdout",
     "output_type": "stream",
     "text": [
      "Samples for prediction saved to s3://drivendata-competition-nasa-cyanobacteria/experiments/splits/temporal_check_samples.csv\n"
     ]
    }
   ],
   "source": [
    "save_to = AnyPath(\n",
    "    \"s3://drivendata-competition-nasa-cyanobacteria/experiments/splits/temporal_check_samples.csv\"\n",
    ")\n",
    "\n",
    "with save_to.open(\"w+\") as f:\n",
    "    predict_df.to_csv(f, index=False)\n",
    "\n",
    "print(f\"Samples for prediction saved to {save_to}\")"
   ]
  },
  {
   "cell_type": "code",
   "execution_count": 12,
   "id": "bb59ca56-0cea-4e5d-8f7c-09fc85e756d2",
   "metadata": {},
   "outputs": [],
   "source": [
    "from pathlib import Path"
   ]
  },
  {
   "cell_type": "code",
   "execution_count": 13,
   "id": "dc7252c0-c5f5-46a4-932b-48234162c06b",
   "metadata": {},
   "outputs": [],
   "source": [
    "predict_df.to_csv(\"../temporal_check_samples.csv\", index=False)"
   ]
  },
  {
   "cell_type": "markdown",
   "id": "709ac765-ff56-4399-a8af-b525175bde8f",
   "metadata": {},
   "source": [
    "`python cyano/cli.py predict temporal_check_samples.csv --output-path temporal_check_preds.csv`"
   ]
  },
  {
   "cell_type": "code",
   "execution_count": null,
   "id": "149ad62c-a0b1-44d2-98cf-388a053a6766",
   "metadata": {},
   "outputs": [],
   "source": []
  },
  {
   "cell_type": "code",
   "execution_count": null,
   "id": "a7ea50f1-a9cc-4382-9f7d-4c97d93ce8dc",
   "metadata": {},
   "outputs": [],
   "source": []
  },
  {
   "cell_type": "code",
   "execution_count": null,
   "id": "8b5297d6-9c7f-4e5b-a872-fd8e57816138",
   "metadata": {},
   "outputs": [],
   "source": []
  },
  {
   "cell_type": "code",
   "execution_count": null,
   "id": "45c0845a-ff9a-4c07-8b0a-4308c727523e",
   "metadata": {},
   "outputs": [],
   "source": []
  }
 ],
 "metadata": {
  "kernelspec": {
   "display_name": "Python 3 (ipykernel)",
   "language": "python",
   "name": "python3"
  },
  "language_info": {
   "codemirror_mode": {
    "name": "ipython",
    "version": 3
   },
   "file_extension": ".py",
   "mimetype": "text/x-python",
   "name": "python",
   "nbconvert_exporter": "python",
   "pygments_lexer": "ipython3",
   "version": "3.10.12"
  }
 },
 "nbformat": 4,
 "nbformat_minor": 5
}
