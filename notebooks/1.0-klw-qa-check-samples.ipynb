{
 "cells": [
  {
   "cell_type": "markdown",
   "id": "21a4a40f-0128-4720-84a6-f2d50e28c518",
   "metadata": {},
   "source": [
    "Generate list of samples to use for QA checks for temporal consistency"
   ]
  },
  {
   "cell_type": "code",
   "execution_count": 1,
   "id": "3bca3fc8-b3df-4aca-8a67-0b31d6e87332",
   "metadata": {},
   "outputs": [],
   "source": [
    "%load_ext lab_black"
   ]
  },
  {
   "cell_type": "code",
   "execution_count": 2,
   "id": "230ad864-6ebd-4b97-8cd4-98d0f3e345f2",
   "metadata": {},
   "outputs": [],
   "source": [
    "from datetime import timedelta\n",
    "\n",
    "from cloudpathlib import AnyPath\n",
    "import geopandas as gpd\n",
    "import matplotlib.pyplot as plt\n",
    "import pandas as pd\n",
    "from pathlib import Path\n",
    "from shapely.geometry import Point\n",
    "\n",
    "from cyano.data.utils import add_unique_identifier"
   ]
  },
  {
   "cell_type": "code",
   "execution_count": 3,
   "id": "b384aa6e-4eed-4db6-b2e3-825066430af6",
   "metadata": {},
   "outputs": [],
   "source": [
    "EXPERIMENT_DIR = Path(\"../experiments/results/temporal_qa_checks/\")\n",
    "EXPERIMENT_DIR.mkdir(exist_ok=True, parents=True)"
   ]
  },
  {
   "cell_type": "code",
   "execution_count": 4,
   "id": "d53a5679-dc97-4cfb-b7c7-5e71d2eb621a",
   "metadata": {},
   "outputs": [
    {
     "data": {
      "text/html": [
       "<div>\n",
       "<style scoped>\n",
       "    .dataframe tbody tr th:only-of-type {\n",
       "        vertical-align: middle;\n",
       "    }\n",
       "\n",
       "    .dataframe tbody tr th {\n",
       "        vertical-align: top;\n",
       "    }\n",
       "\n",
       "    .dataframe thead th {\n",
       "        text-align: right;\n",
       "    }\n",
       "</style>\n",
       "<table border=\"1\" class=\"dataframe\">\n",
       "  <thead>\n",
       "    <tr style=\"text-align: right;\">\n",
       "      <th></th>\n",
       "      <th>uid</th>\n",
       "      <th>data_provider</th>\n",
       "      <th>region</th>\n",
       "      <th>latitude</th>\n",
       "      <th>longitude</th>\n",
       "      <th>date</th>\n",
       "      <th>density_cells_per_ml</th>\n",
       "      <th>severity</th>\n",
       "      <th>distance_to_water_m</th>\n",
       "      <th>log_density</th>\n",
       "    </tr>\n",
       "  </thead>\n",
       "  <tbody>\n",
       "    <tr>\n",
       "      <th>0</th>\n",
       "      <td>aabn</td>\n",
       "      <td>California Environmental Data Exchange Network</td>\n",
       "      <td>west</td>\n",
       "      <td>36.559700</td>\n",
       "      <td>-121.51000</td>\n",
       "      <td>2016-08-31</td>\n",
       "      <td>5.867500e+06</td>\n",
       "      <td>4</td>\n",
       "      <td>3512.0</td>\n",
       "      <td>15.584939</td>\n",
       "    </tr>\n",
       "    <tr>\n",
       "      <th>1</th>\n",
       "      <td>aair</td>\n",
       "      <td>California Environmental Data Exchange Network</td>\n",
       "      <td>west</td>\n",
       "      <td>33.042600</td>\n",
       "      <td>-117.07600</td>\n",
       "      <td>2014-11-01</td>\n",
       "      <td>2.769000e+06</td>\n",
       "      <td>4</td>\n",
       "      <td>195.0</td>\n",
       "      <td>14.833997</td>\n",
       "    </tr>\n",
       "    <tr>\n",
       "      <th>2</th>\n",
       "      <td>aajw</td>\n",
       "      <td>US Army Corps of Engineers</td>\n",
       "      <td>northeast</td>\n",
       "      <td>40.703968</td>\n",
       "      <td>-80.29305</td>\n",
       "      <td>2015-08-26</td>\n",
       "      <td>2.451087e+03</td>\n",
       "      <td>1</td>\n",
       "      <td>0.0</td>\n",
       "      <td>7.804695</td>\n",
       "    </tr>\n",
       "  </tbody>\n",
       "</table>\n",
       "</div>"
      ],
      "text/plain": [
       "    uid                                   data_provider     region   latitude  \\\n",
       "0  aabn  California Environmental Data Exchange Network       west  36.559700   \n",
       "1  aair  California Environmental Data Exchange Network       west  33.042600   \n",
       "2  aajw                      US Army Corps of Engineers  northeast  40.703968   \n",
       "\n",
       "   longitude       date  density_cells_per_ml  severity  distance_to_water_m  \\\n",
       "0 -121.51000 2016-08-31          5.867500e+06         4               3512.0   \n",
       "1 -117.07600 2014-11-01          2.769000e+06         4                195.0   \n",
       "2  -80.29305 2015-08-26          2.451087e+03         1                  0.0   \n",
       "\n",
       "   log_density  \n",
       "0    15.584939  \n",
       "1    14.833997  \n",
       "2     7.804695  "
      ]
     },
     "execution_count": 4,
     "metadata": {},
     "output_type": "execute_result"
    }
   ],
   "source": [
    "df = pd.read_csv(\n",
    "    AnyPath(\n",
    "        \"s3://drivendata-competition-nasa-cyanobacteria/experiments/splits/competition/test.csv\"\n",
    "    )\n",
    ")\n",
    "df[\"date\"] = pd.to_datetime(df.date)\n",
    "df.head(3)"
   ]
  },
  {
   "cell_type": "markdown",
   "id": "601ace1e-94dc-404e-bfbd-9a9af14eaf1b",
   "metadata": {},
   "source": [
    "### Select subset of samples"
   ]
  },
  {
   "cell_type": "code",
   "execution_count": 5,
   "id": "dfd63acd-97bd-4e75-a2c2-defa1d1e1938",
   "metadata": {},
   "outputs": [
    {
     "name": "stdout",
     "output_type": "stream",
     "text": [
      "Narrowed to 2,680 samples in water\n",
      "Narrowed to 850 unique locations\n"
     ]
    },
    {
     "data": {
      "text/html": [
       "<div>\n",
       "<style scoped>\n",
       "    .dataframe tbody tr th:only-of-type {\n",
       "        vertical-align: middle;\n",
       "    }\n",
       "\n",
       "    .dataframe tbody tr th {\n",
       "        vertical-align: top;\n",
       "    }\n",
       "\n",
       "    .dataframe thead th {\n",
       "        text-align: right;\n",
       "    }\n",
       "</style>\n",
       "<table border=\"1\" class=\"dataframe\">\n",
       "  <thead>\n",
       "    <tr style=\"text-align: right;\">\n",
       "      <th></th>\n",
       "      <th>latitude</th>\n",
       "      <th>longitude</th>\n",
       "      <th>uid</th>\n",
       "      <th>data_provider</th>\n",
       "      <th>region</th>\n",
       "      <th>date</th>\n",
       "      <th>density_cells_per_ml</th>\n",
       "      <th>severity</th>\n",
       "      <th>distance_to_water_m</th>\n",
       "      <th>log_density</th>\n",
       "    </tr>\n",
       "    <tr>\n",
       "      <th>sample_id</th>\n",
       "      <th></th>\n",
       "      <th></th>\n",
       "      <th></th>\n",
       "      <th></th>\n",
       "      <th></th>\n",
       "      <th></th>\n",
       "      <th></th>\n",
       "      <th></th>\n",
       "      <th></th>\n",
       "      <th></th>\n",
       "    </tr>\n",
       "  </thead>\n",
       "  <tbody>\n",
       "    <tr>\n",
       "      <th>62e60b0aaa2e7df569988355e48a40b0</th>\n",
       "      <td>36.50000</td>\n",
       "      <td>-79.066285</td>\n",
       "      <td>nmdb</td>\n",
       "      <td>N.C. Division of Water Resources N.C. Departme...</td>\n",
       "      <td>south</td>\n",
       "      <td>2019-05-28</td>\n",
       "      <td>16011.0</td>\n",
       "      <td>1</td>\n",
       "      <td>0.0</td>\n",
       "      <td>9.681094</td>\n",
       "    </tr>\n",
       "    <tr>\n",
       "      <th>e4585bbce572a9be6aee1411be3c1dbe</th>\n",
       "      <td>39.49277</td>\n",
       "      <td>-79.794220</td>\n",
       "      <td>ihyj</td>\n",
       "      <td>EPA National Aquatic Research Survey</td>\n",
       "      <td>south</td>\n",
       "      <td>2017-08-23</td>\n",
       "      <td>296870.0</td>\n",
       "      <td>3</td>\n",
       "      <td>0.0</td>\n",
       "      <td>12.601053</td>\n",
       "    </tr>\n",
       "    <tr>\n",
       "      <th>f08649ed7d39f6ca06a6f97336a75b45</th>\n",
       "      <td>36.50000</td>\n",
       "      <td>-79.067225</td>\n",
       "      <td>ryeu</td>\n",
       "      <td>N.C. Division of Water Resources N.C. Departme...</td>\n",
       "      <td>south</td>\n",
       "      <td>2019-09-19</td>\n",
       "      <td>1452.0</td>\n",
       "      <td>1</td>\n",
       "      <td>0.0</td>\n",
       "      <td>7.281386</td>\n",
       "    </tr>\n",
       "  </tbody>\n",
       "</table>\n",
       "</div>"
      ],
      "text/plain": [
       "                                  latitude  longitude   uid  \\\n",
       "sample_id                                                     \n",
       "62e60b0aaa2e7df569988355e48a40b0  36.50000 -79.066285  nmdb   \n",
       "e4585bbce572a9be6aee1411be3c1dbe  39.49277 -79.794220  ihyj   \n",
       "f08649ed7d39f6ca06a6f97336a75b45  36.50000 -79.067225  ryeu   \n",
       "\n",
       "                                                                      data_provider  \\\n",
       "sample_id                                                                             \n",
       "62e60b0aaa2e7df569988355e48a40b0  N.C. Division of Water Resources N.C. Departme...   \n",
       "e4585bbce572a9be6aee1411be3c1dbe               EPA National Aquatic Research Survey   \n",
       "f08649ed7d39f6ca06a6f97336a75b45  N.C. Division of Water Resources N.C. Departme...   \n",
       "\n",
       "                                 region       date  density_cells_per_ml  \\\n",
       "sample_id                                                                  \n",
       "62e60b0aaa2e7df569988355e48a40b0  south 2019-05-28               16011.0   \n",
       "e4585bbce572a9be6aee1411be3c1dbe  south 2017-08-23              296870.0   \n",
       "f08649ed7d39f6ca06a6f97336a75b45  south 2019-09-19                1452.0   \n",
       "\n",
       "                                  severity  distance_to_water_m  log_density  \n",
       "sample_id                                                                     \n",
       "62e60b0aaa2e7df569988355e48a40b0         1                  0.0     9.681094  \n",
       "e4585bbce572a9be6aee1411be3c1dbe         3                  0.0    12.601053  \n",
       "f08649ed7d39f6ca06a6f97336a75b45         1                  0.0     7.281386  "
      ]
     },
     "execution_count": 5,
     "metadata": {},
     "output_type": "execute_result"
    }
   ],
   "source": [
    "# subset to points in water bodies\n",
    "subset = df[df.distance_to_water_m == 0]\n",
    "print(f\"Narrowed to {subset.shape[0]:,} samples in water\")\n",
    "\n",
    "# only have max 1 example at each location\n",
    "subset = subset.sample(frac=1, random_state=3)\n",
    "subset = subset.groupby([\"latitude\", \"longitude\"], as_index=False).first()\n",
    "print(f\"Narrowed to {subset.shape[0]:,} unique locations\")\n",
    "\n",
    "# take some from each region\n",
    "subset = pd.concat(\n",
    "    [\n",
    "        subset[subset.region == region].sample(n=7, random_state=2)\n",
    "        for region in subset.region.unique()\n",
    "    ]\n",
    ")\n",
    "subset = add_unique_identifier(subset)\n",
    "\n",
    "subset.head(3)"
   ]
  },
  {
   "cell_type": "code",
   "execution_count": 6,
   "id": "90118083-96bc-4901-8c1f-9fb84d326ed9",
   "metadata": {},
   "outputs": [
    {
     "data": {
      "image/png": "[encoded data removed]",
      "text/plain": [
       "<Figure size 640x480 with 1 Axes>"
      ]
     },
     "metadata": {},
     "output_type": "display_data"
    }
   ],
   "source": [
    "# see on a map where these samples are\n",
    "_, ax = plt.subplots()\n",
    "\n",
    "STATES_SHAPEFILE = gpd.GeoDataFrame.from_file(\n",
    "    \"../../competition-nasa-cyanobacteria/data/raw/cb_2018_us_state_500k/cb_2018_us_state_500k.shp\"\n",
    ")\n",
    "STATES_SHAPEFILE.plot(color=\"ghostwhite\", edgecolor=\"lightgray\", ax=ax)\n",
    "\n",
    "geometry = [Point(xy) for xy in zip(subset.longitude, subset.latitude)]\n",
    "gdf = gpd.GeoDataFrame(subset, geometry=geometry)\n",
    "gdf.plot(ax=ax, markersize=5)\n",
    "\n",
    "ax.set_xlim([-125, -65])\n",
    "ax.set_ylim([25, 50])\n",
    "plt.show()"
   ]
  },
  {
   "cell_type": "code",
   "execution_count": 7,
   "id": "0a5ebf17-5d81-4df5-a257-a6ef955ce526",
   "metadata": {},
   "outputs": [
    {
     "data": {
      "text/plain": [
       "severity\n",
       "1    16\n",
       "2     5\n",
       "3     7\n",
       "Name: count, dtype: int64"
      ]
     },
     "execution_count": 7,
     "metadata": {},
     "output_type": "execute_result"
    }
   ],
   "source": [
    "subset.severity.value_counts().sort_index()"
   ]
  },
  {
   "cell_type": "markdown",
   "id": "5ddb0f1e-c4dc-4871-977a-b0f953fe2e23",
   "metadata": {},
   "source": [
    "### Add temporal checks\n",
    "\n",
    "Add additional rows around each sample spanning 4 weeks"
   ]
  },
  {
   "cell_type": "code",
   "execution_count": 8,
   "id": "eeaf2b37-12a7-427c-baf5-6513d6d10cdf",
   "metadata": {},
   "outputs": [
    {
     "data": {
      "text/plain": [
       "(140, 5)"
      ]
     },
     "execution_count": 8,
     "metadata": {},
     "output_type": "execute_result"
    }
   ],
   "source": [
    "predict_df = []\n",
    "\n",
    "for sample in subset.itertuples():\n",
    "    predict_df.append(\n",
    "        pd.DataFrame(\n",
    "            {\n",
    "                \"latitude\": sample.latitude,\n",
    "                \"longitude\": sample.longitude,\n",
    "                # 4 week range for each sample\n",
    "                # 7 days between samples\n",
    "                \"date\": pd.date_range(\n",
    "                    start=sample.date - timedelta(days=14),\n",
    "                    end=sample.date + timedelta(days=14),\n",
    "                    freq=\"7d\",\n",
    "                    inclusive=\"both\",\n",
    "                ),\n",
    "                \"region\": sample.region,\n",
    "                \"original_sample_id\": sample.Index,\n",
    "            }\n",
    "        )\n",
    "    )\n",
    "\n",
    "predict_df = pd.concat(predict_df)\n",
    "predict_df.shape"
   ]
  },
  {
   "cell_type": "code",
   "execution_count": 9,
   "id": "54fd4cd0-0494-4d08-9cc8-9fdf446dd583",
   "metadata": {},
   "outputs": [
    {
     "data": {
      "text/html": [
       "<div>\n",
       "<style scoped>\n",
       "    .dataframe tbody tr th:only-of-type {\n",
       "        vertical-align: middle;\n",
       "    }\n",
       "\n",
       "    .dataframe tbody tr th {\n",
       "        vertical-align: top;\n",
       "    }\n",
       "\n",
       "    .dataframe thead th {\n",
       "        text-align: right;\n",
       "    }\n",
       "</style>\n",
       "<table border=\"1\" class=\"dataframe\">\n",
       "  <thead>\n",
       "    <tr style=\"text-align: right;\">\n",
       "      <th></th>\n",
       "      <th>latitude</th>\n",
       "      <th>longitude</th>\n",
       "      <th>date</th>\n",
       "      <th>region</th>\n",
       "      <th>original_sample_id</th>\n",
       "    </tr>\n",
       "  </thead>\n",
       "  <tbody>\n",
       "    <tr>\n",
       "      <th>0</th>\n",
       "      <td>36.5000</td>\n",
       "      <td>-79.066285</td>\n",
       "      <td>2019-05-14</td>\n",
       "      <td>south</td>\n",
       "      <td>62e60b0aaa2e7df569988355e48a40b0</td>\n",
       "    </tr>\n",
       "    <tr>\n",
       "      <th>1</th>\n",
       "      <td>36.5000</td>\n",
       "      <td>-79.066285</td>\n",
       "      <td>2019-05-21</td>\n",
       "      <td>south</td>\n",
       "      <td>62e60b0aaa2e7df569988355e48a40b0</td>\n",
       "    </tr>\n",
       "    <tr>\n",
       "      <th>2</th>\n",
       "      <td>36.5000</td>\n",
       "      <td>-79.066285</td>\n",
       "      <td>2019-05-28</td>\n",
       "      <td>south</td>\n",
       "      <td>62e60b0aaa2e7df569988355e48a40b0</td>\n",
       "    </tr>\n",
       "    <tr>\n",
       "      <th>3</th>\n",
       "      <td>36.5000</td>\n",
       "      <td>-79.066285</td>\n",
       "      <td>2019-06-04</td>\n",
       "      <td>south</td>\n",
       "      <td>62e60b0aaa2e7df569988355e48a40b0</td>\n",
       "    </tr>\n",
       "    <tr>\n",
       "      <th>4</th>\n",
       "      <td>36.5000</td>\n",
       "      <td>-79.066285</td>\n",
       "      <td>2019-06-11</td>\n",
       "      <td>south</td>\n",
       "      <td>62e60b0aaa2e7df569988355e48a40b0</td>\n",
       "    </tr>\n",
       "    <tr>\n",
       "      <th>...</th>\n",
       "      <td>...</td>\n",
       "      <td>...</td>\n",
       "      <td>...</td>\n",
       "      <td>...</td>\n",
       "      <td>...</td>\n",
       "    </tr>\n",
       "    <tr>\n",
       "      <th>0</th>\n",
       "      <td>41.9928</td>\n",
       "      <td>-72.131000</td>\n",
       "      <td>2018-07-05</td>\n",
       "      <td>northeast</td>\n",
       "      <td>cf5689d0a6ed3800382f102498896a91</td>\n",
       "    </tr>\n",
       "    <tr>\n",
       "      <th>1</th>\n",
       "      <td>41.9928</td>\n",
       "      <td>-72.131000</td>\n",
       "      <td>2018-07-12</td>\n",
       "      <td>northeast</td>\n",
       "      <td>cf5689d0a6ed3800382f102498896a91</td>\n",
       "    </tr>\n",
       "    <tr>\n",
       "      <th>2</th>\n",
       "      <td>41.9928</td>\n",
       "      <td>-72.131000</td>\n",
       "      <td>2018-07-19</td>\n",
       "      <td>northeast</td>\n",
       "      <td>cf5689d0a6ed3800382f102498896a91</td>\n",
       "    </tr>\n",
       "    <tr>\n",
       "      <th>3</th>\n",
       "      <td>41.9928</td>\n",
       "      <td>-72.131000</td>\n",
       "      <td>2018-07-26</td>\n",
       "      <td>northeast</td>\n",
       "      <td>cf5689d0a6ed3800382f102498896a91</td>\n",
       "    </tr>\n",
       "    <tr>\n",
       "      <th>4</th>\n",
       "      <td>41.9928</td>\n",
       "      <td>-72.131000</td>\n",
       "      <td>2018-08-02</td>\n",
       "      <td>northeast</td>\n",
       "      <td>cf5689d0a6ed3800382f102498896a91</td>\n",
       "    </tr>\n",
       "  </tbody>\n",
       "</table>\n",
       "<p>140 rows × 5 columns</p>\n",
       "</div>"
      ],
      "text/plain": [
       "    latitude  longitude       date     region  \\\n",
       "0    36.5000 -79.066285 2019-05-14      south   \n",
       "1    36.5000 -79.066285 2019-05-21      south   \n",
       "2    36.5000 -79.066285 2019-05-28      south   \n",
       "3    36.5000 -79.066285 2019-06-04      south   \n",
       "4    36.5000 -79.066285 2019-06-11      south   \n",
       "..       ...        ...        ...        ...   \n",
       "0    41.9928 -72.131000 2018-07-05  northeast   \n",
       "1    41.9928 -72.131000 2018-07-12  northeast   \n",
       "2    41.9928 -72.131000 2018-07-19  northeast   \n",
       "3    41.9928 -72.131000 2018-07-26  northeast   \n",
       "4    41.9928 -72.131000 2018-08-02  northeast   \n",
       "\n",
       "                  original_sample_id  \n",
       "0   62e60b0aaa2e7df569988355e48a40b0  \n",
       "1   62e60b0aaa2e7df569988355e48a40b0  \n",
       "2   62e60b0aaa2e7df569988355e48a40b0  \n",
       "3   62e60b0aaa2e7df569988355e48a40b0  \n",
       "4   62e60b0aaa2e7df569988355e48a40b0  \n",
       "..                               ...  \n",
       "0   cf5689d0a6ed3800382f102498896a91  \n",
       "1   cf5689d0a6ed3800382f102498896a91  \n",
       "2   cf5689d0a6ed3800382f102498896a91  \n",
       "3   cf5689d0a6ed3800382f102498896a91  \n",
       "4   cf5689d0a6ed3800382f102498896a91  \n",
       "\n",
       "[140 rows x 5 columns]"
      ]
     },
     "execution_count": 9,
     "metadata": {},
     "output_type": "execute_result"
    }
   ],
   "source": [
    "predict_df"
   ]
  },
  {
   "cell_type": "code",
   "execution_count": 10,
   "id": "f35d67de-1007-4c6c-b871-a9a349a44da5",
   "metadata": {},
   "outputs": [
    {
     "name": "stdout",
     "output_type": "stream",
     "text": [
      "Samples for prediction saved to ../experiments/results/temporal_qa_checks/samples.csv\n"
     ]
    }
   ],
   "source": [
    "save_to = EXPERIMENT_DIR / \"samples.csv\"\n",
    "save_to.parent.mkdir(exist_ok=True, parents=True)\n",
    "\n",
    "predict_df.to_csv(save_to, index=False)\n",
    "\n",
    "print(f\"Samples for prediction saved to {save_to}\")"
   ]
  },
  {
   "cell_type": "markdown",
   "id": "709ac765-ff56-4399-a8af-b525175bde8f",
   "metadata": {},
   "source": [
    "To generate predictions:\n",
    "\n",
    "`python cyano/cli.py predict experiments/results/temporal_qa_checks/samples.csv --output-path experiments/results/temporal_qa_checks/preds.csv`"
   ]
  },
  {
   "cell_type": "code",
   "execution_count": null,
   "id": "149ad62c-a0b1-44d2-98cf-388a053a6766",
   "metadata": {},
   "outputs": [],
   "source": []
  },
  {
   "cell_type": "code",
   "execution_count": null,
   "id": "a7ea50f1-a9cc-4382-9f7d-4c97d93ce8dc",
   "metadata": {},
   "outputs": [],
   "source": []
  },
  {
   "cell_type": "code",
   "execution_count": null,
   "id": "8b5297d6-9c7f-4e5b-a872-fd8e57816138",
   "metadata": {},
   "outputs": [],
   "source": []
  },
  {
   "cell_type": "code",
   "execution_count": null,
   "id": "45c0845a-ff9a-4c07-8b0a-4308c727523e",
   "metadata": {},
   "outputs": [],
   "source": []
  }
 ],
 "metadata": {
  "kernelspec": {
   "display_name": "Python 3 (ipykernel)",
   "language": "python",
   "name": "python3"
  },
  "language_info": {
   "codemirror_mode": {
    "name": "ipython",
    "version": 3
   },
   "file_extension": ".py",
   "mimetype": "text/x-python",
   "name": "python",
   "nbconvert_exporter": "python",
   "pygments_lexer": "ipython3",
   "version": "3.10.12"
  }
 },
 "nbformat": 4,
 "nbformat_minor": 5
}
