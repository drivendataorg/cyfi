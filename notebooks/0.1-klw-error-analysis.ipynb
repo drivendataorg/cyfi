{
 "cells": [
  {
   "cell_type": "markdown",
   "id": "5dbb66a5-bfa5-45be-b832-4c9b06fd9a77",
   "metadata": {},
   "source": [
    "Look into cases we get very wrong\n",
    "\n",
    "We'll look at the predictions from our best model - third place sentinel and land cover features, predicting log density, with folds and a higher number of boosted rounds."
   ]
  },
  {
   "cell_type": "code",
   "execution_count": null,
   "id": "469a4c01-bd02-423a-9a4c-ee4458cef811",
   "metadata": {},
   "outputs": [],
   "source": [
    "%load_ext autoreload\n",
    "%autoreload 2"
   ]
  },
  {
   "cell_type": "code",
   "execution_count": 16,
   "id": "a5883b54-335c-428d-b279-64e7844de911",
   "metadata": {},
   "outputs": [],
   "source": [
    "from cloudpathlib import AnyPath\n",
    "import pandas as pd\n",
    "\n",
    "from cyano.data.utils import add_unique_identifier"
   ]
  },
  {
   "cell_type": "code",
   "execution_count": 65,
   "id": "1a2de991-c123-4fc3-89f2-b29bf354d2ba",
   "metadata": {},
   "outputs": [
    {
     "data": {
      "text/html": [
       "<div>\n",
       "<style scoped>\n",
       "    .dataframe tbody tr th:only-of-type {\n",
       "        vertical-align: middle;\n",
       "    }\n",
       "\n",
       "    .dataframe tbody tr th {\n",
       "        vertical-align: top;\n",
       "    }\n",
       "\n",
       "    .dataframe thead th {\n",
       "        text-align: right;\n",
       "    }\n",
       "</style>\n",
       "<table border=\"1\" class=\"dataframe\">\n",
       "  <thead>\n",
       "    <tr style=\"text-align: right;\">\n",
       "      <th></th>\n",
       "      <th>uid</th>\n",
       "      <th>data_provider</th>\n",
       "      <th>region</th>\n",
       "      <th>latitude</th>\n",
       "      <th>longitude</th>\n",
       "      <th>date</th>\n",
       "      <th>density_cells_per_ml</th>\n",
       "      <th>severity</th>\n",
       "      <th>distance_to_water_m</th>\n",
       "    </tr>\n",
       "  </thead>\n",
       "  <tbody>\n",
       "    <tr>\n",
       "      <th>0</th>\n",
       "      <td>aabm</td>\n",
       "      <td>Indiana State Department of Health</td>\n",
       "      <td>midwest</td>\n",
       "      <td>39.080319</td>\n",
       "      <td>-86.430867</td>\n",
       "      <td>2018-05-14</td>\n",
       "      <td>585.0</td>\n",
       "      <td>1</td>\n",
       "      <td>0.0</td>\n",
       "    </tr>\n",
       "    <tr>\n",
       "      <th>1</th>\n",
       "      <td>aabn</td>\n",
       "      <td>California Environmental Data Exchange Network</td>\n",
       "      <td>west</td>\n",
       "      <td>36.559700</td>\n",
       "      <td>-121.510000</td>\n",
       "      <td>2016-08-31</td>\n",
       "      <td>5867500.0</td>\n",
       "      <td>4</td>\n",
       "      <td>3512.0</td>\n",
       "    </tr>\n",
       "    <tr>\n",
       "      <th>2</th>\n",
       "      <td>aacd</td>\n",
       "      <td>N.C. Division of Water Resources N.C. Departme...</td>\n",
       "      <td>south</td>\n",
       "      <td>35.875083</td>\n",
       "      <td>-78.878434</td>\n",
       "      <td>2020-11-19</td>\n",
       "      <td>290.0</td>\n",
       "      <td>1</td>\n",
       "      <td>514.0</td>\n",
       "    </tr>\n",
       "  </tbody>\n",
       "</table>\n",
       "</div>"
      ],
      "text/plain": [
       "    uid                                      data_provider   region  \\\n",
       "0  aabm                 Indiana State Department of Health  midwest   \n",
       "1  aabn     California Environmental Data Exchange Network     west   \n",
       "2  aacd  N.C. Division of Water Resources N.C. Departme...    south   \n",
       "\n",
       "    latitude   longitude        date  density_cells_per_ml  severity  \\\n",
       "0  39.080319  -86.430867  2018-05-14                 585.0         1   \n",
       "1  36.559700 -121.510000  2016-08-31             5867500.0         4   \n",
       "2  35.875083  -78.878434  2020-11-19                 290.0         1   \n",
       "\n",
       "   distance_to_water_m  \n",
       "0                  0.0  \n",
       "1               3512.0  \n",
       "2                514.0  "
      ]
     },
     "execution_count": 65,
     "metadata": {},
     "output_type": "execute_result"
    }
   ],
   "source": [
    "# load all metadata for reference\n",
    "meta = pd.read_csv(\n",
    "    AnyPath(\n",
    "        \"s3://drivendata-competition-nasa-cyanobacteria/data/final/combined_final_release.csv\"\n",
    "    )\n",
    ")\n",
    "meta.head(3)"
   ]
  },
  {
   "cell_type": "code",
   "execution_count": 12,
   "id": "9a317b58-00ce-4d3b-9637-f9b29319515f",
   "metadata": {},
   "outputs": [],
   "source": [
    "best_exp_dir = AnyPath(\n",
    "    \"s3://drivendata-competition-nasa-cyanobacteria/experiments/results/third_sentinel_with_folds\"\n",
    ")"
   ]
  },
  {
   "cell_type": "code",
   "execution_count": 17,
   "id": "e5798c1e-8570-486f-9594-bb44c5b15cf1",
   "metadata": {},
   "outputs": [
    {
     "data": {
      "text/html": [
       "<div>\n",
       "<style scoped>\n",
       "    .dataframe tbody tr th:only-of-type {\n",
       "        vertical-align: middle;\n",
       "    }\n",
       "\n",
       "    .dataframe tbody tr th {\n",
       "        vertical-align: top;\n",
       "    }\n",
       "\n",
       "    .dataframe thead th {\n",
       "        text-align: right;\n",
       "    }\n",
       "</style>\n",
       "<table border=\"1\" class=\"dataframe\">\n",
       "  <thead>\n",
       "    <tr style=\"text-align: right;\">\n",
       "      <th></th>\n",
       "      <th>date</th>\n",
       "      <th>latitude</th>\n",
       "      <th>longitude</th>\n",
       "      <th>log_density</th>\n",
       "      <th>severity</th>\n",
       "    </tr>\n",
       "    <tr>\n",
       "      <th>sample_id</th>\n",
       "      <th></th>\n",
       "      <th></th>\n",
       "      <th></th>\n",
       "      <th></th>\n",
       "      <th></th>\n",
       "    </tr>\n",
       "  </thead>\n",
       "  <tbody>\n",
       "    <tr>\n",
       "      <th>4a89ead93e2caa84da636236bb361e12</th>\n",
       "      <td>2016-08-31</td>\n",
       "      <td>36.559700</td>\n",
       "      <td>-121.51000</td>\n",
       "      <td>15.472787</td>\n",
       "      <td>4.0</td>\n",
       "    </tr>\n",
       "    <tr>\n",
       "      <th>a7e2d76f204ac347ae5529557eb7f665</th>\n",
       "      <td>2014-11-01</td>\n",
       "      <td>33.042600</td>\n",
       "      <td>-117.07600</td>\n",
       "      <td>NaN</td>\n",
       "      <td>NaN</td>\n",
       "    </tr>\n",
       "    <tr>\n",
       "      <th>6afcb31acb56fc25af76983df6a60d0a</th>\n",
       "      <td>2015-08-26</td>\n",
       "      <td>40.703968</td>\n",
       "      <td>-80.29305</td>\n",
       "      <td>NaN</td>\n",
       "      <td>NaN</td>\n",
       "    </tr>\n",
       "    <tr>\n",
       "      <th>494fb91d1fb8697e73b90e5d0c9420ed</th>\n",
       "      <td>2019-08-26</td>\n",
       "      <td>38.972500</td>\n",
       "      <td>-94.67293</td>\n",
       "      <td>10.436847</td>\n",
       "      <td>2.0</td>\n",
       "    </tr>\n",
       "    <tr>\n",
       "      <th>21e1f934b140745d1cde757090aa07fa</th>\n",
       "      <td>2018-01-08</td>\n",
       "      <td>34.279000</td>\n",
       "      <td>-118.90500</td>\n",
       "      <td>13.364631</td>\n",
       "      <td>3.0</td>\n",
       "    </tr>\n",
       "  </tbody>\n",
       "</table>\n",
       "</div>"
      ],
      "text/plain": [
       "                                        date   latitude  longitude  \\\n",
       "sample_id                                                            \n",
       "4a89ead93e2caa84da636236bb361e12  2016-08-31  36.559700 -121.51000   \n",
       "a7e2d76f204ac347ae5529557eb7f665  2014-11-01  33.042600 -117.07600   \n",
       "6afcb31acb56fc25af76983df6a60d0a  2015-08-26  40.703968  -80.29305   \n",
       "494fb91d1fb8697e73b90e5d0c9420ed  2019-08-26  38.972500  -94.67293   \n",
       "21e1f934b140745d1cde757090aa07fa  2018-01-08  34.279000 -118.90500   \n",
       "\n",
       "                                  log_density  severity  \n",
       "sample_id                                                \n",
       "4a89ead93e2caa84da636236bb361e12    15.472787       4.0  \n",
       "a7e2d76f204ac347ae5529557eb7f665          NaN       NaN  \n",
       "6afcb31acb56fc25af76983df6a60d0a          NaN       NaN  \n",
       "494fb91d1fb8697e73b90e5d0c9420ed    10.436847       2.0  \n",
       "21e1f934b140745d1cde757090aa07fa    13.364631       3.0  "
      ]
     },
     "execution_count": 17,
     "metadata": {},
     "output_type": "execute_result"
    }
   ],
   "source": [
    "# load best predictions\n",
    "preds = pd.read_csv(best_exp_dir / 'preds.csv', index_col=0)\n",
    "preds.head()"
   ]
  },
  {
   "cell_type": "code",
   "execution_count": 18,
   "id": "4877f6a8-033f-486a-b36f-2e734e4f1ffe",
   "metadata": {},
   "outputs": [
    {
     "data": {
      "text/html": [
       "<div>\n",
       "<style scoped>\n",
       "    .dataframe tbody tr th:only-of-type {\n",
       "        vertical-align: middle;\n",
       "    }\n",
       "\n",
       "    .dataframe tbody tr th {\n",
       "        vertical-align: top;\n",
       "    }\n",
       "\n",
       "    .dataframe thead th {\n",
       "        text-align: right;\n",
       "    }\n",
       "</style>\n",
       "<table border=\"1\" class=\"dataframe\">\n",
       "  <thead>\n",
       "    <tr style=\"text-align: right;\">\n",
       "      <th></th>\n",
       "      <th>uid</th>\n",
       "      <th>data_provider</th>\n",
       "      <th>region</th>\n",
       "      <th>latitude</th>\n",
       "      <th>longitude</th>\n",
       "      <th>date</th>\n",
       "      <th>density_cells_per_ml</th>\n",
       "      <th>severity</th>\n",
       "      <th>distance_to_water_m</th>\n",
       "      <th>log_density</th>\n",
       "    </tr>\n",
       "    <tr>\n",
       "      <th>sample_id</th>\n",
       "      <th></th>\n",
       "      <th></th>\n",
       "      <th></th>\n",
       "      <th></th>\n",
       "      <th></th>\n",
       "      <th></th>\n",
       "      <th></th>\n",
       "      <th></th>\n",
       "      <th></th>\n",
       "      <th></th>\n",
       "    </tr>\n",
       "  </thead>\n",
       "  <tbody>\n",
       "    <tr>\n",
       "      <th>4a89ead93e2caa84da636236bb361e12</th>\n",
       "      <td>aabn</td>\n",
       "      <td>California Environmental Data Exchange Network</td>\n",
       "      <td>west</td>\n",
       "      <td>36.5597</td>\n",
       "      <td>-121.510</td>\n",
       "      <td>2016-08-31</td>\n",
       "      <td>5867500.0</td>\n",
       "      <td>4</td>\n",
       "      <td>3512.0</td>\n",
       "      <td>15.584939</td>\n",
       "    </tr>\n",
       "    <tr>\n",
       "      <th>a7e2d76f204ac347ae5529557eb7f665</th>\n",
       "      <td>aair</td>\n",
       "      <td>California Environmental Data Exchange Network</td>\n",
       "      <td>west</td>\n",
       "      <td>33.0426</td>\n",
       "      <td>-117.076</td>\n",
       "      <td>2014-11-01</td>\n",
       "      <td>2769000.0</td>\n",
       "      <td>4</td>\n",
       "      <td>195.0</td>\n",
       "      <td>14.833997</td>\n",
       "    </tr>\n",
       "  </tbody>\n",
       "</table>\n",
       "</div>"
      ],
      "text/plain": [
       "                                   uid  \\\n",
       "sample_id                                \n",
       "4a89ead93e2caa84da636236bb361e12  aabn   \n",
       "a7e2d76f204ac347ae5529557eb7f665  aair   \n",
       "\n",
       "                                                                   data_provider  \\\n",
       "sample_id                                                                          \n",
       "4a89ead93e2caa84da636236bb361e12  California Environmental Data Exchange Network   \n",
       "a7e2d76f204ac347ae5529557eb7f665  California Environmental Data Exchange Network   \n",
       "\n",
       "                                 region  latitude  longitude        date  \\\n",
       "sample_id                                                                  \n",
       "4a89ead93e2caa84da636236bb361e12   west   36.5597   -121.510  2016-08-31   \n",
       "a7e2d76f204ac347ae5529557eb7f665   west   33.0426   -117.076  2014-11-01   \n",
       "\n",
       "                                  density_cells_per_ml  severity  \\\n",
       "sample_id                                                          \n",
       "4a89ead93e2caa84da636236bb361e12             5867500.0         4   \n",
       "a7e2d76f204ac347ae5529557eb7f665             2769000.0         4   \n",
       "\n",
       "                                  distance_to_water_m  log_density  \n",
       "sample_id                                                           \n",
       "4a89ead93e2caa84da636236bb361e12               3512.0    15.584939  \n",
       "a7e2d76f204ac347ae5529557eb7f665                195.0    14.833997  "
      ]
     },
     "execution_count": 18,
     "metadata": {},
     "output_type": "execute_result"
    }
   ],
   "source": [
    "# load actual\n",
    "true = pd.read_csv(\n",
    "    AnyPath(\n",
    "        \"s3://drivendata-competition-nasa-cyanobacteria/experiments/splits/competition/test.csv\"\n",
    "    )\n",
    ")\n",
    "true = add_unique_identifier(true)\n",
    "true.head(2)"
   ]
  },
  {
   "cell_type": "code",
   "execution_count": 24,
   "id": "103e4830-44cc-46c7-b148-573fa4aea8a9",
   "metadata": {},
   "outputs": [],
   "source": [
    "true['pred_severity']  = preds.loc[true.index].severity\n",
    "true['pred_log_density'] = preds.loc[true.index].log_density"
   ]
  },
  {
   "cell_type": "code",
   "execution_count": 25,
   "id": "eb76b8a6-4bba-4505-8ef0-f2eb221f0003",
   "metadata": {},
   "outputs": [
    {
     "data": {
      "text/plain": [
       "(36, 12)"
      ]
     },
     "execution_count": 25,
     "metadata": {},
     "output_type": "execute_result"
    }
   ],
   "source": [
    "# check samples with actual severity 1 but predicted severity 4\n",
    "check = true[(true.severity == 1) & (true.pred_severity == 4)]\n",
    "check.shape"
   ]
  },
  {
   "cell_type": "markdown",
   "id": "bf2a84ac-b2d6-4328-83c9-6cf5288790ab",
   "metadata": {},
   "source": [
    "## Check metadata\n",
    "\n",
    "What region are these from? What providers? "
   ]
  },
  {
   "cell_type": "code",
   "execution_count": 26,
   "id": "7466ef72-8da8-4d5b-9a5d-c0ce3a42f408",
   "metadata": {},
   "outputs": [
    {
     "data": {
      "text/plain": [
       "region\n",
       "south      29\n",
       "midwest     5\n",
       "west        2\n",
       "Name: count, dtype: int64"
      ]
     },
     "execution_count": 26,
     "metadata": {},
     "output_type": "execute_result"
    }
   ],
   "source": [
    "# almost all are in the south\n",
    "check.region.value_counts()"
   ]
  },
  {
   "cell_type": "code",
   "execution_count": 27,
   "id": "2bcccc91-e359-4e53-a165-20dc59413c79",
   "metadata": {},
   "outputs": [
    {
     "data": {
      "text/plain": [
       "data_provider\n",
       "N.C. Division of Water Resources N.C. Department of Environmental Quality    29\n",
       "US Army Corps of Engineers                                                    3\n",
       "California Environmental Data Exchange Network                                2\n",
       "EPA National Aquatic Research Survey                                          1\n",
       "Bureau of Water Kansas Department of Health and Environment                   1\n",
       "Name: count, dtype: int64"
      ]
     },
     "execution_count": 27,
     "metadata": {},
     "output_type": "execute_result"
    }
   ],
   "source": [
    "# almost all are north carolina\n",
    "# could these be routine sites with inaccurate gps data?\n",
    "check.data_provider.value_counts()"
   ]
  },
  {
   "cell_type": "code",
   "execution_count": 35,
   "id": "493889cb-7c86-4210-8519-1ca5f99e47f6",
   "metadata": {},
   "outputs": [
    {
     "data": {
      "text/html": [
       "<div>\n",
       "<style scoped>\n",
       "    .dataframe tbody tr th:only-of-type {\n",
       "        vertical-align: middle;\n",
       "    }\n",
       "\n",
       "    .dataframe tbody tr th {\n",
       "        vertical-align: top;\n",
       "    }\n",
       "\n",
       "    .dataframe thead th {\n",
       "        text-align: right;\n",
       "    }\n",
       "</style>\n",
       "<table border=\"1\" class=\"dataframe\">\n",
       "  <thead>\n",
       "    <tr style=\"text-align: right;\">\n",
       "      <th></th>\n",
       "      <th>latitude</th>\n",
       "      <th>longitude</th>\n",
       "    </tr>\n",
       "    <tr>\n",
       "      <th>sample_id</th>\n",
       "      <th></th>\n",
       "      <th></th>\n",
       "    </tr>\n",
       "  </thead>\n",
       "  <tbody>\n",
       "    <tr>\n",
       "      <th>fbf3fdc2d37e96b93ecd668a793de81f</th>\n",
       "      <td>35.036</td>\n",
       "      <td>-79.117499</td>\n",
       "    </tr>\n",
       "    <tr>\n",
       "      <th>8aef8a6cce8d04d7123a94e6cf7f11e3</th>\n",
       "      <td>35.036</td>\n",
       "      <td>-79.118092</td>\n",
       "    </tr>\n",
       "    <tr>\n",
       "      <th>6529046f1dc37e148efadd3dc747b8ea</th>\n",
       "      <td>35.480</td>\n",
       "      <td>-76.820000</td>\n",
       "    </tr>\n",
       "    <tr>\n",
       "      <th>354232a64d8764dbfcb7b67af11e8fdf</th>\n",
       "      <td>35.036</td>\n",
       "      <td>-79.118191</td>\n",
       "    </tr>\n",
       "    <tr>\n",
       "      <th>078bffe42a677d9e6a4a9a3c6000920b</th>\n",
       "      <td>35.550</td>\n",
       "      <td>-78.020000</td>\n",
       "    </tr>\n",
       "  </tbody>\n",
       "</table>\n",
       "</div>"
      ],
      "text/plain": [
       "                                  latitude  longitude\n",
       "sample_id                                            \n",
       "fbf3fdc2d37e96b93ecd668a793de81f    35.036 -79.117499\n",
       "8aef8a6cce8d04d7123a94e6cf7f11e3    35.036 -79.118092\n",
       "6529046f1dc37e148efadd3dc747b8ea    35.480 -76.820000\n",
       "354232a64d8764dbfcb7b67af11e8fdf    35.036 -79.118191\n",
       "078bffe42a677d9e6a4a9a3c6000920b    35.550 -78.020000"
      ]
     },
     "execution_count": 35,
     "metadata": {},
     "output_type": "execute_result"
    }
   ],
   "source": [
    "# Check some lat / longs\n",
    "check[check.region == 'south'][['latitude', 'longitude']].drop_duplicates().head()"
   ]
  },
  {
   "cell_type": "code",
   "execution_count": 37,
   "id": "faf105bd-97c4-487f-bc43-ba2568375da5",
   "metadata": {},
   "outputs": [
    {
     "data": {
      "text/plain": [
       "(14339, 13)"
      ]
     },
     "execution_count": 37,
     "metadata": {},
     "output_type": "execute_result"
    }
   ],
   "source": [
    "# pull in original NC data\n",
    "nc_raw = pd.read_excel(\n",
    "    AnyPath(\n",
    "        \"s3://drivendata-competition-nasa-cyanobacteria/data/raw/nc/New Use This NCDWR phyto 2013-2021 All Data.xlsx\"\n",
    "    ),\n",
    "    sheet_name=\"Cyanobacteria Density\"\n",
    ")\n",
    "nc_raw.shape "
   ]
  },
  {
   "cell_type": "code",
   "execution_count": 56,
   "id": "0fa6c432-a77b-42c3-9baa-0e7d0f31706c",
   "metadata": {},
   "outputs": [
    {
     "data": {
      "text/html": [
       "<div>\n",
       "<style scoped>\n",
       "    .dataframe tbody tr th:only-of-type {\n",
       "        vertical-align: middle;\n",
       "    }\n",
       "\n",
       "    .dataframe tbody tr th {\n",
       "        vertical-align: top;\n",
       "    }\n",
       "\n",
       "    .dataframe thead th {\n",
       "        text-align: right;\n",
       "    }\n",
       "</style>\n",
       "<table border=\"1\" class=\"dataframe\">\n",
       "  <thead>\n",
       "    <tr style=\"text-align: right;\">\n",
       "      <th></th>\n",
       "      <th>Waterbody</th>\n",
       "      <th>StationDesc</th>\n",
       "      <th>SiteCode</th>\n",
       "      <th>Date</th>\n",
       "      <th>Smplid</th>\n",
       "      <th>AlgalGroup</th>\n",
       "      <th>Genus</th>\n",
       "      <th>Species</th>\n",
       "      <th>Cell Density</th>\n",
       "      <th>Unit Density</th>\n",
       "      <th>Biovolume</th>\n",
       "      <th>latitude</th>\n",
       "      <th>longitude</th>\n",
       "      <th>date</th>\n",
       "    </tr>\n",
       "  </thead>\n",
       "  <tbody>\n",
       "    <tr>\n",
       "      <th>0</th>\n",
       "      <td>Laurel Lea Lake</td>\n",
       "      <td>NaN</td>\n",
       "      <td>ES9954</td>\n",
       "      <td>2013-10-24</td>\n",
       "      <td>9954-2013</td>\n",
       "      <td>Cyanobacteria</td>\n",
       "      <td>Microcystis</td>\n",
       "      <td>aeruginosa</td>\n",
       "      <td>27131.0</td>\n",
       "      <td>209.0</td>\n",
       "      <td>814.0</td>\n",
       "      <td>34.28071</td>\n",
       "      <td>-77.76675</td>\n",
       "      <td>2013-10-24</td>\n",
       "    </tr>\n",
       "    <tr>\n",
       "      <th>1</th>\n",
       "      <td>Laurel Lea Lake</td>\n",
       "      <td>NaN</td>\n",
       "      <td>ES9954</td>\n",
       "      <td>2013-10-24</td>\n",
       "      <td>9954-2013</td>\n",
       "      <td>Cyanobacteria</td>\n",
       "      <td>Aphanocapsa</td>\n",
       "      <td>incerta</td>\n",
       "      <td>129396.0</td>\n",
       "      <td>626.0</td>\n",
       "      <td>65.0</td>\n",
       "      <td>34.28071</td>\n",
       "      <td>-77.76675</td>\n",
       "      <td>2013-10-24</td>\n",
       "    </tr>\n",
       "  </tbody>\n",
       "</table>\n",
       "</div>"
      ],
      "text/plain": [
       "         Waterbody StationDesc SiteCode       Date     Smplid     AlgalGroup  \\\n",
       "0  Laurel Lea Lake         NaN   ES9954 2013-10-24  9954-2013  Cyanobacteria   \n",
       "1  Laurel Lea Lake         NaN   ES9954 2013-10-24  9954-2013  Cyanobacteria   \n",
       "\n",
       "         Genus     Species  Cell Density  Unit Density  Biovolume  latitude  \\\n",
       "0  Microcystis  aeruginosa       27131.0         209.0      814.0  34.28071   \n",
       "1  Aphanocapsa     incerta      129396.0         626.0       65.0  34.28071   \n",
       "\n",
       "  longitude       date  \n",
       "0 -77.76675 2013-10-24  \n",
       "1 -77.76675 2013-10-24  "
      ]
     },
     "execution_count": 56,
     "metadata": {},
     "output_type": "execute_result"
    }
   ],
   "source": [
    "nc_raw = nc_raw.rename(columns={'Lat':'latitude', 'Long':'longitude'})\n",
    "nc_raw['date'] = pd.to_datetime(nc_raw.Date)\n",
    "nc_raw.head(2)"
   ]
  },
  {
   "cell_type": "code",
   "execution_count": 58,
   "id": "6157c1a3-6679-49ae-8988-ec5cfcf23d6b",
   "metadata": {},
   "outputs": [
    {
     "data": {
      "text/plain": [
       "(1629, 14)"
      ]
     },
     "execution_count": 58,
     "metadata": {},
     "output_type": "execute_result"
    }
   ],
   "source": [
    "raw_subset = check[['latitude', 'longitude']].merge(nc_raw, how='inner', on=['latitude', 'longitude'])\n",
    "raw_subset.shape"
   ]
  },
  {
   "cell_type": "code",
   "execution_count": 59,
   "id": "181463bc-7051-4db5-9233-8d16d28a32bf",
   "metadata": {},
   "outputs": [
    {
     "data": {
      "text/plain": [
       "Waterbody\n",
       "Cape Fear River    984\n",
       "Pamlico River      630\n",
       "Lake Stewart        13\n",
       "Lake Monroe          2\n",
       "Name: count, dtype: int64"
      ]
     },
     "execution_count": 59,
     "metadata": {},
     "output_type": "execute_result"
    }
   ],
   "source": [
    "raw_subset.Waterbody.value_counts(dropna=False)"
   ]
  },
  {
   "cell_type": "code",
   "execution_count": 61,
   "id": "76829789-cd9f-4b24-92fa-28b6f5a47ede",
   "metadata": {},
   "outputs": [
    {
     "data": {
      "text/plain": [
       "Waterbody        date\n",
       "Cape Fear River  2019    400\n",
       "                 2020    584\n",
       "Lake Monroe      2021      2\n",
       "Lake Stewart     2021     13\n",
       "Pamlico River    2017     78\n",
       "                 2018     84\n",
       "                 2019    192\n",
       "                 2020     18\n",
       "                 2021    258\n",
       "dtype: int64"
      ]
     },
     "execution_count": 61,
     "metadata": {},
     "output_type": "execute_result"
    }
   ],
   "source": [
    "raw_subset.groupby(['Waterbody', raw_subset.date.dt.year]).size().sort_index()"
   ]
  },
  {
   "cell_type": "code",
   "execution_count": 54,
   "id": "f8c25462-4cdc-409a-af25-16e63b27047e",
   "metadata": {},
   "outputs": [
    {
     "data": {
      "text/plain": [
       "StationDesc\n",
       "Cape Fear Riv at 42 nr Corinth              984\n",
       "Bath Crk at NC 92 nr Bath                   630\n",
       "Lake Stewart at Dam nr Fowler Crossroads     13\n",
       "Lake Monroe Nr Monroe                         2\n",
       "Name: count, dtype: int64"
      ]
     },
     "execution_count": 54,
     "metadata": {},
     "output_type": "execute_result"
    }
   ],
   "source": [
    "raw_subset.StationDesc.value_counts(dropna=False)"
   ]
  },
  {
   "cell_type": "markdown",
   "id": "f444a37c-59ba-44a8-9666-6044a6a6b011",
   "metadata": {},
   "source": [
    "In an email from Elizabeth Fensin in NC:\n",
    "> I’m also surprised I sent data from the Cape Fear River 2020-2021 study since it was unusual.  We usually assign one taxonomist to particular waterbodies to ensure uniform results.  In the Cape Fear study, one taxonomist did the 2020 and another did the 2021 samples.  This created confusing results and some samples were recounted.\n",
    "\n",
    "She also noted that routinely monitored sites were more likely to have inaccurate GPS data. Pamlico is one of their ambient sites.\n",
    "\n",
    "One option is to drop the Cape Fear River data altogether."
   ]
  },
  {
   "cell_type": "code",
   "execution_count": 64,
   "id": "8562552b-d0b1-4609-b377-db2a58c04437",
   "metadata": {},
   "outputs": [
    {
     "data": {
      "text/html": [
       "<div>\n",
       "<style scoped>\n",
       "    .dataframe tbody tr th:only-of-type {\n",
       "        vertical-align: middle;\n",
       "    }\n",
       "\n",
       "    .dataframe tbody tr th {\n",
       "        vertical-align: top;\n",
       "    }\n",
       "\n",
       "    .dataframe thead th {\n",
       "        text-align: right;\n",
       "    }\n",
       "</style>\n",
       "<table border=\"1\" class=\"dataframe\">\n",
       "  <thead>\n",
       "    <tr style=\"text-align: right;\">\n",
       "      <th></th>\n",
       "      <th>latitude</th>\n",
       "      <th>longitude</th>\n",
       "    </tr>\n",
       "  </thead>\n",
       "  <tbody>\n",
       "    <tr>\n",
       "      <th>1447</th>\n",
       "      <td>35.55</td>\n",
       "      <td>-78.02</td>\n",
       "    </tr>\n",
       "    <tr>\n",
       "      <th>1570</th>\n",
       "      <td>34.85</td>\n",
       "      <td>-78.83</td>\n",
       "    </tr>\n",
       "    <tr>\n",
       "      <th>1598</th>\n",
       "      <td>34.41</td>\n",
       "      <td>-78.3</td>\n",
       "    </tr>\n",
       "    <tr>\n",
       "      <th>1627</th>\n",
       "      <td>34.63</td>\n",
       "      <td>-78.58</td>\n",
       "    </tr>\n",
       "  </tbody>\n",
       "</table>\n",
       "</div>"
      ],
      "text/plain": [
       "     latitude longitude\n",
       "1447    35.55    -78.02\n",
       "1570    34.85    -78.83\n",
       "1598    34.41     -78.3\n",
       "1627    34.63    -78.58"
      ]
     },
     "execution_count": 64,
     "metadata": {},
     "output_type": "execute_result"
    }
   ],
   "source": [
    "# how much of our final data is from cape fear river?\n",
    "(cape_fear_coords := nc_raw[nc_raw.Waterbody == 'Cape Fear River'][['latitude', 'longitude']].drop_duplicates())"
   ]
  },
  {
   "cell_type": "code",
   "execution_count": 91,
   "id": "2f63215d-69f5-493e-9496-22280f1ea526",
   "metadata": {},
   "outputs": [
    {
     "data": {
      "text/plain": [
       "(82, 9)"
      ]
     },
     "execution_count": 91,
     "metadata": {},
     "output_type": "execute_result"
    }
   ],
   "source": [
    "cape_fear_final = cape_fear_coords.merge(meta, on=['latitude', 'longitude'], how='inner')\n",
    "cape_fear_final.shape"
   ]
  },
  {
   "cell_type": "code",
   "execution_count": 92,
   "id": "82b6d2fc-888e-4891-967c-f74a60eab3b7",
   "metadata": {},
   "outputs": [
    {
     "data": {
      "text/plain": [
       "latitude  longitude  data_provider                                                            \n",
       "34.41     -78.30     N.C. Division of Water Resources N.C. Department of Environmental Quality    16\n",
       "34.63     -78.58     N.C. Division of Water Resources N.C. Department of Environmental Quality    21\n",
       "34.85     -78.83     N.C. Division of Water Resources N.C. Department of Environmental Quality    17\n",
       "35.55     -78.02     N.C. Division of Water Resources N.C. Department of Environmental Quality    28\n",
       "dtype: int64"
      ]
     },
     "execution_count": 92,
     "metadata": {},
     "output_type": "execute_result"
    }
   ],
   "source": [
    "cape_fear_final.groupby(['latitude', 'longitude', 'data_provider']).size()"
   ]
  },
  {
   "cell_type": "code",
   "execution_count": 89,
   "id": "c78847d7-38dd-466b-83ac-5be6b12eaab0",
   "metadata": {},
   "outputs": [
    {
     "data": {
      "text/html": [
       "<div>\n",
       "<style scoped>\n",
       "    .dataframe tbody tr th:only-of-type {\n",
       "        vertical-align: middle;\n",
       "    }\n",
       "\n",
       "    .dataframe tbody tr th {\n",
       "        vertical-align: top;\n",
       "    }\n",
       "\n",
       "    .dataframe thead th {\n",
       "        text-align: right;\n",
       "    }\n",
       "</style>\n",
       "<table border=\"1\" class=\"dataframe\">\n",
       "  <thead>\n",
       "    <tr style=\"text-align: right;\">\n",
       "      <th></th>\n",
       "      <th>cape_fear</th>\n",
       "      <th>all_data</th>\n",
       "    </tr>\n",
       "  </thead>\n",
       "  <tbody>\n",
       "    <tr>\n",
       "      <th>count</th>\n",
       "      <td>82.000000</td>\n",
       "      <td>23569.000000</td>\n",
       "    </tr>\n",
       "    <tr>\n",
       "      <th>mean</th>\n",
       "      <td>415.341463</td>\n",
       "      <td>436.444525</td>\n",
       "    </tr>\n",
       "    <tr>\n",
       "      <th>std</th>\n",
       "      <td>318.091035</td>\n",
       "      <td>600.447428</td>\n",
       "    </tr>\n",
       "    <tr>\n",
       "      <th>min</th>\n",
       "      <td>46.000000</td>\n",
       "      <td>0.000000</td>\n",
       "    </tr>\n",
       "    <tr>\n",
       "      <th>25%</th>\n",
       "      <td>199.000000</td>\n",
       "      <td>0.000000</td>\n",
       "    </tr>\n",
       "    <tr>\n",
       "      <th>50%</th>\n",
       "      <td>339.000000</td>\n",
       "      <td>246.000000</td>\n",
       "    </tr>\n",
       "    <tr>\n",
       "      <th>75%</th>\n",
       "      <td>835.000000</td>\n",
       "      <td>664.000000</td>\n",
       "    </tr>\n",
       "    <tr>\n",
       "      <th>max</th>\n",
       "      <td>835.000000</td>\n",
       "      <td>6468.000000</td>\n",
       "    </tr>\n",
       "  </tbody>\n",
       "</table>\n",
       "</div>"
      ],
      "text/plain": [
       "        cape_fear      all_data\n",
       "count   82.000000  23569.000000\n",
       "mean   415.341463    436.444525\n",
       "std    318.091035    600.447428\n",
       "min     46.000000      0.000000\n",
       "25%    199.000000      0.000000\n",
       "50%    339.000000    246.000000\n",
       "75%    835.000000    664.000000\n",
       "max    835.000000   6468.000000"
      ]
     },
     "execution_count": 89,
     "metadata": {},
     "output_type": "execute_result"
    }
   ],
   "source": [
    "pd.concat(\n",
    "    [final_from_cape_fear.distance_to_water_m.describe().rename('cape_fear'),\n",
    "     meta.distance_to_water_m.describe().rename('all_data')\n",
    "    ], axis=1\n",
    ")"
   ]
  },
  {
   "cell_type": "markdown",
   "id": "d27145d3-27b1-45c4-a2f1-0d0a06ca7494",
   "metadata": {},
   "source": [
    "**Takeaway**\n",
    "\n",
    "I recommend removing the Cape Fear data from NC from our training set. It was flagged by our NC contact as being potentially confusing, and the odd behavior of the model on these cases could be related to inaccurate lat / longs or inaccurate ground truth measurements. We can also see that cape fear data points tend to be farther from water than the rest of the data"
   ]
  },
  {
   "cell_type": "code",
   "execution_count": 90,
   "id": "709353a0-3139-4333-b2f9-e208ecfedb8a",
   "metadata": {},
   "outputs": [
    {
     "data": {
      "text/plain": [
       "(683, 9)"
      ]
     },
     "execution_count": 90,
     "metadata": {},
     "output_type": "execute_result"
    }
   ],
   "source": [
    "# would we also want to drop pamlico? how much data is from pamlico?\n",
    "# pamlico has a lot more different lat / longs\n",
    "pamlico_coords = nc_raw[nc_raw.Waterbody == 'Pamlico River'][['latitude', 'longitude']].drop_duplicates()\n",
    "\n",
    "# how much of our data is pamlico?\n",
    "pamlico_final = pamlico_coords.merge(meta, on=['latitude', 'longitude'], how='inner')\n",
    "pamlico_final.shape"
   ]
  },
  {
   "cell_type": "code",
   "execution_count": 80,
   "id": "3e52ecab-8efe-4b8e-9d69-a05c8eb09392",
   "metadata": {},
   "outputs": [
    {
     "data": {
      "text/plain": [
       "data_provider\n",
       "N.C. Division of Water Resources N.C. Department of Environmental Quality    683\n",
       "Name: count, dtype: int64"
      ]
     },
     "execution_count": 80,
     "metadata": {},
     "output_type": "execute_result"
    }
   ],
   "source": [
    "pamlico_final.data_provider.value_counts()"
   ]
  },
  {
   "cell_type": "markdown",
   "id": "ec415aa9-112b-4534-a59e-af5031d426ff",
   "metadata": {},
   "source": [
    "The majority of the Pamlico data (630 samples) has severity 1 but is predicted severity 4. It's very possible that similarly, this is just because the data is noisy."
   ]
  },
  {
   "cell_type": "code",
   "execution_count": 94,
   "id": "551c2237-d580-4318-8a2f-d858a525ffdf",
   "metadata": {},
   "outputs": [
    {
     "data": {
      "text/html": [
       "<div>\n",
       "<style scoped>\n",
       "    .dataframe tbody tr th:only-of-type {\n",
       "        vertical-align: middle;\n",
       "    }\n",
       "\n",
       "    .dataframe tbody tr th {\n",
       "        vertical-align: top;\n",
       "    }\n",
       "\n",
       "    .dataframe thead th {\n",
       "        text-align: right;\n",
       "    }\n",
       "</style>\n",
       "<table border=\"1\" class=\"dataframe\">\n",
       "  <thead>\n",
       "    <tr style=\"text-align: right;\">\n",
       "      <th></th>\n",
       "      <th>cape_fear</th>\n",
       "      <th>pamlico</th>\n",
       "      <th>all_data</th>\n",
       "    </tr>\n",
       "  </thead>\n",
       "  <tbody>\n",
       "    <tr>\n",
       "      <th>count</th>\n",
       "      <td>82.000000</td>\n",
       "      <td>683.000000</td>\n",
       "      <td>23569.000000</td>\n",
       "    </tr>\n",
       "    <tr>\n",
       "      <th>mean</th>\n",
       "      <td>415.341463</td>\n",
       "      <td>735.096633</td>\n",
       "      <td>436.444525</td>\n",
       "    </tr>\n",
       "    <tr>\n",
       "      <th>std</th>\n",
       "      <td>318.091035</td>\n",
       "      <td>342.847096</td>\n",
       "      <td>600.447428</td>\n",
       "    </tr>\n",
       "    <tr>\n",
       "      <th>min</th>\n",
       "      <td>46.000000</td>\n",
       "      <td>0.000000</td>\n",
       "      <td>0.000000</td>\n",
       "    </tr>\n",
       "    <tr>\n",
       "      <th>25%</th>\n",
       "      <td>199.000000</td>\n",
       "      <td>564.000000</td>\n",
       "      <td>0.000000</td>\n",
       "    </tr>\n",
       "    <tr>\n",
       "      <th>50%</th>\n",
       "      <td>339.000000</td>\n",
       "      <td>759.000000</td>\n",
       "      <td>246.000000</td>\n",
       "    </tr>\n",
       "    <tr>\n",
       "      <th>75%</th>\n",
       "      <td>835.000000</td>\n",
       "      <td>964.000000</td>\n",
       "      <td>664.000000</td>\n",
       "    </tr>\n",
       "    <tr>\n",
       "      <th>max</th>\n",
       "      <td>835.000000</td>\n",
       "      <td>1364.000000</td>\n",
       "      <td>6468.000000</td>\n",
       "    </tr>\n",
       "  </tbody>\n",
       "</table>\n",
       "</div>"
      ],
      "text/plain": [
       "        cape_fear      pamlico      all_data\n",
       "count   82.000000   683.000000  23569.000000\n",
       "mean   415.341463   735.096633    436.444525\n",
       "std    318.091035   342.847096    600.447428\n",
       "min     46.000000     0.000000      0.000000\n",
       "25%    199.000000   564.000000      0.000000\n",
       "50%    339.000000   759.000000    246.000000\n",
       "75%    835.000000   964.000000    664.000000\n",
       "max    835.000000  1364.000000   6468.000000"
      ]
     },
     "execution_count": 94,
     "metadata": {},
     "output_type": "execute_result"
    }
   ],
   "source": [
    "pd.concat(\n",
    "    [cape_fear_final.distance_to_water_m.describe().rename('cape_fear'),\n",
    "        pamlico_final.distance_to_water_m.describe().rename('pamlico'),\n",
    "     meta.distance_to_water_m.describe().rename('all_data')\n",
    "    ], axis=1\n",
    ")"
   ]
  },
  {
   "cell_type": "markdown",
   "id": "8fa869da-fa3e-4d60-9042-5284af1d33e4",
   "metadata": {},
   "source": [
    "## Example images"
   ]
  },
  {
   "cell_type": "code",
   "execution_count": null,
   "id": "e8588a85-e972-4079-acc6-4459ec6e69d9",
   "metadata": {},
   "outputs": [],
   "source": []
  },
  {
   "cell_type": "code",
   "execution_count": null,
   "id": "5af00630-bfc4-4bb9-8a98-d99fac5d2213",
   "metadata": {},
   "outputs": [],
   "source": []
  },
  {
   "cell_type": "code",
   "execution_count": null,
   "id": "812145f0-214d-4c67-a005-1d8b54dd32ed",
   "metadata": {},
   "outputs": [],
   "source": []
  },
  {
   "cell_type": "code",
   "execution_count": null,
   "id": "744b75b7-dbb4-4016-b4b3-ced0a3b9b859",
   "metadata": {},
   "outputs": [],
   "source": []
  }
 ],
 "metadata": {
  "kernelspec": {
   "display_name": "Python 3 (ipykernel)",
   "language": "python",
   "name": "python3"
  },
  "language_info": {
   "codemirror_mode": {
    "name": "ipython",
    "version": 3
   },
   "file_extension": ".py",
   "mimetype": "text/x-python",
   "name": "python",
   "nbconvert_exporter": "python",
   "pygments_lexer": "ipython3",
   "version": "3.10.12"
  }
 },
 "nbformat": 4,
 "nbformat_minor": 5
}
